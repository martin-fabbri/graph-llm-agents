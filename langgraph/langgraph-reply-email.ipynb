{
 "cells": [
  {
   "cell_type": "markdown",
   "metadata": {},
   "source": [
    "### ⚙️  |  Settings"
   ]
  },
  {
   "cell_type": "code",
   "execution_count": 26,
   "metadata": {},
   "outputs": [
    {
     "data": {
      "text/plain": [
       "True"
      ]
     },
     "execution_count": 26,
     "metadata": {},
     "output_type": "execute_result"
    }
   ],
   "source": [
    "from dotenv import load_dotenv\n",
    "\n",
    "load_dotenv()"
   ]
  },
  {
   "cell_type": "code",
   "execution_count": 39,
   "metadata": {},
   "outputs": [],
   "source": [
    "GROQ_LLM_MODEL = \"llama3-70b-8192\"\n",
    "TEMPERATURE = 0.0\n",
    "\n",
    "OLLAMA_NOMIC_EMBEDDING = \"nomic-embed-text\"\n",
    "OLLAMA_EMBEDDING_SHOW_PROGRESS = False\n",
    "K_NEAREST_NEIGHBORS = 4\n",
    "OLLAMA_LLAMA3_70B = \"llama3:70b\"\n",
    "\n",
    "INGEST_KNOWLEDGE = False\n",
    "\n",
    "CHROMA_DB_PATH = \"chroma\""
   ]
  },
  {
   "cell_type": "code",
   "execution_count": 3,
   "metadata": {},
   "outputs": [
    {
     "data": {
      "text/html": [
       "<div>\n",
       "<style scoped>\n",
       "    .dataframe tbody tr th:only-of-type {\n",
       "        vertical-align: middle;\n",
       "    }\n",
       "\n",
       "    .dataframe tbody tr th {\n",
       "        vertical-align: top;\n",
       "    }\n",
       "\n",
       "    .dataframe thead th {\n",
       "        text-align: right;\n",
       "    }\n",
       "</style>\n",
       "<table border=\"1\" class=\"dataframe\">\n",
       "  <thead>\n",
       "    <tr style=\"text-align: right;\">\n",
       "      <th></th>\n",
       "      <th>0</th>\n",
       "      <th>1</th>\n",
       "      <th>2</th>\n",
       "    </tr>\n",
       "  </thead>\n",
       "  <tbody>\n",
       "    <tr>\n",
       "      <th>0</th>\n",
       "      <td>(page_content, What is Westworld? A: Westworld...</td>\n",
       "      <td>(metadata, {'source': 'data/westworld.csv', 'r...</td>\n",
       "      <td>(type, Document)</td>\n",
       "    </tr>\n",
       "    <tr>\n",
       "      <th>1</th>\n",
       "      <td>(page_content, What is Westworld? A: Westworld...</td>\n",
       "      <td>(metadata, {'source': 'data/westworld.csv', 'r...</td>\n",
       "      <td>(type, Document)</td>\n",
       "    </tr>\n",
       "    <tr>\n",
       "      <th>2</th>\n",
       "      <td>(page_content, What is Westworld? A: Westworld...</td>\n",
       "      <td>(metadata, {'source': 'data/westworld.csv', 'r...</td>\n",
       "      <td>(type, Document)</td>\n",
       "    </tr>\n",
       "    <tr>\n",
       "      <th>3</th>\n",
       "      <td>(page_content, What is Westworld? A: Westworld...</td>\n",
       "      <td>(metadata, {'source': 'data/westworld.csv', 'r...</td>\n",
       "      <td>(type, Document)</td>\n",
       "    </tr>\n",
       "    <tr>\n",
       "      <th>4</th>\n",
       "      <td>(page_content, What is Westworld? A: Westworld...</td>\n",
       "      <td>(metadata, {'source': 'data/westworld.csv', 'r...</td>\n",
       "      <td>(type, Document)</td>\n",
       "    </tr>\n",
       "    <tr>\n",
       "      <th>...</th>\n",
       "      <td>...</td>\n",
       "      <td>...</td>\n",
       "      <td>...</td>\n",
       "    </tr>\n",
       "    <tr>\n",
       "      <th>143</th>\n",
       "      <td>(page_content, What is Westworld? A: Westworld...</td>\n",
       "      <td>(metadata, {'source': 'data/westworld.csv', 'r...</td>\n",
       "      <td>(type, Document)</td>\n",
       "    </tr>\n",
       "    <tr>\n",
       "      <th>144</th>\n",
       "      <td>(page_content, What is Westworld? A: Westworld...</td>\n",
       "      <td>(metadata, {'source': 'data/westworld.csv', 'r...</td>\n",
       "      <td>(type, Document)</td>\n",
       "    </tr>\n",
       "    <tr>\n",
       "      <th>145</th>\n",
       "      <td>(page_content, What is Westworld? A: Westworld...</td>\n",
       "      <td>(metadata, {'source': 'data/westworld.csv', 'r...</td>\n",
       "      <td>(type, Document)</td>\n",
       "    </tr>\n",
       "    <tr>\n",
       "      <th>146</th>\n",
       "      <td>(page_content, What is Westworld? A: Westworld...</td>\n",
       "      <td>(metadata, {'source': 'data/westworld.csv', 'r...</td>\n",
       "      <td>(type, Document)</td>\n",
       "    </tr>\n",
       "    <tr>\n",
       "      <th>147</th>\n",
       "      <td>(page_content, What is Westworld? A: Westworld...</td>\n",
       "      <td>(metadata, {'source': 'data/westworld.csv', 'r...</td>\n",
       "      <td>(type, Document)</td>\n",
       "    </tr>\n",
       "  </tbody>\n",
       "</table>\n",
       "<p>148 rows × 3 columns</p>\n",
       "</div>"
      ],
      "text/plain": [
       "                                                     0  \\\n",
       "0    (page_content, What is Westworld? A: Westworld...   \n",
       "1    (page_content, What is Westworld? A: Westworld...   \n",
       "2    (page_content, What is Westworld? A: Westworld...   \n",
       "3    (page_content, What is Westworld? A: Westworld...   \n",
       "4    (page_content, What is Westworld? A: Westworld...   \n",
       "..                                                 ...   \n",
       "143  (page_content, What is Westworld? A: Westworld...   \n",
       "144  (page_content, What is Westworld? A: Westworld...   \n",
       "145  (page_content, What is Westworld? A: Westworld...   \n",
       "146  (page_content, What is Westworld? A: Westworld...   \n",
       "147  (page_content, What is Westworld? A: Westworld...   \n",
       "\n",
       "                                                     1                 2  \n",
       "0    (metadata, {'source': 'data/westworld.csv', 'r...  (type, Document)  \n",
       "1    (metadata, {'source': 'data/westworld.csv', 'r...  (type, Document)  \n",
       "2    (metadata, {'source': 'data/westworld.csv', 'r...  (type, Document)  \n",
       "3    (metadata, {'source': 'data/westworld.csv', 'r...  (type, Document)  \n",
       "4    (metadata, {'source': 'data/westworld.csv', 'r...  (type, Document)  \n",
       "..                                                 ...               ...  \n",
       "143  (metadata, {'source': 'data/westworld.csv', 'r...  (type, Document)  \n",
       "144  (metadata, {'source': 'data/westworld.csv', 'r...  (type, Document)  \n",
       "145  (metadata, {'source': 'data/westworld.csv', 'r...  (type, Document)  \n",
       "146  (metadata, {'source': 'data/westworld.csv', 'r...  (type, Document)  \n",
       "147  (metadata, {'source': 'data/westworld.csv', 'r...  (type, Document)  \n",
       "\n",
       "[148 rows x 3 columns]"
      ]
     },
     "execution_count": 3,
     "metadata": {},
     "output_type": "execute_result"
    }
   ],
   "source": [
    "import pandas as pd\n",
    "from langchain_community.document_loaders.csv_loader import CSVLoader\n",
    "\n",
    "loader_csv = CSVLoader(file_path=\"data/westworld.csv\")\n",
    "df = pd.DataFrame(loader_csv.load())\n",
    "df"
   ]
  },
  {
   "cell_type": "code",
   "execution_count": 6,
   "metadata": {},
   "outputs": [],
   "source": [
    "from langchain_community.document_loaders.merge import MergedDataLoader\n",
    "\n",
    "loader_all = MergedDataLoader(loaders=[loader_csv])"
   ]
  },
  {
   "cell_type": "code",
   "execution_count": 7,
   "metadata": {},
   "outputs": [],
   "source": [
    "docs_all = loader_all.load()"
   ]
  },
  {
   "cell_type": "code",
   "execution_count": 8,
   "metadata": {},
   "outputs": [
    {
     "data": {
      "text/plain": [
       "148"
      ]
     },
     "execution_count": 8,
     "metadata": {},
     "output_type": "execute_result"
    }
   ],
   "source": [
    "len(docs_all)"
   ]
  },
  {
   "cell_type": "code",
   "execution_count": 9,
   "metadata": {},
   "outputs": [
    {
     "data": {
      "text/plain": [
       "Document(page_content='What is Westworld? A: Westworld is an immersive, high-tech theme park that allows guests to experience the Wild West in a realistic and interactive way, populated by advanced androids called \"hosts.\": Where is Westworld located? A: The exact location of Westworld is kept secret, but it is situated in a remote area, accessible only by the park\\'s own transportation services.', metadata={'source': 'data/westworld.csv', 'row': 0})"
      ]
     },
     "execution_count": 9,
     "metadata": {},
     "output_type": "execute_result"
    }
   ],
   "source": [
    "docs_all[0]"
   ]
  },
  {
   "cell_type": "code",
   "execution_count": 10,
   "metadata": {},
   "outputs": [
    {
     "data": {
      "text/plain": [
       "148"
      ]
     },
     "execution_count": 10,
     "metadata": {},
     "output_type": "execute_result"
    }
   ],
   "source": [
    "from langchain.text_splitter import RecursiveCharacterTextSplitter\n",
    "\n",
    "text_splitter = RecursiveCharacterTextSplitter(chunk_size=1000, chunk_overlap=200)\n",
    "texts = text_splitter.split_documents(docs_all)\n",
    "\n",
    "len(texts)"
   ]
  },
  {
   "cell_type": "code",
   "execution_count": 15,
   "metadata": {},
   "outputs": [],
   "source": [
    "from langchain.embeddings import OllamaEmbeddings\n",
    "\n",
    "embeddings = OllamaEmbeddings(\n",
    "    model=OLLAMA_NOMIC_EMBEDDING, show_progress=OLLAMA_EMBEDDING_SHOW_PROGRESS\n",
    ")"
   ]
  },
  {
   "cell_type": "code",
   "execution_count": 19,
   "metadata": {},
   "outputs": [],
   "source": [
    "from langchain_chroma import Chroma\n",
    "\n",
    "vector_db = Chroma.from_documents(\n",
    "    documents=texts, embedding=embeddings, persist_directory=CHROMA_DB_PATH\n",
    ")"
   ]
  },
  {
   "cell_type": "code",
   "execution_count": 21,
   "metadata": {},
   "outputs": [],
   "source": [
    "retriever = vector_db.as_retriever(search_kwargs={\"k\": K_NEAREST_NEIGHBORS})"
   ]
  },
  {
   "cell_type": "code",
   "execution_count": 28,
   "metadata": {},
   "outputs": [],
   "source": [
    "from langchain_groq import ChatGroq\n",
    "\n",
    "groq_llm = ChatGroq(model=GROQ_LLM_MODEL, temperature=TEMPERATURE)"
   ]
  },
  {
   "cell_type": "code",
   "execution_count": 30,
   "metadata": {},
   "outputs": [
    {
     "name": "stdout",
     "output_type": "stream",
     "text": [
      "<|begin_of_text|><|start_header_id|>system<|end_header_id|>\n",
      "You are an assistant for question-answering tasks. Use the following pieces of retrieved context to \n",
      "answer the question. If you don't know the answer, just say that you don't know. Use three sentences\n",
      "maximum and keep the answer concise.\n",
      "\n",
      "<|eot_id|><|start_header_id|>user<|end_header_id|>\n",
      "QUESTION: {question}\n",
      "CONTEXT:  {context}\n",
      "Answer:\n",
      "<|eot_id|>\n",
      "<|start_header_id|>assistant<|end_header_id|>\n"
     ]
    }
   ],
   "source": [
    "from jinja2 import Environment, FileSystemLoader\n",
    "\n",
    "PROMPTS_PATH = \"prompts\"\n",
    "OPENAI_PROMPT = \"groq-llama3-rag.jinja\"\n",
    "\n",
    "env = Environment(loader=FileSystemLoader(PROMPTS_PATH))\n",
    "prompt_template = env.get_template(OPENAI_PROMPT)\n",
    "prompt = prompt_template.render()\n",
    "print(prompt)"
   ]
  },
  {
   "cell_type": "code",
   "execution_count": 33,
   "metadata": {},
   "outputs": [
    {
     "data": {
      "text/plain": [
       "[Document(page_content='What is Westworld? A: Westworld is an immersive, high-tech theme park that allows guests to experience the Wild West in a realistic and interactive way, populated by advanced androids called \"hosts.\": Are there any age-specific activities or areas within the park? A: While Westworld is primarily designed for adult guests, there are some family-friendly areas and activities available, such as horseback riding lessons, old-fashioned games, and age-appropriate storylines.', metadata={'row': 27, 'source': 'data/westworld.csv'}),\n",
       " Document(page_content='What is Westworld? A: Westworld is an immersive, high-tech theme park that allows guests to experience the Wild West in a realistic and interactive way, populated by advanced androids called \"hosts.\": Can I bring my own food and drinks into Westworld? A: Outside food and drinks are not permitted in the park. However, Westworld provides a wide selection of food and beverage options to cater to all tastes and dietary requirements.', metadata={'row': 15, 'source': 'data/westworld.csv'}),\n",
       " Document(page_content='What is Westworld? A: Westworld is an immersive, high-tech theme park that allows guests to experience the Wild West in a realistic and interactive way, populated by advanced androids called \"hosts.\": Can I bring my own weapons or gear when exploring the outer regions? A: For safety reasons, guests are not permitted to bring their own weapons into the park, even in the outer regions. However, you may bring personal gear such as hiking boots, protective clothing, and survival equipment. Park staff will provide appropriate weapons and gear specific to your chosen storyline and experience.', metadata={'row': 94, 'source': 'data/westworld.csv'}),\n",
       " Document(page_content='What is Westworld? A: Westworld is an immersive, high-tech theme park that allows guests to experience the Wild West in a realistic and interactive way, populated by advanced androids called \"hosts.\": Are there any adult-only areas or experiences within the park? A: Yes, Westworld features several adult-only areas and experiences, such as the Pariah saloon, where guests can indulge in more risqué activities and storylines. These areas are clearly marked and accessible only to consenting adults.', metadata={'row': 34, 'source': 'data/westworld.csv'})]"
      ]
     },
     "execution_count": 33,
     "metadata": {},
     "output_type": "execute_result"
    }
   ],
   "source": [
    "question = \"What can I do in the Westworld Park?\"\n",
    "context = retriever.invoke(question)\n",
    "context"
   ]
  },
  {
   "cell_type": "code",
   "execution_count": 35,
   "metadata": {},
   "outputs": [
    {
     "name": "stdout",
     "output_type": "stream",
     "text": [
      "In Westworld Park, you can experience the Wild West in a realistic and interactive way, interact with advanced androids called \"hosts\", and participate in activities such as horseback riding lessons and old-fashioned games. You can also explore the outer regions, but you'll need to use park-provided weapons and gear. Additionally, there are adult-only areas and experiences available, such as the Pariah saloon, which offer more risqué activities and storylines.\n"
     ]
    }
   ],
   "source": [
    "from langchain.prompts import PromptTemplate\n",
    "from langchain_core.output_parsers import StrOutputParser\n",
    "\n",
    "rag_prompt = PromptTemplate(template=prompt, input_variables=[\"question\", \"context\"])\n",
    "rag_prompt_chain = rag_prompt | groq_llm | StrOutputParser()\n",
    "\n",
    "result = rag_prompt_chain.invoke({\"question\": question, \"context\": context})\n",
    "print(result)"
   ]
  },
  {
   "cell_type": "code",
   "execution_count": 47,
   "metadata": {},
   "outputs": [
    {
     "data": {
      "text/plain": [
       "'Westworld Park is an immersive, high-tech theme park that allows guests to experience the Wild West in a realistic and interactive way, populated by advanced androids called \"hosts.\" It offers a range of activities and experiences, including family-friendly areas and adult-only areas with more risqué activities. The park is designed to provide a unique and engaging experience for its guests.'"
      ]
     },
     "execution_count": 47,
     "metadata": {},
     "output_type": "execute_result"
    }
   ],
   "source": [
    "from langchain_core.output_parsers import StrOutputParser\n",
    "from langchain_core.runnables import RunnablePassthrough\n",
    "\n",
    "rag_chain = (\n",
    "    {\"context\": retriever, \"question\": RunnablePassthrough()}\n",
    "    | rag_prompt\n",
    "    | groq_llm\n",
    "    | StrOutputParser()\n",
    ")\n",
    "\n",
    "rag_chain.invoke({\"question\": \"What is the Westworld Park all about?\"})"
   ]
  },
  {
   "cell_type": "code",
   "execution_count": 48,
   "metadata": {},
   "outputs": [],
   "source": [
    "# from langchain.llms import Ollama\n",
    "\n",
    "# ollama_llama3_llm = Ollama(model=OLLAMA_LLAMA3_70B, temperature=TEMPERATURE)\n",
    "\n",
    "# rag_chain = (\n",
    "#     {\"context\": retriever, \"question\": RunnablePassthrough()}\n",
    "#     | rag_prompt\n",
    "#     | ollama_llama3_llm\n",
    "#     | StrOutputParser()\n",
    "# )\n",
    "\n",
    "# rag_chain.invoke({\"question\": \"What is the Westworld Park all about?\"})"
   ]
  },
  {
   "cell_type": "code",
   "execution_count": 49,
   "metadata": {},
   "outputs": [
    {
     "data": {
      "text/plain": [
       "'Some of the hosts you can meet in Westworld include Maeve, Logan, Peter Abernathy, and Clementine. You can engage in conversations and storylines with them, exploring their personalities, perspectives, and experiences within the park.'"
      ]
     },
     "execution_count": 49,
     "metadata": {},
     "output_type": "execute_result"
    }
   ],
   "source": [
    "rag_chain.invoke(\"who are some of the hosts I can meet?\")"
   ]
  },
  {
   "cell_type": "code",
   "execution_count": 50,
   "metadata": {},
   "outputs": [
    {
     "data": {
      "text/plain": [
       "\"Dr. Ford is a key figure in the operations of Westworld, an immersive high-tech theme park. He is involved in the creation of Westworld, but it's not possible to meet with him directly. Instead, guests can engage with a host designed to discuss the history and philosophy behind Westworld's creation, offering insights similar to those of Dr. Ford.\""
      ]
     },
     "execution_count": 50,
     "metadata": {},
     "output_type": "execute_result"
    }
   ],
   "source": [
    "rag_chain.invoke(\"Who is Ford?\")"
   ]
  },
  {
   "cell_type": "code",
   "execution_count": 51,
   "metadata": {},
   "outputs": [
    {
     "data": {
      "text/plain": [
       "\"There is no mention of sleeping under the stars in the provided context. However, it does mention emergency shelters and evacuation points in the outer regions, but it doesn't suggest that guests can sleep under the stars.\""
      ]
     },
     "execution_count": 51,
     "metadata": {},
     "output_type": "execute_result"
    }
   ],
   "source": [
    "rag_chain.invoke(\"Can I sleep under the stars there?\")"
   ]
  },
  {
   "cell_type": "code",
   "execution_count": 52,
   "metadata": {},
   "outputs": [],
   "source": [
    "from langchain_groq import ChatGroq\n",
    "\n",
    "chatgroq_llm = ChatGroq(model=GROQ_LLM_MODEL, temperature=TEMPERATURE)"
   ]
  },
  {
   "cell_type": "code",
   "execution_count": 53,
   "metadata": {},
   "outputs": [],
   "source": [
    "def write_markdown_file(content, filename):\n",
    "    \"\"\"Writes the given content as a markdown file to the local directory.\n",
    "\n",
    "    Args:\n",
    "      content: The string content to write to the file.\n",
    "      filename: The filename to save the file as.\n",
    "    \"\"\"\n",
    "    if type(content) == dict:\n",
    "        content = \"\\n\".join(f\"{key}: {value}\" for key, value in content.items())\n",
    "    if type(content) == list:\n",
    "        content = \"\\n\".join(content)\n",
    "    with open(f\"{filename}.md\", \"w\") as f:\n",
    "        f.write(content)"
   ]
  },
  {
   "cell_type": "code",
   "execution_count": null,
   "metadata": {},
   "outputs": [],
   "source": []
  },
  {
   "cell_type": "code",
   "execution_count": null,
   "metadata": {},
   "outputs": [],
   "source": []
  },
  {
   "cell_type": "code",
   "execution_count": null,
   "metadata": {},
   "outputs": [],
   "source": []
  },
  {
   "cell_type": "code",
   "execution_count": null,
   "metadata": {},
   "outputs": [],
   "source": []
  },
  {
   "cell_type": "code",
   "execution_count": null,
   "metadata": {},
   "outputs": [],
   "source": []
  }
 ],
 "metadata": {
  "kernelspec": {
   "display_name": ".venv",
   "language": "python",
   "name": "python3"
  },
  "language_info": {
   "codemirror_mode": {
    "name": "ipython",
    "version": 3
   },
   "file_extension": ".py",
   "mimetype": "text/x-python",
   "name": "python",
   "nbconvert_exporter": "python",
   "pygments_lexer": "ipython3",
   "version": "3.12.4"
  }
 },
 "nbformat": 4,
 "nbformat_minor": 2
}
