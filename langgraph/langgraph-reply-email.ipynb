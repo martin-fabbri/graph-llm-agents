{
 "cells": [
  {
   "cell_type": "markdown",
   "metadata": {},
   "source": [
    "### ⚙️  |  Settings"
   ]
  },
  {
   "cell_type": "code",
   "execution_count": 1,
   "metadata": {},
   "outputs": [
    {
     "data": {
      "text/plain": [
       "True"
      ]
     },
     "execution_count": 1,
     "metadata": {},
     "output_type": "execute_result"
    }
   ],
   "source": [
    "from dotenv import load_dotenv\n",
    "\n",
    "load_dotenv()"
   ]
  },
  {
   "cell_type": "code",
   "execution_count": 2,
   "metadata": {},
   "outputs": [],
   "source": [
    "GROQ_LLM_MODEL = \"llama3-70b-8192\"\n",
    "TEMPERATURE = 0.0\n",
    "\n",
    "OLLAMA_NOMIC_EMBEDDING = \"nomic-embed-text\"\n",
    "OLLAMA_EMBEDDING_SHOW_PROGRESS = False\n",
    "K_NEAREST_NEIGHBORS = 4\n",
    "OLLAMA_LLAMA3_70B = \"llama3:70b\"\n",
    "\n",
    "INGEST_KNOWLEDGE = False\n",
    "\n",
    "CHROMA_DB_PATH = \"chroma\""
   ]
  },
  {
   "cell_type": "code",
   "execution_count": 3,
   "metadata": {},
   "outputs": [
    {
     "data": {
      "text/html": [
       "<div>\n",
       "<style scoped>\n",
       "    .dataframe tbody tr th:only-of-type {\n",
       "        vertical-align: middle;\n",
       "    }\n",
       "\n",
       "    .dataframe tbody tr th {\n",
       "        vertical-align: top;\n",
       "    }\n",
       "\n",
       "    .dataframe thead th {\n",
       "        text-align: right;\n",
       "    }\n",
       "</style>\n",
       "<table border=\"1\" class=\"dataframe\">\n",
       "  <thead>\n",
       "    <tr style=\"text-align: right;\">\n",
       "      <th></th>\n",
       "      <th>0</th>\n",
       "      <th>1</th>\n",
       "      <th>2</th>\n",
       "    </tr>\n",
       "  </thead>\n",
       "  <tbody>\n",
       "    <tr>\n",
       "      <th>0</th>\n",
       "      <td>(page_content, What is Westworld? A: Westworld...</td>\n",
       "      <td>(metadata, {'source': 'data/westworld.csv', 'r...</td>\n",
       "      <td>(type, Document)</td>\n",
       "    </tr>\n",
       "    <tr>\n",
       "      <th>1</th>\n",
       "      <td>(page_content, What is Westworld? A: Westworld...</td>\n",
       "      <td>(metadata, {'source': 'data/westworld.csv', 'r...</td>\n",
       "      <td>(type, Document)</td>\n",
       "    </tr>\n",
       "    <tr>\n",
       "      <th>2</th>\n",
       "      <td>(page_content, What is Westworld? A: Westworld...</td>\n",
       "      <td>(metadata, {'source': 'data/westworld.csv', 'r...</td>\n",
       "      <td>(type, Document)</td>\n",
       "    </tr>\n",
       "    <tr>\n",
       "      <th>3</th>\n",
       "      <td>(page_content, What is Westworld? A: Westworld...</td>\n",
       "      <td>(metadata, {'source': 'data/westworld.csv', 'r...</td>\n",
       "      <td>(type, Document)</td>\n",
       "    </tr>\n",
       "    <tr>\n",
       "      <th>4</th>\n",
       "      <td>(page_content, What is Westworld? A: Westworld...</td>\n",
       "      <td>(metadata, {'source': 'data/westworld.csv', 'r...</td>\n",
       "      <td>(type, Document)</td>\n",
       "    </tr>\n",
       "    <tr>\n",
       "      <th>...</th>\n",
       "      <td>...</td>\n",
       "      <td>...</td>\n",
       "      <td>...</td>\n",
       "    </tr>\n",
       "    <tr>\n",
       "      <th>143</th>\n",
       "      <td>(page_content, What is Westworld? A: Westworld...</td>\n",
       "      <td>(metadata, {'source': 'data/westworld.csv', 'r...</td>\n",
       "      <td>(type, Document)</td>\n",
       "    </tr>\n",
       "    <tr>\n",
       "      <th>144</th>\n",
       "      <td>(page_content, What is Westworld? A: Westworld...</td>\n",
       "      <td>(metadata, {'source': 'data/westworld.csv', 'r...</td>\n",
       "      <td>(type, Document)</td>\n",
       "    </tr>\n",
       "    <tr>\n",
       "      <th>145</th>\n",
       "      <td>(page_content, What is Westworld? A: Westworld...</td>\n",
       "      <td>(metadata, {'source': 'data/westworld.csv', 'r...</td>\n",
       "      <td>(type, Document)</td>\n",
       "    </tr>\n",
       "    <tr>\n",
       "      <th>146</th>\n",
       "      <td>(page_content, What is Westworld? A: Westworld...</td>\n",
       "      <td>(metadata, {'source': 'data/westworld.csv', 'r...</td>\n",
       "      <td>(type, Document)</td>\n",
       "    </tr>\n",
       "    <tr>\n",
       "      <th>147</th>\n",
       "      <td>(page_content, What is Westworld? A: Westworld...</td>\n",
       "      <td>(metadata, {'source': 'data/westworld.csv', 'r...</td>\n",
       "      <td>(type, Document)</td>\n",
       "    </tr>\n",
       "  </tbody>\n",
       "</table>\n",
       "<p>148 rows × 3 columns</p>\n",
       "</div>"
      ],
      "text/plain": [
       "                                                     0  \\\n",
       "0    (page_content, What is Westworld? A: Westworld...   \n",
       "1    (page_content, What is Westworld? A: Westworld...   \n",
       "2    (page_content, What is Westworld? A: Westworld...   \n",
       "3    (page_content, What is Westworld? A: Westworld...   \n",
       "4    (page_content, What is Westworld? A: Westworld...   \n",
       "..                                                 ...   \n",
       "143  (page_content, What is Westworld? A: Westworld...   \n",
       "144  (page_content, What is Westworld? A: Westworld...   \n",
       "145  (page_content, What is Westworld? A: Westworld...   \n",
       "146  (page_content, What is Westworld? A: Westworld...   \n",
       "147  (page_content, What is Westworld? A: Westworld...   \n",
       "\n",
       "                                                     1                 2  \n",
       "0    (metadata, {'source': 'data/westworld.csv', 'r...  (type, Document)  \n",
       "1    (metadata, {'source': 'data/westworld.csv', 'r...  (type, Document)  \n",
       "2    (metadata, {'source': 'data/westworld.csv', 'r...  (type, Document)  \n",
       "3    (metadata, {'source': 'data/westworld.csv', 'r...  (type, Document)  \n",
       "4    (metadata, {'source': 'data/westworld.csv', 'r...  (type, Document)  \n",
       "..                                                 ...               ...  \n",
       "143  (metadata, {'source': 'data/westworld.csv', 'r...  (type, Document)  \n",
       "144  (metadata, {'source': 'data/westworld.csv', 'r...  (type, Document)  \n",
       "145  (metadata, {'source': 'data/westworld.csv', 'r...  (type, Document)  \n",
       "146  (metadata, {'source': 'data/westworld.csv', 'r...  (type, Document)  \n",
       "147  (metadata, {'source': 'data/westworld.csv', 'r...  (type, Document)  \n",
       "\n",
       "[148 rows x 3 columns]"
      ]
     },
     "execution_count": 3,
     "metadata": {},
     "output_type": "execute_result"
    }
   ],
   "source": [
    "import pandas as pd\n",
    "from langchain_community.document_loaders.csv_loader import CSVLoader\n",
    "\n",
    "loader_csv = CSVLoader(file_path=\"data/westworld.csv\")\n",
    "df = pd.DataFrame(loader_csv.load())\n",
    "df"
   ]
  },
  {
   "cell_type": "code",
   "execution_count": 4,
   "metadata": {},
   "outputs": [],
   "source": [
    "from langchain_community.document_loaders.merge import MergedDataLoader\n",
    "\n",
    "loader_all = MergedDataLoader(loaders=[loader_csv])"
   ]
  },
  {
   "cell_type": "code",
   "execution_count": 5,
   "metadata": {},
   "outputs": [],
   "source": [
    "docs_all = loader_all.load()"
   ]
  },
  {
   "cell_type": "code",
   "execution_count": 6,
   "metadata": {},
   "outputs": [
    {
     "data": {
      "text/plain": [
       "148"
      ]
     },
     "execution_count": 6,
     "metadata": {},
     "output_type": "execute_result"
    }
   ],
   "source": [
    "len(docs_all)"
   ]
  },
  {
   "cell_type": "code",
   "execution_count": 7,
   "metadata": {},
   "outputs": [
    {
     "data": {
      "text/plain": [
       "Document(page_content='What is Westworld? A: Westworld is an immersive, high-tech theme park that allows guests to experience the Wild West in a realistic and interactive way, populated by advanced androids called \"hosts.\": Where is Westworld located? A: The exact location of Westworld is kept secret, but it is situated in a remote area, accessible only by the park\\'s own transportation services.', metadata={'source': 'data/westworld.csv', 'row': 0})"
      ]
     },
     "execution_count": 7,
     "metadata": {},
     "output_type": "execute_result"
    }
   ],
   "source": [
    "docs_all[0]"
   ]
  },
  {
   "cell_type": "code",
   "execution_count": 8,
   "metadata": {},
   "outputs": [
    {
     "data": {
      "text/plain": [
       "148"
      ]
     },
     "execution_count": 8,
     "metadata": {},
     "output_type": "execute_result"
    }
   ],
   "source": [
    "from langchain.text_splitter import RecursiveCharacterTextSplitter\n",
    "\n",
    "text_splitter = RecursiveCharacterTextSplitter(chunk_size=1000, chunk_overlap=200)\n",
    "texts = text_splitter.split_documents(docs_all)\n",
    "\n",
    "len(texts)"
   ]
  },
  {
   "cell_type": "code",
   "execution_count": 9,
   "metadata": {},
   "outputs": [],
   "source": [
    "from langchain.embeddings import OllamaEmbeddings\n",
    "\n",
    "embeddings = OllamaEmbeddings(\n",
    "    model=OLLAMA_NOMIC_EMBEDDING, show_progress=OLLAMA_EMBEDDING_SHOW_PROGRESS\n",
    ")"
   ]
  },
  {
   "cell_type": "code",
   "execution_count": 10,
   "metadata": {},
   "outputs": [],
   "source": [
    "from langchain_chroma import Chroma\n",
    "\n",
    "vector_db = Chroma.from_documents(\n",
    "    documents=texts, embedding=embeddings, persist_directory=CHROMA_DB_PATH\n",
    ")"
   ]
  },
  {
   "cell_type": "code",
   "execution_count": 11,
   "metadata": {},
   "outputs": [],
   "source": [
    "retriever = vector_db.as_retriever(search_kwargs={\"k\": K_NEAREST_NEIGHBORS})"
   ]
  },
  {
   "cell_type": "code",
   "execution_count": 12,
   "metadata": {},
   "outputs": [],
   "source": [
    "from langchain_groq import ChatGroq\n",
    "\n",
    "groq_llm = ChatGroq(model=GROQ_LLM_MODEL, temperature=TEMPERATURE)"
   ]
  },
  {
   "cell_type": "code",
   "execution_count": 13,
   "metadata": {},
   "outputs": [
    {
     "name": "stdout",
     "output_type": "stream",
     "text": [
      "<|begin_of_text|><|start_header_id|>system<|end_header_id|>\n",
      "You are an assistant for question-answering tasks. Use the following pieces of retrieved context to \n",
      "answer the question. If you don't know the answer, just say that you don't know. Use three sentences\n",
      "maximum and keep the answer concise.\n",
      "\n",
      "<|eot_id|><|start_header_id|>user<|end_header_id|>\n",
      "QUESTION: {question}\n",
      "CONTEXT:  {context}\n",
      "Answer:\n",
      "<|eot_id|>\n",
      "<|start_header_id|>assistant<|end_header_id|>\n"
     ]
    }
   ],
   "source": [
    "from jinja2 import Environment, FileSystemLoader\n",
    "\n",
    "PROMPTS_PATH = \"prompts\"\n",
    "OPENAI_PROMPT = \"groq-llama3-rag.jinja\"\n",
    "\n",
    "env = Environment(loader=FileSystemLoader(PROMPTS_PATH))\n",
    "prompt_template = env.get_template(OPENAI_PROMPT)\n",
    "prompt = prompt_template.render()\n",
    "print(prompt)"
   ]
  },
  {
   "cell_type": "code",
   "execution_count": 14,
   "metadata": {},
   "outputs": [
    {
     "data": {
      "text/plain": [
       "[Document(page_content='What is Westworld? A: Westworld is an immersive, high-tech theme park that allows guests to experience the Wild West in a realistic and interactive way, populated by advanced androids called \"hosts.\": Are there any age-specific activities or areas within the park? A: While Westworld is primarily designed for adult guests, there are some family-friendly areas and activities available, such as horseback riding lessons, old-fashioned games, and age-appropriate storylines.', metadata={'row': 27, 'source': 'data/westworld.csv'}),\n",
       " Document(page_content='What is Westworld? A: Westworld is an immersive, high-tech theme park that allows guests to experience the Wild West in a realistic and interactive way, populated by advanced androids called \"hosts.\": Are there any age-specific activities or areas within the park? A: While Westworld is primarily designed for adult guests, there are some family-friendly areas and activities available, such as horseback riding lessons, old-fashioned games, and age-appropriate storylines.', metadata={'row': 27, 'source': 'data/westworld.csv'}),\n",
       " Document(page_content='What is Westworld? A: Westworld is an immersive, high-tech theme park that allows guests to experience the Wild West in a realistic and interactive way, populated by advanced androids called \"hosts.\": Can I bring my own food and drinks into Westworld? A: Outside food and drinks are not permitted in the park. However, Westworld provides a wide selection of food and beverage options to cater to all tastes and dietary requirements.', metadata={'row': 15, 'source': 'data/westworld.csv'}),\n",
       " Document(page_content='What is Westworld? A: Westworld is an immersive, high-tech theme park that allows guests to experience the Wild West in a realistic and interactive way, populated by advanced androids called \"hosts.\": Can I bring my own food and drinks into Westworld? A: Outside food and drinks are not permitted in the park. However, Westworld provides a wide selection of food and beverage options to cater to all tastes and dietary requirements.', metadata={'row': 15, 'source': 'data/westworld.csv'})]"
      ]
     },
     "execution_count": 14,
     "metadata": {},
     "output_type": "execute_result"
    }
   ],
   "source": [
    "question = \"What can I do in the Westworld Park?\"\n",
    "context = retriever.invoke(question)\n",
    "context"
   ]
  },
  {
   "cell_type": "code",
   "execution_count": 15,
   "metadata": {},
   "outputs": [
    {
     "name": "stdout",
     "output_type": "stream",
     "text": [
      "In Westworld Park, you can experience the Wild West in a realistic and interactive way, interact with advanced androids called \"hosts\", and enjoy family-friendly activities such as horseback riding lessons and old-fashioned games. You can also explore age-appropriate storylines and indulge in a wide selection of food and beverage options provided by the park.\n"
     ]
    }
   ],
   "source": [
    "from langchain.prompts import PromptTemplate\n",
    "from langchain_core.output_parsers import StrOutputParser\n",
    "\n",
    "rag_prompt = PromptTemplate(template=prompt, input_variables=[\"question\", \"context\"])\n",
    "rag_prompt_chain = rag_prompt | groq_llm | StrOutputParser()\n",
    "\n",
    "result = rag_prompt_chain.invoke({\"question\": question, \"context\": context})\n",
    "print(result)"
   ]
  },
  {
   "cell_type": "code",
   "execution_count": 16,
   "metadata": {},
   "outputs": [
    {
     "data": {
      "text/plain": [
       "'Westworld Park is an immersive, high-tech theme park that allows guests to experience the Wild West in a realistic and interactive way, populated by advanced androids called \"hosts.\" It is primarily designed for adult guests but also offers some family-friendly areas and activities. The park provides a unique and interactive experience for its visitors.'"
      ]
     },
     "execution_count": 16,
     "metadata": {},
     "output_type": "execute_result"
    }
   ],
   "source": [
    "from langchain_core.output_parsers import StrOutputParser\n",
    "from langchain_core.runnables import RunnablePassthrough\n",
    "\n",
    "rag_chain = (\n",
    "    {\"context\": retriever, \"question\": RunnablePassthrough()}\n",
    "    | rag_prompt\n",
    "    | groq_llm\n",
    "    | StrOutputParser()\n",
    ")\n",
    "\n",
    "rag_chain.invoke({\"question\": \"What is the Westworld Park all about?\"})"
   ]
  },
  {
   "cell_type": "code",
   "execution_count": 17,
   "metadata": {},
   "outputs": [],
   "source": [
    "# from langchain.llms import Ollama\n",
    "\n",
    "# ollama_llama3_llm = Ollama(model=OLLAMA_LLAMA3_70B, temperature=TEMPERATURE)\n",
    "\n",
    "# rag_chain = (\n",
    "#     {\"context\": retriever, \"question\": RunnablePassthrough()}\n",
    "#     | rag_prompt\n",
    "#     | ollama_llama3_llm\n",
    "#     | StrOutputParser()\n",
    "# )\n",
    "\n",
    "# rag_chain.invoke({\"question\": \"What is the Westworld Park all about?\"})"
   ]
  },
  {
   "cell_type": "code",
   "execution_count": 18,
   "metadata": {},
   "outputs": [
    {
     "data": {
      "text/plain": [
       "\"You can meet hosts like Maeve, the madam of the Mariposa Saloon, and a host inspired by Logan, William's carefree and hedonistic friend. These hosts are available for interaction and conversation within the park.\""
      ]
     },
     "execution_count": 18,
     "metadata": {},
     "output_type": "execute_result"
    }
   ],
   "source": [
    "rag_chain.invoke(\"who are some of the hosts I can meet?\")"
   ]
  },
  {
   "cell_type": "code",
   "execution_count": 19,
   "metadata": {},
   "outputs": [
    {
     "data": {
      "text/plain": [
       "\"Dr. Ford is a key figure in the operations of Westworld, an immersive theme park. He is not available for direct conversation, but a host designed to discuss the history and philosophy of Westworld's creation can offer similar insights.\""
      ]
     },
     "execution_count": 19,
     "metadata": {},
     "output_type": "execute_result"
    }
   ],
   "source": [
    "rag_chain.invoke(\"Who is Ford?\")"
   ]
  },
  {
   "cell_type": "code",
   "execution_count": 20,
   "metadata": {},
   "outputs": [
    {
     "data": {
      "text/plain": [
       "\"I don't know if you can sleep under the stars in Westworld, as the provided context only discusses safety tips for heatstroke and thunderstorms, but does not mention overnight accommodations or camping.\""
      ]
     },
     "execution_count": 20,
     "metadata": {},
     "output_type": "execute_result"
    }
   ],
   "source": [
    "rag_chain.invoke(\"Can I sleep under the stars there?\")"
   ]
  },
  {
   "cell_type": "code",
   "execution_count": 21,
   "metadata": {},
   "outputs": [],
   "source": [
    "from langchain_groq import ChatGroq\n",
    "\n",
    "chatgroq_llm = ChatGroq(model=GROQ_LLM_MODEL, temperature=TEMPERATURE)"
   ]
  },
  {
   "cell_type": "code",
   "execution_count": 22,
   "metadata": {},
   "outputs": [],
   "source": [
    "def write_markdown_file(content, filename):\n",
    "    \"\"\"Writes the given content as a markdown file to the local directory.\n",
    "\n",
    "    Args:\n",
    "      content: The string content to write to the file.\n",
    "      filename: The filename to save the file as.\n",
    "    \"\"\"\n",
    "    if type(content) == dict:\n",
    "        content = \"\\n\".join(f\"{key}: {value}\" for key, value in content.items())\n",
    "    if type(content) == list:\n",
    "        content = \"\\n\".join(content)\n",
    "    with open(f\"{filename}.md\", \"w\") as f:\n",
    "        f.write(content)"
   ]
  },
  {
   "cell_type": "code",
   "execution_count": 28,
   "metadata": {},
   "outputs": [
    {
     "name": "stdout",
     "output_type": "stream",
     "text": [
      "<|begin_of_text|><|start_header_id|>system<|end_header_id|>\n",
      "You are the Email Categorizer Agent for the theme park Westworld,You are a master at\n",
      "understanding what a customer wants when they write an email and are able to categorize\n",
      "it in a useful way. Remember people maybe asking about experiences they can have in westworld.\n",
      "\n",
      "<|eot_id|><|start_header_id|>user<|end_header_id|>\n",
      "Conduct a comprehensive analysis of the email provided and categorize into one of the following categories:\n",
      "price_equiry - used when someone is asking for information about pricing\n",
      "customer_complaint - used when someone is complaining about something\n",
      "product_enquiry - used when someone is asking for information about a product feature, benefit or service but not about pricing\n",
      "customer_feedback - used when someone is giving feedback about a product\n",
      "off_topic when it doesnt relate to any other category\n",
      "\n",
      "Output a single cetgory only from the types ('price_equiry', 'customer_complaint', 'product_enquiry', 'customer_feedback', 'off_topic') \n",
      "eg:\n",
      "'price_enquiry'\n",
      "\n",
      "EMAIL CONTENT:\n",
      "{initial_email}\n",
      "<|eot_id|>\n",
      "<|start_header_id|>assistant<|end_header_id|>\n"
     ]
    }
   ],
   "source": [
    "EMAIL_AGENT_PROMPT = \"email-category-llama3.jinja\"\n",
    "email_agent_prompt_template = env.get_template(EMAIL_AGENT_PROMPT)\n",
    "email_agent_prompt = email_agent_prompt_template.render()\n",
    "print(email_agent_prompt)"
   ]
  },
  {
   "cell_type": "code",
   "execution_count": 29,
   "metadata": {},
   "outputs": [],
   "source": [
    "email_prompt = PromptTemplate(\n",
    "    template=email_agent_prompt, input_variables=[\"initial_email\"]\n",
    ")"
   ]
  },
  {
   "cell_type": "code",
   "execution_count": 30,
   "metadata": {},
   "outputs": [],
   "source": [
    "email_category_generator = email_prompt | chatgroq_llm | StrOutputParser()"
   ]
  },
  {
   "cell_type": "code",
   "execution_count": 31,
   "metadata": {},
   "outputs": [],
   "source": [
    "email = \"\"\"\n",
    "HI there,\n",
    "I am emailing to find out info about your them park and what I can do there.\n",
    "I am looking for new experiences.\n",
    "Thanks,\n",
    "Paul\n",
    "\"\"\""
   ]
  },
  {
   "cell_type": "code",
   "execution_count": 32,
   "metadata": {},
   "outputs": [
    {
     "name": "stdout",
     "output_type": "stream",
     "text": [
      "'product_enquiry'\n"
     ]
    }
   ],
   "source": [
    "result = email_category_generator.invoke({\"initial_email\": email})\n",
    "print(result)"
   ]
  },
  {
   "cell_type": "code",
   "execution_count": 34,
   "metadata": {},
   "outputs": [
    {
     "name": "stdout",
     "output_type": "stream",
     "text": [
      "'customer_feedback'\n"
     ]
    }
   ],
   "source": [
    "email = \"\"\"\n",
    "Hi,\n",
    "I hope this email finds you well. We sincerely appreciate your recent purchase and your continued support of ACME.\n",
    "\n",
    "As part of our commitment to providing the best possible service and products, we would love to hear about your experience with us. Your feedback is invaluable in helping us improve and better serve you in the future.\n",
    "\n",
    "Could you please take a few moments to share your thoughts on the following?\n",
    "\n",
    "Your overall satisfaction with our product(s)\n",
    "The quality of our customer service\n",
    "Any suggestions for improvements or additional products you would like to see\n",
    "You can reply directly to this email or fill out our quick feedback form [insert link to feedback form, if applicable].\n",
    "\n",
    "Thank you for taking the time to provide us with your insights. Your feedback helps us strive for excellence.\n",
    "\n",
    "Best regards,\n",
    "Paul\n",
    "\"\"\"\n",
    "\n",
    "result = email_category_generator.invoke({\"initial_email\": email})\n",
    "print(result)"
   ]
  },
  {
   "cell_type": "code",
   "execution_count": 36,
   "metadata": {},
   "outputs": [
    {
     "name": "stdout",
     "output_type": "stream",
     "text": [
      "{'questions': ['What specific product did the customer purchase from ACME?', \"What is the customer's current satisfaction level with the product?\", 'Are there any specific features or improvements the customer is looking for in the product?']}\n"
     ]
    }
   ],
   "source": [
    "from langchain_core.output_parsers import JsonOutputParser\n",
    "\n",
    "## RAG QUESTIONS\n",
    "\n",
    "SEARCH_RAG_PROMPT = \"search-rag-llama3.jinja\"\n",
    "email_agent_prompt_template = env.get_template(SEARCH_RAG_PROMPT)\n",
    "email_agent_prompt = email_agent_prompt_template.render()\n",
    "\n",
    "search_rag_prompt = PromptTemplate(\n",
    "    template=email_agent_prompt,\n",
    "    input_variables=[\"initial_email\", \"email_category\"],\n",
    ")\n",
    "\n",
    "question_rag_chain = search_rag_prompt | groq_llm | JsonOutputParser()\n",
    "\n",
    "email_category = \"product_enquiry\"\n",
    "research_info = None\n",
    "\n",
    "print(\n",
    "    question_rag_chain.invoke(\n",
    "        {\"initial_email\": email, \"email_category\": email_category}\n",
    "    )\n",
    ")"
   ]
  },
  {
   "cell_type": "markdown",
   "metadata": {},
   "source": [
    "### Write Draft Email"
   ]
  },
  {
   "cell_type": "code",
   "execution_count": 38,
   "metadata": {},
   "outputs": [
    {
     "name": "stdout",
     "output_type": "stream",
     "text": [
      "{'email_draft': \"Dear Paul,\\n\\nThank you so much for reaching out to us about your experience at Westworld! We truly value your feedback and appreciate the time you've taken to share your thoughts with us.\\n\\nHowever, I noticed that your email seems to be intended for ACME, not Westworld. Could you please clarify how you came across our email address and what your experience is related to? Are you referring to a specific visit or interaction with our park?\\n\\nWe're committed to providing the best possible experience for our guests, and your input is invaluable in helping us achieve that goal. I'd be happy to hear more about your thoughts and suggestions once we clarify the context.\\n\\nLooking forward to hearing back from you.\\n\\nBest regards,\\nSarah, Resident Manager\"}\n"
     ]
    }
   ],
   "source": [
    "MAIL_DRAFT_PROMPT = \"draft-writer-llama3.jinja\"\n",
    "email_agent_prompt_template = env.get_template(MAIL_DRAFT_PROMPT)\n",
    "email_agent_prompt = email_agent_prompt_template.render()\n",
    "\n",
    "draft_writer_prompt = PromptTemplate(\n",
    "    template=email_agent_prompt,\n",
    "    input_variables=[\"initial_email\", \"email_category\", \"research_info\"],\n",
    ")\n",
    "\n",
    "draft_writer_chain = draft_writer_prompt | groq_llm | JsonOutputParser()\n",
    "\n",
    "email_category = \"customer_feedback\"\n",
    "research_info = None\n",
    "\n",
    "print(\n",
    "    draft_writer_chain.invoke(\n",
    "        {\n",
    "            \"initial_email\": email,\n",
    "            \"email_category\": email_category,\n",
    "            \"research_info\": research_info,\n",
    "        }\n",
    "    )\n",
    ")"
   ]
  },
  {
   "cell_type": "markdown",
   "metadata": {},
   "source": [
    "### Rewrite Router"
   ]
  },
  {
   "cell_type": "code",
   "execution_count": 39,
   "metadata": {},
   "outputs": [
    {
     "name": "stdout",
     "output_type": "stream",
     "text": [
      "{'router_decision': 'rewrite'}\n"
     ]
    }
   ],
   "source": [
    "REWRITE_ROUTER_PROMPT = \"rewrite-router-llama3.jinja\"\n",
    "rewrite_router_prompt_template = env.get_template(REWRITE_ROUTER_PROMPT)\n",
    "rewrite_router = rewrite_router_prompt_template.render()\n",
    "\n",
    "rewrite_router_prompt = PromptTemplate(\n",
    "    template=rewrite_router,\n",
    "    input_variables=[\"initial_email\", \"email_category\", \"draft_email\"],\n",
    ")\n",
    "\n",
    "rewrite_router = rewrite_router_prompt | groq_llm | JsonOutputParser()\n",
    "\n",
    "email_category = \"customer_feedback\"\n",
    "draft_email = \"Yo we can't help you, best regards Sarah\"\n",
    "\n",
    "print(\n",
    "    rewrite_router.invoke(\n",
    "        {\n",
    "            \"initial_email\": email,\n",
    "            \"email_category\": email_category,\n",
    "            \"draft_email\": draft_email,\n",
    "        }\n",
    "    )\n",
    ")"
   ]
  },
  {
   "cell_type": "markdown",
   "metadata": {},
   "source": [
    "### research_router"
   ]
  },
  {
   "cell_type": "code",
   "execution_count": null,
   "metadata": {},
   "outputs": [],
   "source": [
    "research_router_prompt = PromptTemplate(\n",
    "    template=,\n",
    "    input_variables=[\"initial_email\", \"email_category\"],\n",
    ")\n",
    "\n",
    "research_router = research_router_prompt | GROQ_LLM | JsonOutputParser()\n",
    "\n",
    "email_category = \"product_enquiry\"\n",
    "\n",
    "print(\n",
    "    research_router.invoke({\"initial_email\": EMAIL, \"email_category\": email_category})\n",
    ")"
   ]
  },
  {
   "cell_type": "markdown",
   "metadata": {},
   "source": [
    "### Draft Email Analysis"
   ]
  },
  {
   "cell_type": "code",
   "execution_count": 40,
   "metadata": {},
   "outputs": [
    {
     "name": "stdout",
     "output_type": "stream",
     "text": [
      "{'draft_analysis': {'addressing_customer_issue': 'no', 'feedback': \"The draft email does not address the customer's issue at all. The initial email is seeking feedback from the customer, but the draft email does not provide any response or acknowledgement of the customer's potential feedback. It is also very abrupt and unfriendly. To make the email more effective, it should express gratitude for the customer's feedback, provide a brief summary of the feedback received, and let the customer know how their feedback will be used to improve the service or product. Additionally, the signature should match the initial email's signature, which is 'Best regards, Paul', not 'Best regards, Sarah'.\"}}\n"
     ]
    }
   ],
   "source": [
    "DRAFT_ANALYSIS_PROMPT = \"draft-email-analysis.jinja\"\n",
    "draft_analysis_prompt_template = env.get_template(DRAFT_ANALYSIS_PROMPT)\n",
    "draft_analysis = draft_analysis_prompt_template.render()\n",
    "\n",
    "draft_analysis_prompt = PromptTemplate(\n",
    "    template=draft_analysis,\n",
    "    input_variables=[\"initial_email\", \"email_category\", \"research_info\"],\n",
    ")\n",
    "\n",
    "draft_analysis_chain = draft_analysis_prompt | groq_llm | JsonOutputParser()\n",
    "\n",
    "email_category = \"customer_feedback\"\n",
    "research_info = None\n",
    "draft_email = \"We can't help you, best regards Sarah\"\n",
    "\n",
    "email_analysis = draft_analysis_chain.invoke(\n",
    "    {\n",
    "        \"initial_email\": email,\n",
    "        \"email_category\": email_category,\n",
    "        \"research_info\": research_info,\n",
    "        \"draft_email\": draft_email,\n",
    "    }\n",
    ")\n",
    "\n",
    "print(email_analysis)"
   ]
  },
  {
   "cell_type": "markdown",
   "metadata": {},
   "source": [
    "### Rewrite Email with Analysis"
   ]
  },
  {
   "cell_type": "code",
   "execution_count": 41,
   "metadata": {},
   "outputs": [
    {
     "data": {
      "text/plain": [
       "'Dear valued customer, \\n\\nWe want to take a moment to express our sincere gratitude for taking the time to share your feedback with us. We appreciate your input and are committed to using it to improve our service or product. \\n\\nWe are currently reviewing your feedback and will use it to make necessary changes to better serve you in the future. \\n\\nThank you again for your feedback. It is invaluable to us. \\n\\nBest regards, Paul'"
      ]
     },
     "execution_count": 41,
     "metadata": {},
     "output_type": "execute_result"
    }
   ],
   "source": [
    "REWRITE_EMAIL_PROMPT = \"rewrite-email.jinja\"\n",
    "rewrite_email_prompt_template = env.get_template(REWRITE_EMAIL_PROMPT)\n",
    "rewrite_email = rewrite_email_prompt_template.render()\n",
    "\n",
    "rewrite_email_prompt = PromptTemplate(\n",
    "    template=rewrite_email,\n",
    "    input_variables=[\n",
    "        \"initial_email\",\n",
    "        \"email_category\",\n",
    "        \"research_info\",\n",
    "        \"email_analysis\",\n",
    "        \"draft_email\",\n",
    "    ],\n",
    ")\n",
    "\n",
    "rewrite_chain = rewrite_email_prompt | groq_llm | JsonOutputParser()\n",
    "\n",
    "email_category = \"customer_feedback\"\n",
    "research_info = None\n",
    "draft_email = \"Yo we can't help you, best regards Sarah\"\n",
    "\n",
    "final_email = rewrite_chain.invoke(\n",
    "    {\n",
    "        \"initial_email\": email,\n",
    "        \"email_category\": email_category,\n",
    "        \"research_info\": research_info,\n",
    "        \"draft_email\": draft_email,\n",
    "        \"email_analysis\": email_analysis,\n",
    "    }\n",
    ")\n",
    "\n",
    "final_email[\"final_email\"]"
   ]
  },
  {
   "cell_type": "markdown",
   "metadata": {},
   "source": [
    "### State"
   ]
  },
  {
   "cell_type": "code",
   "execution_count": 42,
   "metadata": {},
   "outputs": [],
   "source": [
    "from typing_extensions import TypedDict\n",
    "from typing import List\n",
    "\n",
    "\n",
    "class GraphState(TypedDict):\n",
    "    \"\"\"\n",
    "    Represents the state of our graph.\n",
    "\n",
    "    Attributes:\n",
    "        initial_email: email\n",
    "        email_category: email category\n",
    "        draft_email: LLM generation\n",
    "        final_email: LLM generation\n",
    "        research_info: list of documents\n",
    "        info_needed: whether to add search info\n",
    "        num_steps: number of steps\n",
    "    \"\"\"\n",
    "\n",
    "    initial_email: str\n",
    "    email_category: str\n",
    "    draft_email: str\n",
    "    final_email: str\n",
    "    research_info: List[str]  # this will now be the RAG results\n",
    "    info_needed: bool\n",
    "    num_steps: int\n",
    "    draft_email_feedback: dict\n",
    "    rag_questions: List[str]"
   ]
  },
  {
   "cell_type": "markdown",
   "metadata": {},
   "source": [
    "## Nodes\n",
    "\n",
    "1. categorize_email\n",
    "2. research_info_search # now done using RAG\n",
    "3. draft_email_writer  \n",
    "4. analyze_draft_email  \n",
    "5. rewrite_email  \n",
    "6. no_rewrite  \n",
    "7. state_printer"
   ]
  },
  {
   "cell_type": "markdown",
   "metadata": {},
   "source": [
    "### 1. categorize_email"
   ]
  },
  {
   "cell_type": "code",
   "execution_count": 45,
   "metadata": {},
   "outputs": [],
   "source": [
    "def categorize_email(state):\n",
    "    \"\"\"take the initial email and categorize it\"\"\"\n",
    "    print(\"---CATEGORIZING INITIAL EMAIL---\")\n",
    "    initial_email = state[\"initial_email\"]\n",
    "    num_steps = int(state[\"num_steps\"])\n",
    "    num_steps += 1\n",
    "\n",
    "    email_category = email_category_generator.invoke({\"initial_email\": initial_email})\n",
    "    print(email_category)\n",
    "    # save to local disk\n",
    "    write_markdown_file(email_category, \"email_category\")\n",
    "\n",
    "    return {\"email_category\": email_category, \"num_steps\": num_steps}"
   ]
  },
  {
   "cell_type": "markdown",
   "metadata": {},
   "source": [
    "### 2. research_info_search"
   ]
  },
  {
   "cell_type": "code",
   "execution_count": 44,
   "metadata": {},
   "outputs": [],
   "source": [
    "def research_info_search(state):\n",
    "\n",
    "    print(\"---RESEARCH INFO RAG---\")\n",
    "    initial_email = state[\"initial_email\"]\n",
    "    email_category = state[\"email_category\"]\n",
    "    num_steps = state[\"num_steps\"]\n",
    "    num_steps += 1\n",
    "\n",
    "    # Web search\n",
    "    questions = question_rag_chain.invoke(\n",
    "        {\"initial_email\": initial_email, \"email_category\": email_category}\n",
    "    )\n",
    "    questions = questions[\"questions\"]\n",
    "    # print(questions)\n",
    "    rag_results = []\n",
    "    for question in questions:\n",
    "        print(question)\n",
    "        temp_docs = rag_chain.invoke(question)\n",
    "        print(temp_docs)\n",
    "        question_results = question + \"\\n\\n\" + temp_docs + \"\\n\\n\\n\"\n",
    "        if rag_results is not None:\n",
    "            rag_results.append(question_results)\n",
    "        else:\n",
    "            rag_results = [question_results]\n",
    "    print(rag_results)\n",
    "    print(type(rag_results))\n",
    "    write_markdown_file(rag_results, \"research_info\")\n",
    "    write_markdown_file(questions, \"rag_questions\")\n",
    "    return {\n",
    "        \"research_info\": rag_results,\n",
    "        \"rag_questions\": questions,\n",
    "        \"num_steps\": num_steps,\n",
    "    }"
   ]
  },
  {
   "cell_type": "markdown",
   "metadata": {},
   "source": [
    "### 3. draft_email_writer"
   ]
  },
  {
   "cell_type": "code",
   "execution_count": 43,
   "metadata": {},
   "outputs": [],
   "source": [
    "def draft_email_writer(state):\n",
    "    print(\"---DRAFT EMAIL WRITER---\")\n",
    "    ## Get the state\n",
    "    initial_email = state[\"initial_email\"]\n",
    "    email_category = state[\"email_category\"]\n",
    "    research_info = state[\"research_info\"]\n",
    "    num_steps = state[\"num_steps\"]\n",
    "    num_steps += 1\n",
    "\n",
    "    # Generate draft email\n",
    "    draft_email = draft_writer_chain.invoke(\n",
    "        {\n",
    "            \"initial_email\": initial_email,\n",
    "            \"email_category\": email_category,\n",
    "            \"research_info\": research_info,\n",
    "        }\n",
    "    )\n",
    "    print(draft_email)\n",
    "    # print(type(draft_email))\n",
    "\n",
    "    email_draft = draft_email[\"email_draft\"]\n",
    "    write_markdown_file(email_draft, \"draft_email\")\n",
    "\n",
    "    return {\"draft_email\": email_draft, \"num_steps\": num_steps}"
   ]
  },
  {
   "cell_type": "markdown",
   "metadata": {},
   "source": [
    "### 4. analyze_draft_email"
   ]
  },
  {
   "cell_type": "code",
   "execution_count": 46,
   "metadata": {},
   "outputs": [],
   "source": [
    "def analyze_draft_email(state):\n",
    "    print(\"---DRAFT EMAIL ANALYZER---\")\n",
    "    ## Get the state\n",
    "    initial_email = state[\"initial_email\"]\n",
    "    email_category = state[\"email_category\"]\n",
    "    draft_email = state[\"draft_email\"]\n",
    "    research_info = state[\"research_info\"]\n",
    "    num_steps = state[\"num_steps\"]\n",
    "    num_steps += 1\n",
    "\n",
    "    # Generate draft email\n",
    "    draft_email_feedback = draft_analysis_chain.invoke(\n",
    "        {\n",
    "            \"initial_email\": initial_email,\n",
    "            \"email_category\": email_category,\n",
    "            \"research_info\": research_info,\n",
    "            \"draft_email\": draft_email,\n",
    "        }\n",
    "    )\n",
    "    # print(draft_email)\n",
    "    # print(type(draft_email))\n",
    "\n",
    "    write_markdown_file(str(draft_email_feedback), \"draft_email_feedback\")\n",
    "    return {\"draft_email_feedback\": draft_email_feedback, \"num_steps\": num_steps}"
   ]
  },
  {
   "cell_type": "markdown",
   "metadata": {},
   "source": [
    "### 5. rewrite_email"
   ]
  },
  {
   "cell_type": "code",
   "execution_count": 47,
   "metadata": {},
   "outputs": [],
   "source": [
    "def rewrite_email(state):\n",
    "    print(\"---ReWRITE EMAIL ---\")\n",
    "    ## Get the state\n",
    "    initial_email = state[\"initial_email\"]\n",
    "    email_category = state[\"email_category\"]\n",
    "    draft_email = state[\"draft_email\"]\n",
    "    research_info = state[\"research_info\"]\n",
    "    draft_email_feedback = state[\"draft_email_feedback\"]\n",
    "    num_steps = state[\"num_steps\"]\n",
    "    num_steps += 1\n",
    "\n",
    "    # Generate draft email\n",
    "    final_email = rewrite_chain.invoke(\n",
    "        {\n",
    "            \"initial_email\": initial_email,\n",
    "            \"email_category\": email_category,\n",
    "            \"research_info\": research_info,\n",
    "            \"draft_email\": draft_email,\n",
    "            \"email_analysis\": draft_email_feedback,\n",
    "        }\n",
    "    )\n",
    "\n",
    "    write_markdown_file(str(final_email), \"final_email\")\n",
    "    return {\"final_email\": final_email[\"final_email\"], \"num_steps\": num_steps}"
   ]
  },
  {
   "cell_type": "markdown",
   "metadata": {},
   "source": [
    "### 6. no_rewrite"
   ]
  },
  {
   "cell_type": "code",
   "execution_count": 48,
   "metadata": {},
   "outputs": [],
   "source": [
    "def no_rewrite(state):\n",
    "    print(\"---NO REWRITE EMAIL ---\")\n",
    "    ## Get the state\n",
    "    draft_email = state[\"draft_email\"]\n",
    "    num_steps = state[\"num_steps\"]\n",
    "    num_steps += 1\n",
    "\n",
    "    write_markdown_file(str(draft_email), \"final_email\")\n",
    "    return {\"final_email\": draft_email, \"num_steps\": num_steps}"
   ]
  },
  {
   "cell_type": "markdown",
   "metadata": {},
   "source": [
    "### 7. StatePrinter"
   ]
  },
  {
   "cell_type": "code",
   "execution_count": 49,
   "metadata": {},
   "outputs": [],
   "source": [
    "def state_printer(state):\n",
    "    \"\"\"print the state\"\"\"\n",
    "    print(\"---STATE PRINTER---\")\n",
    "    print(f\"Initial Email: {state['initial_email']} \\n\")\n",
    "    print(f\"Email Category: {state['email_category']} \\n\")\n",
    "    print(f\"Draft Email: {state['draft_email']} \\n\")\n",
    "    print(f\"Final Email: {state['final_email']} \\n\")\n",
    "    print(f\"Research Info: {state['research_info']} \\n\")\n",
    "    print(f\"RAG Questions: {state['rag_questions']} \\n\")\n",
    "    print(f\"Num Steps: {state['num_steps']} \\n\")\n",
    "    return"
   ]
  },
  {
   "cell_type": "markdown",
   "metadata": {},
   "source": [
    "### 8. route_to_research"
   ]
  },
  {
   "cell_type": "code",
   "execution_count": 50,
   "metadata": {},
   "outputs": [],
   "source": [
    "def route_to_research(state):\n",
    "    \"\"\"\n",
    "    Route email to web search or not.\n",
    "    Args:\n",
    "        state (dict): The current graph state\n",
    "    Returns:\n",
    "        str: Next node to call\n",
    "    \"\"\"\n",
    "\n",
    "    print(\"---ROUTE TO RESEARCH---\")\n",
    "    initial_email = state[\"initial_email\"]\n",
    "    email_category = state[\"email_category\"]\n",
    "\n",
    "    router = research_router.invoke(\n",
    "        {\"initial_email\": initial_email, \"email_category\": email_category}\n",
    "    )\n",
    "    print(router)\n",
    "    # print(type(router))\n",
    "    print(router[\"router_decision\"])\n",
    "    if router[\"router_decision\"] == \"research_info\":\n",
    "        print(\"---ROUTE EMAIL TO RESEARCH INFO---\")\n",
    "        return \"research_info\"\n",
    "    elif router[\"router_decision\"] == \"draft_email\":\n",
    "        print(\"---ROUTE EMAIL TO DRAFT EMAIL---\")\n",
    "        return \"draft_email\""
   ]
  },
  {
   "cell_type": "code",
   "execution_count": null,
   "metadata": {},
   "outputs": [],
   "source": []
  },
  {
   "cell_type": "code",
   "execution_count": null,
   "metadata": {},
   "outputs": [],
   "source": []
  },
  {
   "cell_type": "code",
   "execution_count": null,
   "metadata": {},
   "outputs": [],
   "source": []
  }
 ],
 "metadata": {
  "kernelspec": {
   "display_name": ".venv",
   "language": "python",
   "name": "python3"
  },
  "language_info": {
   "codemirror_mode": {
    "name": "ipython",
    "version": 3
   },
   "file_extension": ".py",
   "mimetype": "text/x-python",
   "name": "python",
   "nbconvert_exporter": "python",
   "pygments_lexer": "ipython3",
   "version": "3.12.4"
  }
 },
 "nbformat": 4,
 "nbformat_minor": 2
}
