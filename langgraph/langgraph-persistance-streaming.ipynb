{
 "cells": [
  {
   "cell_type": "code",
   "execution_count": 1,
   "metadata": {},
   "outputs": [
    {
     "data": {
      "text/plain": [
       "True"
      ]
     },
     "execution_count": 1,
     "metadata": {},
     "output_type": "execute_result"
    }
   ],
   "source": [
    "from dotenv import load_dotenv\n",
    "\n",
    "load_dotenv()"
   ]
  },
  {
   "cell_type": "code",
   "execution_count": 2,
   "metadata": {},
   "outputs": [
    {
     "name": "stdout",
     "output_type": "stream",
     "text": [
      "<class 'langchain_community.tools.tavily_search.tool.TavilySearchResults'>\n",
      "tavily_search_results_json\n"
     ]
    }
   ],
   "source": [
    "from langchain_community.tools.tavily_search import TavilySearchResults\n",
    "\n",
    "tool = TavilySearchResults(maxresults=4)\n",
    "print(type(tool))\n",
    "print(tool.name)"
   ]
  },
  {
   "cell_type": "code",
   "execution_count": 3,
   "metadata": {},
   "outputs": [],
   "source": [
    "import operator\n",
    "from typing import Annotated, TypedDict\n",
    "\n",
    "from langchain_core.messages import AnyMessage\n",
    "\n",
    "\n",
    "class AgentState(TypedDict):\n",
    "    messages: Annotated[list[AnyMessage], operator.add]"
   ]
  },
  {
   "cell_type": "code",
   "execution_count": 4,
   "metadata": {},
   "outputs": [],
   "source": [
    "from langgraph.checkpoint.sqlite import SqliteSaver\n",
    "\n",
    "mmemory = SqliteSaver.from_conn_string(\":memory:\")"
   ]
  },
  {
   "cell_type": "code",
   "execution_count": 5,
   "metadata": {},
   "outputs": [],
   "source": [
    "from langgraph.graph import StateGraph, END\n",
    "\n",
    "\n",
    "class Agent:\n",
    "    def __init__(self, model, tools, checkpointer, system=\"\"):\n",
    "        self.system = system\n",
    "        graph = StateGraph(AgentState)\n",
    "        graph.add_node(\"llm\", self.call_openai)\n",
    "        graph.add_node(\"action\", self.take_action)\n",
    "        graph.add_conditional_edges(\n",
    "            \"llm\", self.exists_action, {True: \"action\", False: END}\n",
    "        )\n",
    "        graph.add_edge(\"action\", \"llm\")\n",
    "        graph.set_entry_point(\"llm\")\n",
    "        self.graph = graph.compile(checkpointer=checkpointer)\n",
    "        self.tools = {t.name: t for t in tools}\n",
    "        self.model = model.bind_tools(tools)\n",
    "\n",
    "    @classmethod\n",
    "    def add_method(cls, func):\n",
    "        setattr(cls, func.__name__, func)"
   ]
  },
  {
   "cell_type": "code",
   "execution_count": 6,
   "metadata": {},
   "outputs": [],
   "source": [
    "from langchain_core.messages import SystemMessage\n",
    "\n",
    "\n",
    "@Agent.add_method\n",
    "def call_openai(self, state: AgentState):\n",
    "    messages = state[\"messages\"]\n",
    "    if self.system:\n",
    "        messages = [SystemMessage(content=self.system)] + messages\n",
    "    message = self.model.invoke(messages)\n",
    "    return {\"messages\": [message]}"
   ]
  },
  {
   "cell_type": "code",
   "execution_count": 7,
   "metadata": {},
   "outputs": [],
   "source": [
    "@Agent.add_method\n",
    "def exists_action(self, state: AgentState):\n",
    "    result = state[\"messages\"][-1]\n",
    "    return len(result.tool_calls) > 0"
   ]
  },
  {
   "cell_type": "code",
   "execution_count": 8,
   "metadata": {},
   "outputs": [],
   "source": [
    "from langchain_core.messages import ToolMessage\n",
    "\n",
    "\n",
    "@Agent.add_method\n",
    "def take_action(self, state: AgentState):\n",
    "    tool_calls = state[\"messages\"][-1].tool_calls\n",
    "    results = []\n",
    "\n",
    "    for t in tool_calls:\n",
    "        print(f\"Calling: {t}\")\n",
    "        if not t[\"name\"] in self.tools:\n",
    "            print(f\"\\n ... bad tool name. {t['name']}\")\n",
    "            result = \"bad tool name, retry\"\n",
    "        else:\n",
    "            result = self.tools[t[\"name\"]].invoke(t[\"args\"])\n",
    "        results.append(\n",
    "            ToolMessage(tool_call_id=t[\"id\"], name=t[\"name\"], content=str(result))\n",
    "        )\n",
    "    print(\"Back to the model!\")\n",
    "    return {\"messages\": results}"
   ]
  },
  {
   "cell_type": "code",
   "execution_count": 9,
   "metadata": {},
   "outputs": [
    {
     "name": "stdout",
     "output_type": "stream",
     "text": [
      "You are a smart research assistant. Use the search engine to look up information.\n",
      "You are allowed to make multiple calls (either together or in sequence).\n",
      "Only look up information when you are sure of what you want.\n",
      "If you need to look up some information before asking a follow up question, you are allowed to do that!\n"
     ]
    }
   ],
   "source": [
    "from jinja2 import Environment, FileSystemLoader\n",
    "\n",
    "PROMPTS_PATH = \"prompts\"\n",
    "OPENAI_PROMPT = \"openai-react-langgraph.jinja\"\n",
    "\n",
    "env = Environment(loader=FileSystemLoader(PROMPTS_PATH))\n",
    "prompt_template = env.get_template(OPENAI_PROMPT)\n",
    "prompt = prompt_template.render()\n",
    "print(prompt)"
   ]
  },
  {
   "cell_type": "code",
   "execution_count": 10,
   "metadata": {},
   "outputs": [],
   "source": [
    "from langchain_openai import ChatOpenAI\n",
    "\n",
    "model = ChatOpenAI(model=\"gpt-4o\")\n",
    "langgraph_bot = Agent(model, tools=[tool], system=prompt, checkpointer=mmemory)"
   ]
  },
  {
   "cell_type": "code",
   "execution_count": 11,
   "metadata": {},
   "outputs": [
    {
     "data": {
      "image/png": "[encoded data removed]",
      "text/plain": [
       "<IPython.core.display.Image object>"
      ]
     },
     "execution_count": 11,
     "metadata": {},
     "output_type": "execute_result"
    }
   ],
   "source": [
    "from IPython.display import Image\n",
    "\n",
    "Image(langgraph_bot.graph.get_graph().draw_png())"
   ]
  },
  {
   "cell_type": "code",
   "execution_count": 12,
   "metadata": {},
   "outputs": [],
   "source": [
    "from langchain_core.messages import HumanMessage\n",
    "\n",
    "messages = [HumanMessage(content=\"What is the weather in sf?\")]"
   ]
  },
  {
   "cell_type": "code",
   "execution_count": 14,
   "metadata": {},
   "outputs": [],
   "source": [
    "thread = {\"configurable\": {\"thread_id\": 1}}"
   ]
  },
  {
   "cell_type": "code",
   "execution_count": 15,
   "metadata": {},
   "outputs": [
    {
     "name": "stdout",
     "output_type": "stream",
     "text": [
      "[AIMessage(content='', additional_kwargs={'tool_calls': [{'id': 'call_jqQdjJazbYCNvUhMa9zbDXY9', 'function': {'arguments': '{\"query\":\"current weather in San Francisco\"}', 'name': 'tavily_search_results_json'}, 'type': 'function'}]}, response_metadata={'token_usage': {'completion_tokens': 22, 'prompt_tokens': 151, 'total_tokens': 173}, 'model_name': 'gpt-4o-2024-05-13', 'system_fingerprint': 'fp_d576307f90', 'finish_reason': 'tool_calls', 'logprobs': None}, id='run-3140f108-a60f-4f1a-9d88-76c0c7f2ea74-0', tool_calls=[{'name': 'tavily_search_results_json', 'args': {'query': 'current weather in San Francisco'}, 'id': 'call_jqQdjJazbYCNvUhMa9zbDXY9'}], usage_metadata={'input_tokens': 151, 'output_tokens': 22, 'total_tokens': 173})]\n",
      "Calling: {'name': 'tavily_search_results_json', 'args': {'query': 'current weather in San Francisco'}, 'id': 'call_jqQdjJazbYCNvUhMa9zbDXY9'}\n",
      "Back to the model!\n",
      "[ToolMessage(content='[{\\'url\\': \\'https://www.wunderground.com/hourly/us/ca/san-francisco/date/2024-07-02\\', \\'content\\': \\'San Francisco Weather Forecasts. Weather Underground provides local & long-range weather forecasts, weatherreports, maps & tropical weather conditions for the San Francisco area. ... Tuesday 07/02 ...\\'}, {\\'url\\': \\'https://www.timeanddate.com/weather/usa/san-francisco/hourly\\', \\'content\\': \\'Hour-by-Hour Forecast for San Francisco, California, USA. Currently: 54 °F. Passing clouds. (Weather station: San Francisco International Airport, USA). See more current weather.\\'}, {\\'url\\': \\'https://www.weatherapi.com/\\', \\'content\\': \"{\\'location\\': {\\'name\\': \\'San Francisco\\', \\'region\\': \\'California\\', \\'country\\': \\'United States of America\\', \\'lat\\': 37.78, \\'lon\\': -122.42, \\'tz_id\\': \\'America/Los_Angeles\\', \\'localtime_epoch\\': 1719907193, \\'localtime\\': \\'2024-07-02 0:59\\'}, \\'current\\': {\\'last_updated_epoch\\': 1719906300, \\'last_updated\\': \\'2024-07-02 00:45\\', \\'temp_c\\': 16.7, \\'temp_f\\': 62.1, \\'is_day\\': 0, \\'condition\\': {\\'text\\': \\'Clear\\', \\'icon\\': \\'//cdn.weatherapi.com/weather/64x64/night/113.png\\', \\'code\\': 1000}, \\'wind_mph\\': 2.2, \\'wind_kph\\': 3.6, \\'wind_degree\\': 10, \\'wind_dir\\': \\'N\\', \\'pressure_mb\\': 1010.0, \\'pressure_in\\': 29.83, \\'precip_mm\\': 0.0, \\'precip_in\\': 0.0, \\'humidity\\': 84, \\'cloud\\': 0, \\'feelslike_c\\': 16.7, \\'feelslike_f\\': 62.1, \\'windchill_c\\': 12.9, \\'windchill_f\\': 55.2, \\'heatindex_c\\': 13.3, \\'heatindex_f\\': 56.0, \\'dewpoint_c\\': 10.8, \\'dewpoint_f\\': 51.4, \\'vis_km\\': 16.0, \\'vis_miles\\': 9.0, \\'uv\\': 1.0, \\'gust_mph\\': 9.9, \\'gust_kph\\': 15.9}}\"}, {\\'url\\': \\'https://forecast.weather.gov/MapClick.php?lat=37.7529881&lon=-122.4174306\\', \\'content\\': \\'San Francisco CA 37.75°N 122.4°W (Elev. 197 ft) Last Update: 8:22 pm PDT Jun 25, 2024. Forecast Valid: 12am PDT Jun 26, 2024-6pm PDT Jul 2, 2024 . Forecast Discussion . Additional Resources. Radar & Satellite Image. Hourly Weather Forecast. ... Severe Weather ; Current Outlook Maps ; Drought ; Fire Weather ; Fronts/Precipitation Maps ...\\'}, {\\'url\\': \\'https://weatherspark.com/h/m/557/2024/2/Historical-Weather-in-February-2024-in-San-Francisco-California-United-States\\', \\'content\\': \\'San Francisco Temperature History February 2024\\\\nHourly Temperature in February 2024 in San Francisco\\\\nCompare San Francisco to another city:\\\\nCloud Cover in February 2024 in San Francisco\\\\nDaily Precipitation in February 2024 in San Francisco\\\\nObserved Weather in February 2024 in San Francisco\\\\nHours of Daylight and Twilight in February 2024 in San Francisco\\\\nSunrise & Sunset with Twilight in February 2024 in San Francisco\\\\nSolar Elevation and Azimuth in February 2024 in San Francisco\\\\nMoon Rise, Set & Phases in February 2024 in San Francisco\\\\nHumidity Comfort Levels in February 2024 in San Francisco\\\\nWind Speed in February 2024 in San Francisco\\\\nHourly Wind Speed in February 2024 in San Francisco\\\\nHourly Wind Direction in 2024 in San Francisco\\\\nAtmospheric Pressure in February 2024 in San Francisco\\\\nData Sources\\\\n 53.1°F\\\\nPrecipitation\\\\nNo Report\\\\nWind\\\\n8.1 mph\\\\nCloud Cover\\\\nOvercast\\\\n4,200 ft\\\\nRaw: KSFO 150316Z 11007KT While having the tremendous advantages of temporal and spatial completeness, these reconstructions: (1) are based on computer models that may have model-based errors, (2) are coarsely sampled on a 50 km grid and are therefore unable to reconstruct the local variations of many microclimates, and (3) have particular difficulty with the weather in some coastal areas, especially small islands.\\\\n We further caution that our travel scores are only as good as the data that underpin them, that weather conditions at any given location and time are unpredictable and variable, and that the definition of the scores reflects a particular set of preferences that may not agree with those of any particular reader.\\\\n See all nearby weather stations\\\\nLatest Report — 7:16 PM\\\\nThu, Feb 15, 2024\\\\xa0\\\\xa0\\\\xa0\\\\xa013 min ago\\\\xa0\\\\xa0\\\\xa0\\\\xa0UTC 03:16\\\\nCall Sign KSFO\\\\nTemp.\\\\n\\'}]', name='tavily_search_results_json', tool_call_id='call_jqQdjJazbYCNvUhMa9zbDXY9')]\n",
      "[AIMessage(content='The current weather in San Francisco is as follows:\\n\\n- **Temperature**: 62.1°F (16.7°C)\\n- **Condition**: Clear\\n- **Wind**: 2.2 mph (3.6 kph) from the North\\n- **Humidity**: 84%\\n- **Visibility**: 9 miles (16 km)\\n- **Pressure**: 29.83 inHg (1010.0 mb)\\n\\nThis information is based on the latest update from WeatherAPI.', response_metadata={'token_usage': {'completion_tokens': 105, 'prompt_tokens': 1331, 'total_tokens': 1436}, 'model_name': 'gpt-4o-2024-05-13', 'system_fingerprint': 'fp_d576307f90', 'finish_reason': 'stop', 'logprobs': None}, id='run-ba68d4b7-fe37-400e-aee2-ff44c76fd6fe-0', usage_metadata={'input_tokens': 1331, 'output_tokens': 105, 'total_tokens': 1436})]\n"
     ]
    }
   ],
   "source": [
    "for event in langgraph_bot.graph.stream({\"messages\": messages}, thread):\n",
    "    for v in event.values():\n",
    "        print(v[\"messages\"])"
   ]
  },
  {
   "cell_type": "code",
   "execution_count": 16,
   "metadata": {},
   "outputs": [
    {
     "name": "stdout",
     "output_type": "stream",
     "text": [
      "{'messages': [AIMessage(content='Could you please clarify your question about LA? Are you asking about a specific topic such as weather, events, news, or something else related to Los Angeles?', response_metadata={'token_usage': {'completion_tokens': 33, 'prompt_tokens': 149, 'total_tokens': 182}, 'model_name': 'gpt-4o-2024-05-13', 'system_fingerprint': 'fp_d576307f90', 'finish_reason': 'stop', 'logprobs': None}, id='run-5eeee01f-e2f3-4d05-a03e-f215881cc831-0', usage_metadata={'input_tokens': 149, 'output_tokens': 33, 'total_tokens': 182})]}\n"
     ]
    }
   ],
   "source": [
    "messages = [HumanMessage(content=\"What about in la?\")]\n",
    "thread = {\"configurable\": {\"thread_id\": \"2\"}}\n",
    "for event in langgraph_bot.graph.stream({\"messages\": messages}, thread):\n",
    "    for v in event.values():\n",
    "        print(v)"
   ]
  },
  {
   "cell_type": "code",
   "execution_count": 17,
   "metadata": {},
   "outputs": [
    {
     "name": "stdout",
     "output_type": "stream",
     "text": [
      "{'messages': [AIMessage(content='', additional_kwargs={'tool_calls': [{'id': 'call_AJJIXzCO60tcKFyUDnxyMQqw', 'function': {'arguments': '{\"query\":\"current weather in Los Angeles\"}', 'name': 'tavily_search_results_json'}, 'type': 'function'}]}, response_metadata={'token_usage': {'completion_tokens': 22, 'prompt_tokens': 1448, 'total_tokens': 1470}, 'model_name': 'gpt-4o-2024-05-13', 'system_fingerprint': 'fp_d576307f90', 'finish_reason': 'tool_calls', 'logprobs': None}, id='run-c35ce711-bded-4406-9e3f-7f230920cefc-0', tool_calls=[{'name': 'tavily_search_results_json', 'args': {'query': 'current weather in Los Angeles'}, 'id': 'call_AJJIXzCO60tcKFyUDnxyMQqw'}], usage_metadata={'input_tokens': 1448, 'output_tokens': 22, 'total_tokens': 1470})]}\n",
      "Calling: {'name': 'tavily_search_results_json', 'args': {'query': 'current weather in Los Angeles'}, 'id': 'call_AJJIXzCO60tcKFyUDnxyMQqw'}\n",
      "Back to the model!\n",
      "{'messages': [ToolMessage(content='[{\\'url\\': \\'https://www.timeanddate.com/weather/usa/los-angeles/historic?month=2&year=2024\\', \\'content\\': \\'Weather reports from February 2024 in Los Angeles, California, USA with highs and lows. Sign in. News. News Home; Astronomy News; Time Zone News; ... See more current weather. ... 07 am: 56 °F: Light rain. Mostly cloudy. 10 mph:\\'}, {\\'url\\': \\'https://www.weatherapi.com/\\', \\'content\\': \"{\\'location\\': {\\'name\\': \\'Los Angeles\\', \\'region\\': \\'California\\', \\'country\\': \\'United States of America\\', \\'lat\\': 34.05, \\'lon\\': -118.24, \\'tz_id\\': \\'America/Los_Angeles\\', \\'localtime_epoch\\': 1719907670, \\'localtime\\': \\'2024-07-02 1:07\\'}, \\'current\\': {\\'last_updated_epoch\\': 1719907200, \\'last_updated\\': \\'2024-07-02 01:00\\', \\'temp_c\\': 17.2, \\'temp_f\\': 63.0, \\'is_day\\': 0, \\'condition\\': {\\'text\\': \\'Partly cloudy\\', \\'icon\\': \\'//cdn.weatherapi.com/weather/64x64/night/116.png\\', \\'code\\': 1003}, \\'wind_mph\\': 4.3, \\'wind_kph\\': 6.8, \\'wind_degree\\': 230, \\'wind_dir\\': \\'SW\\', \\'pressure_mb\\': 1011.0, \\'pressure_in\\': 29.85, \\'precip_mm\\': 0.0, \\'precip_in\\': 0.0, \\'humidity\\': 90, \\'cloud\\': 75, \\'feelslike_c\\': 17.2, \\'feelslike_f\\': 63.0, \\'windchill_c\\': 21.1, \\'windchill_f\\': 69.9, \\'heatindex_c\\': 22.6, \\'heatindex_f\\': 72.6, \\'dewpoint_c\\': 13.1, \\'dewpoint_f\\': 55.5, \\'vis_km\\': 16.0, \\'vis_miles\\': 9.0, \\'uv\\': 1.0, \\'gust_mph\\': 5.2, \\'gust_kph\\': 8.4}}\"}, {\\'url\\': \\'https://www.wunderground.com/hourly/us/ca/los-angeles/90053/date/2024-07-02\\', \\'content\\': \\'Weather Underground provides local & long-range weather forecasts, weatherreports, maps & tropical weather conditions for the Los Angeles area. ... Tuesday 07/02 Hourly for Tomorrow, Tue 07/02\\'}, {\\'url\\': \\'https://weatherspark.com/h/m/1705/2024/2/Historical-Weather-in-February-2024-in-Los-Angeles-California-United-States\\', \\'content\\': \\'Los Angeles Temperature History February 2024\\\\nHourly Temperature in February 2024 in Los Angeles\\\\nCompare Los Angeles to another city:\\\\nCloud Cover in February 2024 in Los Angeles\\\\nDaily Precipitation in February 2024 in Los Angeles\\\\nObserved Weather in February 2024 in Los Angeles\\\\nHours of Daylight and Twilight in February 2024 in Los Angeles\\\\nSunrise & Sunset with Twilight in February 2024 in Los Angeles\\\\nSolar Elevation and Azimuth in February 2024 in Los Angeles\\\\nMoon Rise, Set & Phases in February 2024 in Los Angeles\\\\nHumidity Comfort Levels in February 2024 in Los Angeles\\\\nWind Speed in February 2024 in Los Angeles\\\\nHourly Wind Speed in February 2024 in Los Angeles\\\\nHourly Wind Direction in 2024 in Los Angeles\\\\nAtmospheric Pressure in February 2024 in Los Angeles\\\\nData Sources\\\\n 55.9°F\\\\nPrecipitation\\\\nNo Report\\\\nWind\\\\n26.5 mph\\\\nCloud Cover\\\\nPartly Cloudy\\\\n17,000 ft\\\\nRaw: KLAX 030153Z 27023G29KT 10SM FEW014 FEW045 SCT170 SCT230 13/09 A2996 While having the tremendous advantages of temporal and spatial completeness, these reconstructions: (1) are based on computer models that may have model-based errors, (2) are coarsely sampled on a 50 km grid and are therefore unable to reconstruct the local variations of many microclimates, and (3) have particular difficulty with the weather in some coastal areas, especially small islands.\\\\n We further caution that our travel scores are only as good as the data that underpin them, that weather conditions at any given location and time are unpredictable and variable, and that the definition of the scores reflects a particular set of preferences that may not agree with those of any particular reader.\\\\n See all nearby weather stations\\\\nLatest Report — 5:53 PM\\\\nSat, Feb 3, 2024\\\\xa0\\\\xa0\\\\xa0\\\\xa054 min ago\\\\xa0\\\\xa0\\\\xa0\\\\xa0UTC 01:53\\\\nCall Sign KLAX\\\\nTemp.\\\\n\\'}, {\\'url\\': \\'https://forecast.weather.gov/zipcity.php?inputstring=Los Angeles,CA\\', \\'content\\': \\'Your local forecast office is. Los Angeles/Oxnard, CA. News Headlines. Some pages are temporarily down or permanently removed; Downtown Los Angeles Weather Station has Moved; Read our Forecast Discussion Here; Current conditions at ... 02 pm PDT Jun 30, 2024. Forecast Valid: 7pm PDT Jun 30, 2024-6pm PDT Jul 7, 2024 .\\'}]', name='tavily_search_results_json', tool_call_id='call_AJJIXzCO60tcKFyUDnxyMQqw')]}\n",
      "{'messages': [AIMessage(content='The current weather in Los Angeles is as follows:\\n\\n- **Temperature**: 63.0°F (17.2°C)\\n- **Condition**: Partly cloudy\\n- **Wind**: 4.3 mph (6.8 kph) from the Southwest\\n- **Humidity**: 90%\\n- **Visibility**: 9 miles (16 km)\\n- **Pressure**: 29.85 inHg (1011.0 mb)\\n\\nThis information is based on the latest update from WeatherAPI.', response_metadata={'token_usage': {'completion_tokens': 107, 'prompt_tokens': 2661, 'total_tokens': 2768}, 'model_name': 'gpt-4o-2024-05-13', 'system_fingerprint': 'fp_d576307f90', 'finish_reason': 'stop', 'logprobs': None}, id='run-07f1f9bf-70eb-4af1-92b1-d6c844110360-0', usage_metadata={'input_tokens': 2661, 'output_tokens': 107, 'total_tokens': 2768})]}\n"
     ]
    }
   ],
   "source": [
    "messages = [HumanMessage(content=\"What about in la?\")]\n",
    "thread = {\"configurable\": {\"thread_id\": \"1\"}}\n",
    "for event in langgraph_bot.graph.stream({\"messages\": messages}, thread):\n",
    "    for v in event.values():\n",
    "        print(v)"
   ]
  },
  {
   "cell_type": "code",
   "execution_count": 18,
   "metadata": {},
   "outputs": [
    {
     "name": "stdout",
     "output_type": "stream",
     "text": [
      "{'messages': [AIMessage(content='Currently, Los Angeles is slightly warmer than San Francisco:\\n\\n- **Los Angeles**: 63.0°F (17.2°C)\\n- **San Francisco**: 62.1°F (16.7°C)\\n\\nSo, Los Angeles is warmer by 0.9°F (0.5°C).', response_metadata={'token_usage': {'completion_tokens': 64, 'prompt_tokens': 2780, 'total_tokens': 2844}, 'model_name': 'gpt-4o-2024-05-13', 'system_fingerprint': 'fp_d576307f90', 'finish_reason': 'stop', 'logprobs': None}, id='run-0bde5bb9-48c4-4eb2-9e76-fa8fc1d39469-0', usage_metadata={'input_tokens': 2780, 'output_tokens': 64, 'total_tokens': 2844})]}\n"
     ]
    }
   ],
   "source": [
    "messages = [HumanMessage(content=\"Which one is warmer?\")]\n",
    "thread = {\"configurable\": {\"thread_id\": \"1\"}}\n",
    "for event in langgraph_bot.graph.stream({\"messages\": messages}, thread):\n",
    "    for v in event.values():\n",
    "        print(v)"
   ]
  },
  {
   "cell_type": "code",
   "execution_count": 21,
   "metadata": {},
   "outputs": [
    {
     "name": "stdout",
     "output_type": "stream",
     "text": [
      "{'messages': [AIMessage(content='Could you please specify what you are referring to when you ask \"which one is warmer\"? For example, are you comparing the climates of two cities, the temperatures of two objects, or something else?', response_metadata={'token_usage': {'completion_tokens': 41, 'prompt_tokens': 149, 'total_tokens': 190}, 'model_name': 'gpt-4o-2024-05-13', 'system_fingerprint': 'fp_d576307f90', 'finish_reason': 'stop', 'logprobs': None}, id='run-8cdce38a-2398-44cc-887e-2f8b86d68009-0', usage_metadata={'input_tokens': 149, 'output_tokens': 41, 'total_tokens': 190})]}\n"
     ]
    }
   ],
   "source": [
    "messages = [HumanMessage(content=\"Which one is warmer?\")]\n",
    "thread = {\"configurable\": {\"thread_id\": \"3\"}}\n",
    "for event in langgraph_bot.graph.stream({\"messages\": messages}, thread):\n",
    "    for v in event.values():\n",
    "        print(v)"
   ]
  },
  {
   "cell_type": "code",
   "execution_count": 24,
   "metadata": {},
   "outputs": [],
   "source": [
    "from langgraph.checkpoint.aiosqlite import AsyncSqliteSaver\n",
    "\n",
    "memory = AsyncSqliteSaver.from_conn_string(\":memory:\")\n",
    "abot = Agent(model, [tool], system=prompt, checkpointer=memory)"
   ]
  },
  {
   "cell_type": "code",
   "execution_count": 25,
   "metadata": {},
   "outputs": [],
   "source": [
    "messages = [HumanMessage(content=\"What is the weather in Europe?\")]\n",
    "thread = {\"configurable\": {\"thread_id\": \"10\"}}"
   ]
  },
  {
   "cell_type": "code",
   "execution_count": 26,
   "metadata": {},
   "outputs": [
    {
     "name": "stderr",
     "output_type": "stream",
     "text": [
      "/Users/martinfabbri/Workspace/github/graph-llm-agents/.venv/lib/python3.12/site-packages/langchain_core/_api/beta_decorator.py:87: LangChainBetaWarning: This API is in beta and may change in the future.\n",
      "  warn_beta(\n"
     ]
    },
    {
     "name": "stdout",
     "output_type": "stream",
     "text": [
      "Calling: {'name': 'tavily_search_results_json', 'args': {'query': 'current weather in Europe'}, 'id': 'call_JcI5ZlHlGTdPI6c4Zt7JhY26'}\n",
      "Back to the model!\n",
      "The| current| weather| in| Europe| varies| significantly| across| the| continent|.| Here| are| some| key| points| based| on| recent| reports|:\n",
      "\n",
      "|1|.| **|General| Overview|**|:\n",
      "|  | -| Europe| is| experiencing| diverse| weather| conditions|.| The| start| of| meteor|ological| summer| |202|4| began| with| wet| and| cool| weather| in| many| parts| of| Europe|,| while| the| southeast| experienced| more| summertime|-like| conditions|.| The| weather| pattern| is| changing|,| leading| to| less| rain| and| triggering| heat|waves| in| south|,| central|,| and| eastern| Europe|.\n",
      "|   \n",
      "|2|.| **|Weather| Forecast| Resources|**|:\n",
      "|  | -| [|Time| and| Date|](|https|://|www|.time|and|date|.com|/weather|/?|continent|=e|urope|)| provides| hour|-by|-hour| and| |2|-week| forecasts|.\n",
      "|  | -| [|Acc|u|Weather|](|https|://|www|.acc|uwe|ather|.com|/en|/e|urope|-weather|)| offers| hourly|,| |10|-day|,| and| |15|-day| forecasts| along| with| up|-to|-the|-minute| reports| and| videos|.\n",
      "\n",
      "|3|.| **|Specific| Conditions|**|:\n",
      "|  | -| According| to| [|Weather|API|](|https|://|www|.weather|api|.com|/|),| a| specific| location| in| Europe| (|latitude| -|37|.|83|,| longitude| |176|.|15|)| reported| a| temperature| of| |9|.|7|°C| with| patch|y| rain| nearby|,| wind| speeds| at| |14|.|8| k|ph|,| and| |82|%| humidity|.\n",
      "\n",
      "|For| detailed| and| location|-specific| forecasts|,| it| is| recommended| to| check| platforms| like| Time| and| Date| or| Acc|u|Weather|.|"
     ]
    }
   ],
   "source": [
    "async for event in abot.graph.astream_events({\"messages\": messages}, thread, version=\"v1\"):\n",
    "    kind = event[\"event\"]\n",
    "    if kind == \"on_chat_model_stream\":\n",
    "        content = event[\"data\"][\"chunk\"].content\n",
    "        if content:\n",
    "            # Empty content in the context of OpenAI means\n",
    "            # that the model is asking for a tool to be invoked.\n",
    "            # So we only print non-empty content\n",
    "            print(content, end=\"|\")"
   ]
  }
 ],
 "metadata": {
  "kernelspec": {
   "display_name": ".venv",
   "language": "python",
   "name": "python3"
  },
  "language_info": {
   "codemirror_mode": {
    "name": "ipython",
    "version": 3
   },
   "file_extension": ".py",
   "mimetype": "text/x-python",
   "name": "python",
   "nbconvert_exporter": "python",
   "pygments_lexer": "ipython3",
   "version": "3.12.4"
  }
 },
 "nbformat": 4,
 "nbformat_minor": 2
}
