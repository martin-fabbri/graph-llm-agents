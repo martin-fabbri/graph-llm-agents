{
 "cells": [
  {
   "cell_type": "code",
   "execution_count": 1,
   "metadata": {},
   "outputs": [],
   "source": [
    "from dotenv import load_dotenv\n",
    "_ = load_dotenv()"
   ]
  },
  {
   "cell_type": "code",
   "execution_count": 2,
   "metadata": {},
   "outputs": [],
   "source": [
    "def query(payload):\n",
    "    \"\"\"\n",
    "    Sends a payload to a TGI endpoint.\n",
    "    \"\"\"\n",
    "    API_URL = \"http://nexusraven.nexusflow.ai\"\n",
    "    headers = {\n",
    "        \"Content-Type\": \"application/json\"\n",
    "    }\n",
    "    import requests\n",
    "    response = requests.post(API_URL, headers=headers, json=payload)\n",
    "    return response.json()\n",
    "\n",
    "def query_raven(prompt):\n",
    "\t\"\"\"\n",
    "\tThis function sends a request to the TGI endpoint to get Raven's function call.\n",
    "\tThis will not generate Raven's justification and reasoning for the call, to save on latency.\n",
    "\t\"\"\"\n",
    "\timport requests\n",
    "\toutput = query({\n",
    "\t\t\"inputs\": prompt,\n",
    "\t\t\"parameters\" : {\"temperature\" : 0.001, \"stop\" : [\"<bot_end>\"], \"do_sample\" : False, \"max_new_tokens\" : 2048, \"return_full_text\" : False}})\n",
    "\tcall = output[0][\"generated_text\"].replace(\"Call:\", \"\").strip()\n",
    "\treturn call\n",
    "\n",
    "def query_raven_with_reasoning(prompt):\n",
    "\t\"\"\"\n",
    "\tThis function sends a request to the TGI endpoint to get Raven's function call AND justification for the call\n",
    "\t\"\"\"\n",
    "\timport requests\n",
    "\toutput = query({\n",
    "\t\t\"inputs\": prompt,\n",
    "\t\t\"parameters\" : {\"temperature\" : 0.001, \"do_sample\" : False, \"max_new_tokens\" : 2000}})\n",
    "\tcall = output[0][\"generated_text\"].replace(\"Call:\", \"\").strip()\n",
    "\treturn call\n",
    "\n",
    "def execute_sql(sql_code : str):\n",
    "    import sqlite3\n",
    "    \n",
    "    # Connect to the database\n",
    "    conn = sqlite3.connect('toy_database.db')\n",
    "    cursor = conn.cursor()\n",
    "    \n",
    "    cursor.execute('PRAGMA table_info(toys)')\n",
    "    columns = [info[1] for info in cursor.fetchall()]  # Extracting the column names\n",
    "    \n",
    "    # Query to select all data\n",
    "    cursor.execute(sql_code)\n",
    "    rows = cursor.fetchall()\n",
    "    \n",
    "    return_string = \" \".join(columns)\n",
    "    for idx, row in enumerate(rows):\n",
    "        row = (idx, *row)\n",
    "        return_string += \"\\n\" + str(row)\n",
    "    \n",
    "    # Close the connection\n",
    "    conn.close()\n",
    "    return return_string\n",
    "\n",
    "def create_random_database():\n",
    "    import sqlite3\n",
    "    import random\n",
    "\n",
    "    # Connect to SQLite database (or create it if it doesn't exist)\n",
    "    conn = sqlite3.connect('toy_database.db')\n",
    "    \n",
    "    # Create a cursor object using the cursor() method\n",
    "    cursor = conn.cursor()\n",
    "    \n",
    "    # Create table\n",
    "    cursor.execute('''CREATE TABLE IF NOT EXISTS toys\n",
    "                   (id INTEGER PRIMARY KEY, name TEXT, price REAL)''')\n",
    "    \n",
    "    # Define some random prefixes and suffixes for toy names\n",
    "    prefixes = ['Magic', 'Super', 'Wonder', 'Mighty', 'Happy', 'Crazy']\n",
    "    suffixes = ['Bear', 'Car', 'Doll', 'Train', 'Dragon', 'Robot']\n",
    "    \n",
    "    # Insert 100 sample data rows with random names\n",
    "    for i in range(1, 101):\n",
    "        toy_name = random.choice(prefixes) + ' ' + random.choice(suffixes)\n",
    "        toy_price = round(random.uniform(5, 20), 2)  # Random price between 5 and 20\n",
    "        cursor.execute('INSERT INTO toys (name, price) VALUES (?, ?)', (toy_name, toy_price))\n",
    "    \n",
    "    # Commit the transaction\n",
    "    conn.commit()\n",
    "    \n",
    "    # Query the database\n",
    "    cursor.execute('SELECT * FROM toys')\n",
    "    print(\"Toys in database:\")\n",
    "    for row in cursor.fetchall():\n",
    "        print(row)\n",
    "    \n",
    "    # Close the connection\n",
    "    conn.close()"
   ]
  },
  {
   "cell_type": "code",
   "execution_count": 7,
   "metadata": {},
   "outputs": [
    {
     "data": {
      "text/plain": [
       "'I\\'m sorry, but I don\\'t have any information about a specific \"R1\" thing that was announced by Rabbit. It\\'s possible that you may have misspoken or misunderstood the information you received. If you could provide more context or clarify your question, I would be happy to try and help you.'"
      ]
     },
     "execution_count": 7,
     "metadata": {},
     "output_type": "execute_result"
    }
   ],
   "source": [
    "question = \"Hey, can you tell me more about this R1 thing that was announced by Rabbit? \"\n",
    "\n",
    "no_function_calling_prompt = \\\n",
    "f\"\"\"\n",
    "<s> [INST] {question} [/INST]\n",
    "\"\"\"\n",
    "query_raven(no_function_calling_prompt)"
   ]
  },
  {
   "cell_type": "code",
   "execution_count": 6,
   "metadata": {},
   "outputs": [],
   "source": [
    "import os\n",
    "\n",
    "\n",
    "def do_web_search(full_user_prompt: str, num_results: int = 5):\n",
    "    API_URL = f'{os.getenv(\"DLAI_TAVILY_BASE_URL\", \"https://api.tavily.com\")}/search'\n",
    "    payload = {\n",
    "        \"api_key\": os.environ[\"TAVILY_API_KEY\"],\n",
    "        \"query\": full_user_prompt,\n",
    "        \"search_depth\": \"basic\",\n",
    "        \"include_answer\": False,\n",
    "        \"include_images\": False,\n",
    "        \"include_raw_content\": False,\n",
    "        \"max_results\": num_results,\n",
    "        \"include_domains\": [],\n",
    "        \"exclude_domains\": [],\n",
    "    }\n",
    "    import requests\n",
    "\n",
    "    response = requests.post(API_URL, json=payload)\n",
    "    response = response.json()\n",
    "    all_results = \"\\n\\n\".join(item[\"content\"] for item in response[\"results\"])\n",
    "    return all_results"
   ]
  },
  {
   "cell_type": "code",
   "execution_count": 8,
   "metadata": {},
   "outputs": [
    {
     "name": "stdout",
     "output_type": "stream",
     "text": [
      "do_web_search(full_user_prompt='R1 thing')\n"
     ]
    }
   ],
   "source": [
    "function_calling_prompt = \"\"\"\n",
    "Function:\n",
    "def do_web_search(full_user_prompt : str, num_results : int = 5):\n",
    "    '''\n",
    "    Searches the web for the user question.\n",
    "    '''\n",
    "\n",
    "Example:\n",
    "User Query: What is the oldest capital in the world?\n",
    "Call: do_web_search(full_user_prompt=\"oldest capital\")\n",
    "\n",
    "User Query: {query}<human_end>\n",
    "\"\"\"\n",
    "fc_result = query_raven(function_calling_prompt.format(query=question))\n",
    "print(fc_result)"
   ]
  },
  {
   "cell_type": "code",
   "execution_count": 14,
   "metadata": {},
   "outputs": [
    {
     "data": {
      "text/plain": [
       "\"Today, Santa Monica-based AI startup rabbit inc. launched r1, a custom-built consumer AI device running on a revolutionary natural-language operating system. r1 was developed to take a leap towards an app-free online experience, by introducing an operating system that navigates all of your apps quickly and efficiently so you don't have to. r1's operating system, rabbit OS, is the first OS ever ...\\n\\nThe Rabbit R1 doesn't run on a conventional operating system with apps. Instead, the software is powered by AI that's been trained to use apps and services on your behalf. Rabbit founder and CEO ...\\n\\nFor now, the R1's feature set is much more straightforward. You can use the device to play music, get answers to questions, translate speech, take notes, summon an Uber, and a few other things.\\n\\nThe Rabbit R1 is an AI-powered gadget that can use your apps for you\\nCES 2024: all the TVs, laptops, smart home gear, and more from the show floor\\nSony brought its new PS5 colors to CES\\nHow Microsoft found a potential new battery material using AI\\nVerge Deals\\n/ Sign up for Verge Deals to get deals on products we've tested sent to your inbox daily.\\n The Rabbit R1 is an AI-powered gadget that can use your apps for you\\nThe Rabbit R1 is an AI-powered gadget that can use your apps for you\\nPowered by a ‘Large Action Model,’ the $199 R1 isn’t just a chatbot —\\xa0it’s a device for doing almost anything. It’s a standalone gadget about half the size of an iPhone with a 2.88-inch touchscreen, a rotating camera for taking photos and videos, and a scroll wheel / button you press to navigate around or talk to the device’s built-in assistant. The R1’s on-screen interface will be a series of category-based cards, for music or transportation or video chats, and Lyu says the screen mostly exists so that you can verify the model’s output on your own.\\n The R1 also has a dedicated training mode, which you can use to teach the device how to do something, and it will supposedly be able to repeat the action on its own going forward.\\n\\nThe size probably isn’t bad (David Pierce has seen the R1, and says it’s not that much thicker than an iPhone), but the keynote didn’t convince me that this voice assistant is worth my time, or that allowing a “Large Action Model” access to my accounts is a good idea in terms of privacy or security.\\n Jan 9\\nDavid Pierce\\nThe Rabbit R1 is an AI-powered gadget that can use your apps for you\\nJesse Lyu, the CEO and founder of an AI startup called Rabbit, says he doesn’t want to replace your smartphone. Jan 17\\nWes Davis\\nPerplexity AI, a company that uses generative AI for search, will co-announce something it’s working on with Rabbit, the company behind the fast-selling Rabbit R1 AI not-a-phone gadget, tomorrow at 2PM PT / 5PM ET.\\n And finally, we talk about the future of cars, and what it means that the inside of the car suddenly seems to matter way more than the outside.\\n On this episode of The Vergecast, recorded from the Kia Connected Home right in the middle of the Las Vegas Convention Center parking lot, we discuss all the most important gadget stories from this year’s show.\""
      ]
     },
     "execution_count": 14,
     "metadata": {},
     "output_type": "execute_result"
    }
   ],
   "source": [
    "result = eval(fc_result)\n",
    "result"
   ]
  },
  {
   "cell_type": "code",
   "execution_count": 15,
   "metadata": {},
   "outputs": [],
   "source": [
    "full_prompt = \\\n",
    "f\"\"\"\n",
    "<s> [INST]\n",
    "{result}\n",
    "\n",
    "Use the information above to answer the following question concisely.\n",
    "\n",
    "Question:\n",
    "{question} [/INST]\n",
    "\"\"\"\n"
   ]
  },
  {
   "cell_type": "code",
   "execution_count": 16,
   "metadata": {},
   "outputs": [],
   "source": [
    "grounded_response = query_raven(full_prompt.format(question = question))\n"
   ]
  },
  {
   "cell_type": "code",
   "execution_count": 17,
   "metadata": {},
   "outputs": [
    {
     "name": "stdout",
     "output_type": "stream",
     "text": [
      "The R1 is an AI-powered gadget that can use your apps for you. It's a standalone gadget about half the size of an iPhone with a 2.88-inch touchscreen, a rotating camera for taking photos and videos, and a scroll wheel / button you press to navigate around or talk to the device's built-in assistant. The R1's on-screen interface will be a series of category-based cards, for music or transportation or video chats, and Lyu says the screen mostly exists so that you can verify the model's output on your own.\n",
      "\n",
      "The R1 also has a dedicated training mode, which you can use to teach the device how to do something, and it will supposedly be able to repeat the action on its own going forward.\n",
      "\n",
      "The size probably isn’t bad (David Pierce has seen the R1, and says it’s not that much thicker than an iPhone), but the keynote didn’t convince me that this voice assistant is worth my time, or that allowing a “Large Action Model” access to my accounts is a good idea in terms of privacy or security.\n"
     ]
    }
   ],
   "source": [
    "print (grounded_response)"
   ]
  },
  {
   "cell_type": "code",
   "execution_count": 18,
   "metadata": {},
   "outputs": [
    {
     "name": "stdout",
     "output_type": "stream",
     "text": [
      "Toys in database:\n",
      "(1, 'Mighty Robot', 11.45)\n",
      "(2, 'Wonder Bear', 15.69)\n",
      "(3, 'Super Bear', 19.83)\n",
      "(4, 'Crazy Bear', 6.19)\n",
      "(5, 'Magic Bear', 11.99)\n",
      "(6, 'Magic Doll', 19.37)\n",
      "(7, 'Super Train', 8.84)\n",
      "(8, 'Super Robot', 17.3)\n",
      "(9, 'Crazy Doll', 15.87)\n",
      "(10, 'Happy Robot', 12.12)\n",
      "(11, 'Crazy Doll', 16.5)\n",
      "(12, 'Wonder Car', 17.74)\n",
      "(13, 'Wonder Robot', 14.57)\n",
      "(14, 'Magic Train', 13.98)\n",
      "(15, 'Magic Bear', 8.33)\n",
      "(16, 'Super Dragon', 5.31)\n",
      "(17, 'Super Bear', 7.28)\n",
      "(18, 'Magic Car', 16.49)\n",
      "(19, 'Crazy Dragon', 6.41)\n",
      "(20, 'Crazy Robot', 6.64)\n",
      "(21, 'Magic Train', 12.44)\n",
      "(22, 'Mighty Doll', 11.94)\n",
      "(23, 'Wonder Car', 11.1)\n",
      "(24, 'Crazy Robot', 6.7)\n",
      "(25, 'Magic Dragon', 13.83)\n",
      "(26, 'Super Train', 11.15)\n",
      "(27, 'Magic Doll', 12.66)\n",
      "(28, 'Mighty Robot', 11.8)\n",
      "(29, 'Super Doll', 19.11)\n",
      "(30, 'Happy Car', 17.18)\n",
      "(31, 'Wonder Dragon', 15.5)\n",
      "(32, 'Happy Dragon', 12.82)\n",
      "(33, 'Crazy Bear', 15.1)\n",
      "(34, 'Super Bear', 15.6)\n",
      "(35, 'Crazy Car', 13.93)\n",
      "(36, 'Happy Robot', 17.44)\n",
      "(37, 'Crazy Robot', 8.18)\n",
      "(38, 'Happy Train', 11.34)\n",
      "(39, 'Crazy Train', 8.61)\n",
      "(40, 'Super Dragon', 14.14)\n",
      "(41, 'Happy Dragon', 14.0)\n",
      "(42, 'Mighty Robot', 14.49)\n",
      "(43, 'Happy Train', 7.19)\n",
      "(44, 'Wonder Robot', 6.14)\n",
      "(45, 'Magic Robot', 10.38)\n",
      "(46, 'Crazy Robot', 15.47)\n",
      "(47, 'Happy Dragon', 17.68)\n",
      "(48, 'Magic Car', 11.53)\n",
      "(49, 'Super Car', 15.88)\n",
      "(50, 'Super Bear', 14.45)\n",
      "(51, 'Wonder Dragon', 5.58)\n",
      "(52, 'Happy Bear', 10.9)\n",
      "(53, 'Happy Car', 19.68)\n",
      "(54, 'Wonder Car', 15.36)\n",
      "(55, 'Wonder Doll', 13.93)\n",
      "(56, 'Magic Doll', 17.23)\n",
      "(57, 'Magic Robot', 6.4)\n",
      "(58, 'Magic Dragon', 17.43)\n",
      "(59, 'Happy Car', 18.44)\n",
      "(60, 'Super Car', 10.99)\n",
      "(61, 'Super Robot', 6.56)\n",
      "(62, 'Crazy Dragon', 13.95)\n",
      "(63, 'Super Bear', 17.79)\n",
      "(64, 'Mighty Train', 5.91)\n",
      "(65, 'Happy Dragon', 9.18)\n",
      "(66, 'Super Train', 18.24)\n",
      "(67, 'Super Dragon', 16.29)\n",
      "(68, 'Magic Bear', 19.28)\n",
      "(69, 'Crazy Bear', 12.41)\n",
      "(70, 'Mighty Train', 5.66)\n",
      "(71, 'Magic Car', 14.17)\n",
      "(72, 'Happy Robot', 16.18)\n",
      "(73, 'Magic Robot', 9.95)\n",
      "(74, 'Crazy Robot', 11.17)\n",
      "(75, 'Wonder Train', 13.62)\n",
      "(76, 'Magic Dragon', 5.6)\n",
      "(77, 'Happy Train', 15.67)\n",
      "(78, 'Super Robot', 9.84)\n",
      "(79, 'Happy Train', 13.12)\n",
      "(80, 'Magic Train', 8.83)\n",
      "(81, 'Mighty Train', 8.39)\n",
      "(82, 'Wonder Doll', 18.47)\n",
      "(83, 'Happy Robot', 6.1)\n",
      "(84, 'Crazy Dragon', 5.81)\n",
      "(85, 'Super Train', 6.19)\n",
      "(86, 'Mighty Train', 6.22)\n",
      "(87, 'Super Dragon', 6.98)\n",
      "(88, 'Magic Robot', 11.68)\n",
      "(89, 'Mighty Robot', 10.94)\n",
      "(90, 'Crazy Doll', 5.82)\n",
      "(91, 'Wonder Dragon', 15.4)\n",
      "(92, 'Crazy Train', 6.36)\n",
      "(93, 'Super Bear', 12.52)\n",
      "(94, 'Happy Car', 14.39)\n",
      "(95, 'Super Train', 16.84)\n",
      "(96, 'Crazy Car', 5.95)\n",
      "(97, 'Magic Robot', 13.39)\n",
      "(98, 'Magic Train', 11.0)\n",
      "(99, 'Crazy Car', 15.49)\n",
      "(100, 'Magic Train', 14.57)\n"
     ]
    }
   ],
   "source": [
    "create_random_database()"
   ]
  },
  {
   "cell_type": "code",
   "execution_count": 19,
   "metadata": {},
   "outputs": [],
   "source": [
    "question = \"What is the most expensive item we currently sell?\""
   ]
  },
  {
   "cell_type": "code",
   "execution_count": 20,
   "metadata": {},
   "outputs": [
    {
     "name": "stdout",
     "output_type": "stream",
     "text": [
      "LLM's function call: execute_sql(sql_code='SELECT name, price FROM toys ORDER BY price DESC LIMIT 1')\n"
     ]
    }
   ],
   "source": [
    "schema = \\\n",
    "\"\"\"\n",
    "CREATE TABLE IF NOT EXISTS toys (\n",
    "    id INTEGER PRIMARY KEY,\n",
    "    name TEXT,\n",
    "    price REAL\n",
    ");\n",
    "\"\"\"\n",
    "\n",
    "raven_prompt = \\\n",
    "f'''\n",
    "Function:\n",
    "def execute_sql(sql_code : str):\n",
    "  \"\"\"\n",
    "  Runs sql code for a company internal database\n",
    "  \"\"\"\n",
    "\n",
    "Schema: {schema}\n",
    "User Query: {question}\n",
    "'''\n",
    "\n",
    "output = query_raven(raven_prompt)\n",
    "print (f\"LLM's function call: {output}\")\n",
    "database_result = eval(output)"
   ]
  },
  {
   "cell_type": "code",
   "execution_count": 21,
   "metadata": {},
   "outputs": [
    {
     "name": "stdout",
     "output_type": "stream",
     "text": [
      "The most expensive item we currently sell is Super Bear, which costs 19.83.\n"
     ]
    }
   ],
   "source": [
    "full_prompt = \\\n",
    "f\"\"\"\n",
    "<s> [INST]\n",
    "{database_result}\n",
    "\n",
    "Use the information above to answer the following question concisely.\n",
    "\n",
    "Question:\n",
    "{question} [/INST]\n",
    "\"\"\"\n",
    "grounded_response = query_raven(full_prompt)\n",
    "print (grounded_response)"
   ]
  },
  {
   "cell_type": "code",
   "execution_count": 22,
   "metadata": {},
   "outputs": [],
   "source": [
    "import sqlite3\n",
    "import random\n",
    "\n",
    "# Internal database name setting\n",
    "DB_NAME = 'toy_database.db'\n",
    "\n",
    "# Connect to the database\n",
    "def connect_db():\n",
    "    return sqlite3.connect(DB_NAME)"
   ]
  },
  {
   "cell_type": "code",
   "execution_count": 23,
   "metadata": {},
   "outputs": [],
   "source": [
    "# List all toys\n",
    "def list_all_toys():\n",
    "    with connect_db() as conn:\n",
    "        cursor = conn.execute('SELECT * FROM toys')\n",
    "        return cursor.fetchall()\n"
   ]
  },
  {
   "cell_type": "code",
   "execution_count": 24,
   "metadata": {},
   "outputs": [],
   "source": [
    "# Find toy by name prefix\n",
    "def find_toy_by_prefix(prefix):\n",
    "    with connect_db() as conn:\n",
    "        query = 'SELECT * FROM toys WHERE name LIKE ?'\n",
    "        cursor = conn.execute(query, (prefix + '%',))\n",
    "        return cursor.fetchall()\n"
   ]
  },
  {
   "cell_type": "code",
   "execution_count": 25,
   "metadata": {},
   "outputs": [],
   "source": [
    "# Find toys in a price range\n",
    "def find_toys_in_price_range(low_price, high_price):\n",
    "    with connect_db() as conn:\n",
    "        query = 'SELECT * FROM toys WHERE price BETWEEN ? AND ?'\n",
    "        cursor = conn.execute(query, (low_price, high_price))\n",
    "        return cursor.fetchall()"
   ]
  },
  {
   "cell_type": "code",
   "execution_count": 26,
   "metadata": {},
   "outputs": [],
   "source": [
    "# Get a random selection of toys\n",
    "def get_random_toys(count=5):\n",
    "    with connect_db() as conn:\n",
    "        cursor = conn.execute('SELECT * FROM toys')\n",
    "        all_toys = cursor.fetchall()\n",
    "        return random.sample(all_toys, min(count, len(all_toys)))"
   ]
  },
  {
   "cell_type": "code",
   "execution_count": 27,
   "metadata": {},
   "outputs": [],
   "source": [
    "# Function to get the most expensive toy\n",
    "def get_most_expensive_toy(count=1):\n",
    "    with connect_db() as conn:\n",
    "        cursor = conn.execute(f'SELECT * FROM toys ORDER BY price DESC LIMIT {count}')\n",
    "        return cursor.fetchone()\n"
   ]
  },
  {
   "cell_type": "code",
   "execution_count": 28,
   "metadata": {},
   "outputs": [],
   "source": [
    "# Function to get the cheapest toy\n",
    "def get_cheapest_toy(count=1):\n",
    "    with connect_db() as conn:\n",
    "        cursor = conn.execute('SELECT * FROM toys ORDER BY price ASC LIMIT {count}')\n",
    "        return cursor.fetchone()"
   ]
  },
  {
   "cell_type": "code",
   "execution_count": null,
   "metadata": {},
   "outputs": [],
   "source": []
  },
  {
   "cell_type": "code",
   "execution_count": null,
   "metadata": {},
   "outputs": [],
   "source": []
  },
  {
   "cell_type": "code",
   "execution_count": 29,
   "metadata": {},
   "outputs": [
    {
     "name": "stdout",
     "output_type": "stream",
     "text": [
      "get_most_expensive_toy(count=1)\n"
     ]
    }
   ],
   "source": [
    "raven_prompt = \\\n",
    "f'''\n",
    "Function:\n",
    "def list_all_toys():\n",
    "    \"\"\"\n",
    "    Retrieves a list of all toys from the database. This function does not take any parameters.\n",
    "    Returns: A list of tuples, where each tuple represents a toy with all its attributes (id, name, price).\n",
    "    \"\"\"\n",
    "\n",
    "Function:\n",
    "def find_toy_by_prefix(prefix):\n",
    "    \"\"\"\n",
    "    Searches for and retrieves toys whose names start with a specified prefix.\n",
    "    Parameters:\n",
    "    - prefix (str): The prefix to search for in toy names.\n",
    "    Returns: A list of tuples, where each tuple represents a toy that matches the prefix criteria.\n",
    "    \"\"\"\n",
    "\n",
    "Function:\n",
    "def find_toys_in_price_range(low_price, high_price):\n",
    "    \"\"\"\n",
    "    Finds and returns toys within a specified price range.\n",
    "    Parameters:\n",
    "    - low_price (float): The lower bound of the price range.\n",
    "    - high_price (float): The upper bound of the price range.\n",
    "    Returns: A list of tuples, each representing a toy whose price falls within the specified range.\n",
    "    \"\"\"\n",
    "\n",
    "Function:\n",
    "def get_random_toys():\n",
    "    \"\"\"\n",
    "    Selects and returns a random set of toys from the database, simulating a \"featured toys\" list.\n",
    "\n",
    "    Returns: A list of tuples, each representing a randomly selected toy. The number of toys returned is up to the specified count.\n",
    "    \"\"\"\n",
    "\n",
    "Function:\n",
    "def get_most_expensive_toy(count : int):\n",
    "    \"\"\"\n",
    "    Retrieves the most expensive toy from the database.\n",
    "    This function does not take any parameters.\n",
    "\n",
    "    Returns: A tuple representing the most expensive toy, including its id, name, and price.\n",
    "    \"\"\"\n",
    "\n",
    "Function:\n",
    "def get_cheapest_toy(count : int):\n",
    "    \"\"\"\n",
    "    Finds and retrieves the cheapest toy in the database.\n",
    "    This function does not take any parameters.\n",
    "\n",
    "    Returns: A tuple representing the cheapest toy, including its id, name, and price.\n",
    "    \"\"\"\n",
    "\n",
    "User Query: {question}<human_end>\n",
    "\n",
    "'''\n",
    "\n",
    "output = query_raven(raven_prompt)\n",
    "print (output)\n",
    "results = eval(output)"
   ]
  },
  {
   "cell_type": "code",
   "execution_count": 30,
   "metadata": {},
   "outputs": [
    {
     "name": "stdout",
     "output_type": "stream",
     "text": [
      "The most expensive item we currently sell is Super Bear, which costs 19.83.\n"
     ]
    }
   ],
   "source": [
    "full_prompt = \\\n",
    "f\"\"\"\n",
    "<s> [INST]\n",
    "{database_result}\n",
    "\n",
    "Use the information above to answer the following question in a single sentence.\n",
    "\n",
    "Question:\n",
    "{question} [/INST]\n",
    "\"\"\"\n",
    "grounded_response = query_raven(full_prompt)\n",
    "print (grounded_response)"
   ]
  }
 ],
 "metadata": {
  "kernelspec": {
   "display_name": ".venv",
   "language": "python",
   "name": "python3"
  },
  "language_info": {
   "codemirror_mode": {
    "name": "ipython",
    "version": 3
   },
   "file_extension": ".py",
   "mimetype": "text/x-python",
   "name": "python",
   "nbconvert_exporter": "python",
   "pygments_lexer": "ipython3",
   "version": "3.12.3"
  }
 },
 "nbformat": 4,
 "nbformat_minor": 2
}
