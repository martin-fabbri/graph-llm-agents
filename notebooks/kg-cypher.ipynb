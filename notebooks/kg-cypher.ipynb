{
 "cells": [
  {
   "cell_type": "code",
   "execution_count": 1,
   "metadata": {},
   "outputs": [],
   "source": [
    "from dotenv import load_dotenv\n",
    "import os\n",
    "\n",
    "from langchain_community.graphs import Neo4jGraph\n",
    "\n",
    "# Warning control\n",
    "import warnings\n",
    "warnings.filterwarnings(\"ignore\")"
   ]
  },
  {
   "cell_type": "code",
   "execution_count": 2,
   "metadata": {},
   "outputs": [],
   "source": [
    "load_dotenv()\n",
    "NEO4J_URI = os.getenv('NEO4J_URI')\n",
    "NEO4J_USERNAME = os.getenv('NEO4J_USERNAME')\n",
    "NEO4J_PASSWORD = os.getenv('NEO4J_PASSWORD')\n",
    "NEO4J_DATABASE = os.getenv('NEO4J_DATABASE')"
   ]
  },
  {
   "cell_type": "code",
   "execution_count": 3,
   "metadata": {},
   "outputs": [],
   "source": [
    "\n",
    "kg = Neo4jGraph(\n",
    "    url=NEO4J_URI, username=NEO4J_USERNAME, password=NEO4J_PASSWORD, database=NEO4J_DATABASE\n",
    ")"
   ]
  },
  {
   "cell_type": "code",
   "execution_count": 4,
   "metadata": {},
   "outputs": [],
   "source": [
    "cypher = \"\"\"\n",
    "  MATCH (n) \n",
    "  RETURN count(n)\n",
    "  \"\"\""
   ]
  },
  {
   "cell_type": "code",
   "execution_count": 5,
   "metadata": {},
   "outputs": [
    {
     "data": {
      "text/plain": [
       "[{'count(n)': 342}]"
      ]
     },
     "execution_count": 5,
     "metadata": {},
     "output_type": "execute_result"
    }
   ],
   "source": [
    "result = kg.query(cypher)\n",
    "result"
   ]
  },
  {
   "cell_type": "code",
   "execution_count": 6,
   "metadata": {},
   "outputs": [
    {
     "data": {
      "text/plain": [
       "[{'numberOfMovies': 76}]"
      ]
     },
     "execution_count": 6,
     "metadata": {},
     "output_type": "execute_result"
    }
   ],
   "source": [
    "cypher = \"\"\"\n",
    "  MATCH (m:Movie) \n",
    "  RETURN count(m) AS numberOfMovies\n",
    "  \"\"\"\n",
    "kg.query(cypher)"
   ]
  },
  {
   "cell_type": "code",
   "execution_count": 7,
   "metadata": {},
   "outputs": [
    {
     "data": {
      "text/plain": [
       "[{'numberOfPeople': 266}]"
      ]
     },
     "execution_count": 7,
     "metadata": {},
     "output_type": "execute_result"
    }
   ],
   "source": [
    "cypher = \"\"\"\n",
    "  MATCH (people:Person) \n",
    "  RETURN count(people) AS numberOfPeople\n",
    "  \"\"\"\n",
    "kg.query(cypher)"
   ]
  },
  {
   "cell_type": "code",
   "execution_count": 8,
   "metadata": {},
   "outputs": [
    {
     "data": {
      "text/plain": [
       "[{'tom': {'born': 1956, 'name': 'Tom Hanks'}},\n",
       " {'tom': {'born': 1956, 'name': 'Tom Hanks'}}]"
      ]
     },
     "execution_count": 8,
     "metadata": {},
     "output_type": "execute_result"
    }
   ],
   "source": [
    "cypher = \"\"\"\n",
    "  MATCH (tom:Person {name:\"Tom Hanks\"}) \n",
    "  RETURN tom\n",
    "  \"\"\"\n",
    "kg.query(cypher)"
   ]
  },
  {
   "cell_type": "code",
   "execution_count": 13,
   "metadata": {},
   "outputs": [
    {
     "data": {
      "text/plain": [
       "[]"
      ]
     },
     "execution_count": 13,
     "metadata": {},
     "output_type": "execute_result"
    }
   ],
   "source": [
    "cypher = \"\"\"\n",
    "    MATCH (brad:Person {name:\"Brad Pitt\"})\n",
    "    RETURN brad\n",
    "\"\"\"\n",
    "kg.query(cypher)"
   ]
  },
  {
   "cell_type": "code",
   "execution_count": 10,
   "metadata": {},
   "outputs": [
    {
     "data": {
      "text/plain": [
       "[{'cloudAtlas': {'tagline': 'Everything is connected',\n",
       "   'title': 'Cloud Atlas',\n",
       "   'released': 2012}},\n",
       " {'cloudAtlas': {'tagline': 'Everything is connected',\n",
       "   'title': 'Cloud Atlas',\n",
       "   'released': 2012}}]"
      ]
     },
     "execution_count": 10,
     "metadata": {},
     "output_type": "execute_result"
    }
   ],
   "source": [
    "cypher = \"\"\"\n",
    "  MATCH (cloudAtlas:Movie {title:\"Cloud Atlas\"}) \n",
    "  RETURN cloudAtlas\n",
    "  \"\"\"\n",
    "kg.query(cypher)"
   ]
  },
  {
   "cell_type": "code",
   "execution_count": 11,
   "metadata": {},
   "outputs": [
    {
     "data": {
      "text/plain": [
       "[{'cloudAtlas.released': 2012}, {'cloudAtlas.released': 2012}]"
      ]
     },
     "execution_count": 11,
     "metadata": {},
     "output_type": "execute_result"
    }
   ],
   "source": [
    "cypher = \"\"\"\n",
    "  MATCH (cloudAtlas:Movie {title:\"Cloud Atlas\"}) \n",
    "  RETURN cloudAtlas.released\n",
    "  \"\"\"\n",
    "kg.query(cypher)"
   ]
  },
  {
   "cell_type": "code",
   "execution_count": 12,
   "metadata": {},
   "outputs": [
    {
     "data": {
      "text/plain": [
       "[{'cloudAtlas.released': 2012,\n",
       "  'cloudAtlas.tagline': 'Everything is connected'},\n",
       " {'cloudAtlas.released': 2012,\n",
       "  'cloudAtlas.tagline': 'Everything is connected'}]"
      ]
     },
     "execution_count": 12,
     "metadata": {},
     "output_type": "execute_result"
    }
   ],
   "source": [
    "cypher = \"\"\"\n",
    "  MATCH (cloudAtlas:Movie {title:\"Cloud Atlas\"}) \n",
    "  RETURN cloudAtlas.released, cloudAtlas.tagline\n",
    "  \"\"\"\n",
    "kg.query(cypher)"
   ]
  },
  {
   "cell_type": "code",
   "execution_count": 16,
   "metadata": {},
   "outputs": [
    {
     "data": {
      "text/plain": [
       "[{'nineties.title': 'The Matrix'},\n",
       " {'nineties.title': \"The Devil's Advocate\"},\n",
       " {'nineties.title': 'A Few Good Men'},\n",
       " {'nineties.title': 'As Good as It Gets'},\n",
       " {'nineties.title': 'What Dreams May Come'},\n",
       " {'nineties.title': 'Snow Falling on Cedars'},\n",
       " {'nineties.title': \"You've Got Mail\"},\n",
       " {'nineties.title': 'Sleepless in Seattle'},\n",
       " {'nineties.title': 'Joe Versus the Volcano'},\n",
       " {'nineties.title': 'When Harry Met Sally'},\n",
       " {'nineties.title': 'That Thing You Do'},\n",
       " {'nineties.title': 'The Birdcage'},\n",
       " {'nineties.title': 'Unforgiven'},\n",
       " {'nineties.title': 'Johnny Mnemonic'},\n",
       " {'nineties.title': 'The Green Mile'},\n",
       " {'nineties.title': 'Hoffa'},\n",
       " {'nineties.title': 'Apollo 13'},\n",
       " {'nineties.title': 'Twister'},\n",
       " {'nineties.title': 'Bicentennial Man'},\n",
       " {'nineties.title': 'A League of Their Own'},\n",
       " {'nineties.title': 'The Matrix'},\n",
       " {'nineties.title': \"The Devil's Advocate\"},\n",
       " {'nineties.title': 'A Few Good Men'},\n",
       " {'nineties.title': 'As Good as It Gets'},\n",
       " {'nineties.title': 'What Dreams May Come'},\n",
       " {'nineties.title': 'Snow Falling on Cedars'},\n",
       " {'nineties.title': \"You've Got Mail\"},\n",
       " {'nineties.title': 'Sleepless in Seattle'},\n",
       " {'nineties.title': 'Joe Versus the Volcano'},\n",
       " {'nineties.title': 'When Harry Met Sally'},\n",
       " {'nineties.title': 'That Thing You Do'},\n",
       " {'nineties.title': 'The Birdcage'},\n",
       " {'nineties.title': 'Unforgiven'},\n",
       " {'nineties.title': 'Johnny Mnemonic'},\n",
       " {'nineties.title': 'The Green Mile'},\n",
       " {'nineties.title': 'Hoffa'},\n",
       " {'nineties.title': 'Apollo 13'},\n",
       " {'nineties.title': 'Twister'},\n",
       " {'nineties.title': 'Bicentennial Man'},\n",
       " {'nineties.title': 'A League of Their Own'}]"
      ]
     },
     "execution_count": 16,
     "metadata": {},
     "output_type": "execute_result"
    }
   ],
   "source": [
    "cypher = \"\"\"\n",
    "  MATCH (nineties:Movie)\n",
    "  WHERE nineties.released >= 1990 AND nineties.released < 2000\n",
    "  RETURN nineties.title\n",
    "  \"\"\"\n",
    "kg.query(cypher)"
   ]
  },
  {
   "cell_type": "code",
   "execution_count": 18,
   "metadata": {},
   "outputs": [
    {
     "data": {
      "text/plain": [
       "[{'actor.name': 'Keanu Reeves', 'movie.title': 'The Matrix'},\n",
       " {'actor.name': 'Carrie-Anne Moss', 'movie.title': 'The Matrix'},\n",
       " {'actor.name': 'Laurence Fishburne', 'movie.title': 'The Matrix'},\n",
       " {'actor.name': 'Hugo Weaving', 'movie.title': 'The Matrix'},\n",
       " {'actor.name': 'Emil Eifrem', 'movie.title': 'The Matrix'},\n",
       " {'actor.name': 'Keanu Reeves', 'movie.title': 'The Matrix Reloaded'},\n",
       " {'actor.name': 'Carrie-Anne Moss', 'movie.title': 'The Matrix Reloaded'},\n",
       " {'actor.name': 'Laurence Fishburne', 'movie.title': 'The Matrix Reloaded'},\n",
       " {'actor.name': 'Hugo Weaving', 'movie.title': 'The Matrix Reloaded'},\n",
       " {'actor.name': 'Keanu Reeves', 'movie.title': 'The Matrix Revolutions'}]"
      ]
     },
     "execution_count": 18,
     "metadata": {},
     "output_type": "execute_result"
    }
   ],
   "source": [
    "cypher = \"\"\"\n",
    "  MATCH (actor:Person)-[:ACTED_IN]->(movie:Movie)\n",
    "  RETURN actor.name, movie.title LIMIT 10\n",
    "  \"\"\"\n",
    "kg.query(cypher)"
   ]
  },
  {
   "cell_type": "code",
   "execution_count": 19,
   "metadata": {},
   "outputs": [
    {
     "data": {
      "text/plain": [
       "[{'tom.name': 'Tom Hanks', 'tomMovie.title': \"You've Got Mail\"},\n",
       " {'tom.name': 'Tom Hanks', 'tomMovie.title': 'Sleepless in Seattle'},\n",
       " {'tom.name': 'Tom Hanks', 'tomMovie.title': 'Joe Versus the Volcano'},\n",
       " {'tom.name': 'Tom Hanks', 'tomMovie.title': 'That Thing You Do'},\n",
       " {'tom.name': 'Tom Hanks', 'tomMovie.title': 'Cloud Atlas'},\n",
       " {'tom.name': 'Tom Hanks', 'tomMovie.title': 'The Da Vinci Code'},\n",
       " {'tom.name': 'Tom Hanks', 'tomMovie.title': 'The Green Mile'},\n",
       " {'tom.name': 'Tom Hanks', 'tomMovie.title': 'Apollo 13'},\n",
       " {'tom.name': 'Tom Hanks', 'tomMovie.title': 'Cast Away'},\n",
       " {'tom.name': 'Tom Hanks', 'tomMovie.title': \"Charlie Wilson's War\"}]"
      ]
     },
     "execution_count": 19,
     "metadata": {},
     "output_type": "execute_result"
    }
   ],
   "source": [
    "cypher = \"\"\"\n",
    "  MATCH (tom:Person {name: \"Tom Hanks\"})-[:ACTED_IN]->(tomMovie:Movie)\n",
    "  RETURN tom.name, tomMovie.title LIMIT 10\n",
    "  \"\"\"\n",
    "kg.query(cypher)"
   ]
  },
  {
   "cell_type": "code",
   "execution_count": 20,
   "metadata": {},
   "outputs": [
    {
     "data": {
      "text/plain": [
       "[{'m.title': \"You've Got Mail\", 'coActors.name': 'Meg Ryan'},\n",
       " {'m.title': \"You've Got Mail\", 'coActors.name': 'Greg Kinnear'},\n",
       " {'m.title': \"You've Got Mail\", 'coActors.name': 'Parker Posey'},\n",
       " {'m.title': \"You've Got Mail\", 'coActors.name': 'Dave Chappelle'},\n",
       " {'m.title': \"You've Got Mail\", 'coActors.name': 'Steve Zahn'},\n",
       " {'m.title': 'Sleepless in Seattle', 'coActors.name': 'Meg Ryan'},\n",
       " {'m.title': 'Sleepless in Seattle', 'coActors.name': 'Rita Wilson'},\n",
       " {'m.title': 'Sleepless in Seattle', 'coActors.name': 'Bill Pullman'},\n",
       " {'m.title': 'Sleepless in Seattle', 'coActors.name': 'Victor Garber'},\n",
       " {'m.title': 'Sleepless in Seattle', 'coActors.name': \"Rosie O'Donnell\"},\n",
       " {'m.title': 'Joe Versus the Volcano', 'coActors.name': 'Meg Ryan'},\n",
       " {'m.title': 'Joe Versus the Volcano', 'coActors.name': 'Nathan Lane'},\n",
       " {'m.title': 'That Thing You Do', 'coActors.name': 'Charlize Theron'},\n",
       " {'m.title': 'That Thing You Do', 'coActors.name': 'Liv Tyler'},\n",
       " {'m.title': 'Cloud Atlas', 'coActors.name': 'Hugo Weaving'},\n",
       " {'m.title': 'Cloud Atlas', 'coActors.name': 'Halle Berry'},\n",
       " {'m.title': 'Cloud Atlas', 'coActors.name': 'Jim Broadbent'},\n",
       " {'m.title': 'The Da Vinci Code', 'coActors.name': 'Ian McKellen'},\n",
       " {'m.title': 'The Da Vinci Code', 'coActors.name': 'Audrey Tautou'},\n",
       " {'m.title': 'The Da Vinci Code', 'coActors.name': 'Paul Bettany'},\n",
       " {'m.title': 'The Green Mile', 'coActors.name': 'Bonnie Hunt'},\n",
       " {'m.title': 'The Green Mile', 'coActors.name': 'James Cromwell'},\n",
       " {'m.title': 'The Green Mile', 'coActors.name': 'Michael Clarke Duncan'},\n",
       " {'m.title': 'The Green Mile', 'coActors.name': 'David Morse'},\n",
       " {'m.title': 'The Green Mile', 'coActors.name': 'Sam Rockwell'},\n",
       " {'m.title': 'The Green Mile', 'coActors.name': 'Gary Sinise'},\n",
       " {'m.title': 'The Green Mile', 'coActors.name': 'Patricia Clarkson'},\n",
       " {'m.title': 'Apollo 13', 'coActors.name': 'Kevin Bacon'},\n",
       " {'m.title': 'Apollo 13', 'coActors.name': 'Gary Sinise'},\n",
       " {'m.title': 'Apollo 13', 'coActors.name': 'Ed Harris'},\n",
       " {'m.title': 'Apollo 13', 'coActors.name': 'Bill Paxton'},\n",
       " {'m.title': 'Cast Away', 'coActors.name': 'Helen Hunt'},\n",
       " {'m.title': \"Charlie Wilson's War\",\n",
       "  'coActors.name': 'Philip Seymour Hoffman'},\n",
       " {'m.title': \"Charlie Wilson's War\", 'coActors.name': 'Julia Roberts'},\n",
       " {'m.title': 'A League of Their Own', 'coActors.name': \"Rosie O'Donnell\"},\n",
       " {'m.title': 'A League of Their Own', 'coActors.name': 'Bill Paxton'},\n",
       " {'m.title': 'A League of Their Own', 'coActors.name': 'Madonna'},\n",
       " {'m.title': 'A League of Their Own', 'coActors.name': 'Geena Davis'},\n",
       " {'m.title': 'A League of Their Own', 'coActors.name': 'Lori Petty'},\n",
       " {'m.title': \"You've Got Mail\", 'coActors.name': 'Meg Ryan'},\n",
       " {'m.title': \"You've Got Mail\", 'coActors.name': 'Greg Kinnear'},\n",
       " {'m.title': \"You've Got Mail\", 'coActors.name': 'Parker Posey'},\n",
       " {'m.title': \"You've Got Mail\", 'coActors.name': 'Dave Chappelle'},\n",
       " {'m.title': \"You've Got Mail\", 'coActors.name': 'Steve Zahn'},\n",
       " {'m.title': 'Sleepless in Seattle', 'coActors.name': 'Meg Ryan'},\n",
       " {'m.title': 'Sleepless in Seattle', 'coActors.name': 'Rita Wilson'},\n",
       " {'m.title': 'Sleepless in Seattle', 'coActors.name': 'Bill Pullman'},\n",
       " {'m.title': 'Sleepless in Seattle', 'coActors.name': 'Victor Garber'},\n",
       " {'m.title': 'Sleepless in Seattle', 'coActors.name': \"Rosie O'Donnell\"},\n",
       " {'m.title': 'Joe Versus the Volcano', 'coActors.name': 'Meg Ryan'},\n",
       " {'m.title': 'Joe Versus the Volcano', 'coActors.name': 'Nathan Lane'},\n",
       " {'m.title': 'That Thing You Do', 'coActors.name': 'Charlize Theron'},\n",
       " {'m.title': 'That Thing You Do', 'coActors.name': 'Liv Tyler'},\n",
       " {'m.title': 'Cloud Atlas', 'coActors.name': 'Hugo Weaving'},\n",
       " {'m.title': 'Cloud Atlas', 'coActors.name': 'Halle Berry'},\n",
       " {'m.title': 'Cloud Atlas', 'coActors.name': 'Jim Broadbent'},\n",
       " {'m.title': 'The Da Vinci Code', 'coActors.name': 'Ian McKellen'},\n",
       " {'m.title': 'The Da Vinci Code', 'coActors.name': 'Audrey Tautou'},\n",
       " {'m.title': 'The Da Vinci Code', 'coActors.name': 'Paul Bettany'},\n",
       " {'m.title': 'The Green Mile', 'coActors.name': 'Bonnie Hunt'},\n",
       " {'m.title': 'The Green Mile', 'coActors.name': 'James Cromwell'},\n",
       " {'m.title': 'The Green Mile', 'coActors.name': 'Michael Clarke Duncan'},\n",
       " {'m.title': 'The Green Mile', 'coActors.name': 'David Morse'},\n",
       " {'m.title': 'The Green Mile', 'coActors.name': 'Sam Rockwell'},\n",
       " {'m.title': 'The Green Mile', 'coActors.name': 'Gary Sinise'},\n",
       " {'m.title': 'The Green Mile', 'coActors.name': 'Patricia Clarkson'},\n",
       " {'m.title': 'Apollo 13', 'coActors.name': 'Kevin Bacon'},\n",
       " {'m.title': 'Apollo 13', 'coActors.name': 'Gary Sinise'},\n",
       " {'m.title': 'Apollo 13', 'coActors.name': 'Ed Harris'},\n",
       " {'m.title': 'Apollo 13', 'coActors.name': 'Bill Paxton'},\n",
       " {'m.title': 'Cast Away', 'coActors.name': 'Helen Hunt'},\n",
       " {'m.title': \"Charlie Wilson's War\",\n",
       "  'coActors.name': 'Philip Seymour Hoffman'},\n",
       " {'m.title': \"Charlie Wilson's War\", 'coActors.name': 'Julia Roberts'},\n",
       " {'m.title': 'A League of Their Own', 'coActors.name': \"Rosie O'Donnell\"},\n",
       " {'m.title': 'A League of Their Own', 'coActors.name': 'Bill Paxton'},\n",
       " {'m.title': 'A League of Their Own', 'coActors.name': 'Madonna'},\n",
       " {'m.title': 'A League of Their Own', 'coActors.name': 'Geena Davis'},\n",
       " {'m.title': 'A League of Their Own', 'coActors.name': 'Lori Petty'}]"
      ]
     },
     "execution_count": 20,
     "metadata": {},
     "output_type": "execute_result"
    }
   ],
   "source": [
    "cypher = \"\"\"\n",
    "  MATCH (tom:Person {name: \"Tom Hanks\"})-[:ACTED_IN]->(m)<-[:ACTED_IN]-(coActors)\n",
    "  RETURN m.title, coActors.name\n",
    "  \"\"\"\n",
    "kg.query(cypher)"
   ]
  },
  {
   "cell_type": "code",
   "execution_count": 24,
   "metadata": {},
   "outputs": [
    {
     "data": {
      "text/plain": [
       "[{'emil.name': 'Emil Eifrem', 'movie.title': 'The Matrix'},\n",
       " {'emil.name': 'Emil Eifrem', 'movie.title': 'The Matrix'}]"
      ]
     },
     "execution_count": 24,
     "metadata": {},
     "output_type": "execute_result"
    }
   ],
   "source": [
    "cypher = \"\"\"\n",
    "  MATCH (emil:Person {name: \"Emil Eifrem\"})-[actedIn:ACTED_IN]->(movie:Movie)\n",
    "  RETURN emil.name, movie.title \n",
    "  \"\"\"\n",
    "kg.query(cypher)"
   ]
  },
  {
   "cell_type": "code",
   "execution_count": 25,
   "metadata": {},
   "outputs": [
    {
     "data": {
      "text/plain": [
       "[]"
      ]
     },
     "execution_count": 25,
     "metadata": {},
     "output_type": "execute_result"
    }
   ],
   "source": [
    "cypher = \"\"\"\n",
    "  MATCH (emil:Person {name: \"Emil Eifrem\"})-[actedIn:ACTED_IN]->(movie:Movie)\n",
    "  DELETE actedIn\n",
    "  \"\"\"\n",
    "kg.query(cypher)"
   ]
  },
  {
   "cell_type": "code",
   "execution_count": 27,
   "metadata": {},
   "outputs": [
    {
     "data": {
      "text/plain": [
       "[{'emil.name': 'Emil Eifrem'}, {'emil.name': 'Emil Eifrem'}]"
      ]
     },
     "execution_count": 27,
     "metadata": {},
     "output_type": "execute_result"
    }
   ],
   "source": [
    "cypher = \"\"\"\n",
    "  MATCH (emil:Person {name: \"Emil Eifrem\"})\n",
    "  RETURN emil.name\n",
    "  \"\"\"\n",
    "kg.query(cypher)"
   ]
  },
  {
   "cell_type": "code",
   "execution_count": 28,
   "metadata": {},
   "outputs": [
    {
     "data": {
      "text/plain": [
       "[{'andreas': {'name': 'Andreas'}}]"
      ]
     },
     "execution_count": 28,
     "metadata": {},
     "output_type": "execute_result"
    }
   ],
   "source": [
    "cypher = \"\"\"\n",
    "  CREATE (andreas:Person {name: \"Andreas\"})\n",
    "  RETURN andreas\n",
    "  \"\"\"\n",
    "kg.query(cypher)"
   ]
  },
  {
   "cell_type": "code",
   "execution_count": 30,
   "metadata": {},
   "outputs": [
    {
     "data": {
      "text/plain": [
       "[{'andreas': {'name': 'Andreas'},\n",
       "  'hasRelationship': ({'name': 'Andreas'},\n",
       "   'WORKS_WITH',\n",
       "   {'name': 'Emil Eifrem'}),\n",
       "  'emil': {'name': 'Emil Eifrem'}}]"
      ]
     },
     "execution_count": 30,
     "metadata": {},
     "output_type": "execute_result"
    }
   ],
   "source": [
    "cypher = \"\"\"\n",
    "  CREATE (andreas:Person {name: \"Andreas\"}), (emil:Person {name: \"Emil Eifrem\"})\n",
    "  MERGE (andreas)-[hasRelationship:WORKS_WITH]->(emil)\n",
    "  RETURN andreas, hasRelationship, emil\n",
    "  \"\"\"\n",
    "kg.query(cypher)"
   ]
  },
  {
   "cell_type": "code",
   "execution_count": null,
   "metadata": {},
   "outputs": [],
   "source": []
  },
  {
   "cell_type": "code",
   "execution_count": null,
   "metadata": {},
   "outputs": [],
   "source": []
  },
  {
   "cell_type": "code",
   "execution_count": null,
   "metadata": {},
   "outputs": [],
   "source": []
  }
 ],
 "metadata": {
  "kernelspec": {
   "display_name": ".venv",
   "language": "python",
   "name": "python3"
  },
  "language_info": {
   "codemirror_mode": {
    "name": "ipython",
    "version": 3
   },
   "file_extension": ".py",
   "mimetype": "text/x-python",
   "name": "python",
   "nbconvert_exporter": "python",
   "pygments_lexer": "ipython3",
   "version": "3.12.3"
  }
 },
 "nbformat": 4,
 "nbformat_minor": 2
}
