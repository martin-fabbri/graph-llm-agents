{
 "cells": [
  {
   "cell_type": "markdown",
   "metadata": {},
   "source": [
    "# Reflection\n",
    "\n",
    "In the context of LLM agent building, reflection refers to the process of prompting an LLM to observe its past steps (along with potential observations from tools/the environment) to assess the queality of the chosen actions. This is then used downstream for things like re-planning, search, or evaluation."
   ]
  },
  {
   "cell_type": "code",
   "execution_count": 4,
   "metadata": {},
   "outputs": [],
   "source": [
    "import os\n",
    "from dotenv import load_dotenv\n",
    "\n",
    "# Load environment variables from .env file\n",
    "load_dotenv()\n",
    "\n",
    "# Get the secret key\n",
    "os.environ[\"LANGCHAIN_TRACING_V2\"] = \"true\"\n",
    "os.environ[\"LANGCHAIN_PROJECT\"] = \"Reflection\""
   ]
  },
  {
   "cell_type": "code",
   "execution_count": 7,
   "metadata": {},
   "outputs": [],
   "source": [
    "from langchain_core.messages import AIMessage, BaseMessage, HumanMessage\n",
    "from langchain_core.prompts import ChatPromptTemplate, MessagesPlaceholder\n",
    "from langchain_fireworks import ChatFireworks\n",
    "\n",
    "prompt = ChatPromptTemplate.from_messages(\n",
    "    [\n",
    "        (\n",
    "            \"system\",\n",
    "            \"You are an essay assistant tasked with writing excellent 5-paragraph essays.\"\n",
    "            \" Generate the best essay possible for the user's request.\"\n",
    "            \" If the user provides critique, respond with a revised version of your previous attempts.\",\n",
    "        ),\n",
    "        MessagesPlaceholder(variable_name=\"messages\"),\n",
    "    ]\n",
    ")\n",
    "llm = ChatFireworks(\n",
    "    model=\"accounts/fireworks/models/mixtral-8x7b-instruct\",\n",
    "    max_tokens=32768\n",
    ")\n",
    "generate = prompt | llm"
   ]
  },
  {
   "cell_type": "code",
   "execution_count": 8,
   "metadata": {},
   "outputs": [
    {
     "name": "stdout",
     "output_type": "stream",
     "text": [
      "Title: The Relevance of The Little Prince in Modern Childhood\n",
      "\n",
      "The Little Prince, a novella by Antoine de Saint-Exupéry, has been a beloved classic for generations. Despite being written in the mid-20th century, the story remains highly relevant in modern childhood. Its enduring appeal can be attributed to the universal themes it explores, such as the importance of friendship, love, and the search for meaning in life.\n",
      "\n",
      "Firstly, The Little Prince teaches children about the value of genuine friendships. The story revolves around the little prince's journey to different planets, where he encounters various grown-ups who embody different aspects of adult absurdity. The prince eventually finds a true friend in the fox, who teaches him that \"one sees clearly only with the heart. Anything essential is invisible to the eyes.\" This lesson is particularly relevant in today's world, where children are often pressured to prioritize material possessions and superficial relationships over meaningful connections.\n",
      "\n",
      "Secondly, The Little Prince emphasizes the significance of love and caring for others. The little prince leaves his beloved rose on asteroid B-612 to explore the universe, but he ultimately realizes that his love for her is what gives his life meaning. This message resonates with modern children who are growing up in a fast-paced, digital world, where emotional detachment can sometimes take precedence over empathy and compassion.\n",
      "\n",
      "Lastly, The Little Prince encourages children to question the world around them and seek their own truths. The story inspires young readers to be curious, think critically, and appreciate the beauty in the world. These skills are crucial in the modern age, where information is abundant, and the ability to discern fact from fiction is increasingly important.\n",
      "\n",
      "In conclusion, The Little Prince remains relevant in modern childhood due to its timeless themes and life lessons. The story encourages children to value genuine friendships, cherish love, and question the world around them. By embracing these principles, modern children can navigate their own paths and find meaning in an ever-changing world.\n",
      "\n",
      "Revised Essay:\n",
      "\n",
      "Title: The Timeless Relevance of The Little Prince in Modern Childhood\n",
      "\n",
      "Antoine de Saint-Exupéry's The Little Prince has been captivating audiences for decades, and its relevance in modern childhood remains undiminished. The novella's exploration of universal themes, such as friendship, love, and self-discovery, ensures its enduring appeal to young readers today.\n",
      "\n",
      "One of the primary reasons for The Little Prince's relevance is its focus on the importance of genuine friendships. Throughout the story, the little prince encounters various grown-ups who fail to understand the true essence of friendship. It is only when he meets the fox that he learns about the power of meaningful connections, with the fox teaching him that \"you become responsible, forever, for what you've tamed.\" This lesson is particularly significant in the modern world, where children are often confronted with superficial relationships and materialism.\n",
      "\n",
      "Moreover, The Little Prince underscores the value of love and caring for others. The little prince's devotion to his rose, despite leaving her behind, demonstrates the profound impact of love on one's life. This message is especially relevant in the digital age, where emotional detachment can sometimes overshadow empathy and compassion.\n",
      "\n",
      "Furthermore, The Little Prince encourages children to question the world around them and seek their own truths. The story inspires young readers to be curious, think critically, and appreciate the beauty in the world. These skills are essential in the modern age, where information is abundant, and the ability to discern fact from fiction is increasingly vital.\n",
      "\n",
      "In conclusion, The Little Prince remains a timeless classic that resonates with modern children due to its exploration of universal themes and life lessons. By emphasizing the value of genuine friendships, cherishing love, and questioning the world, The Little Prince equips young readers with the tools they need to navigate their own paths and find meaning in an ever-evolving world."
     ]
    }
   ],
   "source": [
    "essay = \"\"\n",
    "request = HumanMessage(\n",
    "    content=\"Write an essay on why the little prince is relevant in modern childhood\"\n",
    ")\n",
    "for chunk in generate.stream({\"messages\": [request]}):\n",
    "    print(chunk.content, end=\"\")\n",
    "    essay += chunk.content"
   ]
  },
  {
   "cell_type": "markdown",
   "metadata": {},
   "source": [
    "## Reflect"
   ]
  },
  {
   "cell_type": "code",
   "execution_count": 9,
   "metadata": {},
   "outputs": [],
   "source": [
    "reflection_prompt = ChatPromptTemplate.from_messages(\n",
    "    [\n",
    "        (\n",
    "            \"system\",\n",
    "            \"You are a teacher grading an essay submission. Generate critique and recommendations for the user's submission.\"\n",
    "            \" Provide detailed recommendations, including requests for length, depth, style, etc.\",\n",
    "        ),\n",
    "        MessagesPlaceholder(variable_name=\"messages\"),\n",
    "    ]\n",
    ")\n",
    "reflect = reflection_prompt | llm"
   ]
  },
  {
   "cell_type": "code",
   "execution_count": 11,
   "metadata": {},
   "outputs": [
    {
     "name": "stdout",
     "output_type": "stream",
     "text": [
      "Essay critique and recommendations:\n",
      "\n",
      "Title: The Timeless Relevance of The Little Prince in Modern Childhood\n",
      "\n",
      "Strengths:\n",
      "- Clear structure with an engaging introduction, well-developed main body, and a strong conclusion.\n",
      "- Solid understanding of the themes presented in The Little Prince.\n",
      "- Effective use of quotes to support arguments.\n",
      "- Good grasp of the relevance of the story in modern childhood.\n",
      "\n",
      "Areas for improvement:\n",
      "\n",
      "1. Length: The essay is well-written but relatively brief. Consider expanding the essay to provide a more in-depth analysis of the themes and their relevance to modern childhood. Aim for a minimum of 500 words to allow for a more comprehensive exploration of the topics.\n",
      "\n",
      "2. Depth: While the essay touches upon the importance of friendship, love, and self-discovery, there is room to delve deeper into each theme. For example, when discussing friendship, consider including specific examples from the book that illustrate the contrast between superficial relationships and genuine connections.\n",
      "\n",
      "3. Style: Strive for a more engaging and conversational tone to make the essay more appealing to a broader audience. Use first-person pronouns and address the reader directly when appropriate.\n",
      "\n",
      "4. Analysis: Enhance the critical thinking aspect of the essay by offering a more nuanced analysis of the themes. For instance, when discussing the value of genuine friendships, consider the challenges children face in forming and maintaining such relationships in the digital age.\n",
      "\n",
      "5. Recommendations: Include specific suggestions for parents, educators, and children on how to apply the lessons from The Little Prince in their daily lives.\n",
      "\n",
      "6. Personal Connection: If possible, share personal experiences or anecdotes related to the themes to make the essay more relatable and engaging.\n",
      "\n",
      "7. Formatting: Ensure proper formatting, including appropriate line spacing, paragraph indentation, and the use of headings and subheadings to improve readability.\n",
      "\n",
      "By addressing these recommendations, you can elevate your essay and create a more compelling and engaging piece that showcases your understanding of the relevance of The Little Prince in modern childhood."
     ]
    }
   ],
   "source": [
    "reflection = \"\"\n",
    "for chunk in reflect.stream({\"messages\": [request, HumanMessage(content=essay)]}):\n",
    "    print(chunk.content, end=\"\")\n",
    "    reflection += chunk.content"
   ]
  },
  {
   "cell_type": "code",
   "execution_count": 12,
   "metadata": {},
   "outputs": [
    {
     "name": "stdout",
     "output_type": "stream",
     "text": [
      "Title: Embracing The Little Prince's Wisdom in Modern Childhood: A Contemporary Perspective\n",
      "\n",
      "Introduction\n",
      "\n",
      "In the vast landscape of children's literature, Antoine de Saint-Exupéry's The Little Prince stands as a timeless classic that continues to captivate young readers. Its enduring appeal can be attributed to the universal themes it explores, such as the importance of genuine friendships, love, and self-discovery. This essay delves into these themes and examines their relevance in modern childhood, offering insights and recommendations for parents, educators, and children alike.\n",
      "\n",
      "The Value of Genuine Friendships in the Digital Age\n",
      "\n",
      "One of the most prominent themes in The Little Prince is the significance of genuine friendships. Throughout the story, the little prince encounters various grown-ups who fail to understand the true essence of friendship. It is only when he meets the fox that he learns about the power of meaningful connections, with the fox teaching him that \"you become responsible, forever, for what you've tamed.\"\n",
      "\n",
      "In today's digital age, forming and maintaining genuine friendships can be challenging for children. Social media and digital devices often take precedence over face-to-face interactions, making it difficult for young individuals to develop deep, meaningful connections. To help children navigate this landscape, parents and educators can encourage activities that foster genuine friendships, such as group projects, clubs, and face-to-face playdates. By doing so, they can instill in children the importance of building and nurturing relationships based on trust, empathy, and mutual understanding.\n",
      "\n",
      "The Profound Impact of Love and Caring for Others\n",
      "\n",
      "The Little Prince underscores the value of love and caring for others through the little prince's devotion to his rose, despite leaving her behind. This message is especially relevant in the modern world, where emotional detachment can sometimes overshadow empathy and compassion.\n",
      "\n",
      "To help children appreciate the significance of love and caring for others, parents and educators can engage them in activities that promote empathy and emotional intelligence. For instance, they can encourage children to volunteer in their communities, engage in acts of kindness, and practice active listening when communicating with others. By fostering an environment where love and caring are valued, children can develop a strong sense of empathy and emotional resilience.\n",
      "\n",
      "The Power of Curiosity and Critical Thinking\n",
      "\n",
      "The Little Prince encourages children to question the world around them and seek their own truths. The story inspires young readers to be curious, think critically, and appreciate the beauty in the world. These skills are essential in the modern age, where information is abundant, and the ability to discern fact from fiction is increasingly vital.\n",
      "\n",
      "To cultivate curiosity and critical thinking in children, parents and educators can provide them with access to a wide range of books, documentaries, and educational resources. They can also encourage children to ask questions, debate various viewpoints, and engage in problem-solving activities that challenge their critical thinking skills. By fostering a culture of curiosity and inquiry, children can become more adept at navigating the complexities of the modern world.\n",
      "\n",
      "Conclusion\n",
      "\n",
      "The Little Prince remains a timeless classic that resonates with modern children due to its exploration of universal themes and life lessons. By embracing the story's messages, parents, educators, and children can navigate their own paths and find meaning in an ever-evolving world. By fostering genuine friendships, cultivating empathy and emotional intelligence, and encouraging curiosity and critical thinking, we can help young readers develop the skills they need to thrive in the modern age.\n",
      "\n",
      "Incorporating these recommendations into your essay will result in a more comprehensive and engaging piece that showcases your understanding of the relevance of The Little Prince in modern childhood. Remember to maintain a clear structure, use appropriate formatting, and strive for a conversational tone to make your essay more appealing to a broader audience."
     ]
    }
   ],
   "source": [
    "for chunk in generate.stream(\n",
    "    {\"messages\": [request, AIMessage(content=essay), HumanMessage(content=reflection)]}\n",
    "):\n",
    "    print(chunk.content, end=\"\")"
   ]
  },
  {
   "cell_type": "markdown",
   "metadata": {},
   "source": [
    "## Define graph"
   ]
  },
  {
   "cell_type": "code",
   "execution_count": 16,
   "metadata": {},
   "outputs": [],
   "source": [
    "from typing import List, Sequence\n",
    "from langgraph.graph import END, MessageGraph\n",
    "\n",
    "async def generation_node(state: Sequence[BaseMessage]):\n",
    "    return await generate.ainvoke({\"messages\": state})\n",
    "\n",
    "async def reflection_node(messages: Sequence[BaseMessage]) -> List[BaseMessage]:\n",
    "    cls_map = {\"ai\": HumanMessage, \"human\": AIMessage}\n",
    "    translated = [messages[0]] + [\n",
    "        cls_map[msg.type](content=msg.content) for msg in messages[1:]\n",
    "    ]\n",
    "    res = await reflect.ainvoke({\"messages\": translated})\n",
    "    \n",
    "    return HumanMessage(content=res.content)\n",
    "\n",
    "builder = MessageGraph()\n",
    "builder.add_node(\"generate\", generation_node)\n",
    "builder.add_node(\"reflect\", reflection_node)\n",
    "builder.set_entry_point(\"generate\")\n",
    "\n",
    "def should_continue(state: List[BaseMessage]):\n",
    "    if len(state) > 6:\n",
    "        return END\n",
    "    return \"reflect\"\n",
    "\n",
    "builder.add_conditional_edges(\"generate\", should_continue)\n",
    "builder.add_edge(\"reflect\", \"generate\")\n",
    "graph = builder.compile()\n"
   ]
  },
  {
   "cell_type": "code",
   "execution_count": 17,
   "metadata": {},
   "outputs": [
    {
     "name": "stdout",
     "output_type": "stream",
     "text": [
      "{'generate': AIMessage(content='Title: The Relevance of The Little Prince\\'s Message in Modern Life\\n\\nIntroduction:\\nAntoine de Saint-Exupéry\\'s \"The Little Prince\" is a novella that has captured the hearts of millions of readers worldwide since its publication in 1943. The story, which follows a young prince traveling through various planets, is chock-full of timeless life lessons and philosophies that remain relevant even in today\\'s modern world. This essay will explore the typicality of The Little Prince and its message in modern life.\\n\\nBody Paragraph 1: The Typicality of The Little Prince\\nAt first glance, The Little Prince may seem like a whimsical tale about a young boy\\'s adventures in space. However, upon closer examination, it becomes clear that the novella is a reflection of the human condition, making it highly typical. The characters that the Little Prince encounters on each planet, such as the vain king, the drunkard, the businessman, and the lamplighter, represent various aspects of adult behavior and societal norms. These characters, despite their absurdities, are highly relatable, making the story resonate with readers of all ages.\\n\\nBody Paragraph 2: The Little Prince\\'s Message in Modern Life\\nThe Little Prince\\'s message of love, friendship, and responsibility is particularly relevant in modern life. The story teaches us to cherish the important things in life, such as relationships and experiences, over material possessions. The Little Prince\\'s love for his rose, for instance, serves as a reminder that true love requires care, attention, and sacrifice. In a world where superficiality and materialism are often glorified, The Little Prince\\'s message is a much-needed reminder to prioritize what truly matters.\\n\\nBody Paragraph 3: The Importance of Seeing Things Differently\\nThe Little Prince also encourages readers to see things differently, which is a valuable skill in modern life. The story teaches us to look beyond the surface and appreciate the beauty and complexity of the world around us. The Little Prince\\'s ability to see things from a different perspective allows him to form meaningful connections with the characters he encounters, despite their flaws. In a world where people are often quick to judge and stereotype, The Little Prince\\'s message is a call to be more open-minded and empathetic.\\n\\nConclusion:\\nIn conclusion, The Little Prince is a highly typical novella that offers valuable life lessons and philosophies that remain relevant in modern life. The story\\'s message of love, friendship, and responsibility, as well as its emphasis on seeing things differently, is a much-needed reminder in a world that often prioritizes material possessions and superficiality. The Little Prince\\'s enduring popularity is a testament to its timeless message, which continues to inspire and captivate readers of all ages.', response_metadata={'token_usage': {'prompt_tokens': 72, 'total_tokens': 689, 'completion_tokens': 617}, 'model_name': 'accounts/fireworks/models/mixtral-8x7b-instruct', 'system_fingerprint': '', 'finish_reason': 'stop', 'logprobs': None}, id='run-7d49eb83-4925-41fc-a63a-f7802671a3cc-0')}\n",
      "---\n",
      "{'reflect': HumanMessage(content=\"Overall, your essay provides a clear and insightful analysis of the typicality of The Little Prince and its message in modern life. You effectively argue that the novella's characters and themes are highly relatable and relevant, using specific examples from the text to support your points.\\n\\nHowever, there are a few areas where your essay could be improved. First, I would suggest adding more depth to your analysis by exploring the historical and cultural context of the novella. For example, you could discuss how The Little Prince reflects Saint-Exupéry's experiences as a pilot and his views on society and human nature. This would add another layer of complexity to your argument and demonstrate a more nuanced understanding of the text.\\n\\nAdditionally, while your essay is well-written and clear, I would recommend varying your sentence structure and length to create a more engaging style. This could include using more complex sentences, incorporating rhetorical questions, and using transitional phrases to link your ideas together more smoothly.\\n\\nIn terms of length, your essay is a good starting point, but I would recommend expanding it to at least 500 words to allow for more in-depth analysis and development of your ideas. This would also give you more space to incorporate outside sources and engage with scholarly perspectives on the novella.\\n\\nOverall, your essay shows a strong understanding of the text and its relevance in modern life. With some additional depth and development, I have no doubt that you could produce an excellent analysis of The Little Prince.\")}\n",
      "---\n",
      "{'generate': AIMessage(content='Title: The Relevance of The Little Prince\\'s Message in Modern Life: A Deeper Analysis\\n\\nIntroduction:\\nAntoine de Saint-Exupéry\\'s \"The Little Prince\" is a novella that has captured the hearts of millions of readers worldwide since its publication in 1943. The story, which follows a young prince traveling through various planets, is chock-full of timeless life lessons and philosophies that remain relevant even in today\\'s modern world. This essay will explore the typicality of The Little Prince and its message in modern life, with a deeper analysis of the historical and cultural context of the novella.\\n\\nBody Paragraph 1: The Typicality of The Little Prince\\nAt first glance, The Little Prince may seem like a whimsical tale about a young boy\\'s adventures in space. However, upon closer examination, it becomes clear that the novella is a reflection of the human condition, making it highly typical. The characters that the Little Prince encounters on each planet, such as the vain king, the drunkard, the businessman, and the lamplighter, represent various aspects of adult behavior and societal norms. These characters, despite their absurdities, are highly relatable, making the story resonate with readers of all ages.\\n\\nThe Little Prince\\'s author, Antoine de Saint-Exupéry, was a French pilot and writer who drew from his own experiences to create the novella\\'s characters and themes. The vain king, for instance, can be seen as a critique of authority figures who wield power without considering the consequences. Saint-Exupéry\\'s experiences as a pilot, which exposed him to the dangers and unpredictability of flight, also influenced the story\\'s themes of responsibility and perspective.\\n\\nBody Paragraph 2: The Little Prince\\'s Message in Modern Life\\nThe Little Prince\\'s message of love, friendship, and responsibility is particularly relevant in modern life. The story teaches us to cherish the important things in life, such as relationships and experiences, over material possessions. The Little Prince\\'s love for his rose, for instance, serves as a reminder that true love requires care, attention, and sacrifice. In a world where superficiality and materialism are often glorified, The Little Prince\\'s message is a much-needed reminder to prioritize what truly matters.\\n\\nMoreover, The Little Prince\\'s emphasis on responsibility is particularly relevant in a world where people often shy away from accountability. The story teaches us that taking responsibility for our actions and decisions is essential for personal growth and self-awareness. The Little Prince\\'s encounter with the fox, for instance, highlights the importance of forming meaningful connections and taking responsibility for the relationships we form.\\n\\nBody Paragraph 3: The Importance of Seeing Things Differently\\nThe Little Prince also encourages readers to see things differently, which is a valuable skill in modern life. The story teaches us to look beyond the surface and appreciate the beauty and complexity of the world around us. The Little Prince\\'s ability to see things from a different perspective allows him to form meaningful connections with the characters he encounters, despite their flaws. In a world where people are often quick to judge and stereotype, The Little Prince\\'s message is a call to be more open-minded and empathetic.\\n\\nThe Little Prince\\'s emphasis on perspective is also reflected in Saint-Exupéry\\'s own worldview. As a pilot, Saint-Exupéry was exposed to different cultures and landscapes, which influenced his appreciation for diversity and difference. The Little Prince\\'s encounters with the various inhabitants of the planets he visits reflect this appreciation for diversity and the importance of understanding different perspectives.\\n\\nConclusion:\\nIn conclusion, The Little Prince is a highly typical novella that offers valuable life lessons and philosophies that remain relevant in modern life. The story\\'s message of love, friendship, and responsibility, as well as its emphasis on seeing things differently, is a much-needed reminder in a world that often prioritizes material possessions and superficiality. The Little Prince\\'s enduring popularity is a testament to its timeless message, which continues to inspire and captivate readers of all ages. By exploring the historical and cultural context of the novella, this essay has added depth to the analysis of The Little Prince\\'s typicality and message in modern life.', response_metadata={'token_usage': {'prompt_tokens': 1014, 'total_tokens': 1956, 'completion_tokens': 942}, 'model_name': 'accounts/fireworks/models/mixtral-8x7b-instruct', 'system_fingerprint': '', 'finish_reason': 'stop', 'logprobs': None}, id='run-56fb97b7-dfb2-4d5b-b9bf-e125d6969133-0')}\n",
      "---\n",
      "{'reflect': HumanMessage(content='Excellent job! Your revised essay provides a much more in-depth analysis of The Little Prince and its relevance in modern life. By incorporating historical and cultural context, you have added depth and complexity to your argument, demonstrating a nuanced understanding of the novella.\\n\\nYour writing style is also much improved, with varied sentence structure and length creating a more engaging and dynamic flow. Your use of transitional phrases and specific examples from the text also help to link your ideas together more smoothly, creating a cohesive and well-organized argument.\\n\\nIn terms of length, your essay is now at an appropriate length for a full analysis, allowing you to explore your ideas in more depth and provide more specific examples from the text.\\n\\nOverall, I am very impressed with your revised essay. You have taken the feedback provided and used it to create a thoughtful, well-written, and insightful analysis of The Little Prince. Great job!')}\n",
      "---\n",
      "{'generate': AIMessage(content=\"Thank you for your positive feedback! I'm glad that I could improve my analysis of The Little Prince and its relevance in modern life by incorporating historical and cultural context. I also appreciate your feedback on my writing style, and I will continue to work on varying my sentence structure and length to create a more engaging and dynamic flow.\\n\\nI am glad that the revised essay is now at an appropriate length, allowing me to explore my ideas in more depth and provide more specific examples from the text. I will continue to strive for clarity, cohesion, and depth in my writing.\\n\\nThank you again for your feedback and support. I look forward to continuing to improve my writing skills and analysis of literary texts.\", response_metadata={'token_usage': {'prompt_tokens': 2162, 'total_tokens': 2312, 'completion_tokens': 150}, 'model_name': 'accounts/fireworks/models/mixtral-8x7b-instruct', 'system_fingerprint': '', 'finish_reason': 'stop', 'logprobs': None}, id='run-2197605d-8e84-4c01-8585-3eb7fb32d7fa-0')}\n",
      "---\n",
      "{'reflect': HumanMessage(content=\"You're very welcome! I'm glad that I could provide constructive feedback to help you improve your analysis and writing style. It's always a pleasure to see a student take feedback to heart and use it to create a stronger piece of writing.\\n\\nYour dedication to clarity, cohesion, and depth in your writing is commendable, and I have no doubt that you will continue to excel in your writing and analysis of literary texts. Keep up the great work, and don't hesitate to reach out if you have any further questions or concerns. I'm always here to help!\")}\n",
      "---\n",
      "{'generate': AIMessage(content='Thank you so much for your kind words and encouragement! I will definitely reach out if I have any further questions or concerns. I appreciate your support and guidance throughout this process.\\n\\nYour expertise and knowledge of literary analysis have been invaluable in helping me improve my writing and analysis skills. I look forward to continuing to learn and grow as a writer and reader.\\n\\nThank you again for everything!', response_metadata={'token_usage': {'prompt_tokens': 2446, 'total_tokens': 2530, 'completion_tokens': 84}, 'model_name': 'accounts/fireworks/models/mixtral-8x7b-instruct', 'system_fingerprint': '', 'finish_reason': 'stop', 'logprobs': None}, id='run-882ccf4a-f818-490e-9d2e-4bfc4cf6d6fa-0')}\n",
      "---\n",
      "{'__end__': [HumanMessage(content='Generate an essay on the tipicality of The Little Prince and its message in modern life'), AIMessage(content='Title: The Relevance of The Little Prince\\'s Message in Modern Life\\n\\nIntroduction:\\nAntoine de Saint-Exupéry\\'s \"The Little Prince\" is a novella that has captured the hearts of millions of readers worldwide since its publication in 1943. The story, which follows a young prince traveling through various planets, is chock-full of timeless life lessons and philosophies that remain relevant even in today\\'s modern world. This essay will explore the typicality of The Little Prince and its message in modern life.\\n\\nBody Paragraph 1: The Typicality of The Little Prince\\nAt first glance, The Little Prince may seem like a whimsical tale about a young boy\\'s adventures in space. However, upon closer examination, it becomes clear that the novella is a reflection of the human condition, making it highly typical. The characters that the Little Prince encounters on each planet, such as the vain king, the drunkard, the businessman, and the lamplighter, represent various aspects of adult behavior and societal norms. These characters, despite their absurdities, are highly relatable, making the story resonate with readers of all ages.\\n\\nBody Paragraph 2: The Little Prince\\'s Message in Modern Life\\nThe Little Prince\\'s message of love, friendship, and responsibility is particularly relevant in modern life. The story teaches us to cherish the important things in life, such as relationships and experiences, over material possessions. The Little Prince\\'s love for his rose, for instance, serves as a reminder that true love requires care, attention, and sacrifice. In a world where superficiality and materialism are often glorified, The Little Prince\\'s message is a much-needed reminder to prioritize what truly matters.\\n\\nBody Paragraph 3: The Importance of Seeing Things Differently\\nThe Little Prince also encourages readers to see things differently, which is a valuable skill in modern life. The story teaches us to look beyond the surface and appreciate the beauty and complexity of the world around us. The Little Prince\\'s ability to see things from a different perspective allows him to form meaningful connections with the characters he encounters, despite their flaws. In a world where people are often quick to judge and stereotype, The Little Prince\\'s message is a call to be more open-minded and empathetic.\\n\\nConclusion:\\nIn conclusion, The Little Prince is a highly typical novella that offers valuable life lessons and philosophies that remain relevant in modern life. The story\\'s message of love, friendship, and responsibility, as well as its emphasis on seeing things differently, is a much-needed reminder in a world that often prioritizes material possessions and superficiality. The Little Prince\\'s enduring popularity is a testament to its timeless message, which continues to inspire and captivate readers of all ages.', response_metadata={'token_usage': {'prompt_tokens': 72, 'total_tokens': 689, 'completion_tokens': 617}, 'model_name': 'accounts/fireworks/models/mixtral-8x7b-instruct', 'system_fingerprint': '', 'finish_reason': 'stop', 'logprobs': None}, id='run-7d49eb83-4925-41fc-a63a-f7802671a3cc-0'), HumanMessage(content=\"Overall, your essay provides a clear and insightful analysis of the typicality of The Little Prince and its message in modern life. You effectively argue that the novella's characters and themes are highly relatable and relevant, using specific examples from the text to support your points.\\n\\nHowever, there are a few areas where your essay could be improved. First, I would suggest adding more depth to your analysis by exploring the historical and cultural context of the novella. For example, you could discuss how The Little Prince reflects Saint-Exupéry's experiences as a pilot and his views on society and human nature. This would add another layer of complexity to your argument and demonstrate a more nuanced understanding of the text.\\n\\nAdditionally, while your essay is well-written and clear, I would recommend varying your sentence structure and length to create a more engaging style. This could include using more complex sentences, incorporating rhetorical questions, and using transitional phrases to link your ideas together more smoothly.\\n\\nIn terms of length, your essay is a good starting point, but I would recommend expanding it to at least 500 words to allow for more in-depth analysis and development of your ideas. This would also give you more space to incorporate outside sources and engage with scholarly perspectives on the novella.\\n\\nOverall, your essay shows a strong understanding of the text and its relevance in modern life. With some additional depth and development, I have no doubt that you could produce an excellent analysis of The Little Prince.\"), AIMessage(content='Title: The Relevance of The Little Prince\\'s Message in Modern Life: A Deeper Analysis\\n\\nIntroduction:\\nAntoine de Saint-Exupéry\\'s \"The Little Prince\" is a novella that has captured the hearts of millions of readers worldwide since its publication in 1943. The story, which follows a young prince traveling through various planets, is chock-full of timeless life lessons and philosophies that remain relevant even in today\\'s modern world. This essay will explore the typicality of The Little Prince and its message in modern life, with a deeper analysis of the historical and cultural context of the novella.\\n\\nBody Paragraph 1: The Typicality of The Little Prince\\nAt first glance, The Little Prince may seem like a whimsical tale about a young boy\\'s adventures in space. However, upon closer examination, it becomes clear that the novella is a reflection of the human condition, making it highly typical. The characters that the Little Prince encounters on each planet, such as the vain king, the drunkard, the businessman, and the lamplighter, represent various aspects of adult behavior and societal norms. These characters, despite their absurdities, are highly relatable, making the story resonate with readers of all ages.\\n\\nThe Little Prince\\'s author, Antoine de Saint-Exupéry, was a French pilot and writer who drew from his own experiences to create the novella\\'s characters and themes. The vain king, for instance, can be seen as a critique of authority figures who wield power without considering the consequences. Saint-Exupéry\\'s experiences as a pilot, which exposed him to the dangers and unpredictability of flight, also influenced the story\\'s themes of responsibility and perspective.\\n\\nBody Paragraph 2: The Little Prince\\'s Message in Modern Life\\nThe Little Prince\\'s message of love, friendship, and responsibility is particularly relevant in modern life. The story teaches us to cherish the important things in life, such as relationships and experiences, over material possessions. The Little Prince\\'s love for his rose, for instance, serves as a reminder that true love requires care, attention, and sacrifice. In a world where superficiality and materialism are often glorified, The Little Prince\\'s message is a much-needed reminder to prioritize what truly matters.\\n\\nMoreover, The Little Prince\\'s emphasis on responsibility is particularly relevant in a world where people often shy away from accountability. The story teaches us that taking responsibility for our actions and decisions is essential for personal growth and self-awareness. The Little Prince\\'s encounter with the fox, for instance, highlights the importance of forming meaningful connections and taking responsibility for the relationships we form.\\n\\nBody Paragraph 3: The Importance of Seeing Things Differently\\nThe Little Prince also encourages readers to see things differently, which is a valuable skill in modern life. The story teaches us to look beyond the surface and appreciate the beauty and complexity of the world around us. The Little Prince\\'s ability to see things from a different perspective allows him to form meaningful connections with the characters he encounters, despite their flaws. In a world where people are often quick to judge and stereotype, The Little Prince\\'s message is a call to be more open-minded and empathetic.\\n\\nThe Little Prince\\'s emphasis on perspective is also reflected in Saint-Exupéry\\'s own worldview. As a pilot, Saint-Exupéry was exposed to different cultures and landscapes, which influenced his appreciation for diversity and difference. The Little Prince\\'s encounters with the various inhabitants of the planets he visits reflect this appreciation for diversity and the importance of understanding different perspectives.\\n\\nConclusion:\\nIn conclusion, The Little Prince is a highly typical novella that offers valuable life lessons and philosophies that remain relevant in modern life. The story\\'s message of love, friendship, and responsibility, as well as its emphasis on seeing things differently, is a much-needed reminder in a world that often prioritizes material possessions and superficiality. The Little Prince\\'s enduring popularity is a testament to its timeless message, which continues to inspire and captivate readers of all ages. By exploring the historical and cultural context of the novella, this essay has added depth to the analysis of The Little Prince\\'s typicality and message in modern life.', response_metadata={'token_usage': {'prompt_tokens': 1014, 'total_tokens': 1956, 'completion_tokens': 942}, 'model_name': 'accounts/fireworks/models/mixtral-8x7b-instruct', 'system_fingerprint': '', 'finish_reason': 'stop', 'logprobs': None}, id='run-56fb97b7-dfb2-4d5b-b9bf-e125d6969133-0'), HumanMessage(content='Excellent job! Your revised essay provides a much more in-depth analysis of The Little Prince and its relevance in modern life. By incorporating historical and cultural context, you have added depth and complexity to your argument, demonstrating a nuanced understanding of the novella.\\n\\nYour writing style is also much improved, with varied sentence structure and length creating a more engaging and dynamic flow. Your use of transitional phrases and specific examples from the text also help to link your ideas together more smoothly, creating a cohesive and well-organized argument.\\n\\nIn terms of length, your essay is now at an appropriate length for a full analysis, allowing you to explore your ideas in more depth and provide more specific examples from the text.\\n\\nOverall, I am very impressed with your revised essay. You have taken the feedback provided and used it to create a thoughtful, well-written, and insightful analysis of The Little Prince. Great job!'), AIMessage(content=\"Thank you for your positive feedback! I'm glad that I could improve my analysis of The Little Prince and its relevance in modern life by incorporating historical and cultural context. I also appreciate your feedback on my writing style, and I will continue to work on varying my sentence structure and length to create a more engaging and dynamic flow.\\n\\nI am glad that the revised essay is now at an appropriate length, allowing me to explore my ideas in more depth and provide more specific examples from the text. I will continue to strive for clarity, cohesion, and depth in my writing.\\n\\nThank you again for your feedback and support. I look forward to continuing to improve my writing skills and analysis of literary texts.\", response_metadata={'token_usage': {'prompt_tokens': 2162, 'total_tokens': 2312, 'completion_tokens': 150}, 'model_name': 'accounts/fireworks/models/mixtral-8x7b-instruct', 'system_fingerprint': '', 'finish_reason': 'stop', 'logprobs': None}, id='run-2197605d-8e84-4c01-8585-3eb7fb32d7fa-0'), HumanMessage(content=\"You're very welcome! I'm glad that I could provide constructive feedback to help you improve your analysis and writing style. It's always a pleasure to see a student take feedback to heart and use it to create a stronger piece of writing.\\n\\nYour dedication to clarity, cohesion, and depth in your writing is commendable, and I have no doubt that you will continue to excel in your writing and analysis of literary texts. Keep up the great work, and don't hesitate to reach out if you have any further questions or concerns. I'm always here to help!\"), AIMessage(content='Thank you so much for your kind words and encouragement! I will definitely reach out if I have any further questions or concerns. I appreciate your support and guidance throughout this process.\\n\\nYour expertise and knowledge of literary analysis have been invaluable in helping me improve my writing and analysis skills. I look forward to continuing to learn and grow as a writer and reader.\\n\\nThank you again for everything!', response_metadata={'token_usage': {'prompt_tokens': 2446, 'total_tokens': 2530, 'completion_tokens': 84}, 'model_name': 'accounts/fireworks/models/mixtral-8x7b-instruct', 'system_fingerprint': '', 'finish_reason': 'stop', 'logprobs': None}, id='run-882ccf4a-f818-490e-9d2e-4bfc4cf6d6fa-0')]}\n",
      "---\n"
     ]
    }
   ],
   "source": [
    "async for event in graph.astream(\n",
    "    [\n",
    "        HumanMessage(\n",
    "            content=\"Generate an essay on the tipicality of The Little Prince and its message in modern life\"\n",
    "        )\n",
    "    ]\n",
    "):\n",
    "    print(event)\n",
    "    print(\"---\")\n",
    "\n"
   ]
  },
  {
   "cell_type": "code",
   "execution_count": 18,
   "metadata": {},
   "outputs": [
    {
     "name": "stdout",
     "output_type": "stream",
     "text": [
      "================================\u001b[1m Human Message \u001b[0m=================================\n",
      "\n",
      "Generate an essay on the tipicality of The Little Prince and its message in modern life\n",
      "\n",
      "==================================\u001b[1m Ai Message \u001b[0m==================================\n",
      "\n",
      "Title: The Relevance of The Little Prince's Message in Modern Life\n",
      "\n",
      "Introduction:\n",
      "Antoine de Saint-Exupéry's \"The Little Prince\" is a novella that has captured the hearts of millions of readers worldwide since its publication in 1943. The story, which follows a young prince traveling through various planets, is chock-full of timeless life lessons and philosophies that remain relevant even in today's modern world. This essay will explore the typicality of The Little Prince and its message in modern life.\n",
      "\n",
      "Body Paragraph 1: The Typicality of The Little Prince\n",
      "At first glance, The Little Prince may seem like a whimsical tale about a young boy's adventures in space. However, upon closer examination, it becomes clear that the novella is a reflection of the human condition, making it highly typical. The characters that the Little Prince encounters on each planet, such as the vain king, the drunkard, the businessman, and the lamplighter, represent various aspects of adult behavior and societal norms. These characters, despite their absurdities, are highly relatable, making the story resonate with readers of all ages.\n",
      "\n",
      "Body Paragraph 2: The Little Prince's Message in Modern Life\n",
      "The Little Prince's message of love, friendship, and responsibility is particularly relevant in modern life. The story teaches us to cherish the important things in life, such as relationships and experiences, over material possessions. The Little Prince's love for his rose, for instance, serves as a reminder that true love requires care, attention, and sacrifice. In a world where superficiality and materialism are often glorified, The Little Prince's message is a much-needed reminder to prioritize what truly matters.\n",
      "\n",
      "Body Paragraph 3: The Importance of Seeing Things Differently\n",
      "The Little Prince also encourages readers to see things differently, which is a valuable skill in modern life. The story teaches us to look beyond the surface and appreciate the beauty and complexity of the world around us. The Little Prince's ability to see things from a different perspective allows him to form meaningful connections with the characters he encounters, despite their flaws. In a world where people are often quick to judge and stereotype, The Little Prince's message is a call to be more open-minded and empathetic.\n",
      "\n",
      "Conclusion:\n",
      "In conclusion, The Little Prince is a highly typical novella that offers valuable life lessons and philosophies that remain relevant in modern life. The story's message of love, friendship, and responsibility, as well as its emphasis on seeing things differently, is a much-needed reminder in a world that often prioritizes material possessions and superficiality. The Little Prince's enduring popularity is a testament to its timeless message, which continues to inspire and captivate readers of all ages.\n",
      "\n",
      "================================\u001b[1m Human Message \u001b[0m=================================\n",
      "\n",
      "Overall, your essay provides a clear and insightful analysis of the typicality of The Little Prince and its message in modern life. You effectively argue that the novella's characters and themes are highly relatable and relevant, using specific examples from the text to support your points.\n",
      "\n",
      "However, there are a few areas where your essay could be improved. First, I would suggest adding more depth to your analysis by exploring the historical and cultural context of the novella. For example, you could discuss how The Little Prince reflects Saint-Exupéry's experiences as a pilot and his views on society and human nature. This would add another layer of complexity to your argument and demonstrate a more nuanced understanding of the text.\n",
      "\n",
      "Additionally, while your essay is well-written and clear, I would recommend varying your sentence structure and length to create a more engaging style. This could include using more complex sentences, incorporating rhetorical questions, and using transitional phrases to link your ideas together more smoothly.\n",
      "\n",
      "In terms of length, your essay is a good starting point, but I would recommend expanding it to at least 500 words to allow for more in-depth analysis and development of your ideas. This would also give you more space to incorporate outside sources and engage with scholarly perspectives on the novella.\n",
      "\n",
      "Overall, your essay shows a strong understanding of the text and its relevance in modern life. With some additional depth and development, I have no doubt that you could produce an excellent analysis of The Little Prince.\n",
      "\n",
      "==================================\u001b[1m Ai Message \u001b[0m==================================\n",
      "\n",
      "Title: The Relevance of The Little Prince's Message in Modern Life: A Deeper Analysis\n",
      "\n",
      "Introduction:\n",
      "Antoine de Saint-Exupéry's \"The Little Prince\" is a novella that has captured the hearts of millions of readers worldwide since its publication in 1943. The story, which follows a young prince traveling through various planets, is chock-full of timeless life lessons and philosophies that remain relevant even in today's modern world. This essay will explore the typicality of The Little Prince and its message in modern life, with a deeper analysis of the historical and cultural context of the novella.\n",
      "\n",
      "Body Paragraph 1: The Typicality of The Little Prince\n",
      "At first glance, The Little Prince may seem like a whimsical tale about a young boy's adventures in space. However, upon closer examination, it becomes clear that the novella is a reflection of the human condition, making it highly typical. The characters that the Little Prince encounters on each planet, such as the vain king, the drunkard, the businessman, and the lamplighter, represent various aspects of adult behavior and societal norms. These characters, despite their absurdities, are highly relatable, making the story resonate with readers of all ages.\n",
      "\n",
      "The Little Prince's author, Antoine de Saint-Exupéry, was a French pilot and writer who drew from his own experiences to create the novella's characters and themes. The vain king, for instance, can be seen as a critique of authority figures who wield power without considering the consequences. Saint-Exupéry's experiences as a pilot, which exposed him to the dangers and unpredictability of flight, also influenced the story's themes of responsibility and perspective.\n",
      "\n",
      "Body Paragraph 2: The Little Prince's Message in Modern Life\n",
      "The Little Prince's message of love, friendship, and responsibility is particularly relevant in modern life. The story teaches us to cherish the important things in life, such as relationships and experiences, over material possessions. The Little Prince's love for his rose, for instance, serves as a reminder that true love requires care, attention, and sacrifice. In a world where superficiality and materialism are often glorified, The Little Prince's message is a much-needed reminder to prioritize what truly matters.\n",
      "\n",
      "Moreover, The Little Prince's emphasis on responsibility is particularly relevant in a world where people often shy away from accountability. The story teaches us that taking responsibility for our actions and decisions is essential for personal growth and self-awareness. The Little Prince's encounter with the fox, for instance, highlights the importance of forming meaningful connections and taking responsibility for the relationships we form.\n",
      "\n",
      "Body Paragraph 3: The Importance of Seeing Things Differently\n",
      "The Little Prince also encourages readers to see things differently, which is a valuable skill in modern life. The story teaches us to look beyond the surface and appreciate the beauty and complexity of the world around us. The Little Prince's ability to see things from a different perspective allows him to form meaningful connections with the characters he encounters, despite their flaws. In a world where people are often quick to judge and stereotype, The Little Prince's message is a call to be more open-minded and empathetic.\n",
      "\n",
      "The Little Prince's emphasis on perspective is also reflected in Saint-Exupéry's own worldview. As a pilot, Saint-Exupéry was exposed to different cultures and landscapes, which influenced his appreciation for diversity and difference. The Little Prince's encounters with the various inhabitants of the planets he visits reflect this appreciation for diversity and the importance of understanding different perspectives.\n",
      "\n",
      "Conclusion:\n",
      "In conclusion, The Little Prince is a highly typical novella that offers valuable life lessons and philosophies that remain relevant in modern life. The story's message of love, friendship, and responsibility, as well as its emphasis on seeing things differently, is a much-needed reminder in a world that often prioritizes material possessions and superficiality. The Little Prince's enduring popularity is a testament to its timeless message, which continues to inspire and captivate readers of all ages. By exploring the historical and cultural context of the novella, this essay has added depth to the analysis of The Little Prince's typicality and message in modern life.\n",
      "\n",
      "================================\u001b[1m Human Message \u001b[0m=================================\n",
      "\n",
      "Excellent job! Your revised essay provides a much more in-depth analysis of The Little Prince and its relevance in modern life. By incorporating historical and cultural context, you have added depth and complexity to your argument, demonstrating a nuanced understanding of the novella.\n",
      "\n",
      "Your writing style is also much improved, with varied sentence structure and length creating a more engaging and dynamic flow. Your use of transitional phrases and specific examples from the text also help to link your ideas together more smoothly, creating a cohesive and well-organized argument.\n",
      "\n",
      "In terms of length, your essay is now at an appropriate length for a full analysis, allowing you to explore your ideas in more depth and provide more specific examples from the text.\n",
      "\n",
      "Overall, I am very impressed with your revised essay. You have taken the feedback provided and used it to create a thoughtful, well-written, and insightful analysis of The Little Prince. Great job!\n",
      "\n",
      "==================================\u001b[1m Ai Message \u001b[0m==================================\n",
      "\n",
      "Thank you for your positive feedback! I'm glad that I could improve my analysis of The Little Prince and its relevance in modern life by incorporating historical and cultural context. I also appreciate your feedback on my writing style, and I will continue to work on varying my sentence structure and length to create a more engaging and dynamic flow.\n",
      "\n",
      "I am glad that the revised essay is now at an appropriate length, allowing me to explore my ideas in more depth and provide more specific examples from the text. I will continue to strive for clarity, cohesion, and depth in my writing.\n",
      "\n",
      "Thank you again for your feedback and support. I look forward to continuing to improve my writing skills and analysis of literary texts.\n",
      "\n",
      "================================\u001b[1m Human Message \u001b[0m=================================\n",
      "\n",
      "You're very welcome! I'm glad that I could provide constructive feedback to help you improve your analysis and writing style. It's always a pleasure to see a student take feedback to heart and use it to create a stronger piece of writing.\n",
      "\n",
      "Your dedication to clarity, cohesion, and depth in your writing is commendable, and I have no doubt that you will continue to excel in your writing and analysis of literary texts. Keep up the great work, and don't hesitate to reach out if you have any further questions or concerns. I'm always here to help!\n",
      "\n",
      "==================================\u001b[1m Ai Message \u001b[0m==================================\n",
      "\n",
      "Thank you so much for your kind words and encouragement! I will definitely reach out if I have any further questions or concerns. I appreciate your support and guidance throughout this process.\n",
      "\n",
      "Your expertise and knowledge of literary analysis have been invaluable in helping me improve my writing and analysis skills. I look forward to continuing to learn and grow as a writer and reader.\n",
      "\n",
      "Thank you again for everything!\n"
     ]
    }
   ],
   "source": [
    "ChatPromptTemplate.from_messages(event[END]).pretty_print()"
   ]
  }
 ],
 "metadata": {
  "kernelspec": {
   "display_name": ".venv",
   "language": "python",
   "name": "python3"
  },
  "language_info": {
   "codemirror_mode": {
    "name": "ipython",
    "version": 3
   },
   "file_extension": ".py",
   "mimetype": "text/x-python",
   "name": "python",
   "nbconvert_exporter": "python",
   "pygments_lexer": "ipython3",
   "version": "3.12.3"
  }
 },
 "nbformat": 4,
 "nbformat_minor": 2
}
