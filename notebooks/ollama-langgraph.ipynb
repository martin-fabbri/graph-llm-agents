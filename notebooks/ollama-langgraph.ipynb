{
 "cells": [
  {
   "cell_type": "code",
   "execution_count": 1,
   "metadata": {},
   "outputs": [
    {
     "name": "stdout",
     "output_type": "stream",
     "text": [
      "Note: you may need to restart the kernel to use updated packages.\n",
      "Note: you may need to restart the kernel to use updated packages.\n",
      "Note: you may need to restart the kernel to use updated packages.\n",
      "Note: you may need to restart the kernel to use updated packages.\n"
     ]
    }
   ],
   "source": [
    "%pip install -qq langchain==0.1.10\n",
    "%pip install -qq langgraph==0.0.26\n",
    "%pip install -qq pydantic==1.10.8\n",
    "%pip install -qq langchainhub==0.1.14\n",
    "# %pip install -qq transformers==4.38.2"
   ]
  },
  {
   "cell_type": "markdown",
   "metadata": {},
   "source": [
    "### Setup Ollama\n",
    "Installing `lspci` with apt\n",
    "```bash\n",
    "$ sudo apt-get update\n",
    "$ sudo apt-get install pciutils\n",
    "```\n",
    "\n",
    "```bash\n",
    "$ curl -fsSL https://ollama.com/install.sh | sh\n",
    "```\n",
    "```bash\n",
    "$ ollama serve\n",
    "```\n",
    "```bash\n",
    "$ ollama pull openhermes\n",
    "$ ollama pull nexusraven\n",
    "```"
   ]
  },
  {
   "cell_type": "markdown",
   "metadata": {},
   "source": [
    "### Defining the Agent State and Tools"
   ]
  },
  {
   "cell_type": "code",
   "execution_count": 1,
   "metadata": {},
   "outputs": [],
   "source": [
    "from datetime import datetime\n",
    "\n",
    "from langchain_core.tools import tool\n",
    "from langgraph.prebuilt import ToolExecutor\n",
    "\n",
    "\n",
    "@tool\n",
    "def get_now(format: str = \"%Y-%m-%d %H:%M:%S\"):\n",
    "    \"\"\"Get the current time\"\"\"\n",
    "    return datetime.now().strftime(format)\n",
    "\n",
    "\n",
    "tools = [get_now]\n",
    "tool_executor = ToolExecutor(tools)"
   ]
  },
  {
   "cell_type": "markdown",
   "metadata": {},
   "source": [
    "### Integrating Ollama and Defining the Workflow"
   ]
  },
  {
   "cell_type": "code",
   "execution_count": 2,
   "metadata": {},
   "outputs": [],
   "source": [
    "import operator\n",
    "from typing import Annotated, TypedDict, Union\n",
    "\n",
    "from langchain import hub\n",
    "from langchain.agents import create_react_agent\n",
    "from langchain_community.chat_models import ChatOllama\n",
    "from langchain_core.agents import AgentAction, AgentFinish\n",
    "from langchain_core.messages import BaseMessage\n",
    "\n",
    "\n",
    "class AgentState(TypedDict):\n",
    "    input: str\n",
    "    chat_history: list[BaseMessage]\n",
    "    agent_outcome: Union[AgentAction, AgentFinish, None]\n",
    "    intermediate_steps: Annotated[list[tuple[AgentAction, str]], operator.add]\n",
    "\n",
    "\n",
    "model = ChatOllama(model=\"openhermes\")\n",
    "prompt = hub.pull(\"hwchase17/react\")\n",
    "\n",
    "agent_runnable = create_react_agent(model, tools, prompt)"
   ]
  },
  {
   "cell_type": "code",
   "execution_count": 3,
   "metadata": {},
   "outputs": [],
   "source": [
    "from IPython.display import display, Markdown, HTML\n",
    "\n",
    "\n",
    "def log_markdown(message_markdown: str):\n",
    "    display(Markdown(message_markdown))\n",
    "\n",
    "\n",
    "def log_info(message: str):\n",
    "    display(HTML(f'<span style=\"color: green;\">Info: {message}</span>'))"
   ]
  },
  {
   "cell_type": "code",
   "execution_count": 4,
   "metadata": {},
   "outputs": [],
   "source": [
    "from langgraph.prebuilt import ToolInvocation\n",
    "\n",
    "\n",
    "def execute_tools(state):\n",
    "    log_markdown(\"**Called execute tools**\")\n",
    "    messages = [state[\"agent_outcome\"]]\n",
    "    last_message = messages[-1]\n",
    "\n",
    "    tool_name = last_message.tool\n",
    "    log_markdown(f\"Calling Tool: `{tool_name}`\")\n",
    "\n",
    "    action = ToolInvocation(\n",
    "        tool=tool_name,\n",
    "        tool_input=last_message.tool_input,\n",
    "    )\n",
    "\n",
    "    response = tool_executor.invoke(action)\n",
    "    return {\"intermediate_steps\": [(state[\"agent_outcome\"], response)]}\n",
    "\n",
    "\n",
    "def run_agent(state):\n",
    "    \"\"\"\n",
    "    #if you want to better manages intermediate steps\n",
    "    inputs = state.copy()\n",
    "    if len(inputs['intermediate_steps']) > 5:\n",
    "        inputs['intermediate_steps'] = inputs['intermediate_steps'][-5:]\n",
    "    \"\"\"\n",
    "    agent_outcome = agent_runnable.invoke(state)\n",
    "    return {\"agent_outcome\": agent_outcome}\n",
    "\n",
    "\n",
    "def should_continue(state):\n",
    "    messages = [state[\"agent_outcome\"]]\n",
    "    last_message = messages[-1]\n",
    "    if \"Action\" not in last_message.log:\n",
    "        return \"end\"\n",
    "    else:\n",
    "        return \"continue\""
   ]
  },
  {
   "cell_type": "code",
   "execution_count": 5,
   "metadata": {},
   "outputs": [],
   "source": [
    "from langgraph.graph import END, StateGraph\n",
    "\n",
    "workflow = StateGraph(AgentState)\n",
    "\n",
    "workflow.add_node(\"agent\", run_agent)\n",
    "workflow.add_node(\"action\", execute_tools)\n",
    "\n",
    "\n",
    "workflow.set_entry_point(\"agent\")\n",
    "\n",
    "workflow.add_conditional_edges(\n",
    "    \"agent\", should_continue, {\"continue\": \"action\", \"end\": END}\n",
    ")\n",
    "\n",
    "\n",
    "workflow.add_edge(\"action\", \"agent\")\n",
    "app = workflow.compile()\n",
    "\n",
    "input_text = \"Whats the current time?\""
   ]
  },
  {
   "cell_type": "code",
   "execution_count": 10,
   "metadata": {},
   "outputs": [
    {
     "name": "stdout",
     "output_type": "stream",
     "text": [
      "{'agent_outcome': AgentAction(tool='get_now', tool_input='No input required for this action.', log='To find out the current time, we can use the get_now tool.\\nAction: get_now\\nAction Input: No input required for this action.')}\n"
     ]
    },
    {
     "data": {
      "text/markdown": [
       "**Called execute tools**"
      ],
      "text/plain": [
       "<IPython.core.display.Markdown object>"
      ]
     },
     "metadata": {},
     "output_type": "display_data"
    },
    {
     "data": {
      "text/markdown": [
       "Calling Tool: `get_now`"
      ],
      "text/plain": [
       "<IPython.core.display.Markdown object>"
      ]
     },
     "metadata": {},
     "output_type": "display_data"
    },
    {
     "name": "stdout",
     "output_type": "stream",
     "text": [
      "{'intermediate_steps': [(AgentAction(tool='get_now', tool_input='No input required for this action.', log='To find out the current time, we can use the get_now tool.\\nAction: get_now\\nAction Input: No input required for this action.'), 'No input required for this action.')]}\n",
      "{'agent_outcome': AgentFinish(return_values={'output': '<current_time>'}, log=\"The current time is the final answer to the original input question. The time will be displayed in the format specified by '%Y-%m-%d %H:%M:%S'.\\n\\nFinal Answer: <current_time>\")}\n",
      "{'input': 'Whats the current time?', 'chat_history': [], 'agent_outcome': AgentFinish(return_values={'output': '<current_time>'}, log=\"The current time is the final answer to the original input question. The time will be displayed in the format specified by '%Y-%m-%d %H:%M:%S'.\\n\\nFinal Answer: <current_time>\"), 'intermediate_steps': [(AgentAction(tool='get_now', tool_input='No input required for this action.', log='To find out the current time, we can use the get_now tool.\\nAction: get_now\\nAction Input: No input required for this action.'), 'No input required for this action.')]}\n"
     ]
    }
   ],
   "source": [
    "inputs = {\"input\": input_text, \"chat_history\": []}\n",
    "results = []\n",
    "for s in app.stream(inputs):\n",
    "    result = list(s.values())[0]\n",
    "    results.append(result)\n",
    "    print(result)"
   ]
  }
 ],
 "metadata": {
  "kernelspec": {
   "display_name": "Python 3 (ipykernel)",
   "language": "python",
   "name": "python3"
  },
  "language_info": {
   "codemirror_mode": {
    "name": "ipython",
    "version": 3
   },
   "file_extension": ".py",
   "mimetype": "text/x-python",
   "name": "python",
   "nbconvert_exporter": "python",
   "pygments_lexer": "ipython3",
   "version": "3.12.2"
  }
 },
 "nbformat": 4,
 "nbformat_minor": 2
}
