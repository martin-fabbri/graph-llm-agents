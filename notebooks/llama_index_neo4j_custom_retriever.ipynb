{
 "cells": [
  {
   "cell_type": "code",
   "execution_count": 20,
   "metadata": {},
   "outputs": [],
   "source": [
    "import os\n",
    "from dotenv import load_dotenv\n",
    "\n",
    "load_dotenv()\n",
    "\n",
    "NEO4J_URI = os.getenv(\"LOCAL_NEO4J_URI\")\n",
    "NEO4J_USERNAME = os.getenv(\"LOCAL_NEO4J_USERNAME\")\n",
    "NEO4J_PASSWORD = os.getenv(\"LOCAL_NEO4J_PASSWORD\")"
   ]
  },
  {
   "cell_type": "code",
   "execution_count": 21,
   "metadata": {},
   "outputs": [],
   "source": [
    "import nest_asyncio\n",
    "\n",
    "nest_asyncio.apply()"
   ]
  },
  {
   "cell_type": "code",
   "execution_count": 22,
   "metadata": {},
   "outputs": [
    {
     "name": "stderr",
     "output_type": "stream",
     "text": [
      "Received notification from DBMS server: {severity: WARNING} {code: Neo.ClientNotification.Statement.FeatureDeprecationWarning} {category: DEPRECATION} {title: This feature is deprecated and will be removed in future versions.} {description: The procedure has a deprecated field. ('config' used by 'apoc.meta.graphSample' is deprecated.)} {position: line: 1, column: 1, offset: 0} for query: \"CALL apoc.meta.graphSample() YIELD nodes, relationships RETURN nodes, [rel in relationships | {name:apoc.any.property(rel, 'type'), count: apoc.any.property(rel, 'count')}] AS relationships\"\n"
     ]
    }
   ],
   "source": [
    "from llama_index.graph_stores.neo4j import Neo4jPGStore\n",
    "\n",
    "graph_store = Neo4jPGStore(\n",
    "    username=NEO4J_USERNAME,\n",
    "    password=NEO4J_PASSWORD,\n",
    "    url=NEO4J_URI,\n",
    ")"
   ]
  },
  {
   "cell_type": "markdown",
   "metadata": {},
   "source": [
    "### Dataset\n",
    "\n",
    "News article dataset fetched from Diffbot. Since the property graph index operates with documents, we have to wrap the text from the news as LlamaIndex documents."
   ]
  },
  {
   "cell_type": "code",
   "execution_count": 24,
   "metadata": {},
   "outputs": [
    {
     "data": {
      "text/html": [
       "<div>\n",
       "<style scoped>\n",
       "    .dataframe tbody tr th:only-of-type {\n",
       "        vertical-align: middle;\n",
       "    }\n",
       "\n",
       "    .dataframe tbody tr th {\n",
       "        vertical-align: top;\n",
       "    }\n",
       "\n",
       "    .dataframe thead th {\n",
       "        text-align: right;\n",
       "    }\n",
       "</style>\n",
       "<table border=\"1\" class=\"dataframe\">\n",
       "  <thead>\n",
       "    <tr style=\"text-align: right;\">\n",
       "      <th></th>\n",
       "      <th>title</th>\n",
       "      <th>date</th>\n",
       "      <th>text</th>\n",
       "    </tr>\n",
       "  </thead>\n",
       "  <tbody>\n",
       "    <tr>\n",
       "      <th>0</th>\n",
       "      <td>Chevron: Best Of Breed</td>\n",
       "      <td>2031-04-06T01:36:32.000000000+00:00</td>\n",
       "      <td>JHVEPhoto Like many companies in the O&amp;G secto...</td>\n",
       "    </tr>\n",
       "    <tr>\n",
       "      <th>1</th>\n",
       "      <td>FirstEnergy (NYSE:FE) Posts Earnings Results</td>\n",
       "      <td>2030-04-29T06:55:28.000000000+00:00</td>\n",
       "      <td>FirstEnergy (NYSE:FE – Get Rating) posted its ...</td>\n",
       "    </tr>\n",
       "    <tr>\n",
       "      <th>2</th>\n",
       "      <td>Dáil almost suspended after Sinn Féin TD put p...</td>\n",
       "      <td>2023-06-15T14:32:11.000000000+00:00</td>\n",
       "      <td>The Dáil was almost suspended on Thursday afte...</td>\n",
       "    </tr>\n",
       "    <tr>\n",
       "      <th>3</th>\n",
       "      <td>Epic’s latest tool can animate hyperrealistic ...</td>\n",
       "      <td>2023-06-15T14:00:00.000000000+00:00</td>\n",
       "      <td>Today, Epic is releasing a new tool designed t...</td>\n",
       "    </tr>\n",
       "    <tr>\n",
       "      <th>4</th>\n",
       "      <td>EU to Ban Huawei, ZTE from Internal Commission...</td>\n",
       "      <td>2023-06-15T13:50:00.000000000+00:00</td>\n",
       "      <td>The European Commission is planning to ban equ...</td>\n",
       "    </tr>\n",
       "  </tbody>\n",
       "</table>\n",
       "</div>"
      ],
      "text/plain": [
       "                                               title  \\\n",
       "0                             Chevron: Best Of Breed   \n",
       "1       FirstEnergy (NYSE:FE) Posts Earnings Results   \n",
       "2  Dáil almost suspended after Sinn Féin TD put p...   \n",
       "3  Epic’s latest tool can animate hyperrealistic ...   \n",
       "4  EU to Ban Huawei, ZTE from Internal Commission...   \n",
       "\n",
       "                                  date  \\\n",
       "0  2031-04-06T01:36:32.000000000+00:00   \n",
       "1  2030-04-29T06:55:28.000000000+00:00   \n",
       "2  2023-06-15T14:32:11.000000000+00:00   \n",
       "3  2023-06-15T14:00:00.000000000+00:00   \n",
       "4  2023-06-15T13:50:00.000000000+00:00   \n",
       "\n",
       "                                                text  \n",
       "0  JHVEPhoto Like many companies in the O&G secto...  \n",
       "1  FirstEnergy (NYSE:FE – Get Rating) posted its ...  \n",
       "2  The Dáil was almost suspended on Thursday afte...  \n",
       "3  Today, Epic is releasing a new tool designed t...  \n",
       "4  The European Commission is planning to ban equ...  "
      ]
     },
     "execution_count": 24,
     "metadata": {},
     "output_type": "execute_result"
    }
   ],
   "source": [
    "import pandas as pd\n",
    "from llama_index.core import Document\n",
    "\n",
    "NEWS_DATASET = \"data/news_articles.csv\"\n",
    "\n",
    "news = pd.read_csv(NEWS_DATASET)\n",
    "documents = [\n",
    "    Document(text=f\"{row['title']}: {row['text']}\") for i, row in news.iterrows()\n",
    "]\n",
    "news.head()"
   ]
  },
  {
   "cell_type": "markdown",
   "metadata": {},
   "source": [
    "### Define Default LLMs"
   ]
  },
  {
   "cell_type": "code",
   "execution_count": 25,
   "metadata": {},
   "outputs": [],
   "source": [
    "from llama_index.embeddings.openai import OpenAIEmbedding\n",
    "from llama_index.llms.openai import OpenAI\n",
    "\n",
    "llm = OpenAI(model=\"gpt-4o\", temperature=0.0)\n",
    "embed_model = OpenAIEmbedding(model_name=\"text-embedding-3-small\")"
   ]
  },
  {
   "cell_type": "markdown",
   "metadata": {},
   "source": [
    "### Graph construction\n",
    "\n",
    "LlamaIndex provides multiple out-of-the-box graph constructors. We will use the SchemaLLMPathExtractor, which allows us to define the schema of the graph structure we want to extract from documents. \n",
    "\n",
    "We begin by defining the types of nodes and relationships we want the LLM to extract."
   ]
  },
  {
   "cell_type": "code",
   "execution_count": 28,
   "metadata": {},
   "outputs": [],
   "source": [
    "from typing import Literal\n",
    "\n",
    "# best practice to use upper-case\n",
    "entities = Literal[\"PERSON\", \"LOCATION\", \"ORGANIZATION\", \"PRODUCT\", \"EVENT\"]\n",
    "relations = Literal[\n",
    "    \"SUPPLIER_OF\",\n",
    "    \"COMPETITOR\",\n",
    "    \"PARTNERSHIP\",\n",
    "    \"ACQUISITION\",\n",
    "    \"WORKS_AT\",\n",
    "    \"SUBSIDIARY\",\n",
    "    \"BOARD_MEMBER\",\n",
    "    \"CEO\",\n",
    "    \"PROVIDES\",\n",
    "    \"HAS_EVENT\",\n",
    "    \"IN_LOCATION\",\n",
    "]"
   ]
  },
  {
   "cell_type": "markdown",
   "metadata": {},
   "source": [
    "Next, we will specify the relationships associated with each node label."
   ]
  },
  {
   "cell_type": "code",
   "execution_count": 29,
   "metadata": {},
   "outputs": [],
   "source": [
    "# define which entities can have which relations\n",
    "validation_schema = {\n",
    "    \"Person\": [\"WORKS_AT\", \"BOARD_MEMBER\", \"CEO\", \"HAS_EVENT\"],\n",
    "    \"Organization\": [\n",
    "        \"SUPPLIER_OF\",\n",
    "        \"COMPETITOR\",\n",
    "        \"PARTNERSHIP\",\n",
    "        \"ACQUISITION\",\n",
    "        \"WORKS_AT\",\n",
    "        \"SUBSIDIARY\",\n",
    "        \"BOARD_MEMBER\",\n",
    "        \"CEO\",\n",
    "        \"PROVIDES\",\n",
    "        \"HAS_EVENT\",\n",
    "        \"IN_LOCATION\",\n",
    "    ],\n",
    "    \"Product\": [\"PROVIDES\"],\n",
    "    \"Event\": [\"HAS_EVENT\", \"IN_LOCATION\"],\n",
    "    \"Location\": [\"HAPPENED_AT\", \"IN_LOCATION\"],\n",
    "}"
   ]
  },
  {
   "cell_type": "markdown",
   "metadata": {},
   "source": [
    "A `PERSON` can have the following relationships:\n",
    "\n",
    "* WORKS_AT\n",
    "* BOARD_MEMBER\n",
    "* CEO\n",
    "* HAS_EVENT\n",
    "\n",
    "The schema is quite specific except for the `EVENT` node label, which is slightly more ambiguous and allows the LLM to capture various types of information.\n",
    "\n",
    "Now that we have defined the graph schema, we can input it into the `SchemaLLMPathExtractor` and use it to construct a graph."
   ]
  },
  {
   "cell_type": "code",
   "execution_count": 30,
   "metadata": {},
   "outputs": [
    {
     "data": {
      "application/vnd.jupyter.widget-view+json": {
       "model_id": "796eabcaf80c42fa8f0193caa34f2497",
       "version_major": 2,
       "version_minor": 0
      },
      "text/plain": [
       "Parsing nodes:   0%|          | 0/250 [00:00<?, ?it/s]"
      ]
     },
     "metadata": {},
     "output_type": "display_data"
    },
    {
     "name": "stderr",
     "output_type": "stream",
     "text": [
      "Failed to write data to connection IPv4Address(('localhost', 7687)) (ResolvedIPv4Address(('127.0.0.1', 7687)))\n",
      "/Users/martinfabbri/Workspace/github/graph-llm-agents/.venv/lib/python3.12/site-packages/langchain/agents/json_chat/base.py:22: SyntaxWarning: invalid escape sequence '\\ '\n",
      "  \"\"\"Create an agent that uses JSON to format its logic, build for Chat Models.\n",
      "Extracting paths from text with schema:  70%|███████   | 175/250 [05:41<02:17,  1.84s/it]Retrying llama_index.llms.openai.base.OpenAI._achat in 0.9246500773252473 seconds as it raised RateLimitError: Error code: 429 - {'error': {'message': 'Rate limit reached for gpt-4o in organization org-nt09lN7VTRSJX5krqgTaiyY7 on tokens per min (TPM): Limit 30000, Used 29294, Requested 773. Please try again in 134ms. Visit https://platform.openai.com/account/rate-limits to learn more.', 'type': 'tokens', 'param': None, 'code': 'rate_limit_exceeded'}}.\n",
      "Extracting paths from text with schema:  87%|████████▋ | 217/250 [07:03<01:02,  1.90s/it]Retrying llama_index.llms.openai.base.OpenAI._achat in 0.5600309345490879 seconds as it raised RateLimitError: Error code: 429 - {'error': {'message': 'Rate limit reached for gpt-4o in organization org-nt09lN7VTRSJX5krqgTaiyY7 on tokens per min (TPM): Limit 30000, Used 29770, Requested 888. Please try again in 1.316s. Visit https://platform.openai.com/account/rate-limits to learn more.', 'type': 'tokens', 'param': None, 'code': 'rate_limit_exceeded'}}.\n",
      "Extracting paths from text with schema: 100%|██████████| 250/250 [08:28<00:00,  2.03s/it]\n",
      "Received notification from DBMS server: {severity: WARNING} {code: Neo.ClientNotification.Statement.UnknownPropertyKeyWarning} {category: UNRECOGNIZED} {title: The provided property key is not in the database} {description: One of the property names in your query is not available in the database, make sure you didn't misspell it or that the label is available when you run this statement in your application (the missing property name is: id)} {position: line: 1, column: 19, offset: 18} for query: \"MATCH (e) WHERE e.id in $ids \\n        WITH e\\n        RETURN e.id AS name,\\n               [l in labels(e) WHERE l <> '__Entity__' | l][0] AS type,\\n               e{.* , embedding: Null, id: Null} AS properties\\n        \"\n",
      "Received notification from DBMS server: {severity: WARNING} {code: Neo.ClientNotification.Statement.UnknownPropertyKeyWarning} {category: UNRECOGNIZED} {title: The provided property key is not in the database} {description: One of the property names in your query is not available in the database, make sure you didn't misspell it or that the label is available when you run this statement in your application (the missing property name is: id)} {position: line: 3, column: 18, offset: 62} for query: \"MATCH (e) WHERE e.id in $ids \\n        WITH e\\n        RETURN e.id AS name,\\n               [l in labels(e) WHERE l <> '__Entity__' | l][0] AS type,\\n               e{.* , embedding: Null, id: Null} AS properties\\n        \"\n",
      "Received notification from DBMS server: {severity: WARNING} {code: Neo.ClientNotification.Statement.UnknownPropertyKeyWarning} {category: UNRECOGNIZED} {title: The provided property key is not in the database} {description: One of the property names in your query is not available in the database, make sure you didn't misspell it or that the label is available when you run this statement in your application (the missing property name is: id)} {position: line: 1, column: 19, offset: 18} for query: \"MATCH (e) WHERE e.id in $ids \\n        WITH e\\n        RETURN e.id AS name,\\n               [l in labels(e) WHERE l <> '__Entity__' | l][0] AS type,\\n               e{.* , embedding: Null, id: Null} AS properties\\n        \"\n",
      "Received notification from DBMS server: {severity: WARNING} {code: Neo.ClientNotification.Statement.UnknownPropertyKeyWarning} {category: UNRECOGNIZED} {title: The provided property key is not in the database} {description: One of the property names in your query is not available in the database, make sure you didn't misspell it or that the label is available when you run this statement in your application (the missing property name is: id)} {position: line: 3, column: 18, offset: 62} for query: \"MATCH (e) WHERE e.id in $ids \\n        WITH e\\n        RETURN e.id AS name,\\n               [l in labels(e) WHERE l <> '__Entity__' | l][0] AS type,\\n               e{.* , embedding: Null, id: Null} AS properties\\n        \"\n",
      "Generating embeddings: 100%|██████████| 3/3 [00:03<00:00,  1.10s/it]\n",
      "Generating embeddings: 100%|██████████| 46/46 [00:01<00:00, 29.50it/s]\n",
      "Received notification from DBMS server: {severity: WARNING} {code: Neo.ClientNotification.Statement.FeatureDeprecationWarning} {category: DEPRECATION} {title: This feature is deprecated and will be removed in future versions.} {description: The procedure has a deprecated field. ('config' used by 'apoc.meta.graphSample' is deprecated.)} {position: line: 1, column: 1, offset: 0} for query: \"CALL apoc.meta.graphSample() YIELD nodes, relationships RETURN nodes, [rel in relationships | {name:apoc.any.property(rel, 'type'), count: apoc.any.property(rel, 'count')}] AS relationships\"\n"
     ]
    }
   ],
   "source": [
    "from llama_index.core import PropertyGraphIndex\n",
    "from llama_index.core.indices.property_graph import SchemaLLMPathExtractor\n",
    "\n",
    "kg_extractor = SchemaLLMPathExtractor(\n",
    "    llm=llm,\n",
    "    possible_entities=entities,\n",
    "    possible_relations=relations,\n",
    "    kg_validation_schema=validation_schema,\n",
    "    # if false, allows for values outside of the schema\n",
    "    # useful for using the schema as a suggestion\n",
    "    strict=True,\n",
    ")\n",
    "\n",
    "NUMBER_OF_ARTICLES = 250\n",
    "\n",
    "index = PropertyGraphIndex.from_documents(\n",
    "    documents[:NUMBER_OF_ARTICLES],\n",
    "    kg_extractors=[kg_extractor],\n",
    "    llm=llm,\n",
    "    embed_model=embed_model,\n",
    "    property_graph_store=graph_store,\n",
    "    show_progress=True,\n",
    ")"
   ]
  },
  {
   "cell_type": "markdown",
   "metadata": {},
   "source": [
    "The constructed graph contains both text chunks, which contain text and embeddings. If an entity was mentioned in the text chunk, there is a `MENTIONS` relationships between the text chunk and entity. Additionally, entities can have relationships to other entities."
   ]
  },
  {
   "cell_type": "markdown",
   "metadata": {},
   "source": [
    "### Entity deduplication\n",
    "\n",
    "Entity deduplication or disambiguation is an important but often overlooked step in graph construction. Essentially, it is a cleaning step where you try to match multiple nodes that represent a single entity and merge them together into a single node for better graph structural integrity. We will use a combination of text embedding similarity and word distance to find potential duplicates. We start by defining the vector index on our entities in the graph."
   ]
  },
  {
   "cell_type": "code",
   "execution_count": 32,
   "metadata": {},
   "outputs": [
    {
     "data": {
      "text/plain": [
       "[]"
      ]
     },
     "execution_count": 32,
     "metadata": {},
     "output_type": "execute_result"
    }
   ],
   "source": [
    "graph_store.structured_query(\"\"\"\n",
    "CREATE VECTOR INDEX entity IF NOT EXISTS\n",
    "FOR (m:`__Entity__`)\n",
    "ON m.embedding\n",
    "OPTIONS {indexConfig: {\n",
    " `vector.dimensions`: 1536,\n",
    " `vector.similarity_function`: 'cosine'\n",
    "}}\n",
    "\"\"\"\n",
    ")"
   ]
  },
  {
   "cell_type": "code",
   "execution_count": 33,
   "metadata": {},
   "outputs": [
    {
     "name": "stdout",
     "output_type": "stream",
     "text": [
      "{'combinedResult': ['MetaHuman', 'MetaHuman Animator']}\n",
      "{'combinedResult': ['ZTE', 'ZTE Corp.']}\n",
      "{'combinedResult': ['American Fork', 'American Fork, Utah']}\n",
      "{'combinedResult': ['XPeng', 'XPeng Inc', 'Xpeng']}\n",
      "{'combinedResult': ['Bank of America', 'Bank of America Corp.']}\n",
      "{'combinedResult': ['Hyatt', 'Hyatt Hotels']}\n",
      "{'combinedResult': ['Star Ocean The Second Story', 'Star Ocean: The Second Story', 'Star Ocean: The Second Story R', 'Star Ocean: The Second Story R logos']}\n",
      "{'combinedResult': ['Square Enix Support Center', 'Square Enix Support Center website', 'Square Enix support site', 'Square Enix support website']}\n",
      "{'combinedResult': ['Star Ocean First Departure R', 'Star Ocean: First Departure', 'Star Ocean: First Departure R']}\n",
      "{'combinedResult': ['Citigroup', 'Citigroup Inc.']}\n",
      "{'combinedResult': ['Wells Fargo', 'Wells Fargo & Co.']}\n",
      "{'combinedResult': ['JPMorgan', 'JPMorgan (JPM)', 'JPMorgan Asset Management', 'JPMorgan Chase & Co.']}\n",
      "{'combinedResult': ['show ‘Vanshaj’', '‘Vanshaj’']}\n",
      "{'combinedResult': ['CarMax Auto Owner Trust 2019-3', 'CarMax Auto Owner Trust 2019-4']}\n",
      "{'combinedResult': ['333-228379', '333-228379-03', '333-228379-04']}\n",
      "{'combinedResult': ['Newcastle', 'Newcastle United']}\n",
      "{'combinedResult': ['Coinbase', 'Coinbase (COIN)']}\n",
      "{'combinedResult': ['Premier League 2023-24', 'Premier League 2023/24']}\n",
      "{'combinedResult': ['Launch in India', 'launched in India']}\n",
      "{'combinedResult': ['4GB + 64GB storage option', '6GB + 128GB storage option']}\n",
      "{'combinedResult': ['IT Taxi', 'IT taxi']}\n",
      "{'combinedResult': ['Buy rating', 'Hold rating']}\n",
      "{'combinedResult': ['US', 'USA']}\n",
      "{'combinedResult': ['Delta Air Lines', 'Delta Air Lines Inc.']}\n",
      "{'combinedResult': ['General Motors', 'General Motors Co.']}\n",
      "{'combinedResult': ['suspended the program', 'suspended the program in March of 2020']}\n",
      "{'combinedResult': ['repaid more than $10 billion of debt', 'repaid more than $10 billion of debt in the last two years']}\n",
      "{'combinedResult': ['gained 14%', 'gained 19%']}\n",
      "{'combinedResult': [\"Moody's Investors Service\", 'Moody’s Investors Service']}\n",
      "{'combinedResult': ['Sony WF-1000XM4', 'Sony WF-1000XM5']}\n",
      "{'combinedResult': ['electric cars', 'electric-car']}\n",
      "{'combinedResult': ['Alibaba', 'Alibaba Group']}\n",
      "{'combinedResult': ['dividend', 'dividends']}\n",
      "{'combinedResult': ['Insiders selling shares', 'insiders buying shares']}\n",
      "{'combinedResult': ['European Commission approval of Rinvoq® for the treatment of Crohn’s disease', 'approval of Rinvoq® for the treatment of Crohn’s disease']}\n",
      "{'combinedResult': ['treatment for non-radiographic axial spondyloarthritis', 'treatment for radiographic axial spondyloarthritis']}\n",
      "{'combinedResult': ['BBC2', 'BBC4']}\n",
      "{'combinedResult': ['dividend increase', 'quarterly dividend increase']}\n",
      "{'combinedResult': ['shares dip', 'shares drop']}\n",
      "{'combinedResult': ['Baltimore', 'Baltimore Ravens']}\n",
      "{'combinedResult': ['Atlas Air', 'Atlas Air Worldwide', 'Atlas Air Worldwide Holdings Inc.']}\n",
      "{'combinedResult': ['Goldman Sachs', 'Goldman Sachs Group Inc.']}\n",
      "{'combinedResult': ['June 14, 2023', 'June 15 2023']}\n",
      "{'combinedResult': ['Zee Entertainment', 'Zee Entertainment Enterprises Ltd.']}\n",
      "{'combinedResult': ['1963 AFL Draft', '1963 NFL Draft']}\n",
      "{'combinedResult': ['Star Ocean 2', 'Star Ocean 2 remake']}\n",
      "{'combinedResult': ['Australian Opposition Party', 'Australian opposition party']}\n",
      "{'combinedResult': ['BTC Halving', 'Bitcoin Halving', 'Bitcoin Halving History', 'bitcoin halving']}\n",
      "{'combinedResult': ['Tesla Inc', 'Tesla Inc.']}\n",
      "{'combinedResult': ['Nvidia', 'Nvidia Corp.']}\n",
      "{'combinedResult': ['Qualcomm', 'Qualcomm Technologies, Inc.']}\n",
      "{'combinedResult': ['PlayStation Plus Premium', 'PlayStation Plus Premium subscription']}\n",
      "{'combinedResult': ['Game Trials', 'game trials']}\n",
      "{'combinedResult': [\"European People's Party\", 'European People’s Party']}\n",
      "{'combinedResult': ['Realme 11 Pro 5G', 'Realme 11 Pro 5G series', 'Realme 11 Pro+ 5G']}\n",
      "{'combinedResult': ['NEW DELHI', 'New Delhi']}\n",
      "{'combinedResult': ['Death of three American tourists', 'Death of two American tourists']}\n",
      "{'combinedResult': ['Baja California Sur', 'Baja California Sur, Mexico']}\n",
      "{'combinedResult': ['Hennes & Mauritz', 'Hennes & Mauritz AB']}\n",
      "{'combinedResult': ['Airtel', 'Bharti Airtel']}\n",
      "{'combinedResult': ['32 GB internal storage', '64 GB internal storage']}\n",
      "{'combinedResult': ['fastest broadband', 'fastest broadband in the UK']}\n",
      "{'combinedResult': ['Smart Hub', 'Smart Hub Plus', 'Smart Hub Plus router']}\n",
      "{'combinedResult': ['Uber driver shot', 'details of Uber driver shot', 'investigating Uber driver shot']}\n",
      "{'combinedResult': ['Smart Wi-Fi', 'Smart Wi-Fi Plus']}\n",
      "{'combinedResult': ['PH10 SmartWeld+', 'PH20 SmartWeld+']}\n",
      "{'combinedResult': ['1.0 TSI', '1.5 TSI']}\n",
      "{'combinedResult': ['customized rainwear & safety solutions', 'customized rainwear safety solutions']}\n",
      "{'combinedResult': ['Levi & Korsinsky', 'Levi & Korsinsky, LLP']}\n",
      "{'combinedResult': ['Class Action Lawsuit', 'class action lawsuit']}\n",
      "{'combinedResult': ['Legal Services', 'legal services']}\n",
      "{'combinedResult': ['Securities Fraud', 'securities fraud']}\n",
      "{'combinedResult': ['OPPO Reno 6', 'OPPO Reno5 K']}\n",
      "{'combinedResult': ['City NGP (Navigation Guided Pilot)', 'City NGP (Navigation Guided Pilot) system']}\n",
      "{'combinedResult': ['Inditex', 'Inditex SA']}\n",
      "{'combinedResult': ['GroupM', 'GroupM India', 'GroupM Nexus', 'GroupM South Asia']}\n",
      "{'combinedResult': ['Adani Green Energy', 'Adani Green Energy Limited', 'Adani Green Energy Ltd']}\n",
      "{'combinedResult': ['Achieve target of 45 GW of renewable energy capacity by 2030', 'achieve its target of 45 GW of renewable energy capacity by 2030']}\n",
      "{'combinedResult': ['Fujifilm Instax SQ40', 'Instax SQ40']}\n",
      "{'combinedResult': ['Activision Blizzard', 'Activision Blizzard, Inc.']}\n",
      "{'combinedResult': [\"Vera's iconic Land Rover\", \"photo of Vera's iconic Land Rover\"]}\n",
      "{'combinedResult': ['$1,751', '$1,785']}\n",
      "{'combinedResult': ['PETRONAS Chemicals', 'PETRONAS Chemicals Group Berhad', 'PETRONAS Chemicals MTBE Sdn. Bhd.']}\n",
      "{'combinedResult': ['Sky Q', 'Sky Q 1TB UHD box', 'Sky Q 1TB box', 'Sky Q 2TB box', 'Sky Q main box']}\n",
      "{'combinedResult': ['Ranked among top 10 in World for Renewable Energy', 'Ranked among top 10 in World for Renewable Energy by Sustainalytics']}\n",
      "{'combinedResult': ['Amazon Prime', 'Amazon Prime Video']}\n",
      "{'combinedResult': ['Adani Enterprises', 'Adani Enterprises Ltd']}\n",
      "{'combinedResult': ['Adani Ports', 'Adani Ports & SEZ Ltd']}\n",
      "{'combinedResult': ['Adani Total Gas', 'Adani Total Gas Ltd']}\n",
      "{'combinedResult': ['Adani Transmission', 'Adani Transmission Ltd']}\n"
     ]
    }
   ],
   "source": [
    "# Just for inspection\n",
    "similarity_threshold = 0.9\n",
    "word_edit_distance = 5\n",
    "data = graph_store.structured_query(\"\"\"\n",
    "MATCH (e:__Entity__)\n",
    "CALL {\n",
    "  WITH e\n",
    "  CALL db.index.vector.queryNodes('entity', 10, e.embedding)\n",
    "  YIELD node, score\n",
    "  WITH node, score\n",
    "  WHERE score > toFLoat($cutoff)\n",
    "      AND (toLower(node.name) CONTAINS toLower(e.name) OR toLower(e.name) CONTAINS toLower(node.name)\n",
    "           OR apoc.text.distance(toLower(node.name), toLower(e.name)) < $distance)\n",
    "      AND labels(e) = labels(node)\n",
    "  WITH node, score\n",
    "  ORDER BY node.name\n",
    "  RETURN collect(node) AS nodes\n",
    "}\n",
    "WITH distinct nodes\n",
    "WHERE size(nodes) > 1\n",
    "WITH collect([n in nodes | n.name]) AS results\n",
    "UNWIND range(0, size(results)-1, 1) as index\n",
    "WITH results, index, results[index] as result\n",
    "WITH apoc.coll.sort(reduce(acc = result, index2 IN range(0, size(results)-1, 1) |\n",
    "        CASE WHEN index <> index2 AND\n",
    "            size(apoc.coll.intersection(acc, results[index2])) > 0\n",
    "            THEN apoc.coll.union(acc, results[index2])\n",
    "            ELSE acc\n",
    "        END\n",
    ")) as combinedResult\n",
    "WITH distinct(combinedResult) as combinedResult\n",
    "// extra filtering\n",
    "WITH collect(combinedResult) as allCombinedResults\n",
    "UNWIND range(0, size(allCombinedResults)-1, 1) as combinedResultIndex\n",
    "WITH allCombinedResults[combinedResultIndex] as combinedResult, combinedResultIndex, allCombinedResults\n",
    "WHERE NOT any(x IN range(0,size(allCombinedResults)-1,1)\n",
    "    WHERE x <> combinedResultIndex\n",
    "    AND apoc.coll.containsAll(allCombinedResults[x], combinedResult)\n",
    ")\n",
    "RETURN combinedResult\n",
    "\"\"\", param_map={'cutoff': similarity_threshold, 'distance': word_edit_distance})\n",
    "for row in data:\n",
    "    print(row)"
   ]
  },
  {
   "cell_type": "code",
   "execution_count": 34,
   "metadata": {},
   "outputs": [
    {
     "data": {
      "text/plain": [
       "[{'count(*)': 90}]"
      ]
     },
     "execution_count": 34,
     "metadata": {},
     "output_type": "execute_result"
    }
   ],
   "source": [
    "graph_store.structured_query(\"\"\"\n",
    "MATCH (e:__Entity__)\n",
    "CALL {\n",
    "  WITH e\n",
    "  CALL db.index.vector.queryNodes('entity', 10, e.embedding)\n",
    "  YIELD node, score\n",
    "  WITH node, score\n",
    "  WHERE score > toFLoat($cutoff)\n",
    "      AND (toLower(node.name) CONTAINS toLower(e.name) OR toLower(e.name) CONTAINS toLower(node.name)\n",
    "           OR apoc.text.distance(toLower(node.name), toLower(e.name)) < $distance)\n",
    "      AND labels(e) = labels(node)\n",
    "  WITH node, score\n",
    "  ORDER BY node.name\n",
    "  RETURN collect(node) AS nodes\n",
    "}\n",
    "WITH distinct nodes\n",
    "WHERE size(nodes) > 1\n",
    "WITH collect([n in nodes | n.name]) AS results\n",
    "UNWIND range(0, size(results)-1, 1) as index\n",
    "WITH results, index, results[index] as result\n",
    "WITH apoc.coll.sort(reduce(acc = result, index2 IN range(0, size(results)-1, 1) |\n",
    "        CASE WHEN index <> index2 AND\n",
    "            size(apoc.coll.intersection(acc, results[index2])) > 0\n",
    "            THEN apoc.coll.union(acc, results[index2])\n",
    "            ELSE acc\n",
    "        END\n",
    ")) as combinedResult\n",
    "WITH distinct(combinedResult) as combinedResult\n",
    "// extra filtering\n",
    "WITH collect(combinedResult) as allCombinedResults\n",
    "UNWIND range(0, size(allCombinedResults)-1, 1) as combinedResultIndex\n",
    "WITH allCombinedResults[combinedResultIndex] as combinedResult, combinedResultIndex, allCombinedResults\n",
    "WHERE NOT any(x IN range(0,size(allCombinedResults)-1,1)\n",
    "    WHERE x <> combinedResultIndex\n",
    "    AND apoc.coll.containsAll(allCombinedResults[x], combinedResult)\n",
    ")\n",
    "CALL {\n",
    "  WITH combinedResult\n",
    "\tUNWIND combinedResult AS name\n",
    "\tMATCH (e:__Entity__ {name:name})\n",
    "\tWITH e\n",
    "\tORDER BY size(e.name) DESC // prefer longer names to remain after merging\n",
    "\tRETURN collect(e) AS nodes\n",
    "}\n",
    "CALL apoc.refactor.mergeNodes(nodes, {properties: {\n",
    "    `.*`: 'discard'\n",
    "}})\n",
    "YIELD node\n",
    "RETURN count(*)\n",
    "\"\"\", param_map={'cutoff': similarity_threshold, 'distance': word_edit_distance})"
   ]
  },
  {
   "cell_type": "markdown",
   "metadata": {},
   "source": [
    "### Implementing a custom retriever\n",
    "Great, we have constructed a knowledge graph based on the news dataset. Now, let's examine our retriever options. At the moment, there are four existing retrievers available:\n",
    "\n",
    "LLMSynonymRetriever: takes the query, and tries to generate keywords and synonyms to retrieve nodes (and therefore the paths connected to those nodes).\n",
    "VectorContextRetriever: retrieves nodes based on their vector similarity, and then fetches the paths connected to those nodes\n",
    "TextToCypherRetriever: uses a graph store schema, your query, and a prompt template in order to generate and execute a cypher query\n",
    "CypherTemplateRetriever: Rather than letting the LLM have free-range of generating any cypher statement, we can instead provide a cypher template and have the LLM fill in the parameters.\n",
    "Additionally, implementing a custom retriever is straightforward, so that is exactly what we will do here. Our custom retriever will first identify entities in the input query and then execute the VectorContextRetriever for each identified entity separately. First, we will define the entity extraction model and prompt."
   ]
  },
  {
   "cell_type": "code",
   "execution_count": 41,
   "metadata": {},
   "outputs": [],
   "source": [
    "from pydantic import BaseModel\n",
    "from typing import Optional, List\n",
    "\n",
    "\n",
    "class Entities(BaseModel):\n",
    "    \"\"\"List of named entities in the text such as names of people, organizations, concepts, and locations\"\"\"\n",
    "    names: Optional[List[str]]\n",
    "\n",
    "\n",
    "prompt_template_entities = \"\"\"\n",
    "Extract all named entities such as names of people, organizations, concepts, and locations\n",
    "from the following text:\n",
    "{text}\n",
    "\"\"\""
   ]
  },
  {
   "cell_type": "code",
   "execution_count": 42,
   "metadata": {},
   "outputs": [],
   "source": [
    "from typing import Any, Optional\n",
    "\n",
    "from llama_index.core.embeddings import BaseEmbedding\n",
    "from llama_index.core.retrievers import CustomPGRetriever, VectorContextRetriever\n",
    "from llama_index.core.vector_stores.types import VectorStore\n",
    "from llama_index.program.openai import OpenAIPydanticProgram\n",
    "\n",
    "\n",
    "class MyCustomRetriever(CustomPGRetriever):\n",
    "    \"\"\"Custom retriever with cohere reranking.\"\"\"\n",
    "\n",
    "    def init(\n",
    "        self,\n",
    "        ## vector context retriever params\n",
    "        embed_model: Optional[BaseEmbedding] = None,\n",
    "        vector_store: Optional[VectorStore] = None,\n",
    "        similarity_top_k: int = 4,\n",
    "        path_depth: int = 1,\n",
    "        include_text: bool = True,\n",
    "        **kwargs: Any,\n",
    "    ) -> None:\n",
    "        \"\"\"Uses any kwargs passed in from class constructor.\"\"\"\n",
    "        self.entity_extraction = OpenAIPydanticProgram.from_defaults(\n",
    "            output_cls=Entities, prompt_template_str=prompt_template_entities\n",
    "        )\n",
    "        self.vector_retriever = VectorContextRetriever(\n",
    "            self.graph_store,\n",
    "            include_text=self.include_text,\n",
    "            embed_model=embed_model,\n",
    "            similarity_top_k=similarity_top_k,\n",
    "            path_depth=path_depth,\n",
    "        )\n",
    "\n",
    "    def custom_retrieve(self, query_str: str) -> str:\n",
    "        \"\"\"Define custom retriever with reranking.\n",
    "\n",
    "        Could return `str`, `TextNode`, `NodeWithScore`, or a list of those.\n",
    "        \"\"\"\n",
    "        entities = self.entity_extraction(text=query_str).names\n",
    "        result_nodes = []\n",
    "        if entities:\n",
    "            print(f\"Detected entities: {entities}\")\n",
    "            for entity in entities:\n",
    "                result_nodes.extend(self.vector_retriever.retrieve(entity))\n",
    "        else:\n",
    "            result_nodes.extend(self.vector_retriever.retrieve(query_str))\n",
    "        ## TMP: please change\n",
    "        final_text = \"\\n\\n\".join(\n",
    "            [n.get_content(metadata_mode=\"llm\") for n in result_nodes]\n",
    "        )\n",
    "        return final_text"
   ]
  },
  {
   "cell_type": "markdown",
   "metadata": {},
   "source": [
    "The MyCustomRetriever class has only two methods. You can use the init method to instantiate any functions or classes you will be using in the retriever. In this example, we instantiate the entity detection OpenAI program along with the vector context retriever.\n",
    "\n",
    "The custom_retrieve method is called during retrieval. In our custom retriever implementation, we first identify any relevant entities in the text. If any entities are found, we iterate and execute the vector context retriever for each entity. On the other hand, if no entities are identified we pass the entire input to the vector context retriever.\n",
    "\n",
    "As you can observe, you can easily customize the retriever for your use-case by incorporating existing retrievers or starting from scratch as you can easily execute Cypher statements by using the structured_query method of the graph store.\n",
    "### Question-answering flow\n",
    "Let's wrap it up by using the custom retriever to answer an example question. We need to pass the retriever to the RetrieverQueryEngine ."
   ]
  },
  {
   "cell_type": "code",
   "execution_count": 45,
   "metadata": {},
   "outputs": [],
   "source": [
    "from llama_index.core.query_engine import RetrieverQueryEngine\n",
    "\n",
    "custom_sub_retriever = MyCustomRetriever(\n",
    "    index.property_graph_store,\n",
    "    include_text=True,\n",
    "    vector_store=index.vector_store,\n",
    "    embed_model=embed_model\n",
    ")\n",
    "\n",
    "query_engine = RetrieverQueryEngine.from_args(\n",
    "    index.as_retriever(sub_retrievers=[custom_sub_retriever]), llm=llm\n",
    ")"
   ]
  },
  {
   "cell_type": "markdown",
   "metadata": {},
   "source": [
    "### Try out some queries"
   ]
  },
  {
   "cell_type": "code",
   "execution_count": 46,
   "metadata": {},
   "outputs": [
    {
     "name": "stdout",
     "output_type": "stream",
     "text": [
      "Detected entities: ['Maliek Collins', \"Darragh O'Brien\"]\n",
      "Maliek Collins has signed a two-year deal with the Houston Texans, which includes a $23 million contract extension with $20 million guaranteed. This new deal gives him a raise from his previous contract, where he earned $17 million with $8.5 million guaranteed. Collins, who previously played for the Dallas Cowboys and the Las Vegas Raiders, had a career-high 37 tackles and 3.5 sacks over 15 games last NFL season. He is expected to be a key piece in the Texans' defensive line and fit well with the 4-3 alignment that DeMeco Ryans is expected to implement.\n",
      "\n",
      "Darragh O’Brien is the Minister for Housing and works in the Government. He was involved in a heated debate in the Dáil regarding retained firefighters, which almost led to the suspension of the session. During the debate, Sinn Féin TD John Brady placed an on-call pager in front of O’Brien, an act that was described as \"theatre\" and \"choreographed.\" O’Brien expressed confidence that the dispute with the firefighters could be resolved and encouraged unions to re-engage with the State’s industrial relations process.\n"
     ]
    }
   ],
   "source": [
    "response = query_engine.query(\"What do you know about Maliek Collins or Darragh O’Brien?\")\n",
    "print(str(response))"
   ]
  },
  {
   "cell_type": "code",
   "execution_count": 48,
   "metadata": {},
   "outputs": [
    {
     "name": "stdout",
     "output_type": "stream",
     "text": [
      "Detected entities: ['Justin']\n",
      "You might be referring to Justin Herbert, who is a quarterback currently involved in NFL contract extension negotiations.\n"
     ]
    }
   ],
   "source": [
    "response = query_engine.query(\"I am looking for a quarterback named Justin, but I am not sure about his last name.\")\n",
    "print(str(response))"
   ]
  },
  {
   "cell_type": "code",
   "execution_count": 49,
   "metadata": {},
   "outputs": [
    {
     "name": "stdout",
     "output_type": "stream",
     "text": [
      "Detected entities: ['Ducks', 'Beavers']\n",
      "There is no news related to any former Ducks' or Beavers' players.\n"
     ]
    }
   ],
   "source": [
    "response = query_engine.query(\"Do you have any news related to any former Ducks' or Beavers' players?\")\n",
    "print(str(response))"
   ]
  },
  {
   "cell_type": "code",
   "execution_count": 50,
   "metadata": {},
   "outputs": [
    {
     "name": "stdout",
     "output_type": "stream",
     "text": [
      "Detected entities: ['Justin Herbert', 'university']\n",
      "The provided information does not specify which university Justin Herbert attended.\n"
     ]
    }
   ],
   "source": [
    "response = query_engine.query(\"To which university did Justin Herbert go?\")\n",
    "print(str(response))"
   ]
  },
  {
   "cell_type": "code",
   "execution_count": 51,
   "metadata": {},
   "outputs": [
    {
     "name": "stdout",
     "output_type": "stream",
     "text": [
      "Detected entities: ['Justin Herbert']\n",
      "The information provided does not include details about where Justin Herbert went to college.\n"
     ]
    }
   ],
   "source": [
    "response = query_engine.query(\"Where did Justin Herbert go to college?\")\n",
    "print(str(response))"
   ]
  },
  {
   "cell_type": "code",
   "execution_count": 52,
   "metadata": {},
   "outputs": [
    {
     "name": "stdout",
     "output_type": "stream",
     "text": [
      "Detected entities: ['Justin Herbert']\n",
      "The information provided does not include details about Justin Herbert's place of birth.\n"
     ]
    }
   ],
   "source": [
    "response = query_engine.query(\"Where was Justin Herbert born?\")\n",
    "print(str(response))"
   ]
  },
  {
   "cell_type": "markdown",
   "metadata": {},
   "source": [
    "### Summary\n",
    "\n",
    "We've explored the intricacies of customizing the property graph index within LlamaIndex, focusing on implementing entity deduplication and designing custom retrieval methods to enhance GraphRAG accuracy. The property graph index allows for a modular and flexible approach, utilizing various graph constructors and retrievers to tailor the implementation to your specific needs. Whether you're building your first knowledge graph or optimizing for a unique dataset, these customizable components offer a powerful toolkit. We invite you to test out the property graph index integration to see how they can elevate your knowledge graph projects."
   ]
  },
  {
   "cell_type": "code",
   "execution_count": null,
   "metadata": {},
   "outputs": [],
   "source": []
  },
  {
   "cell_type": "code",
   "execution_count": null,
   "metadata": {},
   "outputs": [],
   "source": []
  }
 ],
 "metadata": {
  "kernelspec": {
   "display_name": ".venv",
   "language": "python",
   "name": "python3"
  },
  "language_info": {
   "codemirror_mode": {
    "name": "ipython",
    "version": 3
   },
   "file_extension": ".py",
   "mimetype": "text/x-python",
   "name": "python",
   "nbconvert_exporter": "python",
   "pygments_lexer": "ipython3",
   "version": "3.12.3"
  }
 },
 "nbformat": 4,
 "nbformat_minor": 2
}
