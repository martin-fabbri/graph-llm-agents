{
 "cells": [
  {
   "cell_type": "code",
   "execution_count": 1,
   "metadata": {},
   "outputs": [
    {
     "data": {
      "text/plain": [
       "True"
      ]
     },
     "execution_count": 1,
     "metadata": {},
     "output_type": "execute_result"
    }
   ],
   "source": [
    "from dotenv import load_dotenv\n",
    "\n",
    "load_dotenv()"
   ]
  },
  {
   "cell_type": "code",
   "execution_count": 2,
   "metadata": {},
   "outputs": [],
   "source": [
    "import os\n",
    "\n",
    "GEMINI_API_KEY = os.getenv(\"GEMINI_API_KEY\")\n",
    "\n",
    "HF_API_KEY = os.getenv(\"HUGGINGFACE_API_KEY\")"
   ]
  },
  {
   "cell_type": "code",
   "execution_count": 3,
   "metadata": {},
   "outputs": [],
   "source": [
    "from langchain_community.graphs import Neo4jGraph\n",
    "\n",
    "NEO4J_DATABASE = \"graphrag\"\n",
    "\n",
    "# Neo4j\n",
    "NEO4J_URI = os.getenv(\"LOCAL_NEO4J_URI\")\n",
    "NEO4J_USERNAME = os.getenv(\"LOCAL_NEO4J_USERNAME\")\n",
    "NEO4J_PASSWORD = os.getenv(\"LOCAL_NEO4J_PASSWORD\")\n",
    "\n",
    "graph = Neo4jGraph(\n",
    "    url=NEO4J_URI,\n",
    "    username=NEO4J_USERNAME,\n",
    "    password=NEO4J_PASSWORD,\n",
    "    database=NEO4J_DATABASE,\n",
    ")"
   ]
  },
  {
   "cell_type": "markdown",
   "metadata": {},
   "source": [
    "### Data Pre-processing"
   ]
  },
  {
   "cell_type": "code",
   "execution_count": 4,
   "metadata": {},
   "outputs": [
    {
     "data": {
      "text/html": [
       "<div>\n",
       "<style scoped>\n",
       "    .dataframe tbody tr th:only-of-type {\n",
       "        vertical-align: middle;\n",
       "    }\n",
       "\n",
       "    .dataframe tbody tr th {\n",
       "        vertical-align: top;\n",
       "    }\n",
       "\n",
       "    .dataframe thead th {\n",
       "        text-align: right;\n",
       "    }\n",
       "</style>\n",
       "<table border=\"1\" class=\"dataframe\">\n",
       "  <thead>\n",
       "    <tr style=\"text-align: right;\">\n",
       "      <th></th>\n",
       "      <th>id</th>\n",
       "      <th>name</th>\n",
       "      <th>company</th>\n",
       "      <th>education</th>\n",
       "      <th>languages</th>\n",
       "      <th>industry</th>\n",
       "      <th>country</th>\n",
       "    </tr>\n",
       "  </thead>\n",
       "  <tbody>\n",
       "    <tr>\n",
       "      <th>0</th>\n",
       "      <td>paul-lukes-906608134</td>\n",
       "      <td>Paul Lukes</td>\n",
       "      <td>Toolbox Creative</td>\n",
       "      <td>California College of the Arts</td>\n",
       "      <td>English|Czech</td>\n",
       "      <td>Advertising Services</td>\n",
       "      <td>United States</td>\n",
       "    </tr>\n",
       "    <tr>\n",
       "      <th>1</th>\n",
       "      <td>roberto-merola-baa923103</td>\n",
       "      <td>Roberto Merola</td>\n",
       "      <td>Capgemini</td>\n",
       "      <td>Université libre de Bruxelles</td>\n",
       "      <td>English|Italian|French|Dutch|German</td>\n",
       "      <td>IT Services and IT Consulting</td>\n",
       "      <td>Belgium</td>\n",
       "    </tr>\n",
       "    <tr>\n",
       "      <th>2</th>\n",
       "      <td>minju-hong-bsn-rn-1a7801239</td>\n",
       "      <td>Minju Hong, BSN, RN</td>\n",
       "      <td>University of Washington Medical Center</td>\n",
       "      <td>University of Washington School of Nursing</td>\n",
       "      <td>Korean|English</td>\n",
       "      <td>Hospitals and Health Care</td>\n",
       "      <td>United States</td>\n",
       "    </tr>\n",
       "    <tr>\n",
       "      <th>3</th>\n",
       "      <td>prateek-chitpur-710a1a12a</td>\n",
       "      <td>Prateek Chitpur</td>\n",
       "      <td>George Mason University</td>\n",
       "      <td>George Mason University Education George Mason...</td>\n",
       "      <td>English|Hindi|Marathi|Kannada|Telugu</td>\n",
       "      <td>Higher Education</td>\n",
       "      <td>United States</td>\n",
       "    </tr>\n",
       "    <tr>\n",
       "      <th>4</th>\n",
       "      <td>aadcampos</td>\n",
       "      <td>Alexandre Campos</td>\n",
       "      <td>Serpro - Serviço Federal de Processamento de D...</td>\n",
       "      <td>Unichristus</td>\n",
       "      <td>English</td>\n",
       "      <td>IT Services and IT Consulting</td>\n",
       "      <td>Brazil</td>\n",
       "    </tr>\n",
       "  </tbody>\n",
       "</table>\n",
       "</div>"
      ],
      "text/plain": [
       "                            id                 name  \\\n",
       "0         paul-lukes-906608134           Paul Lukes   \n",
       "1     roberto-merola-baa923103       Roberto Merola   \n",
       "2  minju-hong-bsn-rn-1a7801239  Minju Hong, BSN, RN   \n",
       "3    prateek-chitpur-710a1a12a      Prateek Chitpur   \n",
       "4                    aadcampos     Alexandre Campos   \n",
       "\n",
       "                                             company  \\\n",
       "0                                   Toolbox Creative   \n",
       "1                                          Capgemini   \n",
       "2            University of Washington Medical Center   \n",
       "3                            George Mason University   \n",
       "4  Serpro - Serviço Federal de Processamento de D...   \n",
       "\n",
       "                                           education  \\\n",
       "0                     California College of the Arts   \n",
       "1                      Université libre de Bruxelles   \n",
       "2         University of Washington School of Nursing   \n",
       "3  George Mason University Education George Mason...   \n",
       "4                                        Unichristus   \n",
       "\n",
       "                              languages                       industry  \\\n",
       "0                         English|Czech           Advertising Services   \n",
       "1   English|Italian|French|Dutch|German  IT Services and IT Consulting   \n",
       "2                        Korean|English      Hospitals and Health Care   \n",
       "3  English|Hindi|Marathi|Kannada|Telugu               Higher Education   \n",
       "4                               English  IT Services and IT Consulting   \n",
       "\n",
       "         country  \n",
       "0  United States  \n",
       "1        Belgium  \n",
       "2  United States  \n",
       "3  United States  \n",
       "4         Brazil  "
      ]
     },
     "execution_count": 4,
     "metadata": {},
     "output_type": "execute_result"
    }
   ],
   "source": [
    "import pandas as pd\n",
    "\n",
    "DATASET = \"data/profiles.csv\"\n",
    "df = pd.read_csv(DATASET)\n",
    "df.head()"
   ]
  },
  {
   "cell_type": "markdown",
   "metadata": {},
   "source": [
    "### Load data on Neo4J"
   ]
  },
  {
   "cell_type": "code",
   "execution_count": 5,
   "metadata": {},
   "outputs": [
    {
     "name": "stdout",
     "output_type": "stream",
     "text": [
      "Node properties:\n",
      "Person {name: STRING}\n",
      "Company {name: STRING}\n",
      "School {name: STRING}\n",
      "Industry {name: STRING}\n",
      "Country {name: STRING}\n",
      "Language {name: STRING}\n",
      "Relationship properties:\n",
      "\n",
      "The relationships:\n",
      "(:Person)-[:SPEAKS]->(:Language)\n",
      "(:Person)-[:WORKS_IN]->(:Company)\n",
      "(:Person)-[:LIVES_IN]->(:Country)\n",
      "(:Person)-[:EDUCATED_AT]->(:School)\n",
      "(:Company)-[:IS_IN]->(:Industry)\n"
     ]
    }
   ],
   "source": [
    "graph.refresh_schema()\n",
    "print(graph.schema)"
   ]
  },
  {
   "cell_type": "code",
   "execution_count": 6,
   "metadata": {},
   "outputs": [],
   "source": [
    "# people_query = \"\"\"\n",
    "# LOAD CSV WITH HEADERS FROM 'https://raw.githubusercontent.com/martin-fabbri/graph-llm-agents/main/notebooks/data/profiles.csv'\n",
    "# AS row\n",
    "# MERGE (person:Person {name: row.name})\n",
    "# MERGE (company:Company {name: row.company})\n",
    "# MERGE (school:School {name: row.education})\n",
    "# MERGE (industry:Industry {name: row.industry})\n",
    "# MERGE (country:Country {name: row.country})\n",
    "\n",
    "# FOREACH (lang in split(row.languages, '|') | \n",
    "#     MERGE (language:Language {name:trim(lang)})\n",
    "#     MERGE (person)-[:SPEAKS]->(language))\n",
    "\n",
    "# MERGE (person)-[:WORKS_IN]->(company)\n",
    "# MERGE (person)-[:LIVES_IN]->(country)\n",
    "# MERGE (person)-[:EDUCATED_AT]->(school)\n",
    "# MERGE (company)-[:IS_IN]->(industry)\n",
    "# \"\"\"\n",
    "\n",
    "# graph.query(people_query)"
   ]
  },
  {
   "cell_type": "code",
   "execution_count": 7,
   "metadata": {},
   "outputs": [
    {
     "name": "stdout",
     "output_type": "stream",
     "text": [
      "Node properties:\n",
      "Person {name: STRING}\n",
      "Company {name: STRING}\n",
      "School {name: STRING}\n",
      "Industry {name: STRING}\n",
      "Country {name: STRING}\n",
      "Language {name: STRING}\n",
      "Relationship properties:\n",
      "\n",
      "The relationships:\n",
      "(:Person)-[:SPEAKS]->(:Language)\n",
      "(:Person)-[:WORKS_IN]->(:Company)\n",
      "(:Person)-[:LIVES_IN]->(:Country)\n",
      "(:Person)-[:EDUCATED_AT]->(:School)\n",
      "(:Company)-[:IS_IN]->(:Industry)\n"
     ]
    }
   ],
   "source": [
    "graph.refresh_schema()\n",
    "print(graph.schema)"
   ]
  },
  {
   "cell_type": "code",
   "execution_count": 8,
   "metadata": {},
   "outputs": [],
   "source": [
    "from langchain.chains import GraphCypherQAChain\n",
    "from langchain_google_genai import ChatGoogleGenerativeAI\n",
    "\n",
    "llm = ChatGoogleGenerativeAI(\n",
    "    model=\"gemini-1.5-flash-latest\", google_api_key=GEMINI_API_KEY, temperature=0\n",
    ")\n",
    "chain = GraphCypherQAChain.from_llm(graph=graph, llm=llm, verbose=True)"
   ]
  },
  {
   "cell_type": "markdown",
   "metadata": {},
   "source": [
    "#### Question: A worker who graduated from Simon Fraser University is currently employed at?\n",
    "\n",
    "1. Returns [] (gemini-pro-1.0)\n",
    "\n",
    "MATCH (p:Person)-[:EDUCATED_AT]->(s:School {name: \"Simon Fraser University\"})-[:IS_IN]->(i:Industry)<-[:IS_IN]-(c:Company)<-[:WORKS_IN]-(p)\n",
    "RETURN c.name\n",
    "\n",
    "2. Rerturns \"Elastic Path\" (gemini-pro-1.5)\n",
    "\n",
    "MATCH (p:Person)-[:EDUCATED_AT]->(s:School {name: 'Simon Fraser University'}), (p)-[:WORKS_IN]->(c:Company) RETURN c.name\n",
    "\n",
    "3. Rerturns [] (gemini-flash-1.5)\n",
    "\n",
    "MATCH (p:Person)-[:EDUCATED_AT]->(s:School {name: \"Simon Fraser University\"})-[:WORKS_IN]->(c:Company) RETURN c.name\n",
    "\n"
   ]
  },
  {
   "cell_type": "code",
   "execution_count": 9,
   "metadata": {},
   "outputs": [
    {
     "name": "stdout",
     "output_type": "stream",
     "text": [
      "====== START ======\n",
      "\n",
      "\n",
      "\u001b[1m> Entering new GraphCypherQAChain chain...\u001b[0m\n"
     ]
    }
   ],
   "source": [
    "questions = [\n",
    "    \"List all companies in advertising services industry!\",\n",
    "    \"A worker who graduated from Simon Fraser University is currently employed at?\",\n",
    "    \"Where is Paul Lukes working?\",\n",
    "    \"A worker residing in Canada who is proficient in Vietnamese?\",\n",
    "    \"How many workers in United States speak Urdu?\",\n",
    "]\n",
    "for q in questions:\n",
    "    print(\"====== START ======\")\n",
    "    print(chain.invoke(q)[\"result\"])\n",
    "    print(\"====== END ====== \\n\")"
   ]
  },
  {
   "cell_type": "markdown",
   "metadata": {},
   "source": [
    "### Prompting Strategies"
   ]
  },
  {
   "cell_type": "code",
   "execution_count": null,
   "metadata": {},
   "outputs": [],
   "source": [
    "examples = [\n",
    "    {\n",
    "        \"question\": \"Which workers speak French?\",\n",
    "        \"query\": \"MATCH (p:Person)-[:SPEAKS]->(l:Language {{name: 'French'}}) RETURN p.name\",\n",
    "    },\n",
    "    {\n",
    "        \"question\": \"What industries are workers named Emily associated with?\",\n",
    "        \"query\": \"MATCH (p:Person {{name: 'Emily'}})-[:WORKS_IN]->(c:Company)-[:IS_IN]->(i:Industry) RETURN i.name\",\n",
    "    },\n",
    "    {\n",
    "        \"question\": \"Which workers live in Canada and speak German?\",\n",
    "        \"query\": \"MATCH (p:Person)-[:LIVES_IN]->(:Country {{name: 'Canada'}}), (p)-[:SPEAKS]->(:Language {{name: 'German'}}) RETURN p.name\",\n",
    "    },\n",
    "    {\n",
    "        \"question\": \"In which countries do workers who speak Spanish live?\",\n",
    "        \"query\": \"MATCH (p:Person)-[:SPEAKS]->(:Language {{name: 'Spanish'}})<-[:SPEAKS]-(worker:Person)-[:LIVES_IN]->(c:Country) RETURN DISTINCT c.name AS Country\",\n",
    "    },\n",
    "    {\n",
    "        \"question\": \"What companies do workers named John work in?\",\n",
    "        \"query\": \"MATCH (p:Person {{name: 'John'}})-[:WORKS_IN]->(c:Company) RETURN c.name\",\n",
    "    },\n",
    "    {\n",
    "        \"question\": \"How many workers in Hospital and Health Care industry able to speak Korea\",\n",
    "        \"query\": \"MATCH (p:Person)-[:WORKS_IN]->(:Company)-[:IS_IN]->(:Industry {{name: 'Hospitals and Health Care'}}),(p)-[:SPEAKS]->(:Language {{name: 'Korean'}}) RETURN COUNT(DISTINCT p) AS NumberOfWorkers\",\n",
    "    },\n",
    "    {\n",
    "        \"question\": \"What companies are located in the technology industry?\",\n",
    "        \"query\": \"MATCH (c:Company)-[:IS_IN]->(:Industry {{name: 'Technology'}}) RETURN c.name\",\n",
    "    },\n",
    "    {\n",
    "        \"question\": \"Where do workers named Alice live?\",\n",
    "        \"query\": \"MATCH (p:Person {{name: 'Alice'}})-[:LIVES_IN]->(c:Country) RETURN c.name\",\n",
    "    },\n",
    "]"
   ]
  },
  {
   "cell_type": "code",
   "execution_count": null,
   "metadata": {},
   "outputs": [],
   "source": [
    "from langchain_core.prompts import FewShotPromptTemplate, PromptTemplate\n",
    "\n",
    "example_prompt = PromptTemplate.from_template(\n",
    "    \"User input: {question}\\nCypher query: {query}\"\n",
    ")\n",
    "\n",
    "\n",
    "prompt = FewShotPromptTemplate(\n",
    "    examples=examples[:3],\n",
    "    example_prompt=example_prompt,\n",
    "    prefix=\"You are a Neo4j expert. Given an input question, create a syntactically correct Cypher query to run.\\n\\nHere is the schema information\\n{schema}.\\n\\nBelow are a number of examples of questions and their corresponding Cypher queries.\",\n",
    "    suffix=\"User input: {question}\\nCypher query: \",\n",
    "    input_variables=[\"question\", \"schema\"],\n",
    ")"
   ]
  },
  {
   "cell_type": "code",
   "execution_count": null,
   "metadata": {},
   "outputs": [],
   "source": [
    "print(prompt.format(question=\"Where do Michael work?\", schema=\"foo\"))"
   ]
  },
  {
   "cell_type": "code",
   "execution_count": null,
   "metadata": {},
   "outputs": [],
   "source": [
    "from langchain.chains import GraphCypherQAChain\n",
    "\n",
    "chain2 = GraphCypherQAChain.from_llm(graph=graph, llm=llm, cypher_prompt=prompt, verbose=True)"
   ]
  },
  {
   "cell_type": "code",
   "execution_count": null,
   "metadata": {},
   "outputs": [],
   "source": [
    "questions = [\n",
    "    \"List all companies in advertising services industry!\",\n",
    "    \"A worker who graduated from Simon Fraser University is currently employed at?\",\n",
    "    \"Where is Paul Lukes working?\",\n",
    "    \"A worker residing in Canada who is proficient in Vietnamese?\",\n",
    "    \"How many worker in United States speak Urdu?\",\n",
    "]\n",
    "\n",
    "for q in questions:\n",
    "    print(\"====== START ======\")\n",
    "    print(chain2.invoke(q)[\"result\"])\n",
    "    print(\"====== END ====== \\n\")"
   ]
  },
  {
   "cell_type": "code",
   "execution_count": null,
   "metadata": {},
   "outputs": [],
   "source": [
    "examples = [\n",
    "    {\n",
    "        \"question\": \"Find all people who work in a particular industry and speak a specific language\",\n",
    "        \"query\": \"MATCH (p:Person)-[:WORKS_IN]->(:Company)-[:IS_IN]->(i:Industry {{name: 'Technology'}}), (p)-[:SPEAKS]->(l:Language {{name: 'English'}}) RETURN p.name AS PersonName\",\n",
    "    },\n",
    "    {\n",
    "        \"question\": \"Find all companies in a specific industry located in a particular country\",\n",
    "        \"query\": \"MATCH (c:Company)-[:IS_IN]->(i:Industry {{name: 'Healthcare'}}), (p:Person)-[:WORKS_IN]->(c), (p)-[:LIVES_IN]->(co:Country {{name: 'Germany'}}) RETURN DISTINCT c.name AS CompanyName\",\n",
    "    },\n",
    "    {\n",
    "        \"question\": \"Find all people who were educated at a specific school and live in a particular country\",\n",
    "        \"query\": \"MATCH (p:Person)-[:EDUCATED_AT]->(s:School {{name: 'Harvard University'}}), (p)-[:LIVES_IN]->(co:Country {{name: 'USA'}}) RETURN p.name AS PersonName\",\n",
    "    },\n",
    "    {\n",
    "        \"question\": \"Find all people who work in companies in a specific industry\",\n",
    "        \"query\": \"MATCH (p:Person)-[:WORKS_IN]->(c:Company)-[:IS_IN]->(i:Industry {{name: 'Finance'}}) RETURN p.name AS PersonName, c.name AS CompanyName\",\n",
    "    },\n",
    "    {\n",
    "        \"question\": \"Find all languages spoken by people who work in a specific industry\",\n",
    "        \"query\": \"MATCH (p:Person)-[:WORKS_IN]->(:Company)-[:IS_IN]->(i:Industry {{name: 'Education'}}), (p)-[:SPEAKS]->(l:Language) RETURN DISTINCT l.name AS LanguageName\",\n",
    "    },\n",
    "    {\n",
    "        \"question\": \"Find all companies in a specific industry where employees speak a specific language\",\n",
    "        \"query\": \"MATCH (p:Person)-[:WORKS_IN]->(c:Company)-[:IS_IN]->(i:Industry {{name: 'Automotive'}}), (p)-[:SPEAKS]->(l:Language {{name: 'Spanish'}}) RETURN DISTINCT c.name AS CompanyName\",\n",
    "    }\n",
    "]\n"
   ]
  },
  {
   "cell_type": "code",
   "execution_count": null,
   "metadata": {},
   "outputs": [],
   "source": [
    "from langchain_core.prompts import FewShotPromptTemplate, PromptTemplate\n",
    "\n",
    "example_prompt = PromptTemplate.from_template(\n",
    "    \"User input: {question}\\nCypher query: {query}\"\n",
    ")\n",
    "\n",
    "prompt = FewShotPromptTemplate(\n",
    "    examples=examples,\n",
    "    example_prompt=example_prompt,\n",
    "    prefix=\"You are a Neo4j expert. Given an input question, create a syntactically correct Cypher query to run.\\n\\nHere is the schema information\\n{schema}.\\n\\nBelow are a number of examples of questions and their corresponding Cypher queries.\",\n",
    "    suffix=\"User input: {question}\\nCypher query: \",\n",
    "    input_variables=[\"question\", \"schema\"],\n",
    ")"
   ]
  }
 ],
 "metadata": {
  "kernelspec": {
   "display_name": ".venv",
   "language": "python",
   "name": "python3"
  },
  "language_info": {
   "codemirror_mode": {
    "name": "ipython",
    "version": 3
   },
   "file_extension": ".py",
   "mimetype": "text/x-python",
   "name": "python",
   "nbconvert_exporter": "python",
   "pygments_lexer": "ipython3",
   "version": "3.12.3"
  }
 },
 "nbformat": 4,
 "nbformat_minor": 2
}
