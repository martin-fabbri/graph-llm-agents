{
 "cells": [
  {
   "cell_type": "code",
   "execution_count": 6,
   "metadata": {},
   "outputs": [],
   "source": [
    "import os\n",
    "from dotenv import load_dotenv\n",
    "\n",
    "load_dotenv()\n",
    "\n",
    "\n",
    "class Settings:\n",
    "    NEO4J_URI = os.getenv(\"LOCAL_NEO4J_URI\")\n",
    "    NEO4J_USERNAME = os.getenv(\"LOCAL_NEO4J_USERNAME\")\n",
    "    NEO4J_PASSWORD = os.getenv(\"LOCAL_NEO4J_PASSWORD\")\n",
    "    NEO4J_DATABASE = \"graphragexp\"\n",
    "    OPENAI_API_KEY = os.getenv(\"OPENAI_API_KEY\")\n",
    "    OPENAI_EMBEDDING_ENDPOINT = \"https://api.openai.com/v1/embeddings\"\n",
    "    # PYDATA_API_KEY = os.getenv('PYDATA_API_KEY')\n",
    "\n",
    "\n",
    "settings = Settings()"
   ]
  },
  {
   "cell_type": "code",
   "execution_count": 4,
   "metadata": {},
   "outputs": [],
   "source": [
    "from langchain_experimental.graph_transformers import LLMGraphTransformer\n",
    "from langchain_openai import ChatOpenAI\n",
    "\n",
    "llm = ChatOpenAI(\n",
    "    model=\"gpt-4o\",\n",
    "    api_key=settings.OPENAI_API_KEY,\n",
    ")\n",
    "\n",
    "llm_transformer = LLMGraphTransformer(llm=llm)"
   ]
  },
  {
   "cell_type": "code",
   "execution_count": 5,
   "metadata": {},
   "outputs": [],
   "source": [
    "from IPython.display import Markdown, display\n",
    "\n",
    "\n",
    "def display_markdown(text):\n",
    "    \"\"\"\n",
    "    Display the given text in markdown format in a Jupyter notebook.\n",
    "\n",
    "    Parameters:\n",
    "    text (str): The text to be displayed in markdown format.\n",
    "    \"\"\"\n",
    "    display(Markdown(text))"
   ]
  },
  {
   "cell_type": "code",
   "execution_count": 7,
   "metadata": {},
   "outputs": [],
   "source": [
    "from langchain_community.graphs import Neo4jGraph\n",
    "\n",
    "graph = Neo4jGraph(\n",
    "    url=settings.NEO4J_URI,\n",
    "    password=settings.NEO4J_PASSWORD,\n",
    "    username=settings.NEO4J_USERNAME,\n",
    "    database=settings.NEO4J_DATABASE,\n",
    ")"
   ]
  },
  {
   "cell_type": "code",
   "execution_count": 26,
   "metadata": {},
   "outputs": [],
   "source": [
    "from neo4j import GraphDatabase\n",
    "from yfiles_jupyter_graphs import GraphWidget\n",
    "\n",
    "# default_cypher = \"81`    \"\n",
    "default_cypher = \"MATCH (n:Speaker) RETURN n LIMIT 5\"\n",
    "\n",
    "\n",
    "def showGraph(cypher: str = default_cypher):\n",
    "    driver = GraphDatabase.driver(\n",
    "        uri=settings.NEO4J_URI,\n",
    "        auth=(settings.NEO4J_USERNAME, settings.NEO4J_PASSWORD),\n",
    "        database=settings.NEO4J_DATABASE,\n",
    "    )\n",
    "    session = driver.session()\n",
    "    widget = GraphWidget(graph=session.run(cypher).graph())\n",
    "    widget.node_label_mapping = \"id\"\n",
    "    # display(widget)\n",
    "    return widget"
   ]
  },
  {
   "cell_type": "markdown",
   "metadata": {},
   "source": [
    "### Data Loading"
   ]
  },
  {
   "cell_type": "code",
   "execution_count": 15,
   "metadata": {},
   "outputs": [],
   "source": [
    "import hashlib\n",
    "import uuid\n",
    "from datetime import datetime\n",
    "from typing import Final, Literal\n",
    "\n",
    "import requests\n",
    "\n",
    "from pydantic import BaseModel\n",
    "\n",
    "PYDATA_BASE_URL: Final[str] = \"https://london2024.pydata.org/api/events/cfp\"\n",
    "JINA_READER_BASE_URL: Final[str] = \"https://r.jina.ai\"\n",
    "\n",
    "\n",
    "class Speaker(BaseModel):\n",
    "    name: str\n",
    "    biography: str\n",
    "    id: str\n",
    "\n",
    "\n",
    "class SubmissionInfo(BaseModel):\n",
    "    id: str\n",
    "    speaker: Speaker\n",
    "    title: str\n",
    "    submission_type: Literal[\"Talk\", \"Tutorial\"]\n",
    "    abstract: str\n",
    "    state: Literal[\"confirmed\"]\n",
    "    description: str\n",
    "    duration: int\n",
    "    location: str\n",
    "    date: str\n",
    "    start_time: str\n",
    "    end_time: str\n",
    "\n",
    "\n",
    "class PyDataSubmissionResult(BaseModel):\n",
    "    results: list[SubmissionInfo]\n",
    "\n",
    "\n",
    "class ScrapedWebsite(BaseModel):\n",
    "    title: str\n",
    "    url: str\n",
    "    content: str\n",
    "\n",
    "\n",
    "def get_pydata_info():\n",
    "    url = f\"{PYDATA_BASE_URL}/submissions?limit=100\"\n",
    "    # headers = {\"Authorization\": f\"Bearer {settings.PYDATA_API_KEY}\"}\n",
    "\n",
    "    # response = requests.request(\"GET\", url, headers=headers)\n",
    "    response = requests.request(\"GET\", url)\n",
    "\n",
    "    return response.json()\n",
    "\n",
    "\n",
    "def extract_date_and_time(date_string: str) -> tuple[str, str]:\n",
    "    parsed_date = datetime.fromisoformat(date_string)\n",
    "\n",
    "    date_part = parsed_date.date().isoformat()\n",
    "    time_part = parsed_date.time().isoformat()\n",
    "\n",
    "    return date_part, time_part\n",
    "\n",
    "\n",
    "def parse_data(data: dict) -> PyDataSubmissionResult:\n",
    "    submissions = data.get(\"results\")\n",
    "    result: list[SubmissionInfo] = []\n",
    "    for submission in submissions:\n",
    "        for speaker in submission.get(\"speakers\"):\n",
    "            result.append(\n",
    "                SubmissionInfo(\n",
    "                    id=str(uuid.uuid4()),\n",
    "                    speaker=Speaker(\n",
    "                        id=str(uuid.uuid4()),\n",
    "                        name=speaker.get(\"name\"),\n",
    "                        biography=speaker.get(\"biography\") or \"Not available\",\n",
    "                    ),\n",
    "                    title=submission.get(\"title\"),\n",
    "                    submission_type=submission.get(\"submission_type\").get(\"en\"),\n",
    "                    abstract=submission.get(\"abstract\"),\n",
    "                    state=submission.get(\"state\"),\n",
    "                    description=submission.get(\"description\"),\n",
    "                    duration=submission.get(\"duration\"),\n",
    "                    location=submission.get(\"slot\").get(\"room\").get(\"en\"),\n",
    "                    date=extract_date_and_time(submission.get(\"slot\").get(\"start\"))[0],\n",
    "                    start_time=extract_date_and_time(\n",
    "                        submission.get(\"slot\").get(\"start\")\n",
    "                    )[1],\n",
    "                    end_time=extract_date_and_time(submission.get(\"slot\").get(\"end\"))[\n",
    "                        1\n",
    "                    ],\n",
    "                )\n",
    "            )\n",
    "\n",
    "    return PyDataSubmissionResult(results=result)\n",
    "\n",
    "\n",
    "def scrape_website(url: str) -> ScrapedWebsite:\n",
    "    url = f\"{JINA_READER_BASE_URL}/{url}\"\n",
    "    headers = {\"Accept\": \"application/json\", \"X-No-Cache\": \"true\"}\n",
    "    response = requests.request(\"GET\", url, headers=headers)\n",
    "    return ScrapedWebsite(**response.json().get(\"data\"))\n",
    "\n",
    "\n",
    "def generate_md5_hash(document_text: str) -> str:\n",
    "    md5_hash = hashlib.md5()\n",
    "    md5_hash.update(document_text.encode(\"utf-8\"))\n",
    "\n",
    "    return md5_hash.hexdigest()\n",
    "\n",
    "\n",
    "def fetch_data() -> PyDataSubmissionResult:\n",
    "    result = get_pydata_info()\n",
    "    return parse_data(result)\n",
    "\n",
    "\n",
    "def load_data_into_database():\n",
    "    data = fetch_data()\n",
    "    driver = GraphDatabase.driver(\n",
    "        uri=settings.NEO4J_URI,\n",
    "        auth=(settings.NEO4J_USERNAME, settings.NEO4J_PASSWORD),\n",
    "        database=settings.NEO4J_DATABASE,\n",
    "    )\n",
    "\n",
    "    def create_nodes_and_relationships(tx, submission: SubmissionInfo):\n",
    "        tx.run(\n",
    "            \"MERGE (s:Speaker {id: $id, name: $speaker_name, biography: $biography})\",\n",
    "            id=submission.speaker.id,\n",
    "            speaker_name=submission.speaker.name,\n",
    "            biography=submission.speaker.biography,\n",
    "        )\n",
    "\n",
    "        tx.run(\n",
    "            \"\"\"\n",
    "            MERGE (submission:Submission {id:$id, title: $title, submission_type: $submission_type, abstract: $abstract, \n",
    "                                          state: $state, description: $description, duration: $duration, \n",
    "                                          location: $location, date: $date, start_time: $start_time, \n",
    "                                          end_time: $end_time\n",
    "                                          })\n",
    "            \"\"\",\n",
    "            id=submission.id,\n",
    "            title=submission.title,\n",
    "            submission_type=submission.submission_type,\n",
    "            abstract=submission.abstract,\n",
    "            state=submission.state,\n",
    "            description=submission.description,\n",
    "            duration=submission.duration,\n",
    "            location=submission.location,\n",
    "            date=submission.date,\n",
    "            start_time=submission.start_time,\n",
    "            end_time=submission.end_time,\n",
    "        )\n",
    "\n",
    "        # Relationship between the Speaker and Submission Node\n",
    "        tx.run(\n",
    "            \"\"\"\n",
    "            MATCH (s:Speaker {id: $speaker_id}), \n",
    "                  (submission:Submission {id: $submission_id})\n",
    "            MERGE (s)-[:PRESENTED]->(submission)\n",
    "            \"\"\",\n",
    "            speaker_id=submission.speaker.id,\n",
    "            submission_id=submission.id,\n",
    "        )\n",
    "\n",
    "        document_text = f\"\"\"\n",
    "                    This is a submission for a 2024 PyData Conference\n",
    "                    The title for this submission is: {submission.title} and the abstract is: \n",
    "                    {submission.abstract}. And the description is: {submission.description}. The location for the \n",
    "                    {submission.submission_type} is at {submission.location} on {submission.date} from \n",
    "                    {submission.start_time} to {submission.end_time}.\n",
    "                    The speaker for the {submission.submission_type} is {submission.speaker.name} and here is their \n",
    "                    biography {submission.speaker.biography}\n",
    "                \"\"\"\n",
    "\n",
    "        tx.run(\n",
    "            \"\"\"\n",
    "            MERGE (d:Document {id:$document_id, text: $document_text})\n",
    "            \"\"\",\n",
    "            document_id=generate_md5_hash(document_text),\n",
    "            document_text=document_text,\n",
    "        )\n",
    "\n",
    "        # Relationship between document node and submission node\n",
    "        tx.run(\n",
    "            \"\"\"\n",
    "            MATCH (d:Document {id: $document_id}), \n",
    "                  (submission:Submission {id: $submission_id})\n",
    "            MERGE (d)-[:MENTIONS]->(submission)\n",
    "            \"\"\",\n",
    "            document_id=generate_md5_hash(document_text),\n",
    "            submission_id=submission.id,\n",
    "        )\n",
    "\n",
    "        # Relationship between the document node and Submission node\n",
    "        tx.run(\n",
    "            \"\"\"\n",
    "            MATCH (d:Document {id: $document_id}),\n",
    "                  (speaker:Speaker {id: $submission_id})\n",
    "            MERGE (d)-[:MENTIONS]->(submission)\n",
    "            \"\"\",\n",
    "            document_id=generate_md5_hash(document_text),\n",
    "            submission_id=submission.id,\n",
    "        )\n",
    "\n",
    "        # Creating relationships between submissions based on type of submission, location and date\n",
    "        tx.run(\n",
    "            \"\"\"\n",
    "            MATCH (submission1:Submission {id: $submission_id})\n",
    "            WITH submission1\n",
    "            MATCH (submission2:Submission)\n",
    "            WHERE submission1.location = submission2.location AND submission1 <> submission2\n",
    "            MERGE (submission1)-[:ON_LOCATION]->(submission2)\n",
    "            \"\"\",\n",
    "            submission_id=submission.id,\n",
    "        )\n",
    "        tx.run(\n",
    "            \"\"\"\n",
    "            MATCH (submission1:Submission {id: $submission_id})\n",
    "            WITH submission1\n",
    "            MATCH (submission2:Submission)\n",
    "            WHERE submission1.date = submission2.date AND submission1 <> submission2\n",
    "            MERGE (submission1)-[:ON_DATE]->(submission2)\n",
    "            \"\"\",\n",
    "            submission_id=submission.id,\n",
    "        )\n",
    "        tx.run(\n",
    "            \"\"\"\n",
    "            MATCH (submission1:Submission {id: $submission_id})\n",
    "            WITH submission1\n",
    "            MATCH (submission2:Submission)\n",
    "            WHERE submission1.submission_type = submission2.submission_type AND submission1 <> submission2\n",
    "            MERGE (submission1)-[:ON_TYPE]->(submission2)\n",
    "            \"\"\",\n",
    "            submission_id=submission.id,\n",
    "        )\n",
    "\n",
    "    with driver.session() as session:\n",
    "        for submission in data.results:\n",
    "            session.write_transaction(create_nodes_and_relationships, submission)\n",
    "\n",
    "    driver.close()"
   ]
  },
  {
   "cell_type": "code",
   "execution_count": 27,
   "metadata": {},
   "outputs": [],
   "source": [
    "# load_data_into_database()"
   ]
  },
  {
   "cell_type": "code",
   "execution_count": 28,
   "metadata": {},
   "outputs": [
    {
     "name": "stdout",
     "output_type": "stream",
     "text": [
      "Node properties:\n",
      "Speaker {id: STRING, biography: STRING, name: STRING}\n",
      "Submission {state: STRING, submission_type: STRING, location: STRING, start_time: STRING, duration: INTEGER, end_time: STRING, title: STRING, abstract: STRING, date: STRING, description: STRING, id: STRING}\n",
      "Document {id: STRING, text: STRING, embedding: LIST}\n",
      "Relationship properties:\n",
      "\n",
      "The relationships:\n",
      "(:Speaker)-[:PRESENTED]->(:Submission)\n",
      "(:Submission)-[:ON_LOCATION]->(:Submission)\n",
      "(:Submission)-[:ON_DATE]->(:Submission)\n",
      "(:Submission)-[:ON_TYPE]->(:Submission)\n",
      "(:Document)-[:MENTIONS]->(:Submission)\n"
     ]
    }
   ],
   "source": [
    "graph.refresh_schema()\n",
    "print(graph.schema)"
   ]
  },
  {
   "cell_type": "code",
   "execution_count": 29,
   "metadata": {},
   "outputs": [
    {
     "data": {
      "application/vnd.jupyter.widget-view+json": {
       "model_id": "d993eb3e3be14c01920a55442acaf791",
       "version_major": 2,
       "version_minor": 0
      },
      "text/plain": [
       "GraphWidget(layout=Layout(height='500px', width='100%'))"
      ]
     },
     "metadata": {},
     "output_type": "display_data"
    }
   ],
   "source": [
    "showGraph()"
   ]
  },
  {
   "cell_type": "code",
   "execution_count": 23,
   "metadata": {},
   "outputs": [
    {
     "name": "stderr",
     "output_type": "stream",
     "text": [
      "Received notification from DBMS server: {severity: WARNING} {code: Neo.ClientNotification.Statement.FeatureDeprecationWarning} {category: DEPRECATION} {title: This feature is deprecated and will be removed in future versions.} {description: The query used a deprecated procedure. ('db.create.setVectorProperty' has been replaced by 'db.create.setNodeVectorProperty')} {position: line: 1, column: 70, offset: 69} for query: \"UNWIND $data AS row MATCH (n:`Document`) WHERE elementId(n) = row.id CALL db.create.setVectorProperty(n, 'embedding', row.embedding) YIELD node RETURN count(*)\"\n"
     ]
    }
   ],
   "source": [
    "from langchain_community.vectorstores import Neo4jVector\n",
    "from langchain_openai import OpenAIEmbeddings\n",
    "\n",
    "embeddings = OpenAIEmbeddings(\n",
    "    model=\"text-embedding-3-small\",\n",
    "    api_key=settings.OPENAI_API_KEY,\n",
    ")\n",
    "\n",
    "vector_index = Neo4jVector.from_existing_graph(\n",
    "    embeddings,\n",
    "    search_type=\"hybrid\",\n",
    "    node_label=\"Document\",\n",
    "    text_node_properties=[\"text\"],\n",
    "    embedding_node_property=\"embedding\",\n",
    "    index_name=\"document_embedding\",\n",
    "    url=settings.NEO4J_URI,\n",
    "    username=settings.NEO4J_USERNAME,\n",
    "    password=settings.NEO4J_PASSWORD,\n",
    "    database=settings.NEO4J_DATABASE,\n",
    ")"
   ]
  },
  {
   "cell_type": "code",
   "execution_count": 24,
   "metadata": {},
   "outputs": [
    {
     "data": {
      "text/plain": [
       "[{'id': 3,\n",
       "  'name': 'document_embedding',\n",
       "  'state': 'ONLINE',\n",
       "  'populationPercent': 100.0,\n",
       "  'type': 'VECTOR',\n",
       "  'entityType': 'NODE',\n",
       "  'labelsOrTypes': ['Document'],\n",
       "  'properties': ['embedding'],\n",
       "  'indexProvider': 'vector-2.0',\n",
       "  'owningConstraint': None,\n",
       "  'lastRead': None,\n",
       "  'readCount': 0}]"
      ]
     },
     "execution_count": 24,
     "metadata": {},
     "output_type": "execute_result"
    }
   ],
   "source": [
    "graph.refresh_schema()\n",
    "\n",
    "graph.query(\n",
    "    \"\"\"\n",
    "  SHOW VECTOR INDEXES\n",
    "  \"\"\"\n",
    ")"
   ]
  },
  {
   "cell_type": "code",
   "execution_count": 25,
   "metadata": {},
   "outputs": [
    {
     "data": {
      "text/plain": [
       "{'node_props': {'Speaker': [{'property': 'id', 'type': 'STRING'},\n",
       "   {'property': 'biography', 'type': 'STRING'},\n",
       "   {'property': 'name', 'type': 'STRING'}],\n",
       "  'Submission': [{'property': 'state', 'type': 'STRING'},\n",
       "   {'property': 'submission_type', 'type': 'STRING'},\n",
       "   {'property': 'location', 'type': 'STRING'},\n",
       "   {'property': 'start_time', 'type': 'STRING'},\n",
       "   {'property': 'duration', 'type': 'INTEGER'},\n",
       "   {'property': 'end_time', 'type': 'STRING'},\n",
       "   {'property': 'title', 'type': 'STRING'},\n",
       "   {'property': 'abstract', 'type': 'STRING'},\n",
       "   {'property': 'date', 'type': 'STRING'},\n",
       "   {'property': 'description', 'type': 'STRING'},\n",
       "   {'property': 'id', 'type': 'STRING'}],\n",
       "  'Document': [{'property': 'id', 'type': 'STRING'},\n",
       "   {'property': 'text', 'type': 'STRING'},\n",
       "   {'property': 'embedding', 'type': 'LIST'}]},\n",
       " 'rel_props': {},\n",
       " 'relationships': [{'start': 'Speaker',\n",
       "   'type': 'PRESENTED',\n",
       "   'end': 'Submission'},\n",
       "  {'start': 'Submission', 'type': 'ON_LOCATION', 'end': 'Submission'},\n",
       "  {'start': 'Submission', 'type': 'ON_DATE', 'end': 'Submission'},\n",
       "  {'start': 'Submission', 'type': 'ON_TYPE', 'end': 'Submission'},\n",
       "  {'start': 'Document', 'type': 'MENTIONS', 'end': 'Submission'}],\n",
       " 'metadata': {'constraint': [], 'index': []}}"
      ]
     },
     "execution_count": 25,
     "metadata": {},
     "output_type": "execute_result"
    }
   ],
   "source": [
    "graph.refresh_schema()\n",
    "graph.get_structured_schema"
   ]
  },
  {
   "cell_type": "code",
   "execution_count": 30,
   "metadata": {},
   "outputs": [
    {
     "name": "stdout",
     "output_type": "stream",
     "text": [
      "\n",
      "\n",
      "\u001b[1m> Entering new GraphCypherQAChain chain...\u001b[0m\n",
      "Generated Cypher:\n",
      "\u001b[32;1m\u001b[1;3mcypher\n",
      "MATCH (s:Submission)\n",
      "RETURN s.submission_type AS type, COUNT(s) AS count\n",
      "\u001b[0m\n",
      "Full Context:\n",
      "\u001b[32;1m\u001b[1;3m[{'type': 'Tutorial', 'count': 16}, {'type': 'Talk', 'count': 51}]\u001b[0m\n",
      "\n",
      "\u001b[1m> Finished chain.\u001b[0m\n"
     ]
    },
    {
     "data": {
      "text/plain": [
       "{'query': 'How many submissions are there in total? \\n                    Please group this submission into distinct talks and tutorials.',\n",
       " 'result': 'There are a total of 67 submissions, grouped into 16 tutorials and 51 talks.'}"
      ]
     },
     "execution_count": 30,
     "metadata": {},
     "output_type": "execute_result"
    }
   ],
   "source": [
    "from langchain_community.chains.graph_qa.cypher import GraphCypherQAChain\n",
    "\n",
    "cypher_chain = GraphCypherQAChain.from_llm(graph=graph, llm=llm, verbose=True)\n",
    "response = cypher_chain.invoke(\n",
    "    {\n",
    "        \"query\": \"\"\"How many submissions are there in total? \n",
    "                    Please group this submission into distinct talks and tutorials.\"\"\"\n",
    "    }\n",
    ")\n",
    "response"
   ]
  },
  {
   "cell_type": "markdown",
   "metadata": {},
   "source": [
    "> cypher\n",
    "> MATCH (s:Submission)\n",
    "> RETURN s.submission_type AS type, COUNT(s) AS count"
   ]
  },
  {
   "cell_type": "code",
   "execution_count": 31,
   "metadata": {},
   "outputs": [
    {
     "name": "stdout",
     "output_type": "stream",
     "text": [
      "\n",
      "\n",
      "\u001b[1m> Entering new GraphCypherQAChain chain...\u001b[0m\n",
      "Generated Cypher:\n",
      "\u001b[32;1m\u001b[1;3mcypher\n",
      "MATCH (s:Submission)\n",
      "RETURN DISTINCT s.location AS locations\n",
      "\u001b[0m\n",
      "Full Context:\n",
      "\u001b[32;1m\u001b[1;3m[{'locations': 'Warwick'}, {'locations': 'Salisbury'}, {'locations': 'Minories'}, {'locations': 'Beaumont'}]\u001b[0m\n",
      "\n",
      "\u001b[1m> Finished chain.\u001b[0m\n"
     ]
    },
    {
     "data": {
      "text/plain": [
       "{'query': 'What are the various locations where the conference is holding?',\n",
       " 'result': 'The various locations where the conference is holding are Warwick, Salisbury, Minories, and Beaumont.'}"
      ]
     },
     "execution_count": 31,
     "metadata": {},
     "output_type": "execute_result"
    }
   ],
   "source": [
    "response = cypher_chain.invoke({\"query\": \"What are the various locations where the conference is holding?\"})\n",
    "response"
   ]
  },
  {
   "cell_type": "code",
   "execution_count": 32,
   "metadata": {},
   "outputs": [
    {
     "name": "stdout",
     "output_type": "stream",
     "text": [
      "\n",
      "\n",
      "\u001b[1m> Entering new RetrievalQA chain...\u001b[0m\n",
      "\n",
      "\u001b[1m> Finished chain.\u001b[0m\n"
     ]
    },
    {
     "data": {
      "text/plain": [
       "'The talk about Graph databases is part of a tutorial titled \"Graph databases and Retrieval Augmented Generation.\" It will be held at Minories on 2024-06-14 from 13:30:00 to 15:00:00. The speaker for this tutorial is Kehinde Richard Ogunyale.'"
      ]
     },
     "execution_count": 32,
     "metadata": {},
     "output_type": "execute_result"
    }
   ],
   "source": [
    "from langchain.chains.retrieval_qa.base import RetrievalQA\n",
    "\n",
    "qa_graph_chain = RetrievalQA.from_chain_type(\n",
    "    llm, retriever=vector_index.as_retriever(), verbose = True\n",
    ")\n",
    "\n",
    "result = qa_graph_chain.invoke({\"query\": \"Where and when is the talk about Graph database holding? Who is the speaker?\"})\n",
    "result[\"result\"]"
   ]
  },
  {
   "cell_type": "code",
   "execution_count": 33,
   "metadata": {},
   "outputs": [],
   "source": [
    "from langchain import hub\n",
    "from langchain.agents import AgentExecutor, create_react_agent\n",
    "from langchain.tools import Tool\n",
    "from langchain_community.chat_message_histories import Neo4jChatMessageHistory\n",
    "from langchain_core.runnables.history import RunnableWithMessageHistory\n",
    "\n",
    "tools = [\n",
    "    Tool.from_function(\n",
    "        name=\"Cypher Chain\",\n",
    "        description=\"For when you need to answer questions that can be answered by directly querying the database without having to use knowledge of vector embeddings. The question will be a string. Return a string.\",\n",
    "        func=cypher_chain.invoke,\n",
    "    ),\n",
    "    Tool.from_function(\n",
    "        name=\"Natural QA Chain\",\n",
    "        description=\"For answering text based questions that are not easy or straight-forward to answer using Cypher queries but can be answered using vector embeddings. The question will be a String. Return a String\",\n",
    "        func=qa_graph_chain.invoke,\n",
    "    ),\n",
    "]\n",
    "\n",
    "\n",
    "def get_memory(session_id):\n",
    "    return Neo4jChatMessageHistory(session_id=session_id, graph=graph)\n",
    "\n",
    "\n",
    "agent_prompt = hub.pull(\"hwchase17/react-chat\")\n",
    "agent = create_react_agent(llm, tools, agent_prompt)\n",
    "agent_executor = AgentExecutor(agent=agent, tools=tools, handle_parsing_errors=True)\n",
    "\n",
    "chat_agent = RunnableWithMessageHistory(\n",
    "    agent_executor,\n",
    "    get_memory,\n",
    "    input_messages_key=\"input\",\n",
    "    history_messages_key=\"chat_history\",\n",
    ")"
   ]
  },
  {
   "cell_type": "code",
   "execution_count": 34,
   "metadata": {},
   "outputs": [
    {
     "name": "stderr",
     "output_type": "stream",
     "text": [
      "Received notification from DBMS server: {severity: WARNING} {code: Neo.ClientNotification.Statement.UnknownRelationshipTypeWarning} {category: UNRECOGNIZED} {title: The provided relationship type is not in the database.} {description: One of the relationship types in your query is not available in the database, make sure you didn't misspell it or that the label is available when you run this statement in your application (the missing relationship type is: LAST_MESSAGE)} {position: line: 1, column: 23, offset: 22} for query: 'MATCH (s:`Session`)-[:LAST_MESSAGE]->(last_message) WHERE s.id = $session_id MATCH p=(last_message)<-[:NEXT*0..6]-() WITH p, length(p) AS length ORDER BY length DESC LIMIT 1 UNWIND reverse(nodes(p)) AS node RETURN {data:{content: node.content}, type:node.type} AS result'\n",
      "Received notification from DBMS server: {severity: WARNING} {code: Neo.ClientNotification.Statement.UnknownRelationshipTypeWarning} {category: UNRECOGNIZED} {title: The provided relationship type is not in the database.} {description: One of the relationship types in your query is not available in the database, make sure you didn't misspell it or that the label is available when you run this statement in your application (the missing relationship type is: NEXT)} {position: line: 1, column: 104, offset: 103} for query: 'MATCH (s:`Session`)-[:LAST_MESSAGE]->(last_message) WHERE s.id = $session_id MATCH p=(last_message)<-[:NEXT*0..6]-() WITH p, length(p) AS length ORDER BY length DESC LIMIT 1 UNWIND reverse(nodes(p)) AS node RETURN {data:{content: node.content}, type:node.type} AS result'\n",
      "Received notification from DBMS server: {severity: WARNING} {code: Neo.ClientNotification.Statement.UnknownPropertyKeyWarning} {category: UNRECOGNIZED} {title: The provided property key is not in the database} {description: One of the property names in your query is not available in the database, make sure you didn't misspell it or that the label is available when you run this statement in your application (the missing property name is: content)} {position: line: 1, column: 236, offset: 235} for query: 'MATCH (s:`Session`)-[:LAST_MESSAGE]->(last_message) WHERE s.id = $session_id MATCH p=(last_message)<-[:NEXT*0..6]-() WITH p, length(p) AS length ORDER BY length DESC LIMIT 1 UNWIND reverse(nodes(p)) AS node RETURN {data:{content: node.content}, type:node.type} AS result'\n",
      "Received notification from DBMS server: {severity: WARNING} {code: Neo.ClientNotification.Statement.UnknownPropertyKeyWarning} {category: UNRECOGNIZED} {title: The provided property key is not in the database} {description: One of the property names in your query is not available in the database, make sure you didn't misspell it or that the label is available when you run this statement in your application (the missing property name is: type)} {position: line: 1, column: 256, offset: 255} for query: 'MATCH (s:`Session`)-[:LAST_MESSAGE]->(last_message) WHERE s.id = $session_id MATCH p=(last_message)<-[:NEXT*0..6]-() WITH p, length(p) AS length ORDER BY length DESC LIMIT 1 UNWIND reverse(nodes(p)) AS node RETURN {data:{content: node.content}, type:node.type} AS result'\n"
     ]
    },
    {
     "name": "stdout",
     "output_type": "stream",
     "text": [
      "\n",
      "\n",
      "\u001b[1m> Entering new GraphCypherQAChain chain...\u001b[0m\n",
      "Generated Cypher:\n",
      "\u001b[32;1m\u001b[1;3mcypher\n",
      "MATCH (d:Document)-[:MENTIONS]->(s:Submission)\n",
      "WHERE d.text CONTAINS \"graph databases\" AND d.text CONTAINS \"retrieval augmented generation\"\n",
      "RETURN s.title, s.description, s.start_time, s.end_time, s.location\n",
      "\u001b[0m\n",
      "Full Context:\n",
      "\u001b[32;1m\u001b[1;3m[]\u001b[0m\n",
      "\n",
      "\u001b[1m> Finished chain.\u001b[0m\n",
      "\n",
      "\n",
      "\u001b[1m> Entering new RetrievalQA chain...\u001b[0m\n",
      "\n",
      "\u001b[1m> Finished chain.\u001b[0m\n"
     ]
    },
    {
     "data": {
      "text/plain": [
       "'A software engineer interested in learning more about graph databases and retrieval augmented generation should attend the tutorial titled \"Graph databases and Retrieval Augmented Generation\" by Kehinde Richard Ogunyale. This session will cover the integration of graph databases with Retrieval-Augmented Generation (RAG) technology, providing a detailed, step-by-step guide on building AI applications that leverage these technologies. The tutorial is scheduled to take place at Minories on 2024-06-14 from 13:30:00 to 15:00:00.'"
      ]
     },
     "execution_count": 34,
     "metadata": {},
     "output_type": "execute_result"
    }
   ],
   "source": [
    "question = \"\"\"I am a software engineer and I would like to learn more about graph databases and retrieval augmented generation, \n",
    "              which talk should I attend?\"\"\"\n",
    "\n",
    "response = chat_agent.invoke(\n",
    "    {\"input\": question},\n",
    "    {\"configurable\": {\"session_id\": \"random_id\"}},\n",
    ")\n",
    "response[\"output\"]"
   ]
  },
  {
   "cell_type": "code",
   "execution_count": 35,
   "metadata": {},
   "outputs": [
    {
     "name": "stdout",
     "output_type": "stream",
     "text": [
      "\n",
      "\n",
      "\u001b[1m> Entering new GraphCypherQAChain chain...\u001b[0m\n",
      "Generated Cypher:\n",
      "\u001b[32;1m\u001b[1;3mcypher\n",
      "MATCH (s:Submission)-[:PRESENTED]-(sp:Speaker)\n",
      "WHERE s.title CONTAINS 'AI' OR s.abstract CONTAINS 'AI' OR s.description CONTAINS 'AI'\n",
      "RETURN s.title AS Title, sp.name AS Speaker, s.date AS Date, s.start_time AS StartTime, s.end_time AS EndTime, s.location AS Location\n",
      "\u001b[0m\n",
      "Full Context:\n",
      "\u001b[32;1m\u001b[1;3m[{'Title': 'Analytics engineering without dbt? Building the composable Python data stack with Kedro and Ibis', 'Speaker': 'Deepyaman Datta', 'Date': '2024-06-14', 'StartTime': '13:30:00', 'EndTime': '15:00:00', 'Location': 'Warwick'}, {'Title': 'Analytics engineering without dbt? Building the composable Python data stack with Kedro and Ibis', 'Speaker': 'Juan Luis Cano Rodríguez', 'Date': '2024-06-14', 'StartTime': '13:30:00', 'EndTime': '15:00:00', 'Location': 'Warwick'}, {'Title': 'Building Multi-Agent Generative-AI Applications with AutoGen', 'Speaker': 'Victor Dibia', 'Date': '2024-06-15', 'StartTime': '11:15:00', 'EndTime': '11:55:00', 'Location': 'Minories'}, {'Title': 'Building Multi-Agent Generative-AI Applications with AutoGen', 'Speaker': 'Chi Wang', 'Date': '2024-06-15', 'StartTime': '11:15:00', 'EndTime': '11:55:00', 'Location': 'Minories'}, {'Title': 'Building Multi-Agent Generative-AI Applications with AutoGen', 'Speaker': 'Diego Colombo', 'Date': '2024-06-15', 'StartTime': '11:15:00', 'EndTime': '11:55:00', 'Location': 'Minories'}, {'Title': 'An Introduction to Retrieval Augmented Generation', 'Speaker': 'Dan Gibson', 'Date': '2024-06-14', 'StartTime': '09:00:00', 'EndTime': '10:30:00', 'Location': 'Minories'}, {'Title': '[Unconference] How to define open source AI', 'Speaker': 'Cheuk Ting Ho', 'Date': '2024-06-16', 'StartTime': '15:00:00', 'EndTime': '16:30:00', 'Location': 'Beaumont'}, {'Title': 'Achieving Concurrency in Streamlit with a RQ scheduler, Building Responsive Data Applications', 'Speaker': 'Harriet Yue Huang', 'Date': '2024-06-16', 'StartTime': '16:30:00', 'EndTime': '17:10:00', 'Location': 'Salisbury'}, {'Title': 'Taking LLMs out of the black box: A practical guide to human-in-the-loop distillation', 'Speaker': 'Ines Montani', 'Date': '2024-06-15', 'StartTime': '12:00:00', 'EndTime': '12:40:00', 'Location': 'Minories'}, {'Title': 'Fine Tuning: Building A Folk Music Recommendation System with LLMs', 'Speaker': 'John Sandall', 'Date': '2024-06-16', 'StartTime': '10:15:00', 'EndTime': '10:55:00', 'Location': 'Warwick'}]\u001b[0m\n",
      "\n",
      "\u001b[1m> Finished chain.\u001b[0m\n"
     ]
    },
    {
     "data": {
      "text/plain": [
       "'Here are the AI-related talks you should attend:\\n\\n1. **Title:** Building Multi-Agent Generative-AI Applications with AutoGen\\n   - **Speakers:** Victor Dibia, Chi Wang, Diego Colombo\\n   - **Date:** 2024-06-15\\n   - **Start Time:** 11:15:00\\n   - **End Time:** 11:55:00\\n   - **Location:** Minories\\n\\n2. **Title:** An Introduction to Retrieval Augmented Generation\\n   - **Speaker:** Dan Gibson\\n   - **Date:** 2024-06-14\\n   - **Start Time:** 09:00:00\\n   - **End Time:** 10:30:00\\n   - **Location:** Minories\\n\\n3. **Title:** Taking LLMs out of the black box: A practical guide to human-in-the-loop distillation\\n   - **Speaker:** Ines Montani\\n   - **Date:** 2024-06-15\\n   - **Start Time:** 12:00:00\\n   - **End Time:** 12:40:00\\n   - **Location:** Minories'"
      ]
     },
     "execution_count": 35,
     "metadata": {},
     "output_type": "execute_result"
    }
   ],
   "source": [
    "question = \"I want to attend all AI related talks, which talks should I attend?\"\n",
    "\n",
    "response = chat_agent.invoke(\n",
    "    {\"input\": question},\n",
    "    {\"configurable\": {\"session_id\": \"random_id\"}},\n",
    ")\n",
    "response[\"output\"]"
   ]
  },
  {
   "cell_type": "code",
   "execution_count": 36,
   "metadata": {},
   "outputs": [
    {
     "name": "stderr",
     "output_type": "stream",
     "text": [
      "Scraping website: 100%|██████████| 5/5 [00:14<00:00,  2.81s/it]\n",
      "Processing documents: 100%|██████████| 5/5 [00:00<00:00, 3584.26it/s]"
     ]
    },
    {
     "name": "stdout",
     "output_type": "stream",
     "text": [
      "[Document(page_content='![Image 1](https://images.squarespace-cdn.com/content/v1/655270d4c839892af01aaf02/6a9c721d-5397-4349-a711-befa4be34f62/AdobeStock_132796360-dark.jpg)\\n\\nWHAT TO EXPECT\\n--------------\\n\\nPyData London 2024 is a 3-day in-person event for the international community of data scientists, data engineers, and developers of data analysis tools to share ideas and learn from each other.\\n\\nDuring the conference, attendees will have the opportunity to attend live keynote sessions and talks, lightning talks, and get to know fellow members of the **Py****Data** Community.\\n\\n![Image 2](https://images.squarespace-cdn.com/content/v1/655270d4c839892af01aaf02/1699901673377-62BKP9F0DZ91L3D8PA26/promo+photo+with+overlay+1+-+small.png)\\n\\n![Image 3](https://images.squarespace-cdn.com/content/v1/655270d4c839892af01aaf02/d033c077-464f-4609-a990-4d841fe3b98f/magicpattern-mesh-gradient-1705596178730.png)\\n\\n**The event will be in-person at the** [**Leonardo Royal Hotel London Tower Bridge**](https://www.leonardohotels.co.uk/hotels/london/leonardo-tower-bridge?utm_medium=local&utm_source=google) **(45 Prescot St, London E1 8GP, United Kingdom).**\\n\\n**The conference will span from** **Friday, June 14th, 2024 to Sunday, June 16th, 2024****.**\\n\\n![Image 4](https://images.squarespace-cdn.com/content/v1/655270d4c839892af01aaf02/1699901673382-164CXFMDTEECMV086LP0/promo+photo+with+overlay+2+-+small.png)\\n\\n![Image 5](https://images.squarespace-cdn.com/content/v1/655270d4c839892af01aaf02/7dbfc5b2-19ee-4185-be50-211755a41d72/magicpattern-mesh-gradient-1705596152616.png)\\n\\n![Image 6](https://images.squarespace-cdn.com/content/v1/655270d4c839892af01aaf02/6f6cb654-5652-4175-945d-4bb36af6b7ac/magicpattern-mesh-gradient-1705596181146.png)\\n\\n![Image 7](https://images.squarespace-cdn.com/content/v1/655270d4c839892af01aaf02/3e674645-9809-4fbb-8cfe-d09c94d2e955/dr-rebecca-bilbro.jpg)\\n\\n**Dr. Rebecca Bilbro  \\n**  \\nA pioneer of the data science revolution in the early 2010’s, Dr. Rebecca Bilbro is an applied AI/ML engineer, teacher, and author. Rebecca (aka\\xa0[@Elder\\\\_Data\\\\_Scientist](https://www.tiktok.com/@elder_data_scientist) on TikTok)\\xa0is the co-creator of [Yellowbrick](https://www.scikit-yb.org/en/latest/), a Python library that integrates the scikit-learn and matplotlib APIs to support more convenient model diagnostics and steering. As co-founder and CTO of Rotational Labs ([rotational.io](http://rotational.io/)), Rebecca is motivated by a desire to unite the data science and engineering communities. She and her team help other companies leverage in-house domain expertise and data to build and deploy LLMs, data products, and services. Rebecca earned her doctorate from the University of Illinois, Urbana-Champaign, where her research centered on domain-specific languages within engineering.\\n\\n![Image 8](https://images.squarespace-cdn.com/content/v1/655270d4c839892af01aaf02', metadata={'title': 'PyData London 2024', 'url': 'https://pydata.org/london2024', 'id': 'ba60829f6e23ffa003cbeb5045fa83b4'}), Document(page_content=\"-cdn.com/content/v1/655270d4c839892af01aaf02/49aaddd5-715f-4c69-bd1e-2b0db3762e67/Tania+Allard19-07-170429.jpg)\\n\\n**Tania Allard**Tania is the director of Quansight Labs, an organization that builds and maintains sustainable open-source projects and communities, mainly within the PyData ecosystem. She is also a director of the PSF (Python Software Foundation) and a member of the PyLadies Global Council. She is passionate about open source, its community, and building tools for developers and data scientists.\\n\\n![Image 9](https://images.squarespace-cdn.com/content/v1/655270d4c839892af01aaf02/2ba7a42b-bec2-41a2-827a-ec556637bb17/matt+headshot.jpeg)\\n\\n**Matt Crooks**Matt is Principal Data Scientist at the BBC and focuses on modeling and optimizing the BBC's marketing. Matt joined the BBC as a Data Scientist in 2018 after spending several years as a post-doc modeling cloud microphysics in weather and climate systems. During the pandemic he developed an adaptive learning algorithm for BBC Bitesize to help GCSE students to revise while schools were closed. He spent 2021 working as the Experimentation Lead at the survey company Typeform - developing and scaling their experimentation capabilities. Since returning to the BBC, Matt has been focusing on marketing projects and causal inference and is currently using Python and data to create personalized marketing assets for BBC iPlayer.\\n\\n### **Diamond**\\n\\n![Image 10](https://images.squarespace-cdn.com/content/v1/655270d4c839892af01aaf02/944e10f4-67b8-48c0-9218-1d9609a18b91/TescoLogoHighRes.png)\\n\\n[![Image 11](https://images.squarespace-cdn.com/content/v1/655270d4c839892af01aaf02/42da6c0a-9989-493e-b249-e9d64fda2577/BBG_Engineering_BLK.jpg)](https://techatbloomberg.com/)\\n\\n### **Platinum**\\n\\n![Image 12](https://images.squarespace-cdn.com/content/v1/655270d4c839892af01aaf02/11144435-891c-443e-9bba-3c26039bec34/nvidia-logo-vert.png)\\n\\n![Image 13](https://images.squarespace-cdn.com/content/v1/655270d4c839892af01aaf02/56c087ad-c974-41b7-b7c1-080ee50dd3f7/Anaconda_Logo_RGB_Corporate_stacked_300x225.png)\\n\\n[![Image 14](https://images.squarespace-cdn.com/content/v1/655270d4c839892af01aaf02/639dcfb2-60d0-4d6a-b724-58f657036c1d/hopsworks.png)](https://www.hopsworks.ai/)\\n\\n[![Image 15](https://images.squarespace-cdn.com/content/v1/655270d4c839892af01aaf02/a53b7661-e7a6-476a-a359-11724d3c113a/1709656540576-8059fb90-417c-4748-9d1f-6982f8424b0f_1.jpg)](https://www.man.com/)\\n\\n[![Image 16](https://images.squarespace-cdn.com/content/v1/655270d4c839892af01aaf02/5858da2f-de63-45d6-95ae-4e8e52db07ed/Recursion+Logo+Horizontal+Black.jpg)](http://www.recursion.com/)\\n\\n### **Gold**\\n\\n[![Image 17](https://images.squarespace-cdn.com/content/v1/655270d4c839892af01a\", metadata={'title': 'PyData London 2024', 'url': 'https://pydata.org/london2024', 'id': 'ba60829f6e23ffa003cbeb5045fa83b4'}), Document(page_content='arespace-cdn.com/content/v1/655270d4c839892af01aaf02/f2fdd479-4f23-41bb-adb7-46e56c1ebf2d/Cubist-Logo-Primary+%281%29.png)](https://point72.com/cubist/)\\n\\n[![Image 18](https://images.squarespace-cdn.com/content/v1/655270d4c839892af01aaf02/c5bf05f9-ea0c-4505-a328-57faa36088be/booking.png)](https://www.booking.com/)\\n\\n[![Image 19](https://images.squarespace-cdn.com/content/v1/655270d4c839892af01aaf02/da08e861-70b7-46dd-9ce4-8ab52a065df0/Coiled%2B-%2BBlack%2BAdjusted.png)](https://www.coiled.io/)\\n\\n### **Conference Social Sponsors**\\n\\n![Image 20](https://images.squarespace-cdn.com/content/v1/655270d4c839892af01aaf02/56c087ad-c974-41b7-b7c1-080ee50dd3f7/Anaconda_Logo_RGB_Corporate_stacked_300x225.png)\\n\\n![Image 21](https://images.squarespace-cdn.com/content/v1/655270d4c839892af01aaf02/11144435-891c-443e-9bba-3c26039bec34/nvidia-logo-vert.png)\\n\\n### **Community Partners**\\n\\n[![Image 22](https://images.squarespace-cdn.com/content/v1/655270d4c839892af01aaf02/557d79af-dfb8-4f94-8838-101829d9d15d/logo_white-background-transparent.png)](https://bytewax.io/)\\n\\n![Image 23](https://images.squarespace-cdn.com/content/v1/655270d4c839892af01aaf02/6f6cb654-5652-4175-945d-4bb36af6b7ac/magicpattern-mesh-gradient-1705596181146.png)\\n\\n**The global PyData network promotes discussion of best practices, new approaches, and emerging technologies for data management, processing, analytics, and visualization. PyData communities approach data science using many languages, including (but not limited to) Python, Julia, and R.**\\n\\n![Image 24](https://images.squarespace-cdn.com/content/v1/655270d4c839892af01aaf02/aea01ce8-08b7-4e0f-94c2-3c461ea11f8d/AdobeStock_52917920.jpeg)', metadata={'title': 'PyData London 2024', 'url': 'https://pydata.org/london2024', 'id': 'ba60829f6e23ffa003cbeb5045fa83b4'}), Document(page_content='![Image 1](https://images.squarespace-cdn.com/content/v1/655270d4c839892af01aaf02/7dbfc5b2-19ee-4185-be50-211755a41d72/magicpattern-mesh-gradient-1705596152616.png)\\n\\n### JUNE 14 - 16, 2024  \\nLondon, United Kingdom\\n\\n### CONFERENCE OVERVIEW\\n\\nWe welcome attendees with wide varieties of experiences, expertise, and backgrounds to join us. Users, contributors, and newcomers can share experiences and learn from one another to solve hard problems and grow a stronger open-source community.\\n\\n### ABOUT PYDATA\\n\\nPyData is an educational program of NumFOCUS, a 501(c)3 non-profit organization in the United States. PyData provides a forum for the international community of users and developers of data analysis tools to share ideas and learn from each other. The global PyData network promotes discussion of best practices, new approaches, and emerging technologies for data management, processing, analytics, and visualization. PyData communities approach data science using many languages, including (but not limited to) Python, Julia, and R.\\n\\nWe aim to be an accessible, community-driven conference, with novice to advanced level presentations. PyData tutorials and talks bring attendees the latest project features along with cutting-edge use cases.\\n\\nVENUE\\n-----\\n\\n[**Leonardo Royal Hotel London Tower Bridge**](https://www.leonardohotels.co.uk/hotels/london/leonardo-tower-bridge?utm_medium=local&utm_source=google)\\n\\n**45 Prescot St, London E1 8GP, United Kingdom**\\n\\n**Accessibility  \\n**The conference will be held on the B2 and the 1st floor of the Leonardo Royal Hotel London Tower Bridge.\\n\\nThe venue is fully wheelchair-accessible.\\n\\n![Image 2](https://images.squarespace-cdn.com/content/v1/655270d4c839892af01aaf02/6f6cb654-5652-4175-945d-4bb36af6b7ac/magicpattern-mesh-gradient-1705596181146.png)\\n\\n**Transport  \\n**The venue has no parking. The nearest public parking is: Minories Car Park, 1 Shorter St, London E1 8LP.\\n\\nThe nearest tube station, Tower Hill, is only a\\u202fseven-minute walk away and is served by the Circle and District lines.\\u202fOther nearby stations are Fenchurch Street station and Tower Gateway DLR station, offering good links to different parts of London.\\n\\nFind out about [**directions and travel advice here**](https://www.leonardohotels.co.uk/hotels/london/leonardo-tower-bridge/map).\\n\\n![Image 3](https://images.squarespace-cdn.com/content/v1/655270d4c839892af01aaf02/8f29eb23-5f9f-4eb3-808a-dee21c804ecb/image+%2830%29.png)\\n\\n![Image 4](https://images.squarespace-cdn.com/content/v1/655270d4c839892af01aaf02/d033c077-464f-4609-a990-4d841fe3b98f/magicpattern-mesh-gradient-1705596178730.png)\\n\\n![Image 5](https://images.squarespace-cdn.com/content/v1/655270d4c839892af01aaf02/6f6cb654-5652-4175-945d-4bb36af6b7ac/magicpattern-mesh-gradient-1705596181146.png)\\n\\nVolunteer\\n\\n\\n-------------\\n\\nPyData conferences would not be possible without our volunteers. We invite you to sign up to volunteer for the 2024 conference. Volunteer duties include working at the registration desk, t-shirt table, monitor talks, ensure talks start and end on time, introduce speakers, moderate Q&A, and other needs as assigned.\\n\\nVolunteering is an excellent way to network with your peers, get a behind the scenes look at the conference and become more involved with PyData.\\n\\nAll chosen volunteers will get a free ticket to attend the conference in exchange for volunteering half of their time.\\n\\nPlease apply by May 15th 2024.\\n\\n### CODE OF CONDUCT\\n\\nPyData', metadata={'title': 'About — PyData London 2024', 'url': 'https://pydata.org/london2024/about', 'id': '6d5f9020b9db30f9353c8787a2be8e40'}), Document(page_content=' time.\\n\\nPlease apply by May 15th 2024.\\n\\n### CODE OF CONDUCT\\n\\nPyData has an engaged and respectful community made up of people from all over the world. We are committed to creating a productive, professional, and inclusive environment for everyone. All community members are expected to show respect and courtesy to other attendees throughout the conference, all conference events and online forums. Our code of conduct is strictly enforced.\\n\\nDo not insult or put down others. Behave professionally. Remember that harassment and sexist, racist, or exclusionary jokes are not appropriate for PyData London.\\n\\nAll communication should be appropriate for a professional audience including people of many different backgrounds. Sexual language and imagery is not appropriate.\\n\\nPyData London is dedicated to providing a harassment-free community for everyone, regardless of gender, sexual orientation, gender identity and expression, disability, physical appearance, body size, race, or religion. We do not tolerate harassment of community members in any form.\\n\\nThank you for helping make this a welcoming, friendly community for all.\\n\\n### HOW TO REPORT\\n\\nTo submit a report, you may use this form: [NumFOCUS Code of Conduct Reporting Form](https://numfocus.typeform.com/to/ynjGdT?typeform-source=pydata.org). You may also bring your concern to any conference organizer or volunteer or send an email to [conduct@numfocus.org](mailto:conduct@numfocus.org).\\n\\nHarassment includes offensive verbal comments related to gender, sexual orientation, disability, physical appearance, body size, race, religion, sexual images in public spaces, deliberate intimidation, stalking, following, harassing photography or recording, sustained disruption of talks or other events, inappropriate physical contact, and unwelcome sexual attention including, but not limited to, flirting and propositioning an attendee. Remember, this is a scientific conference, not a social venue. Belittling comments such as, \"This is obvious/easy. Everyone knows this.\", and \"well actually\" are all inappropriate. Questions for the speaker should include an actual question. Participants asked to stop any harassing behavior are expected to comply immediately. Exhibitors in the expo hall, sponsor or vendor booths, or similar activities are also subject to the anti-harassment policy. In particular, exhibitors should not use sexualized images, activities, or other material. Booth staff (including volunteers) should not use sexualized\\xa0 clothing/uniforms/costumes, or otherwise create a sexualized environment. Be careful in the words that you choose. Remember that sexist, racist, transphobic, and other exclusionary jokes can be offensive to those around you. Excessive swearing and offensive jokes are not appropriate for PyData Events.\\n\\n![Image 6](https://images.squarespace-cdn.com/content/v1/655270d4c839892af01aaf02/6f6cb654-5652-4175-945d-4bb36af6b7ac/magicpattern-mesh-gradient-1705596181146.png)\\n\\nDIVERSITY\\n\\n\\n-------------\\n\\nOur commitment to the PyData community is to create an inclusive and respectful conference environment that invites participation of people from all backgrounds. We welcome a diverse attendance to foster deeper discussions and build a stronger community.\\n\\nPyData London welcomes and encourages participation in our community by people of all backgrounds and identities. We are committed to promoting and sustaining a culture that values mutual respect, tolerance, and learning, and we work together as a community to help each other live out these values.\\n\\nWe have created this diversity statement because we believe that a diverse community is stronger, more vibrant, and produces better software and better science. A diverse community where people treat each other with respect has more potential contributors, more sources for ideas, and fewer shared assumptions that might hinder development or research.\\n\\nAlthough we have phrased the formal diversity statement generically to make it all-inclusive, we recognize that there are specific identities that are impacted by systemic discrimination and marginalization. We welcome all people to participate in the NumFOCUS community regardless of their identity or background.\\n\\nFor PyData London 2024, we are offering scholarship opportunities to those from underrepresented groups who may otherwise be unable to attend the conference. Thank you to our sponsors for making these scholarships possible.\\n\\nScholarship Application has been closed.\\n\\nThe mission of [**NumFOCUS**](http://numfocus.org/) is to promote sustainable high-level programming languages, open code development, and reproducible scientific research. We accomplish this mission through our educational programs and events as well as through fiscal sponsorship of open source scientific computing projects. We aim to increase collaboration and communication within the data science and scientific computing community.\\n\\nNumFOCUS is a 501(c)3 public charity in the United', metadata={'title': 'About — PyData London 2024', 'url': 'https://pydata.org/london2024/about', 'id': '6d5f9020b9db30f9353c8787a2be8e40'}), Document(page_content=' science and scientific computing community.\\n\\nNumFOCUS is a 501(c)3 public charity in the United States.', metadata={'title': 'About — PyData London 2024', 'url': 'https://pydata.org/london2024/about', 'id': '6d5f9020b9db30f9353c8787a2be8e40'}), Document(page_content='![Image 1](https://images.squarespace-cdn.com/content/v1/655270d4c839892af01aaf02/1699901690660-5RCVI2AOPEMQNHLX41SG/sticker+banner.jpg)\\n\\n#### London, United Kingdom • June 14 - 16, 2024\\n\\n**See Job submissions from our sponsors:**\\n\\n**Man Group**\\n-------------\\n\\nAs a Quant Developer at AHL you will be working hand-in-hand with our Quant Researchers. Your challenges will be varied, and will involve implementing new trading strategies, building new research frameworks and quant libraries, prototyping new data feeds, development of new portfolio construction techniques or building risk analysis tools.\\n\\nMachine Learning Technology is a small and agile team that facilitates the use of machine learning tools across Man Group, with a particular focus on generative AI. Alongside developing and provisioning the platform, we also consult with teams throughout the business assisting them in transforming their concepts into high-impact solutions.\\n\\nWe are seeking an experienced engineer to join the Responsible Investment Tech team within Man Technology to support our strategic build-out of cutting-edge technology to achieve our ESG goals. You’ll be collaborating with our Responsible Investment team, Data Science and the investment engines across the company, to develop our quant-driven RI strategies and discretionary RI portfolios.\\n\\nWe are seeking a highly motivated and experienced engineer to join the Data Engineering team within Man Platform Technology. You will have the chance to boost your career in a fast-paced and ambitious team that strives to create state-of-the-art tools for a range of data-related activities including onboarding, analysis, sourcing, quality checking, and lifecycle management.\\n\\nAlternative Discretionary Technology is a small and agile team that works very closely with the front-office teams in the UK as well as the US for Man’s discretionary strategies that operate in non-traditional markets. We develop and support a number of platforms for underwriting and ongoing management of private market assets like buy-to-rent housing portfolios, real estate debt and credit risk.\\n\\n**Quant Developer -**\\n\\n**Alternative Discretionary Technology**\\n\\n**Tesco**\\n---------\\n\\nYou will need to understand difficult business problems and prototype solutions with minimal support. This involves being able to validate, document and present the modeling process and performances as well as communicate complex solutions clearly, understandably to non-experts.\\n\\n**Data Scientist/ Senior Data Scientist**\\n\\nOur Data Science Managers help shape and expand a highly skilled team of Data Scientists focused on delivering a better understanding of the business and optimising processes based on all available data.\\n\\n**Booking.com**\\n---------------\\n\\nWithin the Pricing & Loyalty organization, we’re looking for a Principal Data Scientist who can truly make an impact at a strategic level. You’ll be an individual contributor who will be a role model for the craft; working with senior leadership to set a strategy that enables us to unlock value for our customers by elevating the capability of all individuals within the team.\\n\\n**Manager Data Engineering -  \\nCustomer Data**\\n\\nAs a Manager Data Engineering, you are responsible for an engineering team and the technology that the team owns. You will not only work as a coach for your people but also as a technical leader, ensuring that the right technical decisions are made when building our product. Our mission is to create a competitive advantage by building a clear understanding of customers’ total travel behavior.\\n\\nIn the Cars search team, we iteratively optimize our product to enable our users to find the best Cars in the right location using a combination of ML techniques, engineering, online experimentation, and agile product development. You will work across the full ML lifecycle and bring your models to production, communicating findings and contributing knowledge to the Booking data community.\\n\\n**Machine Learning Scientist II - Cars**\\n\\n**Machine Learning Engineer II -  \\nCustomer centric data**\\n\\nAs a Machine Learning Engineer, your responsibility is to operationalise cutting-edge Machine Learning models that need to run in real-time, ensuring low-latency performance to deliver an exceptional user experience for our travelers, requiring the training of large-scale models and developing scalable feature engineering solutions using modern data and ML tooling and optimization techniques.\\n\\n**Manager Data Engineering -**\\n\\n**Data & Machine Learning Platform**\\n\\nAs a Manager Data Engineering, you are responsible for an engineering team and the technology that the team owns. You will work as a coach for your people and as a technical leader, ensuring that the right technical decisions are made when building our product. Our mission is to provide the Data Engineering community at Booking the best possible platform for all of their Analytics and ML needs.\\n\\nRecursion is a clinical stage TechBio company leading the space by decoding biology to', metadata={'title': 'Job Board — PyData London 2024', 'url': 'https://pydata.org/london2024/job-board', 'id': '2750e3874a20b592a011516eff7b54e3'}), Document(page_content=' their Analytics and ML needs.\\n\\nRecursion is a clinical stage TechBio company leading the space by decoding biology to industrialize drug discovery. Enabling its mission is the Recursion OS, a platform built across diverse technologies that continuously expands one of the world’s largest proprietary biological and chemical datasets. Recursion leverages sophisticated machine-learning algorithms to distill from its dataset a collection of trillions of searchable relationships across biology and chemistry unconstrained by human bias. By commanding massive experimental scale — up to millions of wet lab experiments weekly — and massive computational scale — owning and operating one of the most powerful supercomputers in the world, Recursion is uniting technology, biology and chemistry to advance the future of medicine.\\n\\n**Recursion Pharmaceuticals**\\n-----------------------------\\n\\n**Bytewax**\\n-----------\\n\\nBytewax is seeking a GTM Lead with over 5 years of experience in high-growth startups. This role involves developing sales strategies, managing sales cycles, & leading teams. We focus on real-time data stream processing & offer competitive salaries, stock options, medical benefits, and unlimited vacation. Bytewax is a multinational, remote-first company, but this role is specific to the US.\\n\\n**Sales & Go-To-Market Leader**', metadata={'title': 'Job Board — PyData London 2024', 'url': 'https://pydata.org/london2024/job-board', 'id': '2750e3874a20b592a011516eff7b54e3'}), Document(page_content='![Image 1](https://images.squarespace-cdn.com/content/v1/655270d4c839892af01aaf02/50b9f546-fd21-4270-af8a-754e01afe4f6/DAY2+%28283+of+287%29.jpg)\\n\\n**Humble Data**\\n---------------\\n\\nLearn Python for Data Science in this Beginners’ Day Workshop\\n\\nWould you like to learn to code but don’t know where to start? Taking your first steps in programming can seem impossible, so we’ve decided to put on a workshop to show beginners how it can be done and share our passion for the world of data science!\\n\\n_“We want our community to be more diverse: whoever you are, and whatever your background, we welcome you.”_  \\n– Python Software Foundation’s Diversity Statement\\n\\nWe invite those from under-represented groups in data to [apply](https://forms.gle/cVyz7VJCVKm3XkHp6) to join us at PyData London Humble Data Workshop. In this workshop, you will learn the basics of programming in Python and how to use tools such as Jupyter Notebook to analyze data.\\n\\nYou will learn in small groups, each with an assigned mentor to guide you through the workshop materials and answer your questions. This will all be facilitated online through the wonders of modern technology. You can expect plenty of exercises, quizzes and games, and inspiring talks from those who were once in your shoes.\\n\\n![Image 2](https://images.squarespace-cdn.com/content/v1/655270d4c839892af01aaf02/7dbfc5b2-19ee-4185-be50-211755a41d72/magicpattern-mesh-gradient-1705596152616.png)\\n\\n**WHO CAN JOIN?  \\n**Anyone who attended the conference - PyData London. Childcare would also be available for attendees at the conference.\\n\\n**WHAT DO I NEED TO BRING?  \\n**You will need a computer. There may be a setup party in advance, with details to be announced. Our mentors can help you set up on the day or at the setup party.\\n\\n**WHAT DO I NEED TO KNOW?  \\n**If you have zero programming experience, this workshop is made for you! If you already have some experience but are new to Python, we’ve got you covered – the materials are designed for attendees to progress through the materials at their own rate.\\n\\n**HOW IS THIS POSSIBLE?  \\n**This workshop is being run by data scientists and software engineers dedicated to the spirit of open source. Every day we benefit from the hard work of others when we use free open tools. This is our way of giving back.\\n\\n**WHAT IS HUMBLE DATA?  \\n**Find out more at [https://humbledata.org/](https://humbledata.org/)\\n\\n### **Humble Data Mentors**\\n\\nWe wish to be able to run a workshop with as many participants as we can accommodate. However, we also need mentors to help out. Being a mentor will not only help you to familiarise yourself with the knowledge of data science, but it also gives you good vibes afterward. If you have the skill to share, we are happy to welcome you to our Humble Data family.\\n\\n**_Please be aware that mentors also need to be participants in the conference - PyData London._**', metadata={'title': 'Call for Proposals — PyData London 2024', 'url': 'https://pydata.org/london2024/humble', 'id': '448460819258c60f5ba54bd5aebcb077'}), Document(page_content=\"![Image 1](https://images.squarespace-cdn.com/content/v1/655270d4c839892af01aaf02/1699901665925-FVQBI89ZSHYLY3FZ7MEX/sticker+banner.jpg)\\n\\n#### LONDON, UNITED KINGDOM | JUNE 14 - 16, 2024\\n\\n**Sponsorship Opportunities**\\n-----------------------------\\n\\n**Thank you to our sponsors**\\n-----------------------------\\n\\n![Image 2](https://images.squarespace-cdn.com/content/v1/655270d4c839892af01aaf02/3a380c94-4bda-4d00-9e9d-2ecfc7142aec/TescoLogoHighRes.png)\\n\\nAt [Tesco Technology](https://www.tesco-careers.com/technology), we solve real-world problems for hundreds of thousands of colleagues and millions of customers worldwide, whether they choose to shop with us in store or online. The work we do is critical to the business, and we’re looking to broaden our teams to help us to iterate, innovate and deliver more quickly.\\n\\n![Image 3](https://images.squarespace-cdn.com/content/v1/655270d4c839892af01aaf02/27618fbf-9673-44e5-a1d7-6fcb7b1afdfe/BBGEngineering_black.png)\\n\\n[**Bloomberg**](http://www.techatbloomberg.com/python) is building the world's most trusted information network for financial professionals. Our 8,000+ engineers are dedicated to advancing and building new systems for the Bloomberg Terminal to solve complex, real-world problems. \\u200bWe trust our teams to choose the right technologies for the job, and, at Bloomberg, the answer is often Python. We employ an active community of 4,500+ Python developers who have their hands in everything from financial analytics and data science to contributing to open source technologies like Project Jupyter. Bloomberg is proud to be a Visionary Sponsor of the Python Software Foundation and host of many Python community events around the world. Learn more at [TechAtBloomberg.com/python](http://www.techatbloomberg.com/python).\\n\\n### Platinum\\n\\n[**Hopsworks Feature Store**](https://www.hopsworks.ai/) is an enterprise and python friendly Machine Learning platform for the full lifecycle of AI projects. It offers best in-class performances and an effective collaborative layer for all data teams, allowing them to leverage any data source for any application, at any performance level and across any environment.\\n\\n![Image 4](https://images.squarespace-cdn.com/content/v1/655270d4c839892af01aaf02/e31b55b6-9de0-4c2b-b83f-21adf44cab39/Hopsworks+Logo+-TRS300x100+%281%29.png)\\n\\n[![Image 5](https://images.squarespace-cdn.com/content/v1/655270d4c839892af01aaf02/c6ca7a28-ff23-42df-b792-4652cdfcfe41/nvidia-logo-vert-300x300.png)](https://www.nvidia.com/en-us/)\\n\\nNVIDIA‘s (NASDAQ:NVDA) invention of the GPU in 1999 sparked the growth of the PC gaming market, redefined modern computer graphics and revolutionized parallel computing. More recently, GPU deep learning ignited modern AI — the next era of computing — with the GPU acting as the brain of computers, robots and self-driving cars that can perceive and understand the world.\\n\\n![Image 6](https://images.squarespace-cdn.com/content/v1/655270d4c839892af01aaf02/2fffb4f3-1baf-403f-bcbd-788893d9b9f9/1715715332022-a375a823-0f93-4c21-861e-f2cce336a511_1.jpg)\\n\\n[Man Group](https://www.man.com/) is an active investment management firm focused on delivering performance and client portfolio solutions through its five investment management businesses: Man AHL; Man Numeric; Man GLG; Man FRM and Man Global Private Markets. Man Group’s investment management businesses provide long only\", metadata={'title': 'Sponsor — PyData London 2024', 'url': 'https://pydata.org/london2024/sponsor', 'id': '1725c2671d1a166108ab6d393be579b4'}), Document(page_content=' Man GLG; Man FRM and Man Global Private Markets. Man Group’s investment management businesses provide long only, alternative and private markets products on a single and multi- manager basis, leveraging the firm’s robust infrastructure to provide a diverse range of strategies across investment approaches, styles and asset classes.\\n\\n[![Image 7](https://images.squarespace-cdn.com/content/v1/655270d4c839892af01aaf02/a94b9a51-9173-4a85-b86d-70e7965cc723/Anaconda_Logo_RGB_Corporate_stacked_300x225.png)](https://www.anaconda.com/)\\n\\nWith more than 25 million users, **Anaconda** is the world’s most popular data science platform and the foundation of modern machine learning. We pioneered the use of Python for data science, champion its vibrant community, and continue to steward open-source projects that make tomorrow’s innovations possible. Our enterprise-grade solutions enable corporate, research, and academic institutions around the world to harness the power of open-source for competitive advantage, groundbreaking research, and a better world.\\n\\nRecursion is a clinical stage TechBio company leading the space by decoding biology to industrialize drug discovery. Enabling its mission is the Recursion OS, a platform built across diverse technologies that continuously expands one of the world’s largest proprietary biological and chemical datasets. Recursion leverages sophisticated machine-learning algorithms to distill from its dataset a collection of trillions of searchable relationships across biology and chemistry unconstrained by human bias. By commanding massive experimental scale — up to millions of wet lab experiments weekly — and massive computational scale — owning and operating one of the most powerful supercomputers in the world, Recursion is uniting technology, biology and chemistry to advance the future of medicine.\\n\\n![Image 8](https://images.squarespace-cdn.com/content/v1/655270d4c839892af01aaf02/01b57389-2799-4f12-ac3c-2ddbc38e61a6/Recursion+Logo+Horizontal+Black.jpg)\\n\\n![Image 9](https://images.squarespace-cdn.com/content/v1/655270d4c839892af01aaf02/c14de0e5-aa74-4341-bf31-a06a28cf92d7/Cubist-Logo-Primary+%281%29.png)\\n\\n[**Cubist Systematic Strategies**](https://point72.com/cubist/) is the systematic investing business of Point72. We deploy systematic, computer-driven trading strategies across multiple liquid asset classes. The core of our effort is rigorous research into a wide range of market anomalies, driven by our passion to understand the world around us and fueled by unparalleled access to a wide range of publicly available data sources.\\n\\n![Image 10](https://images.squarespace-cdn.com/content/v1/655270d4c839892af01aaf02/fbb21180-e3b2-427c-a8d4-a73657802c71/Coiled+-+Black+Adjusted+%282%29.jpg)\\n\\nDask and [**Coiled**](https://coiled.io/) make it easy to scale Python to run in parallel. Dask provides parallel algorithms for PyData and Coiled provides distributed infrastructure in the cloud.\\n\\n![Image 11](https://images.squarespace-cdn.com/content/v1/655270d4c839892af01aaf02/44a7de8a-0226-4012-8208-fd755f587f43/booking.png)\\n\\nAbout Booking.com: Part of Booking Holdings Inc. (NASDAQ: BKNG), Booking.com’s mission is to make it easier for everyone to experience the world. By investing in the technology that helps take the friction out of travel, Booking.com’s marketplace seamlessly connects millions of travelers with memorable experiences every day. For more information, follow @bookingcomteam on social media or visit [careers.booking.com](http://careers.booking.com/).\\n\\n### WHY SPONSOR\\n\\nJoin our community at PyData London, from June 14-16, 2024. Engage, network, and collaborate with peers and like-minded people in the Python Data community. Sponsoring this event allows you to meet with data professionals ranging from startup CTOs to corporate developers to senior technology executives from all', metadata={'title': 'Sponsor — PyData London 2024', 'url': 'https://pydata.org/london2024/sponsor', 'id': '1725c2671d1a166108ab6d393be579b4'}), Document(page_content=' this event allows you to meet with data professionals ranging from startup CTOs to corporate developers to senior technology executives from all over the world. Take this chance to inform this community about your organization’s products, services or job offerings.\\n\\nSponsoring PyData London allows you to associate your brand with a fast-growing but mature technology community. You will take advantage of participating in a professionally-organized conference run by a neutral nonprofit where content is curated by the community.\\n\\nYou also give back to the open source community. NumFOCUS reinvests profits from our events to directly support NumFOCUS’s sponsored projects such as Pandas, Numpy, Matplotlib and many more.\\n\\nIf you want to sponsor PyData London or have a question, reach out to us at admin@pydata.org.\\n\\n![Image 12](https://images.squarespace-cdn.com/content/v1/655270d4c839892af01aaf02/d033c077-464f-4609-a990-4d841fe3b98f/magicpattern-mesh-gradient-1705596178730.png)\\n\\n![Image 13](https://images.squarespace-cdn.com/content/v1/655270d4c839892af01aaf02/1699901665930-I4AATTXVGP1XBLRRSOIP/52202239549_be9ca709ae_o.jpg)\\n\\n![Image 14](https://images.squarespace-cdn.com/content/v1/655270d4c839892af01aaf02/7dbfc5b2-19ee-4185-be50-211755a41d72/magicpattern-mesh-gradient-1705596152616.png)\\n\\n### $15,000\\n\\n#### Diamond Tier\\n\\n**10 Conference tickets**\\n\\n**5 Diversity Scholarships awarded in your name**\\n\\n**✓ Logo on the conference website and banner**\\n\\n**✓ Job Board Listing**\\n\\n**✓ Links to Attendee Submitted Resumes/Websites/LinkedIn**\\n\\n**✓ Expo Booth**\\n\\n**✓ Access to Attendee List (Name, Email, Job Title, Company**\\n\\n**✓ Talk or Tutorial**\\n\\n**✓ Prime Logo Placement on conference videos**\\n\\n**✓ Top Billing**\\n\\n### $10,000\\n\\n#### Platinum Tier\\n\\n**6 Conference tickets**\\n\\n**3 Diversity Scholarships awarded in your name**\\n\\n**✓ Logo on the conference website and banner**\\n\\n**✓ Job Board Listing**\\n\\n**✓ Links to Attendee Submitted Resumes/Websites/LinkedIn**\\n\\n**✓ Expo Booth**\\n\\n**✓ Access to Attendee List (Name, Email, Job Title, Company**\\n\\n**✓ Talk or Tutorial**\\n\\n_✗_ Prime Logo Placement on conference videos\\n\\n_✗_ Top Billing\\n\\n### $6,000\\n\\n#### Gold Tier\\n\\n**3 Conference tickets**\\n\\n**2 Diversity Scholarships awarded in your name**\\n\\n**✓ Logo on the conference website and banner**\\n\\n**✓ Job Board Listing**\\n\\n**✓ Links to Attendee Submitted Resumes/Websites/LinkedIn**\\n\\n**✓ Expo Booth**\\n\\n**✓ Access to Attendee List (Name, Email, Job Title, Company**\\n\\n_✗_ Talk or Tutorial\\n\\n_✗_ Prime Logo Placement on conference videos\\n\\n_✗_ Top Billing\\n\\n### $4,000\\n\\n#### Silver Tier\\n\\n**2 Conference tickets**\\n\\n**1 Diversity Scholarship awarded in your name**\\n\\n**✓ Logo on the conference website and banner**\\n\\n**✓ Job Board Listing**\\n\\n**✓ Links to Attendee Submitted Resumes/Websites/LinkedIn**\\n\\n_✗_ Expo Booth\\n\\n_✗_ Access to Attendee List (Name, Email, Job Title, Company\\n\\n_✗_ Talk or Tutorial\\n\\n_✗_ Prime Logo Placement on conference videos\\n\\n_✗_ Top Billing', metadata={'title': 'Sponsor — PyData London 2024', 'url': 'https://pydata.org/london2024/sponsor', 'id': '1725c2671d1a166108ab6d393be579b4'})]\n"
     ]
    },
    {
     "name": "stderr",
     "output_type": "stream",
     "text": [
      "\n"
     ]
    }
   ],
   "source": [
    "from langchain.text_splitter import TokenTextSplitter\n",
    "from langchain_core.documents import Document\n",
    "from tqdm import tqdm\n",
    "\n",
    "list_of_websites = [\n",
    "    \"https://pydata.org/london2024\",\n",
    "    \"https://pydata.org/london2024/about\",\n",
    "    \"https://pydata.org/london2024/job-board\",\n",
    "    \"https://pydata.org/london2024/humble\",\n",
    "    \"https://pydata.org/london2024/sponsor\",\n",
    "]\n",
    "\n",
    "scraped_data: list[ScrapedWebsite] = [\n",
    "    scrape_website(url) for url in tqdm(list_of_websites, desc=\"Scraping website\")\n",
    "]\n",
    "list_of_documents: list[Document] = [\n",
    "    Document(\n",
    "        page_content=data.content,\n",
    "        metadata={\n",
    "            \"title\": data.title,\n",
    "            \"url\": data.url,\n",
    "            \"id\": generate_md5_hash(data.content),\n",
    "        },\n",
    "    )\n",
    "    for data in tqdm(scraped_data, desc=\"Processing documents\")\n",
    "]\n",
    "\n",
    "text_splitter = TokenTextSplitter(chunk_size=1024, chunk_overlap=24)\n",
    "documents = text_splitter.split_documents(list_of_documents)\n",
    "\n",
    "print(documents)"
   ]
  },
  {
   "cell_type": "code",
   "execution_count": 37,
   "metadata": {},
   "outputs": [],
   "source": [
    "from hashlib import md5\n",
    "from langchain_community.graphs.graph_document import GraphDocument\n",
    "from langchain_community.graphs.neo4j_graph import BASE_ENTITY_LABEL, Neo4jGraph, _get_rel_import_query\n",
    "from langchain_core.embeddings import Embeddings\n",
    "\n",
    "include_docs_query = (\n",
    "    \"MERGE (d:Document {id:$document.metadata.id}) \"\n",
    "    \"SET d.text = $document.page_content \"\n",
    "    \"SET d.embedding = $document.metadata.embedding \"\n",
    "    \"WITH d \"\n",
    ")\n",
    "\n",
    "\n",
    "def _get_node_import_query(baseEntityLabel: bool, include_source: bool) -> str:\n",
    "    if baseEntityLabel:\n",
    "        return (\n",
    "            f\"{include_docs_query if include_source else ''}\"\n",
    "            \"UNWIND $data AS row \"\n",
    "            f\"MERGE (source:`{BASE_ENTITY_LABEL}` {{id: row.id}}) \"\n",
    "            \"SET source += row.properties \"\n",
    "            f\"{'MERGE (d)-[:MENTIONS]->(source) ' if include_source else ''}\"\n",
    "            \"WITH source, row \"\n",
    "            \"CALL apoc.create.addLabels( source, [row.type] ) YIELD node \"\n",
    "            \"RETURN distinct 'done' AS result\"\n",
    "        )\n",
    "    else:\n",
    "        return (\n",
    "            f\"{include_docs_query if include_source else ''}\"\n",
    "            \"UNWIND $data AS row \"\n",
    "            \"CALL apoc.merge.node([row.type], {id: row.id}, \"\n",
    "            \"row.properties, {}) YIELD node \"\n",
    "            f\"{'MERGE (d)-[:MENTIONS]->(node) ' if include_source else ''}\"\n",
    "            \"RETURN distinct 'done' AS result\"\n",
    "        )\n",
    "\n",
    "\n",
    "class ModifiedNeo4JGraph(Neo4jGraph):\n",
    "    def add_graph_documents_with_embeddings(self, graph_documents: list[GraphDocument], embedding: Embeddings, include_source: bool = False,\n",
    "                            baseEntityLabel: bool = False) -> None:\n",
    "        \"\"\"\n",
    "        This method constructs nodes and relationships in the graph based on the\n",
    "        provided GraphDocument objects.\n",
    "\n",
    "        Parameters:\n",
    "        - graph_documents (List[GraphDocument]): A list of GraphDocument objects\n",
    "        that contain the nodes and relationships to be added to the graph. Each\n",
    "        GraphDocument should encapsulate the structure of part of the graph,\n",
    "        including nodes, relationships, and the source document information.\n",
    "        - embedding (Embeddings): An embedding function to embed the chunked documents.\n",
    "        - include_source (bool, optional): If True, stores the source document\n",
    "        and links it to nodes in the graph using the MENTIONS relationship.\n",
    "        This is useful for tracing back the origin of data. Merges source\n",
    "        documents based on the `id` property from the source document metadata\n",
    "        if available; otherwise it calculates the MD5 hash of `page_content`\n",
    "        for merging process. Defaults to False.\n",
    "        - baseEntityLabel (bool, optional): If True, each newly created node\n",
    "        gets a secondary __Entity__ label, which is indexed and improves import\n",
    "        speed and performance. Defaults to False.\n",
    "        \"\"\"\n",
    "\n",
    "        if baseEntityLabel:  # Check if constraint already exists\n",
    "            constraint_exists = any(\n",
    "                [\n",
    "                    el[\"labelsOrTypes\"] == [BASE_ENTITY_LABEL]\n",
    "                    and el[\"properties\"] == [\"id\"]\n",
    "                    for el in self.structured_schema.get(\"metadata\", {}).get(\n",
    "                    \"constraint\"\n",
    "                )\n",
    "                ]\n",
    "            )\n",
    "            if not constraint_exists:\n",
    "                # Create constraint\n",
    "                self.query(\n",
    "                    f\"CREATE CONSTRAINT IF NOT EXISTS FOR (b:{BASE_ENTITY_LABEL}) \"\n",
    "                    \"REQUIRE b.id IS UNIQUE;\"\n",
    "                )\n",
    "                self.refresh_schema()  # Refresh constraint information\n",
    "\n",
    "        node_import_query = _get_node_import_query(baseEntityLabel, include_source)\n",
    "        rel_import_query = _get_rel_import_query(baseEntityLabel)\n",
    "        for document in graph_documents:\n",
    "            if not document.source.metadata.get(\"id\"):\n",
    "                document.source.metadata[\"id\"] = md5(\n",
    "                    document.source.page_content.encode(\"utf-8\")\n",
    "                ).hexdigest()\n",
    "                document.source.metadata[\"embedding\"] = embedding.embed_query(text=document.source.page_content)\n",
    "\n",
    "            # Import nodes\n",
    "            self.query(\n",
    "                node_import_query,\n",
    "                {\n",
    "                    \"data\": [el.__dict__ for el in document.nodes],\n",
    "                    \"document\": document.source.__dict__,\n",
    "                },\n",
    "            )\n",
    "            # Import relationships\n",
    "            self.query(\n",
    "                rel_import_query,\n",
    "                {\n",
    "                    \"data\": [\n",
    "                        {\n",
    "                            \"source\": el.source.id,\n",
    "                            \"source_label\": el.source.type,\n",
    "                            \"target\": el.target.id,\n",
    "                            \"target_label\": el.target.type,\n",
    "                            \"type\": el.type.replace(\" \", \"_\").upper(),\n",
    "                            \"properties\": el.properties,\n",
    "                        }\n",
    "                        for el in document.relationships\n",
    "                    ]\n",
    "                },\n",
    "            )"
   ]
  },
  {
   "cell_type": "code",
   "execution_count": 38,
   "metadata": {},
   "outputs": [
    {
     "name": "stdout",
     "output_type": "stream",
     "text": [
      "Graph Documents: [GraphDocument(nodes=[Node(id='Pydata London 2024', type='Event'), Node(id='Data Scientists', type='Person'), Node(id='Data Engineers', type='Person'), Node(id='Developers Of Data Analysis Tools', type='Person'), Node(id='Pydata Community', type='Organization'), Node(id='Leonardo Royal Hotel London Tower Bridge', type='Place'), Node(id='45 Prescot St, London E1 8Gp, United Kingdom', type='Place'), Node(id='Dr. Rebecca Bilbro', type='Person'), Node(id='Yellowbrick', type='Software'), Node(id='Scikit-Learn', type='Software'), Node(id='Matplotlib', type='Software'), Node(id='Rotational Labs', type='Organization'), Node(id='University Of Illinois, Urbana-Champaign', type='Organization')], relationships=[Relationship(source=Node(id='Pydata London 2024', type='Event'), target=Node(id='Data Scientists', type='Person'), type='INCLUDES'), Relationship(source=Node(id='Pydata London 2024', type='Event'), target=Node(id='Data Engineers', type='Person'), type='INCLUDES'), Relationship(source=Node(id='Pydata London 2024', type='Event'), target=Node(id='Developers Of Data Analysis Tools', type='Person'), type='INCLUDES'), Relationship(source=Node(id='Pydata London 2024', type='Event'), target=Node(id='Pydata Community', type='Organization'), type='TARGET_AUDIENCE'), Relationship(source=Node(id='Pydata London 2024', type='Event'), target=Node(id='Leonardo Royal Hotel London Tower Bridge', type='Place'), type='LOCATION'), Relationship(source=Node(id='Leonardo Royal Hotel London Tower Bridge', type='Place'), target=Node(id='45 Prescot St, London E1 8Gp, United Kingdom', type='Place'), type='ADDRESS'), Relationship(source=Node(id='Pydata London 2024', type='Event'), target=Node(id='Friday, June 14Th, 2024', type='Date'), type='START_DATE'), Relationship(source=Node(id='Pydata London 2024', type='Event'), target=Node(id='Sunday, June 16Th, 2024', type='Date'), type='END_DATE'), Relationship(source=Node(id='Dr. Rebecca Bilbro', type='Person'), target=Node(id='Yellowbrick', type='Software'), type='CO-CREATOR_OF'), Relationship(source=Node(id='Yellowbrick', type='Software'), target=Node(id='Scikit-Learn', type='Software'), type='INTEGRATES_WITH'), Relationship(source=Node(id='Yellowbrick', type='Software'), target=Node(id='Matplotlib', type='Software'), type='INTEGRATES_WITH'), Relationship(source=Node(id='Dr. Rebecca Bilbro', type='Person'), target=Node(id='Rotational Labs', type='Organization'), type='CO-FOUNDER'), Relationship(source=Node(id='Dr. Rebecca Bilbro', type='Person'), target=Node(id='University Of Illinois, Urbana-Champaign', type='Organization'), type='ALMA_MATER')], source=Document(page_content='![Image 1](https://images.squarespace-cdn.com/content/v1/655270d4c839892af01aaf02/6a9c721d-5397-4349-a711-befa4be34f62/AdobeStock_132796360-dark.jpg)\\n\\nWHAT TO EXPECT\\n--------------\\n\\nPyData London 2024 is a 3-day in-person event for the international community of data scientists, data engineers, and developers of data analysis tools to share ideas and learn from each other.\\n\\nDuring the conference, attendees will have the opportunity to attend live keynote sessions and talks, lightning talks, and get to know fellow members of the **Py****Data** Community.\\n\\n![Image 2](https://images.squarespace-cdn.com/content/v1/655270d4c839892af01aaf02/1699901673377-62BKP9F0DZ91L3D8PA26/promo+photo+with+overlay+1+-+small.png)\\n\\n![Image 3](https://images.squarespace-cdn.com/content/v1/655270d4c839892af01aaf02/d033c077-464f-4609-a990-4d841fe3b98f/magicpattern-mesh-gradient-1705596178730.png)\\n\\n**The event will be in-person at the** [**Leonardo Royal Hotel London Tower Bridge**](https://www.leonardohotels.co.uk/hotels/london/leonardo-tower-bridge?utm_medium=local&utm_source=google) **(45 Prescot St, London E1 8GP, United Kingdom).**\\n\\n**The conference will span from** **Friday, June 14th, 2024 to Sunday, June 16th, 2024****.**\\n\\n![Image 4](https://images.squarespace-cdn.com/content/v1/655270d4c839892af01aaf02/1699901673382-164CXFMDTEECMV086LP0/promo+photo+with+overlay+2+-+small.png)\\n\\n![Image 5](https://images.squarespace-cdn.com/content/v1/655270d4c839892af01aaf02/7dbfc5b2-19ee-4185-be50-211755a41d72/magicpattern-mesh-gradient-1705596152616.png)\\n\\n![Image 6](https://images.squarespace-cdn.com/content/v1/655270d4c839892af01aaf02/6f6cb654-5652-4175-945d-4bb36af6b7ac/magicpattern-mesh-gradient-1705596181146.png)\\n\\n![Image 7](https://images.squarespace-cdn.com/content/v1/655270d4c839892af01aaf02/3e674645-9809-4fbb-8cfe-d09c94d2e955/dr-rebecca-bilbro.jpg)\\n\\n**Dr. Rebecca Bilbro  \\n**  \\nA pioneer of the data science revolution in the early 2010’s, Dr. Rebecca Bilbro is an applied AI/ML engineer, teacher, and author. Rebecca (aka\\xa0[@Elder\\\\_Data\\\\_Scientist](https://www.tiktok.com/@elder_data_scientist) on TikTok)\\xa0is the co-creator of [Yellowbrick](https://www.scikit-yb.org/en/latest/), a Python library that integrates the scikit-learn and matplotlib APIs to support more convenient model diagnostics and steering. As co-founder and CTO of Rotational Labs ([rotational.io](http://rotational.io/)), Rebecca is motivated by a desire to unite the data science and engineering communities. She and her team help other companies leverage in-house domain expertise and data to build and deploy LLMs, data products, and services. Rebecca earned her doctorate from the University of Illinois, Urbana-Champaign, where her research centered on domain-specific languages within engineering.\\n\\n![Image 8](https://images.squarespace-cdn.com/content/v1/655270d4c839892af01aaf02', metadata={'title': 'PyData London 2024', 'url': 'https://pydata.org/london2024', 'id': 'ba60829f6e23ffa003cbeb5045fa83b4'})), GraphDocument(nodes=[Node(id='Tania Allard', type='Person'), Node(id='Quansight Labs', type='Organization'), Node(id='Psf', type='Organization'), Node(id='Pyladies Global Council', type='Organization'), Node(id='Matt Crooks', type='Person'), Node(id='Bbc', type='Organization'), Node(id='Typeform', type='Organization'), Node(id='Bbc Bitesize', type='Organization'), Node(id='Bbc Iplayer', type='Organization')], relationships=[Relationship(source=Node(id='Tania Allard', type='Person'), target=Node(id='Quansight Labs', type='Organization'), type='DIRECTOR'), Relationship(source=Node(id='Tania Allard', type='Person'), target=Node(id='Psf', type='Organization'), type='DIRECTOR'), Relationship(source=Node(id='Tania Allard', type='Person'), target=Node(id='Pyladies Global Council', type='Organization'), type='MEMBER'), Relationship(source=Node(id='Matt Crooks', type='Person'), target=Node(id='Bbc', type='Organization'), type='PRINCIPAL_DATA_SCIENTIST'), Relationship(source=Node(id='Matt Crooks', type='Person'), target=Node(id='Typeform', type='Organization'), type='EXPERIMENTATION_LEAD'), Relationship(source=Node(id='Matt Crooks', type='Person'), target=Node(id='Bbc Bitesize', type='Organization'), type='DEVELOPER'), Relationship(source=Node(id='Matt Crooks', type='Person'), target=Node(id='Bbc Iplayer', type='Organization'), type='DEVELOPER')], source=Document(page_content=\"-cdn.com/content/v1/655270d4c839892af01aaf02/49aaddd5-715f-4c69-bd1e-2b0db3762e67/Tania+Allard19-07-170429.jpg)\\n\\n**Tania Allard**Tania is the director of Quansight Labs, an organization that builds and maintains sustainable open-source projects and communities, mainly within the PyData ecosystem. She is also a director of the PSF (Python Software Foundation) and a member of the PyLadies Global Council. She is passionate about open source, its community, and building tools for developers and data scientists.\\n\\n![Image 9](https://images.squarespace-cdn.com/content/v1/655270d4c839892af01aaf02/2ba7a42b-bec2-41a2-827a-ec556637bb17/matt+headshot.jpeg)\\n\\n**Matt Crooks**Matt is Principal Data Scientist at the BBC and focuses on modeling and optimizing the BBC's marketing. Matt joined the BBC as a Data Scientist in 2018 after spending several years as a post-doc modeling cloud microphysics in weather and climate systems. During the pandemic he developed an adaptive learning algorithm for BBC Bitesize to help GCSE students to revise while schools were closed. He spent 2021 working as the Experimentation Lead at the survey company Typeform - developing and scaling their experimentation capabilities. Since returning to the BBC, Matt has been focusing on marketing projects and causal inference and is currently using Python and data to create personalized marketing assets for BBC iPlayer.\\n\\n### **Diamond**\\n\\n![Image 10](https://images.squarespace-cdn.com/content/v1/655270d4c839892af01aaf02/944e10f4-67b8-48c0-9218-1d9609a18b91/TescoLogoHighRes.png)\\n\\n[![Image 11](https://images.squarespace-cdn.com/content/v1/655270d4c839892af01aaf02/42da6c0a-9989-493e-b249-e9d64fda2577/BBG_Engineering_BLK.jpg)](https://techatbloomberg.com/)\\n\\n### **Platinum**\\n\\n![Image 12](https://images.squarespace-cdn.com/content/v1/655270d4c839892af01aaf02/11144435-891c-443e-9bba-3c26039bec34/nvidia-logo-vert.png)\\n\\n![Image 13](https://images.squarespace-cdn.com/content/v1/655270d4c839892af01aaf02/56c087ad-c974-41b7-b7c1-080ee50dd3f7/Anaconda_Logo_RGB_Corporate_stacked_300x225.png)\\n\\n[![Image 14](https://images.squarespace-cdn.com/content/v1/655270d4c839892af01aaf02/639dcfb2-60d0-4d6a-b724-58f657036c1d/hopsworks.png)](https://www.hopsworks.ai/)\\n\\n[![Image 15](https://images.squarespace-cdn.com/content/v1/655270d4c839892af01aaf02/a53b7661-e7a6-476a-a359-11724d3c113a/1709656540576-8059fb90-417c-4748-9d1f-6982f8424b0f_1.jpg)](https://www.man.com/)\\n\\n[![Image 16](https://images.squarespace-cdn.com/content/v1/655270d4c839892af01aaf02/5858da2f-de63-45d6-95ae-4e8e52db07ed/Recursion+Logo+Horizontal+Black.jpg)](http://www.recursion.com/)\\n\\n### **Gold**\\n\\n[![Image 17](https://images.squarespace-cdn.com/content/v1/655270d4c839892af01a\", metadata={'title': 'PyData London 2024', 'url': 'https://pydata.org/london2024', 'id': 'ba60829f6e23ffa003cbeb5045fa83b4'})), GraphDocument(nodes=[Node(id='Cubist', type='Organization'), Node(id='Booking.Com', type='Organization'), Node(id='Coiled', type='Organization'), Node(id='Anaconda', type='Organization'), Node(id='Nvidia', type='Organization'), Node(id='Bytewax', type='Organization'), Node(id='Magicpattern', type='Organization'), Node(id='Pydata', type='Organization')], relationships=[Relationship(source=Node(id='Cubist', type='Organization'), target=Node(id='Pydata', type='Organization'), type='SPONSOR'), Relationship(source=Node(id='Booking.Com', type='Organization'), target=Node(id='Pydata', type='Organization'), type='SPONSOR'), Relationship(source=Node(id='Coiled', type='Organization'), target=Node(id='Pydata', type='Organization'), type='SPONSOR'), Relationship(source=Node(id='Anaconda', type='Organization'), target=Node(id='Pydata', type='Organization'), type='SPONSOR'), Relationship(source=Node(id='Nvidia', type='Organization'), target=Node(id='Pydata', type='Organization'), type='SPONSOR'), Relationship(source=Node(id='Bytewax', type='Organization'), target=Node(id='Pydata', type='Organization'), type='PARTNER'), Relationship(source=Node(id='Magicpattern', type='Organization'), target=Node(id='Pydata', type='Organization'), type='PARTNER')], source=Document(page_content='arespace-cdn.com/content/v1/655270d4c839892af01aaf02/f2fdd479-4f23-41bb-adb7-46e56c1ebf2d/Cubist-Logo-Primary+%281%29.png)](https://point72.com/cubist/)\\n\\n[![Image 18](https://images.squarespace-cdn.com/content/v1/655270d4c839892af01aaf02/c5bf05f9-ea0c-4505-a328-57faa36088be/booking.png)](https://www.booking.com/)\\n\\n[![Image 19](https://images.squarespace-cdn.com/content/v1/655270d4c839892af01aaf02/da08e861-70b7-46dd-9ce4-8ab52a065df0/Coiled%2B-%2BBlack%2BAdjusted.png)](https://www.coiled.io/)\\n\\n### **Conference Social Sponsors**\\n\\n![Image 20](https://images.squarespace-cdn.com/content/v1/655270d4c839892af01aaf02/56c087ad-c974-41b7-b7c1-080ee50dd3f7/Anaconda_Logo_RGB_Corporate_stacked_300x225.png)\\n\\n![Image 21](https://images.squarespace-cdn.com/content/v1/655270d4c839892af01aaf02/11144435-891c-443e-9bba-3c26039bec34/nvidia-logo-vert.png)\\n\\n### **Community Partners**\\n\\n[![Image 22](https://images.squarespace-cdn.com/content/v1/655270d4c839892af01aaf02/557d79af-dfb8-4f94-8838-101829d9d15d/logo_white-background-transparent.png)](https://bytewax.io/)\\n\\n![Image 23](https://images.squarespace-cdn.com/content/v1/655270d4c839892af01aaf02/6f6cb654-5652-4175-945d-4bb36af6b7ac/magicpattern-mesh-gradient-1705596181146.png)\\n\\n**The global PyData network promotes discussion of best practices, new approaches, and emerging technologies for data management, processing, analytics, and visualization. PyData communities approach data science using many languages, including (but not limited to) Python, Julia, and R.**\\n\\n![Image 24](https://images.squarespace-cdn.com/content/v1/655270d4c839892af01aaf02/aea01ce8-08b7-4e0f-94c2-3c461ea11f8d/AdobeStock_52917920.jpeg)', metadata={'title': 'PyData London 2024', 'url': 'https://pydata.org/london2024', 'id': 'ba60829f6e23ffa003cbeb5045fa83b4'})), GraphDocument(nodes=[Node(id='June 14 - 16, 2024', type='Date'), Node(id='London, United Kingdom', type='Location'), Node(id='Attendees', type='Person'), Node(id='Pydata', type='Organization'), Node(id='Numfocus', type='Organization'), Node(id='Leonardo Royal Hotel London Tower Bridge', type='Location'), Node(id='Volunteers', type='Person'), Node(id='May 15Th 2024', type='Date')], relationships=[Relationship(source=Node(id='June 14 - 16, 2024', type='Date'), target=Node(id='London, United Kingdom', type='Location'), type='HAPPENS_IN'), Relationship(source=Node(id='Attendees', type='Person'), target=Node(id='Pydata', type='Organization'), type='ATTEND'), Relationship(source=Node(id='Pydata', type='Organization'), target=Node(id='Numfocus', type='Organization'), type='PART_OF'), Relationship(source=Node(id='Pydata', type='Organization'), target=Node(id='Leonardo Royal Hotel London Tower Bridge', type='Location'), type='HELD_AT'), Relationship(source=Node(id='Volunteers', type='Person'), target=Node(id='Pydata', type='Organization'), type='VOLUNTEER_FOR'), Relationship(source=Node(id='Volunteers', type='Person'), target=Node(id='May 15Th 2024', type='Date'), type='APPLY_BY')], source=Document(page_content='![Image 1](https://images.squarespace-cdn.com/content/v1/655270d4c839892af01aaf02/7dbfc5b2-19ee-4185-be50-211755a41d72/magicpattern-mesh-gradient-1705596152616.png)\\n\\n### JUNE 14 - 16, 2024  \\nLondon, United Kingdom\\n\\n### CONFERENCE OVERVIEW\\n\\nWe welcome attendees with wide varieties of experiences, expertise, and backgrounds to join us. Users, contributors, and newcomers can share experiences and learn from one another to solve hard problems and grow a stronger open-source community.\\n\\n### ABOUT PYDATA\\n\\nPyData is an educational program of NumFOCUS, a 501(c)3 non-profit organization in the United States. PyData provides a forum for the international community of users and developers of data analysis tools to share ideas and learn from each other. The global PyData network promotes discussion of best practices, new approaches, and emerging technologies for data management, processing, analytics, and visualization. PyData communities approach data science using many languages, including (but not limited to) Python, Julia, and R.\\n\\nWe aim to be an accessible, community-driven conference, with novice to advanced level presentations. PyData tutorials and talks bring attendees the latest project features along with cutting-edge use cases.\\n\\nVENUE\\n-----\\n\\n[**Leonardo Royal Hotel London Tower Bridge**](https://www.leonardohotels.co.uk/hotels/london/leonardo-tower-bridge?utm_medium=local&utm_source=google)\\n\\n**45 Prescot St, London E1 8GP, United Kingdom**\\n\\n**Accessibility  \\n**The conference will be held on the B2 and the 1st floor of the Leonardo Royal Hotel London Tower Bridge.\\n\\nThe venue is fully wheelchair-accessible.\\n\\n![Image 2](https://images.squarespace-cdn.com/content/v1/655270d4c839892af01aaf02/6f6cb654-5652-4175-945d-4bb36af6b7ac/magicpattern-mesh-gradient-1705596181146.png)\\n\\n**Transport  \\n**The venue has no parking. The nearest public parking is: Minories Car Park, 1 Shorter St, London E1 8LP.\\n\\nThe nearest tube station, Tower Hill, is only a\\u202fseven-minute walk away and is served by the Circle and District lines.\\u202fOther nearby stations are Fenchurch Street station and Tower Gateway DLR station, offering good links to different parts of London.\\n\\nFind out about [**directions and travel advice here**](https://www.leonardohotels.co.uk/hotels/london/leonardo-tower-bridge/map).\\n\\n![Image 3](https://images.squarespace-cdn.com/content/v1/655270d4c839892af01aaf02/8f29eb23-5f9f-4eb3-808a-dee21c804ecb/image+%2830%29.png)\\n\\n![Image 4](https://images.squarespace-cdn.com/content/v1/655270d4c839892af01aaf02/d033c077-464f-4609-a990-4d841fe3b98f/magicpattern-mesh-gradient-1705596178730.png)\\n\\n![Image 5](https://images.squarespace-cdn.com/content/v1/655270d4c839892af01aaf02/6f6cb654-5652-4175-945d-4bb36af6b7ac/magicpattern-mesh-gradient-1705596181146.png)\\n\\nVolunteer\\n\\n\\n-------------\\n\\nPyData conferences would not be possible without our volunteers. We invite you to sign up to volunteer for the 2024 conference. Volunteer duties include working at the registration desk, t-shirt table, monitor talks, ensure talks start and end on time, introduce speakers, moderate Q&A, and other needs as assigned.\\n\\nVolunteering is an excellent way to network with your peers, get a behind the scenes look at the conference and become more involved with PyData.\\n\\nAll chosen volunteers will get a free ticket to attend the conference in exchange for volunteering half of their time.\\n\\nPlease apply by May 15th 2024.\\n\\n### CODE OF CONDUCT\\n\\nPyData', metadata={'title': 'About — PyData London 2024', 'url': 'https://pydata.org/london2024/about', 'id': '6d5f9020b9db30f9353c8787a2be8e40'})), GraphDocument(nodes=[Node(id='May 15Th 2024', type='Time'), Node(id='Pydata', type='Organization'), Node(id='Pydata London', type='Event'), Node(id='Numfocus', type='Organization'), Node(id='Numfocus Code Of Conduct Reporting Form', type='Document'), Node(id='Conduct@Numfocus.Org', type='Email')], relationships=[Relationship(source=Node(id='May 15Th 2024', type='Time'), target=Node(id='Pydata London', type='Event'), type='APPLICATION_DEADLINE'), Relationship(source=Node(id='Pydata', type='Organization'), target=Node(id='Pydata London', type='Event'), type='ORGANIZES'), Relationship(source=Node(id='Numfocus', type='Organization'), target=Node(id='Numfocus Code Of Conduct Reporting Form', type='Document'), type='PROVIDES'), Relationship(source=Node(id='Numfocus', type='Organization'), target=Node(id='Conduct@Numfocus.Org', type='Email'), type='PROVIDES_CONTACT_EMAIL')], source=Document(page_content=' time.\\n\\nPlease apply by May 15th 2024.\\n\\n### CODE OF CONDUCT\\n\\nPyData has an engaged and respectful community made up of people from all over the world. We are committed to creating a productive, professional, and inclusive environment for everyone. All community members are expected to show respect and courtesy to other attendees throughout the conference, all conference events and online forums. Our code of conduct is strictly enforced.\\n\\nDo not insult or put down others. Behave professionally. Remember that harassment and sexist, racist, or exclusionary jokes are not appropriate for PyData London.\\n\\nAll communication should be appropriate for a professional audience including people of many different backgrounds. Sexual language and imagery is not appropriate.\\n\\nPyData London is dedicated to providing a harassment-free community for everyone, regardless of gender, sexual orientation, gender identity and expression, disability, physical appearance, body size, race, or religion. We do not tolerate harassment of community members in any form.\\n\\nThank you for helping make this a welcoming, friendly community for all.\\n\\n### HOW TO REPORT\\n\\nTo submit a report, you may use this form: [NumFOCUS Code of Conduct Reporting Form](https://numfocus.typeform.com/to/ynjGdT?typeform-source=pydata.org). You may also bring your concern to any conference organizer or volunteer or send an email to [conduct@numfocus.org](mailto:conduct@numfocus.org).\\n\\nHarassment includes offensive verbal comments related to gender, sexual orientation, disability, physical appearance, body size, race, religion, sexual images in public spaces, deliberate intimidation, stalking, following, harassing photography or recording, sustained disruption of talks or other events, inappropriate physical contact, and unwelcome sexual attention including, but not limited to, flirting and propositioning an attendee. Remember, this is a scientific conference, not a social venue. Belittling comments such as, \"This is obvious/easy. Everyone knows this.\", and \"well actually\" are all inappropriate. Questions for the speaker should include an actual question. Participants asked to stop any harassing behavior are expected to comply immediately. Exhibitors in the expo hall, sponsor or vendor booths, or similar activities are also subject to the anti-harassment policy. In particular, exhibitors should not use sexualized images, activities, or other material. Booth staff (including volunteers) should not use sexualized\\xa0 clothing/uniforms/costumes, or otherwise create a sexualized environment. Be careful in the words that you choose. Remember that sexist, racist, transphobic, and other exclusionary jokes can be offensive to those around you. Excessive swearing and offensive jokes are not appropriate for PyData Events.\\n\\n![Image 6](https://images.squarespace-cdn.com/content/v1/655270d4c839892af01aaf02/6f6cb654-5652-4175-945d-4bb36af6b7ac/magicpattern-mesh-gradient-1705596181146.png)\\n\\nDIVERSITY\\n\\n\\n-------------\\n\\nOur commitment to the PyData community is to create an inclusive and respectful conference environment that invites participation of people from all backgrounds. We welcome a diverse attendance to foster deeper discussions and build a stronger community.\\n\\nPyData London welcomes and encourages participation in our community by people of all backgrounds and identities. We are committed to promoting and sustaining a culture that values mutual respect, tolerance, and learning, and we work together as a community to help each other live out these values.\\n\\nWe have created this diversity statement because we believe that a diverse community is stronger, more vibrant, and produces better software and better science. A diverse community where people treat each other with respect has more potential contributors, more sources for ideas, and fewer shared assumptions that might hinder development or research.\\n\\nAlthough we have phrased the formal diversity statement generically to make it all-inclusive, we recognize that there are specific identities that are impacted by systemic discrimination and marginalization. We welcome all people to participate in the NumFOCUS community regardless of their identity or background.\\n\\nFor PyData London 2024, we are offering scholarship opportunities to those from underrepresented groups who may otherwise be unable to attend the conference. Thank you to our sponsors for making these scholarships possible.\\n\\nScholarship Application has been closed.\\n\\nThe mission of [**NumFOCUS**](http://numfocus.org/) is to promote sustainable high-level programming languages, open code development, and reproducible scientific research. We accomplish this mission through our educational programs and events as well as through fiscal sponsorship of open source scientific computing projects. We aim to increase collaboration and communication within the data science and scientific computing community.\\n\\nNumFOCUS is a 501(c)3 public charity in the United', metadata={'title': 'About — PyData London 2024', 'url': 'https://pydata.org/london2024/about', 'id': '6d5f9020b9db30f9353c8787a2be8e40'})), GraphDocument(nodes=[Node(id='Numfocus', type='Organization'), Node(id='501(C)3 Public Charity', type='Organization_type'), Node(id='United States', type='Location')], relationships=[Relationship(source=Node(id='Numfocus', type='Organization'), target=Node(id='501(C)3 Public Charity', type='Organization_type'), type='IS_A'), Relationship(source=Node(id='Numfocus', type='Organization'), target=Node(id='United States', type='Location'), type='LOCATED_IN')], source=Document(page_content=' science and scientific computing community.\\n\\nNumFOCUS is a 501(c)3 public charity in the United States.', metadata={'title': 'About — PyData London 2024', 'url': 'https://pydata.org/london2024/about', 'id': '6d5f9020b9db30f9353c8787a2be8e40'})), GraphDocument(nodes=[Node(id='London', type='Location'), Node(id='United Kingdom', type='Location'), Node(id='Man Group', type='Organization'), Node(id='Ahl', type='Organization'), Node(id='Machine Learning Technology', type='Organization'), Node(id='Man Technology', type='Organization'), Node(id='Responsible Investment Tech Team', type='Organization'), Node(id='Data Engineering Team', type='Organization'), Node(id='Alternative Discretionary Technology', type='Organization'), Node(id='Tesco', type='Organization'), Node(id='Booking.Com', type='Organization'), Node(id='Pricing & Loyalty Organization', type='Organization'), Node(id='Cars Search Team', type='Organization'), Node(id='Recursion', type='Organization')], relationships=[Relationship(source=Node(id='London', type='Location'), target=Node(id='United Kingdom', type='Location'), type='LOCATED_IN'), Relationship(source=Node(id='Ahl', type='Organization'), target=Node(id='Man Group', type='Organization'), type='PART_OF'), Relationship(source=Node(id='Machine Learning Technology', type='Organization'), target=Node(id='Man Group', type='Organization'), type='PART_OF'), Relationship(source=Node(id='Man Technology', type='Organization'), target=Node(id='Man Group', type='Organization'), type='PART_OF'), Relationship(source=Node(id='Responsible Investment Tech Team', type='Organization'), target=Node(id='Man Technology', type='Organization'), type='PART_OF'), Relationship(source=Node(id='Data Engineering Team', type='Organization'), target=Node(id='Man Platform Technology', type='Organization'), type='PART_OF'), Relationship(source=Node(id='Alternative Discretionary Technology', type='Organization'), target=Node(id='Man Group', type='Organization'), type='PART_OF'), Relationship(source=Node(id='Pricing & Loyalty Organization', type='Organization'), target=Node(id='Booking.Com', type='Organization'), type='PART_OF'), Relationship(source=Node(id='Cars Search Team', type='Organization'), target=Node(id='Booking.Com', type='Organization'), type='PART_OF')], source=Document(page_content='![Image 1](https://images.squarespace-cdn.com/content/v1/655270d4c839892af01aaf02/1699901690660-5RCVI2AOPEMQNHLX41SG/sticker+banner.jpg)\\n\\n#### London, United Kingdom • June 14 - 16, 2024\\n\\n**See Job submissions from our sponsors:**\\n\\n**Man Group**\\n-------------\\n\\nAs a Quant Developer at AHL you will be working hand-in-hand with our Quant Researchers. Your challenges will be varied, and will involve implementing new trading strategies, building new research frameworks and quant libraries, prototyping new data feeds, development of new portfolio construction techniques or building risk analysis tools.\\n\\nMachine Learning Technology is a small and agile team that facilitates the use of machine learning tools across Man Group, with a particular focus on generative AI. Alongside developing and provisioning the platform, we also consult with teams throughout the business assisting them in transforming their concepts into high-impact solutions.\\n\\nWe are seeking an experienced engineer to join the Responsible Investment Tech team within Man Technology to support our strategic build-out of cutting-edge technology to achieve our ESG goals. You’ll be collaborating with our Responsible Investment team, Data Science and the investment engines across the company, to develop our quant-driven RI strategies and discretionary RI portfolios.\\n\\nWe are seeking a highly motivated and experienced engineer to join the Data Engineering team within Man Platform Technology. You will have the chance to boost your career in a fast-paced and ambitious team that strives to create state-of-the-art tools for a range of data-related activities including onboarding, analysis, sourcing, quality checking, and lifecycle management.\\n\\nAlternative Discretionary Technology is a small and agile team that works very closely with the front-office teams in the UK as well as the US for Man’s discretionary strategies that operate in non-traditional markets. We develop and support a number of platforms for underwriting and ongoing management of private market assets like buy-to-rent housing portfolios, real estate debt and credit risk.\\n\\n**Quant Developer -**\\n\\n**Alternative Discretionary Technology**\\n\\n**Tesco**\\n---------\\n\\nYou will need to understand difficult business problems and prototype solutions with minimal support. This involves being able to validate, document and present the modeling process and performances as well as communicate complex solutions clearly, understandably to non-experts.\\n\\n**Data Scientist/ Senior Data Scientist**\\n\\nOur Data Science Managers help shape and expand a highly skilled team of Data Scientists focused on delivering a better understanding of the business and optimising processes based on all available data.\\n\\n**Booking.com**\\n---------------\\n\\nWithin the Pricing & Loyalty organization, we’re looking for a Principal Data Scientist who can truly make an impact at a strategic level. You’ll be an individual contributor who will be a role model for the craft; working with senior leadership to set a strategy that enables us to unlock value for our customers by elevating the capability of all individuals within the team.\\n\\n**Manager Data Engineering -  \\nCustomer Data**\\n\\nAs a Manager Data Engineering, you are responsible for an engineering team and the technology that the team owns. You will not only work as a coach for your people but also as a technical leader, ensuring that the right technical decisions are made when building our product. Our mission is to create a competitive advantage by building a clear understanding of customers’ total travel behavior.\\n\\nIn the Cars search team, we iteratively optimize our product to enable our users to find the best Cars in the right location using a combination of ML techniques, engineering, online experimentation, and agile product development. You will work across the full ML lifecycle and bring your models to production, communicating findings and contributing knowledge to the Booking data community.\\n\\n**Machine Learning Scientist II - Cars**\\n\\n**Machine Learning Engineer II -  \\nCustomer centric data**\\n\\nAs a Machine Learning Engineer, your responsibility is to operationalise cutting-edge Machine Learning models that need to run in real-time, ensuring low-latency performance to deliver an exceptional user experience for our travelers, requiring the training of large-scale models and developing scalable feature engineering solutions using modern data and ML tooling and optimization techniques.\\n\\n**Manager Data Engineering -**\\n\\n**Data & Machine Learning Platform**\\n\\nAs a Manager Data Engineering, you are responsible for an engineering team and the technology that the team owns. You will work as a coach for your people and as a technical leader, ensuring that the right technical decisions are made when building our product. Our mission is to provide the Data Engineering community at Booking the best possible platform for all of their Analytics and ML needs.\\n\\nRecursion is a clinical stage TechBio company leading the space by decoding biology to', metadata={'title': 'Job Board — PyData London 2024', 'url': 'https://pydata.org/london2024/job-board', 'id': '2750e3874a20b592a011516eff7b54e3'})), GraphDocument(nodes=[Node(id='Recursion', type='Organization'), Node(id='Recursion Os', type='Technology'), Node(id='Bytewax', type='Organization'), Node(id='Sales & Go-To-Market Leader', type='Role'), Node(id='Gtml Lead', type='Role')], relationships=[Relationship(source=Node(id='Recursion', type='Organization'), target=Node(id='Recursion Os', type='Technology'), type='HAS_TECHNOLOGY'), Relationship(source=Node(id='Bytewax', type='Organization'), target=Node(id='Sales & Go-To-Market Leader', type='Role'), type='HAS_ROLE'), Relationship(source=Node(id='Bytewax', type='Organization'), target=Node(id='Gtml Lead', type='Role'), type='SEEKING_ROLE')], source=Document(page_content=' their Analytics and ML needs.\\n\\nRecursion is a clinical stage TechBio company leading the space by decoding biology to industrialize drug discovery. Enabling its mission is the Recursion OS, a platform built across diverse technologies that continuously expands one of the world’s largest proprietary biological and chemical datasets. Recursion leverages sophisticated machine-learning algorithms to distill from its dataset a collection of trillions of searchable relationships across biology and chemistry unconstrained by human bias. By commanding massive experimental scale — up to millions of wet lab experiments weekly — and massive computational scale — owning and operating one of the most powerful supercomputers in the world, Recursion is uniting technology, biology and chemistry to advance the future of medicine.\\n\\n**Recursion Pharmaceuticals**\\n-----------------------------\\n\\n**Bytewax**\\n-----------\\n\\nBytewax is seeking a GTM Lead with over 5 years of experience in high-growth startups. This role involves developing sales strategies, managing sales cycles, & leading teams. We focus on real-time data stream processing & offer competitive salaries, stock options, medical benefits, and unlimited vacation. Bytewax is a multinational, remote-first company, but this role is specific to the US.\\n\\n**Sales & Go-To-Market Leader**', metadata={'title': 'Job Board — PyData London 2024', 'url': 'https://pydata.org/london2024/job-board', 'id': '2750e3874a20b592a011516eff7b54e3'})), GraphDocument(nodes=[Node(id='Humble Data', type='Organization'), Node(id='Python Software Foundation', type='Organization'), Node(id='Pydata London', type='Event'), Node(id='Humble Data Workshop', type='Event')], relationships=[Relationship(source=Node(id='Humble Data', type='Organization'), target=Node(id='Humble Data Workshop', type='Event'), type='ORGANIZES'), Relationship(source=Node(id='Python Software Foundation', type='Organization'), target=Node(id='Diversity Statement', type='Document'), type='PUBLISHES'), Relationship(source=Node(id='Pydata London', type='Event'), target=Node(id='Humble Data Workshop', type='Event'), type='HOSTS')], source=Document(page_content='![Image 1](https://images.squarespace-cdn.com/content/v1/655270d4c839892af01aaf02/50b9f546-fd21-4270-af8a-754e01afe4f6/DAY2+%28283+of+287%29.jpg)\\n\\n**Humble Data**\\n---------------\\n\\nLearn Python for Data Science in this Beginners’ Day Workshop\\n\\nWould you like to learn to code but don’t know where to start? Taking your first steps in programming can seem impossible, so we’ve decided to put on a workshop to show beginners how it can be done and share our passion for the world of data science!\\n\\n_“We want our community to be more diverse: whoever you are, and whatever your background, we welcome you.”_  \\n– Python Software Foundation’s Diversity Statement\\n\\nWe invite those from under-represented groups in data to [apply](https://forms.gle/cVyz7VJCVKm3XkHp6) to join us at PyData London Humble Data Workshop. In this workshop, you will learn the basics of programming in Python and how to use tools such as Jupyter Notebook to analyze data.\\n\\nYou will learn in small groups, each with an assigned mentor to guide you through the workshop materials and answer your questions. This will all be facilitated online through the wonders of modern technology. You can expect plenty of exercises, quizzes and games, and inspiring talks from those who were once in your shoes.\\n\\n![Image 2](https://images.squarespace-cdn.com/content/v1/655270d4c839892af01aaf02/7dbfc5b2-19ee-4185-be50-211755a41d72/magicpattern-mesh-gradient-1705596152616.png)\\n\\n**WHO CAN JOIN?  \\n**Anyone who attended the conference - PyData London. Childcare would also be available for attendees at the conference.\\n\\n**WHAT DO I NEED TO BRING?  \\n**You will need a computer. There may be a setup party in advance, with details to be announced. Our mentors can help you set up on the day or at the setup party.\\n\\n**WHAT DO I NEED TO KNOW?  \\n**If you have zero programming experience, this workshop is made for you! If you already have some experience but are new to Python, we’ve got you covered – the materials are designed for attendees to progress through the materials at their own rate.\\n\\n**HOW IS THIS POSSIBLE?  \\n**This workshop is being run by data scientists and software engineers dedicated to the spirit of open source. Every day we benefit from the hard work of others when we use free open tools. This is our way of giving back.\\n\\n**WHAT IS HUMBLE DATA?  \\n**Find out more at [https://humbledata.org/](https://humbledata.org/)\\n\\n### **Humble Data Mentors**\\n\\nWe wish to be able to run a workshop with as many participants as we can accommodate. However, we also need mentors to help out. Being a mentor will not only help you to familiarise yourself with the knowledge of data science, but it also gives you good vibes afterward. If you have the skill to share, we are happy to welcome you to our Humble Data family.\\n\\n**_Please be aware that mentors also need to be participants in the conference - PyData London._**', metadata={'title': 'Call for Proposals — PyData London 2024', 'url': 'https://pydata.org/london2024/humble', 'id': '448460819258c60f5ba54bd5aebcb077'})), GraphDocument(nodes=[Node(id='London', type='Location'), Node(id='United Kingdom', type='Location'), Node(id='Tesco Technology', type='Organization'), Node(id='Bloomberg', type='Organization'), Node(id='Hopsworks Feature Store', type='Organization'), Node(id='Nvidia', type='Organization'), Node(id='Man Group', type='Organization')], relationships=[Relationship(source=Node(id='London', type='Location'), target=Node(id='United Kingdom', type='Location'), type='LOCATED_IN'), Relationship(source=Node(id='Tesco Technology', type='Organization'), target=Node(id='London', type='Location'), type='SPONSOR'), Relationship(source=Node(id='Bloomberg', type='Organization'), target=Node(id='London', type='Location'), type='SPONSOR'), Relationship(source=Node(id='Hopsworks Feature Store', type='Organization'), target=Node(id='London', type='Location'), type='SPONSOR'), Relationship(source=Node(id='Nvidia', type='Organization'), target=Node(id='London', type='Location'), type='SPONSOR'), Relationship(source=Node(id='Man Group', type='Organization'), target=Node(id='London', type='Location'), type='SPONSOR')], source=Document(page_content=\"![Image 1](https://images.squarespace-cdn.com/content/v1/655270d4c839892af01aaf02/1699901665925-FVQBI89ZSHYLY3FZ7MEX/sticker+banner.jpg)\\n\\n#### LONDON, UNITED KINGDOM | JUNE 14 - 16, 2024\\n\\n**Sponsorship Opportunities**\\n-----------------------------\\n\\n**Thank you to our sponsors**\\n-----------------------------\\n\\n![Image 2](https://images.squarespace-cdn.com/content/v1/655270d4c839892af01aaf02/3a380c94-4bda-4d00-9e9d-2ecfc7142aec/TescoLogoHighRes.png)\\n\\nAt [Tesco Technology](https://www.tesco-careers.com/technology), we solve real-world problems for hundreds of thousands of colleagues and millions of customers worldwide, whether they choose to shop with us in store or online. The work we do is critical to the business, and we’re looking to broaden our teams to help us to iterate, innovate and deliver more quickly.\\n\\n![Image 3](https://images.squarespace-cdn.com/content/v1/655270d4c839892af01aaf02/27618fbf-9673-44e5-a1d7-6fcb7b1afdfe/BBGEngineering_black.png)\\n\\n[**Bloomberg**](http://www.techatbloomberg.com/python) is building the world's most trusted information network for financial professionals. Our 8,000+ engineers are dedicated to advancing and building new systems for the Bloomberg Terminal to solve complex, real-world problems. \\u200bWe trust our teams to choose the right technologies for the job, and, at Bloomberg, the answer is often Python. We employ an active community of 4,500+ Python developers who have their hands in everything from financial analytics and data science to contributing to open source technologies like Project Jupyter. Bloomberg is proud to be a Visionary Sponsor of the Python Software Foundation and host of many Python community events around the world. Learn more at [TechAtBloomberg.com/python](http://www.techatbloomberg.com/python).\\n\\n### Platinum\\n\\n[**Hopsworks Feature Store**](https://www.hopsworks.ai/) is an enterprise and python friendly Machine Learning platform for the full lifecycle of AI projects. It offers best in-class performances and an effective collaborative layer for all data teams, allowing them to leverage any data source for any application, at any performance level and across any environment.\\n\\n![Image 4](https://images.squarespace-cdn.com/content/v1/655270d4c839892af01aaf02/e31b55b6-9de0-4c2b-b83f-21adf44cab39/Hopsworks+Logo+-TRS300x100+%281%29.png)\\n\\n[![Image 5](https://images.squarespace-cdn.com/content/v1/655270d4c839892af01aaf02/c6ca7a28-ff23-42df-b792-4652cdfcfe41/nvidia-logo-vert-300x300.png)](https://www.nvidia.com/en-us/)\\n\\nNVIDIA‘s (NASDAQ:NVDA) invention of the GPU in 1999 sparked the growth of the PC gaming market, redefined modern computer graphics and revolutionized parallel computing. More recently, GPU deep learning ignited modern AI — the next era of computing — with the GPU acting as the brain of computers, robots and self-driving cars that can perceive and understand the world.\\n\\n![Image 6](https://images.squarespace-cdn.com/content/v1/655270d4c839892af01aaf02/2fffb4f3-1baf-403f-bcbd-788893d9b9f9/1715715332022-a375a823-0f93-4c21-861e-f2cce336a511_1.jpg)\\n\\n[Man Group](https://www.man.com/) is an active investment management firm focused on delivering performance and client portfolio solutions through its five investment management businesses: Man AHL; Man Numeric; Man GLG; Man FRM and Man Global Private Markets. Man Group’s investment management businesses provide long only\", metadata={'title': 'Sponsor — PyData London 2024', 'url': 'https://pydata.org/london2024/sponsor', 'id': '1725c2671d1a166108ab6d393be579b4'})), GraphDocument(nodes=[Node(id='Man Glg', type='Organization'), Node(id='Man Frm', type='Organization'), Node(id='Man Global Private Markets', type='Organization'), Node(id='Man Group', type='Organization'), Node(id='Anaconda', type='Organization'), Node(id='Recursion', type='Organization'), Node(id='Recursion Os', type='Platform'), Node(id='Cubist Systematic Strategies', type='Organization'), Node(id='Point72', type='Organization'), Node(id='Dask', type='Platform'), Node(id='Coiled', type='Organization'), Node(id='Booking.Com', type='Organization'), Node(id='Booking Holdings Inc.', type='Organization')], relationships=[Relationship(source=Node(id='Man Glg', type='Organization'), target=Node(id='Man Group', type='Organization'), type='PART_OF'), Relationship(source=Node(id='Man Frm', type='Organization'), target=Node(id='Man Group', type='Organization'), type='PART_OF'), Relationship(source=Node(id='Man Global Private Markets', type='Organization'), target=Node(id='Man Group', type='Organization'), type='PART_OF'), Relationship(source=Node(id='Cubist Systematic Strategies', type='Organization'), target=Node(id='Point72', type='Organization'), type='PART_OF'), Relationship(source=Node(id='Booking.Com', type='Organization'), target=Node(id='Booking Holdings Inc.', type='Organization'), type='PART_OF')], source=Document(page_content=' Man GLG; Man FRM and Man Global Private Markets. Man Group’s investment management businesses provide long only, alternative and private markets products on a single and multi- manager basis, leveraging the firm’s robust infrastructure to provide a diverse range of strategies across investment approaches, styles and asset classes.\\n\\n[![Image 7](https://images.squarespace-cdn.com/content/v1/655270d4c839892af01aaf02/a94b9a51-9173-4a85-b86d-70e7965cc723/Anaconda_Logo_RGB_Corporate_stacked_300x225.png)](https://www.anaconda.com/)\\n\\nWith more than 25 million users, **Anaconda** is the world’s most popular data science platform and the foundation of modern machine learning. We pioneered the use of Python for data science, champion its vibrant community, and continue to steward open-source projects that make tomorrow’s innovations possible. Our enterprise-grade solutions enable corporate, research, and academic institutions around the world to harness the power of open-source for competitive advantage, groundbreaking research, and a better world.\\n\\nRecursion is a clinical stage TechBio company leading the space by decoding biology to industrialize drug discovery. Enabling its mission is the Recursion OS, a platform built across diverse technologies that continuously expands one of the world’s largest proprietary biological and chemical datasets. Recursion leverages sophisticated machine-learning algorithms to distill from its dataset a collection of trillions of searchable relationships across biology and chemistry unconstrained by human bias. By commanding massive experimental scale — up to millions of wet lab experiments weekly — and massive computational scale — owning and operating one of the most powerful supercomputers in the world, Recursion is uniting technology, biology and chemistry to advance the future of medicine.\\n\\n![Image 8](https://images.squarespace-cdn.com/content/v1/655270d4c839892af01aaf02/01b57389-2799-4f12-ac3c-2ddbc38e61a6/Recursion+Logo+Horizontal+Black.jpg)\\n\\n![Image 9](https://images.squarespace-cdn.com/content/v1/655270d4c839892af01aaf02/c14de0e5-aa74-4341-bf31-a06a28cf92d7/Cubist-Logo-Primary+%281%29.png)\\n\\n[**Cubist Systematic Strategies**](https://point72.com/cubist/) is the systematic investing business of Point72. We deploy systematic, computer-driven trading strategies across multiple liquid asset classes. The core of our effort is rigorous research into a wide range of market anomalies, driven by our passion to understand the world around us and fueled by unparalleled access to a wide range of publicly available data sources.\\n\\n![Image 10](https://images.squarespace-cdn.com/content/v1/655270d4c839892af01aaf02/fbb21180-e3b2-427c-a8d4-a73657802c71/Coiled+-+Black+Adjusted+%282%29.jpg)\\n\\nDask and [**Coiled**](https://coiled.io/) make it easy to scale Python to run in parallel. Dask provides parallel algorithms for PyData and Coiled provides distributed infrastructure in the cloud.\\n\\n![Image 11](https://images.squarespace-cdn.com/content/v1/655270d4c839892af01aaf02/44a7de8a-0226-4012-8208-fd755f587f43/booking.png)\\n\\nAbout Booking.com: Part of Booking Holdings Inc. (NASDAQ: BKNG), Booking.com’s mission is to make it easier for everyone to experience the world. By investing in the technology that helps take the friction out of travel, Booking.com’s marketplace seamlessly connects millions of travelers with memorable experiences every day. For more information, follow @bookingcomteam on social media or visit [careers.booking.com](http://careers.booking.com/).\\n\\n### WHY SPONSOR\\n\\nJoin our community at PyData London, from June 14-16, 2024. Engage, network, and collaborate with peers and like-minded people in the Python Data community. Sponsoring this event allows you to meet with data professionals ranging from startup CTOs to corporate developers to senior technology executives from all', metadata={'title': 'Sponsor — PyData London 2024', 'url': 'https://pydata.org/london2024/sponsor', 'id': '1725c2671d1a166108ab6d393be579b4'})), GraphDocument(nodes=[Node(id='Pydata London', type='Event'), Node(id='Data Professionals', type='Person'), Node(id='Startup Ctos', type='Person'), Node(id='Corporate Developers', type='Person'), Node(id='Senior Technology Executives', type='Person'), Node(id='Numfocus', type='Organization'), Node(id='Pandas', type='Software'), Node(id='Numpy', type='Software'), Node(id='Matplotlib', type='Software')], relationships=[Relationship(source=Node(id='Pydata London', type='Event'), target=Node(id='Data Professionals', type='Person'), type='INVOLVES'), Relationship(source=Node(id='Data Professionals', type='Person'), target=Node(id='Startup Ctos', type='Person'), type='INCLUDES'), Relationship(source=Node(id='Data Professionals', type='Person'), target=Node(id='Corporate Developers', type='Person'), type='INCLUDES'), Relationship(source=Node(id='Data Professionals', type='Person'), target=Node(id='Senior Technology Executives', type='Person'), type='INCLUDES'), Relationship(source=Node(id='Numfocus', type='Organization'), target=Node(id='Pydata London', type='Event'), type='SPONSORS'), Relationship(source=Node(id='Numfocus', type='Organization'), target=Node(id='Pandas', type='Software'), type='SUPPORTS'), Relationship(source=Node(id='Numfocus', type='Organization'), target=Node(id='Numpy', type='Software'), type='SUPPORTS'), Relationship(source=Node(id='Numfocus', type='Organization'), target=Node(id='Matplotlib', type='Software'), type='SUPPORTS')], source=Document(page_content=' this event allows you to meet with data professionals ranging from startup CTOs to corporate developers to senior technology executives from all over the world. Take this chance to inform this community about your organization’s products, services or job offerings.\\n\\nSponsoring PyData London allows you to associate your brand with a fast-growing but mature technology community. You will take advantage of participating in a professionally-organized conference run by a neutral nonprofit where content is curated by the community.\\n\\nYou also give back to the open source community. NumFOCUS reinvests profits from our events to directly support NumFOCUS’s sponsored projects such as Pandas, Numpy, Matplotlib and many more.\\n\\nIf you want to sponsor PyData London or have a question, reach out to us at admin@pydata.org.\\n\\n![Image 12](https://images.squarespace-cdn.com/content/v1/655270d4c839892af01aaf02/d033c077-464f-4609-a990-4d841fe3b98f/magicpattern-mesh-gradient-1705596178730.png)\\n\\n![Image 13](https://images.squarespace-cdn.com/content/v1/655270d4c839892af01aaf02/1699901665930-I4AATTXVGP1XBLRRSOIP/52202239549_be9ca709ae_o.jpg)\\n\\n![Image 14](https://images.squarespace-cdn.com/content/v1/655270d4c839892af01aaf02/7dbfc5b2-19ee-4185-be50-211755a41d72/magicpattern-mesh-gradient-1705596152616.png)\\n\\n### $15,000\\n\\n#### Diamond Tier\\n\\n**10 Conference tickets**\\n\\n**5 Diversity Scholarships awarded in your name**\\n\\n**✓ Logo on the conference website and banner**\\n\\n**✓ Job Board Listing**\\n\\n**✓ Links to Attendee Submitted Resumes/Websites/LinkedIn**\\n\\n**✓ Expo Booth**\\n\\n**✓ Access to Attendee List (Name, Email, Job Title, Company**\\n\\n**✓ Talk or Tutorial**\\n\\n**✓ Prime Logo Placement on conference videos**\\n\\n**✓ Top Billing**\\n\\n### $10,000\\n\\n#### Platinum Tier\\n\\n**6 Conference tickets**\\n\\n**3 Diversity Scholarships awarded in your name**\\n\\n**✓ Logo on the conference website and banner**\\n\\n**✓ Job Board Listing**\\n\\n**✓ Links to Attendee Submitted Resumes/Websites/LinkedIn**\\n\\n**✓ Expo Booth**\\n\\n**✓ Access to Attendee List (Name, Email, Job Title, Company**\\n\\n**✓ Talk or Tutorial**\\n\\n_✗_ Prime Logo Placement on conference videos\\n\\n_✗_ Top Billing\\n\\n### $6,000\\n\\n#### Gold Tier\\n\\n**3 Conference tickets**\\n\\n**2 Diversity Scholarships awarded in your name**\\n\\n**✓ Logo on the conference website and banner**\\n\\n**✓ Job Board Listing**\\n\\n**✓ Links to Attendee Submitted Resumes/Websites/LinkedIn**\\n\\n**✓ Expo Booth**\\n\\n**✓ Access to Attendee List (Name, Email, Job Title, Company**\\n\\n_✗_ Talk or Tutorial\\n\\n_✗_ Prime Logo Placement on conference videos\\n\\n_✗_ Top Billing\\n\\n### $4,000\\n\\n#### Silver Tier\\n\\n**2 Conference tickets**\\n\\n**1 Diversity Scholarship awarded in your name**\\n\\n**✓ Logo on the conference website and banner**\\n\\n**✓ Job Board Listing**\\n\\n**✓ Links to Attendee Submitted Resumes/Websites/LinkedIn**\\n\\n_✗_ Expo Booth\\n\\n_✗_ Access to Attendee List (Name, Email, Job Title, Company\\n\\n_✗_ Talk or Tutorial\\n\\n_✗_ Prime Logo Placement on conference videos\\n\\n_✗_ Top Billing', metadata={'title': 'Sponsor — PyData London 2024', 'url': 'https://pydata.org/london2024/sponsor', 'id': '1725c2671d1a166108ab6d393be579b4'}))]\n"
     ]
    }
   ],
   "source": [
    "graph_documents = llm_transformer.convert_to_graph_documents(documents)\n",
    "\n",
    "print(f\"Graph Documents: {graph_documents}\")"
   ]
  },
  {
   "cell_type": "code",
   "execution_count": 39,
   "metadata": {},
   "outputs": [],
   "source": [
    "graph = ModifiedNeo4JGraph(\n",
    "    url=settings.NEO4J_URI,\n",
    "    password=settings.NEO4J_PASSWORD,\n",
    "    username=settings.NEO4J_USERNAME,\n",
    "    database=settings.NEO4J_DATABASE\n",
    ")\n",
    "\n",
    "graph.add_graph_documents_with_embeddings(\n",
    "    graph_documents=graph_documents,\n",
    "    baseEntityLabel=True,\n",
    "    include_source=True,\n",
    "    embedding=embeddings,\n",
    ")"
   ]
  },
  {
   "cell_type": "code",
   "execution_count": 41,
   "metadata": {},
   "outputs": [],
   "source": [
    "from typing import Callable\n",
    "\n",
    "def get_chat_agent(cypher_chain: Callable, qa_graph_chain: Callable) -> Callable:\n",
    "    tools = [\n",
    "        Tool.from_function(\n",
    "            name=\"Cypher Chain\",\n",
    "            description=\"For when you need to answer questions that can be answered by directly querying the database without having to use knowledge of vector embeddings. The question will be a string. Return a string.\",\n",
    "            func=cypher_chain.invoke,\n",
    "        ),\n",
    "    \n",
    "        Tool.from_function(\n",
    "            name=\"Natural QA Chain\",\n",
    "            description=\"For answering text based questions that are not easy or straight-forward to answer using Cypher queries but can be answered using vector embeddings. The question will be a String. Return a String\",\n",
    "            func=qa_graph_chain.invoke\n",
    "        )\n",
    "    ]\n",
    "    \n",
    "    agent_prompt = hub.pull(\"hwchase17/react-chat\")\n",
    "    agent = create_react_agent(llm, tools, agent_prompt)\n",
    "    agent_executor = AgentExecutor(agent=agent, tools=tools, handle_parsing_errors=True)\n",
    "    \n",
    "    chat_agent = RunnableWithMessageHistory(\n",
    "        agent_executor,\n",
    "        get_memory,\n",
    "        input_messages_key=\"input\",\n",
    "        history_messages_key=\"chat_history\",\n",
    "    )\n",
    "    \n",
    "    return chat_agent\n",
    "    \n",
    "\n",
    "def get_memory(session_id):\n",
    "    return Neo4jChatMessageHistory(session_id=session_id, graph=graph)\n"
   ]
  },
  {
   "cell_type": "code",
   "execution_count": 42,
   "metadata": {},
   "outputs": [
    {
     "name": "stderr",
     "output_type": "stream",
     "text": [
      "Received notification from DBMS server: {severity: WARNING} {code: Neo.ClientNotification.Statement.FeatureDeprecationWarning} {category: DEPRECATION} {title: This feature is deprecated and will be removed in future versions.} {description: The query used a deprecated procedure. ('db.create.setVectorProperty' has been replaced by 'db.create.setNodeVectorProperty')} {position: line: 1, column: 70, offset: 69} for query: \"UNWIND $data AS row MATCH (n:`Document`) WHERE elementId(n) = row.id CALL db.create.setVectorProperty(n, 'embedding', row.embedding) YIELD node RETURN count(*)\"\n"
     ]
    }
   ],
   "source": [
    "vector_index_without_retrieval_query = Neo4jVector.from_existing_graph(\n",
    "    embeddings,\n",
    "    search_type=\"hybrid\",\n",
    "    node_label=\"Document\",\n",
    "    text_node_properties=[\"text\"],\n",
    "    embedding_node_property=\"embedding\",\n",
    "    index_name = \"document_embedding\",\n",
    "    url=settings.NEO4J_URI,\n",
    "    password=settings.NEO4J_PASSWORD,\n",
    "    username=settings.NEO4J_USERNAME,\n",
    "    database=settings.NEO4J_DATABASE\n",
    ")"
   ]
  },
  {
   "cell_type": "code",
   "execution_count": 43,
   "metadata": {},
   "outputs": [
    {
     "name": "stdout",
     "output_type": "stream",
     "text": [
      "\n",
      "\n",
      "\u001b[1m> Entering new RetrievalQA chain...\u001b[0m\n",
      "\n",
      "\u001b[1m> Finished chain.\u001b[0m\n"
     ]
    },
    {
     "data": {
      "text/markdown": [
       "The keynote speakers at the 2024 PyData Conference are:\n",
       "\n",
       "1. Tania Allard\n",
       "2. Dr. Rebecca Bilbro\n",
       "3. Dr. Matthew Crooks"
      ],
      "text/plain": [
       "<IPython.core.display.Markdown object>"
      ]
     },
     "metadata": {},
     "output_type": "display_data"
    }
   ],
   "source": [
    "qa_graph_chain_without_retrieval_query = RetrievalQA.from_chain_type(\n",
    "    llm, retriever=vector_index_without_retrieval_query.as_retriever(), verbose = True\n",
    ")\n",
    "\n",
    "result = qa_graph_chain.invoke({\"query\": \"Who are the keynote speakers?\"})\n",
    "display_markdown(result[\"result\"])"
   ]
  },
  {
   "cell_type": "code",
   "execution_count": 44,
   "metadata": {},
   "outputs": [
    {
     "name": "stdout",
     "output_type": "stream",
     "text": [
      "\n",
      "\n",
      "\u001b[1m> Entering new RetrievalQA chain...\u001b[0m\n",
      "\n",
      "\u001b[1m> Finished chain.\u001b[0m\n"
     ]
    },
    {
     "data": {
      "text/markdown": [
       "The keynote speakers at the 2024 PyData Conference are:\n",
       "\n",
       "1. Tania Allard\n",
       "2. Dr. Rebecca Bilbro\n",
       "3. Dr. Matthew Crooks"
      ],
      "text/plain": [
       "<IPython.core.display.Markdown object>"
      ]
     },
     "metadata": {},
     "output_type": "display_data"
    }
   ],
   "source": [
    "chat_agent = get_chat_agent(cypher_chain,qa_graph_chain_without_retrieval_query)\n",
    "question = \"What are the keynote speakers talking about?\"\n",
    "response = chat_agent.invoke(\n",
    "    {\n",
    "        \"input\": question\n",
    "    },\n",
    "    {\"configurable\": {\"session_id\": \"randomId\"}},\n",
    ")\n",
    "display_markdown(result['result'])"
   ]
  },
  {
   "cell_type": "code",
   "execution_count": 45,
   "metadata": {},
   "outputs": [
    {
     "name": "stderr",
     "output_type": "stream",
     "text": [
      "Received notification from DBMS server: {severity: WARNING} {code: Neo.ClientNotification.Statement.FeatureDeprecationWarning} {category: DEPRECATION} {title: This feature is deprecated and will be removed in future versions.} {description: The query used a deprecated procedure. ('db.create.setVectorProperty' has been replaced by 'db.create.setNodeVectorProperty')} {position: line: 1, column: 70, offset: 69} for query: \"UNWIND $data AS row MATCH (n:`Document`) WHERE elementId(n) = row.id CALL db.create.setVectorProperty(n, 'embedding', row.embedding) YIELD node RETURN count(*)\"\n"
     ]
    }
   ],
   "source": [
    "vector_index_with_retrieval_query = Neo4jVector.from_existing_graph(\n",
    "    embeddings,\n",
    "    search_type=\"hybrid\",\n",
    "    node_label=\"Document\",\n",
    "    text_node_properties=[\"text\"],\n",
    "    embedding_node_property=\"embedding\",\n",
    "    index_name = \"document_embedding\",\n",
    "    retrieval_query=\"\"\"\n",
    "    WITH node AS doc, score as similarity\n",
    "    CALL {\n",
    "        WITH doc\n",
    "        MATCH (doc)-[*1..2]-(related)\n",
    "        WITH doc, related, [key in keys(related) WHERE key <> 'embedding'] AS filtered_keys\n",
    "        RETURN DISTINCT related, [key IN filtered_keys | key + ': ' + toString(related[key])] AS properties_list\n",
    "    }\n",
    "    WITH doc, similarity, properties_list\n",
    "    RETURN coalesce(doc.text, '') + ' ' + coalesce(reduce(s = '', prop IN properties_list | s + ', ' + prop), '') AS text, similarity AS score, {source: doc.text} AS metadata\n",
    "    LIMIT 25\n",
    "    \"\"\"\n",
    ")"
   ]
  },
  {
   "cell_type": "code",
   "execution_count": 46,
   "metadata": {},
   "outputs": [
    {
     "name": "stdout",
     "output_type": "stream",
     "text": [
      "\n",
      "\n",
      "\u001b[1m> Entering new RetrievalQA chain...\u001b[0m\n",
      "\n",
      "\u001b[1m> Finished chain.\u001b[0m\n"
     ]
    },
    {
     "data": {
      "text/markdown": [
       "I don't have information about the speakers to determine which ones are software engineers. If you can provide a list or more details, I may be able to help further."
      ],
      "text/plain": [
       "<IPython.core.display.Markdown object>"
      ]
     },
     "metadata": {},
     "output_type": "display_data"
    }
   ],
   "source": [
    "qa_graph_chain = RetrievalQA.from_chain_type(\n",
    "    llm, retriever=vector_index_with_retrieval_query.as_retriever(), verbose = True\n",
    ")\n",
    "\n",
    "result = qa_graph_chain.invoke({\"query\": \"Which speakers are software engineers? \"})\n",
    "display_markdown(result[\"result\"])"
   ]
  },
  {
   "cell_type": "code",
   "execution_count": null,
   "metadata": {},
   "outputs": [],
   "source": []
  }
 ],
 "metadata": {
  "kernelspec": {
   "display_name": ".venv",
   "language": "python",
   "name": "python3"
  },
  "language_info": {
   "codemirror_mode": {
    "name": "ipython",
    "version": 3
   },
   "file_extension": ".py",
   "mimetype": "text/x-python",
   "name": "python",
   "nbconvert_exporter": "python",
   "pygments_lexer": "ipython3",
   "version": "3.12.3"
  }
 },
 "nbformat": 4,
 "nbformat_minor": 2
}
