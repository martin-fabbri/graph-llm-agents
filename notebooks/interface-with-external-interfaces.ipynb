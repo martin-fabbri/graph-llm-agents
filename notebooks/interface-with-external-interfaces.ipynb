{
 "cells": [
  {
   "cell_type": "code",
   "execution_count": 12,
   "metadata": {},
   "outputs": [],
   "source": [
    "import inspect\n",
    "\n",
    "# Specify the LLM Endpoint\n",
    "# Now, let's prompt Raven!\n",
    "API_URL = \"http://nexusraven.nexusflow.ai\"\n",
    "headers = {\"Content-Type\": \"application/json\"}\n",
    "\n",
    "\n",
    "def raven_post(payload):\n",
    "    \"\"\"\n",
    "    Sends a payload to a TGI endpoint.\n",
    "    \"\"\"\n",
    "    import requests\n",
    "\n",
    "    response = requests.post(API_URL, headers=headers, json=payload)\n",
    "    return response.json()\n",
    "\n",
    "\n",
    "def query_raven(prompt):\n",
    "    \"\"\"\n",
    "    This function sends a request to the TGI endpoint to get Raven's function call.\n",
    "    This will not generate Raven's justification and reasoning for the call, to save on latency.\n",
    "    \"\"\"\n",
    "    import requests\n",
    "\n",
    "    output = raven_post(\n",
    "        {\n",
    "            \"inputs\": prompt,\n",
    "            \"parameters\": {\n",
    "                \"temperature\": 0.001,\n",
    "                \"stop\": [\"<bot_end>\"],\n",
    "                \"do_sample\": False,\n",
    "                \"max_new_tokens\": 2048,\n",
    "                \"return_full_text\": False,\n",
    "            },\n",
    "        }\n",
    "    )\n",
    "    call = output[0][\"generated_text\"].replace(\"Call:\", \"\").strip()\n",
    "    return call\n",
    "\n",
    "\n",
    "def clean_docstring(docstring):\n",
    "    if docstring is not None:\n",
    "        # Remove leading and trailing whitespace\n",
    "        docstring = docstring.strip()\n",
    "    return docstring\n",
    "\n",
    "\n",
    "def construct_prompt(raven_msg, functions):\n",
    "    full_prompt = \"\"\n",
    "    for function in functions:\n",
    "        signature = inspect.signature(function)\n",
    "        docstring = function.__doc__\n",
    "        prompt = f'''Function:\\n{function.__name__}{signature}\\n\"\"\"{clean_docstring(docstring)}\"\"\"'''\n",
    "        full_prompt += prompt + \"\\n\\n\"\n",
    "    full_prompt += f\"\"\"User Query: {raven_msg}<human_end>\"\"\"\n",
    "    return full_prompt"
   ]
  },
  {
   "cell_type": "code",
   "execution_count": 2,
   "metadata": {},
   "outputs": [
    {
     "name": "stdout",
     "output_type": "stream",
     "text": [
      "What are bits?\n",
      "Tiny things left when you drop your computer down the stairs.\n"
     ]
    }
   ],
   "source": [
    "import requests\n",
    "\n",
    "url = \"https://v2.jokeapi.dev/joke/Any?safe-mode&type=twopart\"\n",
    "\n",
    "response = requests.get(url)\n",
    "\n",
    "print(response.json()[\"setup\"])\n",
    "print(response.json()[\"delivery\"])"
   ]
  },
  {
   "cell_type": "code",
   "execution_count": 3,
   "metadata": {},
   "outputs": [
    {
     "data": {
      "text/plain": [
       "{'error': False,\n",
       " 'category': 'Programming',\n",
       " 'type': 'twopart',\n",
       " 'setup': 'What are bits?',\n",
       " 'delivery': 'Tiny things left when you drop your computer down the stairs.',\n",
       " 'flags': {'nsfw': False,\n",
       "  'religious': False,\n",
       "  'political': False,\n",
       "  'racist': False,\n",
       "  'sexist': False,\n",
       "  'explicit': False},\n",
       " 'id': 211,\n",
       " 'safe': True,\n",
       " 'lang': 'en'}"
      ]
     },
     "execution_count": 3,
     "metadata": {},
     "output_type": "execute_result"
    }
   ],
   "source": [
    "response.json()"
   ]
  },
  {
   "cell_type": "code",
   "execution_count": 5,
   "metadata": {},
   "outputs": [],
   "source": [
    "import requests\n",
    "\n",
    "\n",
    "def give_joke(category: str):\n",
    "    \"\"\"\n",
    "    Joke categories. Supports: Any, Misc, Programming, Pun, Spooky, Christmas.\n",
    "    \"\"\"\n",
    "\n",
    "    url = f\"https://v2.jokeapi.dev/joke/{category}?safe-mode&type=twopart\"\n",
    "    response = requests.get(url)\n",
    "    print(response.json()[\"setup\"])\n",
    "    print(response.json()[\"delivery\"])"
   ]
  },
  {
   "cell_type": "code",
   "execution_count": 6,
   "metadata": {},
   "outputs": [],
   "source": [
    "USER_QUERY = \"Hey! Can you get me a joke for this december?\""
   ]
  },
  {
   "cell_type": "code",
   "execution_count": 13,
   "metadata": {},
   "outputs": [],
   "source": [
    "raven_functions = f'''\n",
    "def give_joke(category : str):\n",
    "    \"\"\"\n",
    "    Joke categories. Supports: Any, Misc, Programming, Dark, Pun, Spooky, Christmas.\n",
    "    \"\"\"\n",
    "\n",
    "User Query: {USER_QUERY}<human_end>\n",
    "'''\n",
    "call = query_raven(raven_functions)"
   ]
  },
  {
   "cell_type": "code",
   "execution_count": 14,
   "metadata": {},
   "outputs": [
    {
     "name": "stdout",
     "output_type": "stream",
     "text": [
      "What does Santa suffer from if he gets stuck in a chimney?\n",
      "Claustrophobia!\n"
     ]
    }
   ],
   "source": [
    "exec(call)"
   ]
  },
  {
   "cell_type": "markdown",
   "metadata": {},
   "source": [
    "### Writing a tool that uses OpenAPI APIs"
   ]
  },
  {
   "cell_type": "code",
   "execution_count": 15,
   "metadata": {},
   "outputs": [
    {
     "name": "stdout",
     "output_type": "stream",
     "text": [
      "--2024-06-20 16:41:05--  https://raw.githubusercontent.com/open-meteo/open-meteo/main/openapi.yml\n",
      "Resolving raw.githubusercontent.com (raw.githubusercontent.com)... 2606:50c0:8003::154, 2606:50c0:8000::154, 2606:50c0:8001::154, ...\n",
      "Connecting to raw.githubusercontent.com (raw.githubusercontent.com)|2606:50c0:8003::154|:443... connected.\n",
      "HTTP request sent, awaiting response... 200 OK\n",
      "Length: 13300 (13K) [text/plain]\n",
      "Saving to: ‘openapi.yml’\n",
      "\n",
      "openapi.yml         100%[===================>]  12.99K  --.-KB/s    in 0.005s  \n",
      "\n",
      "2024-06-20 16:41:05 (2.39 MB/s) - ‘openapi.yml’ saved [13300/13300]\n",
      "\n"
     ]
    }
   ],
   "source": [
    "!wget https://raw.githubusercontent.com/open-meteo/open-meteo/main/openapi.yml"
   ]
  },
  {
   "cell_type": "code",
   "execution_count": 16,
   "metadata": {},
   "outputs": [],
   "source": [
    "import yaml\n",
    "import json\n",
    "\n",
    "# Read the content of the file\n",
    "with open(\"openapi.yml\", \"r\") as file:\n",
    "    file_content = file.read()\n",
    "file_content = file_content.replace(\"int\\n\", \"number\\n\")\n",
    "file_content = file_content.replace(\"float\\n\", \"number\\n\")\n",
    "data = yaml.safe_load(file_content)\n",
    "\n",
    "data[\"servers\"] = [{\"url\": \"https://api.open-meteo.com\"}]\n",
    "\n",
    "with open(\"openapi.json\", \"w\") as file:\n",
    "    json_content = json.dump(data, file)"
   ]
  },
  {
   "cell_type": "markdown",
   "metadata": {},
   "source": [
    "$ pipx install openapi-python-client --include-deps"
   ]
  },
  {
   "cell_type": "code",
   "execution_count": 20,
   "metadata": {},
   "outputs": [
    {
     "name": "stdout",
     "output_type": "stream",
     "text": [
      "⚠️ Found a space in the home path. We heavily discourage this, due to multiple\n",
      "    incompatibilities. Please check our docs for more information on this, as\n",
      "    well as some pointers on how to migrate to a different home path.\n",
      "\u001b[K⡿ installing openapi-python-generator\u001b[?25hGenerating data from openapi.json\n"
     ]
    }
   ],
   "source": [
    "!pipx run openapi-python-generator openapi.json ./api_specification_main/"
   ]
  },
  {
   "cell_type": "code",
   "execution_count": 21,
   "metadata": {},
   "outputs": [],
   "source": [
    "from api_specification_main.services.WeatherForecastAPIs_service\\\n",
    "    import get_v1forecast"
   ]
  },
  {
   "cell_type": "code",
   "execution_count": 22,
   "metadata": {},
   "outputs": [],
   "source": [
    "user_query = \"Hey how is the current weather and windspeed in New York?\""
   ]
  },
  {
   "cell_type": "code",
   "execution_count": 24,
   "metadata": {},
   "outputs": [
    {
     "data": {
      "text/plain": [
       "<Signature (latitude: float, longitude: float, hourly: Optional[List[str]] = None, daily: Optional[List[str]] = None, current_weather: Optional[bool] = None, temperature_unit: Optional[str] = None, wind_speed_unit: Optional[str] = None, timeformat: Optional[str] = None, timezone: Optional[str] = None, past_days: Optional[int] = None, api_config_override: Optional[api_specification_main.api_config.APIConfig] = None) -> Dict[str, Any]>"
      ]
     },
     "execution_count": 24,
     "metadata": {},
     "output_type": "execute_result"
    }
   ],
   "source": [
    "import inspect\n",
    "signature = inspect.signature(get_v1forecast)\n",
    "signature"
   ]
  },
  {
   "cell_type": "code",
   "execution_count": 25,
   "metadata": {},
   "outputs": [
    {
     "name": "stdout",
     "output_type": "stream",
     "text": [
      "\n",
      "Function:\n",
      "get_v1forecast(latitude: float, longitude: float, hourly: Optional[List[str]] = None, daily: Optional[List[str]] = None, current_weather: Optional[bool] = None, temperature_unit: Optional[str] = None, wind_speed_unit: Optional[str] = None, timeformat: Optional[str] = None, timezone: Optional[str] = None, past_days: Optional[int] = None, api_config_override: Optional[api_specification_main.api_config.APIConfig] = None) -> Dict[str, Any]\n",
      "\"\"\"\n",
      "Requires the latitude and longitude.\n",
      "Set current_weather to True to get the weather.\n",
      "Set hourly or daily based on preference.\n",
      "\"\"\"\n",
      "\n",
      "User Query: Hey how is the current weather and windspeed in New York?<human_end>\n"
     ]
    }
   ],
   "source": [
    "docstring = \"\"\"\n",
    "Requires the latitude and longitude.\n",
    "Set current_weather to True to get the weather.\n",
    "Set hourly or daily based on preference.\n",
    "\"\"\"\n",
    "\n",
    "raven_prompt = f'''\n",
    "Function:\n",
    "{get_v1forecast.__name__}{signature}\n",
    "\"\"\"{docstring}\"\"\"\n",
    "\n",
    "User Query: {user_query}<human_end>'''\n",
    "\n",
    "print(raven_prompt)"
   ]
  },
  {
   "cell_type": "code",
   "execution_count": 27,
   "metadata": {},
   "outputs": [
    {
     "name": "stdout",
     "output_type": "stream",
     "text": [
      "get_v1forecast(latitude=40.7128, longitude=-74.0060, current_weather=True)\n"
     ]
    }
   ],
   "source": [
    "call = query_raven(raven_prompt)\n",
    "print (call)"
   ]
  },
  {
   "cell_type": "code",
   "execution_count": 28,
   "metadata": {},
   "outputs": [
    {
     "data": {
      "text/plain": [
       "{'latitude': 40.710335,\n",
       " 'longitude': -73.99307,\n",
       " 'generationtime_ms': 0.10001659393310547,\n",
       " 'utc_offset_seconds': 0,\n",
       " 'timezone': 'GMT',\n",
       " 'timezone_abbreviation': 'GMT',\n",
       " 'elevation': 32.0,\n",
       " 'current_weather_units': {'time': 'iso8601',\n",
       "  'interval': 'seconds',\n",
       "  'temperature': '°C',\n",
       "  'windspeed': 'km/h',\n",
       "  'winddirection': '°',\n",
       "  'is_day': '',\n",
       "  'weathercode': 'wmo code'},\n",
       " 'current_weather': {'time': '2024-06-21T00:30',\n",
       "  'interval': 900,\n",
       "  'temperature': 27.4,\n",
       "  'windspeed': 8.9,\n",
       "  'winddirection': 153,\n",
       "  'is_day': 1,\n",
       "  'weathercode': 0}}"
      ]
     },
     "execution_count": 28,
     "metadata": {},
     "output_type": "execute_result"
    }
   ],
   "source": [
    "eval(call)"
   ]
  }
 ],
 "metadata": {
  "kernelspec": {
   "display_name": ".venv",
   "language": "python",
   "name": "python3"
  },
  "language_info": {
   "codemirror_mode": {
    "name": "ipython",
    "version": 3
   },
   "file_extension": ".py",
   "mimetype": "text/x-python",
   "name": "python",
   "nbconvert_exporter": "python",
   "pygments_lexer": "ipython3",
   "version": "3.12.3"
  }
 },
 "nbformat": 4,
 "nbformat_minor": 2
}
