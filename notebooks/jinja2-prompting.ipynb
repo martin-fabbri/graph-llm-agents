{
 "cells": [
  {
   "cell_type": "code",
   "execution_count": 1,
   "metadata": {},
   "outputs": [],
   "source": [
    "from jinja2 import Environment, FileSystemLoader"
   ]
  },
  {
   "cell_type": "code",
   "execution_count": 2,
   "metadata": {},
   "outputs": [
    {
     "name": "stdout",
     "output_type": "stream",
     "text": [
      "- When interacting with the user call him by his name.\n",
      "- The name of the user is John Doe.\n",
      "\n",
      " \n",
      "- The user is technical, you can answer the user using technical terms.\n",
      "\n"
     ]
    }
   ],
   "source": [
    "PROMPTS_PATH = \"prompts\"\n",
    "BASIC_PROMPT = \"basic.jinja\"\n",
    "LOOP_PROMPT = \"loop.jinja\"\n",
    "EXTENDED_PROMPT = \"extended.jinja\"\n",
    "\n",
    "env = Environment(loader=FileSystemLoader(PROMPTS_PATH))\n",
    "template = env.get_template(BASIC_PROMPT)\n",
    "rendered_output = template.render(\n",
    "    {\"user_name\": \"John Doe\", \"is_user_technical\": \"True\"}\n",
    ")\n",
    "print(rendered_output)"
   ]
  },
  {
   "cell_type": "code",
   "execution_count": 3,
   "metadata": {},
   "outputs": [],
   "source": [
    "from langchain_core.prompts import PromptTemplate\n",
    "\n",
    "\n",
    "def get_prompt_template_from_jinja2(\n",
    "    prompt_name: str,\n",
    "    prompt_path: str = PROMPTS_PATH,\n",
    "    input_variables: list[str] = [],\n",
    "    partial_variables: dict[str, str] = {},\n",
    "    jinja2_placeholders: dict[str, str] = None,\n",
    ") -> PromptTemplate:\n",
    "    \"\"\"\n",
    "    Loads a .txt as a jinja2 template and converts it to a LangChain PromptTemplate\n",
    "\n",
    "    Parameters:\n",
    "    prompt_path: path to the prompt.\n",
    "    prompt_name: filename of the prompt, including file extension\n",
    "    input_variables: A list of the names of the variables the langchain PromptTemplate expects.\n",
    "    partial_variables: A dictionary of the partial variables the langchain PromptTemplate carries.\n",
    "    jinja2_placeholders: A dictionary of the placehoolders to be replaced in the jinja2 template.\n",
    "    \"\"\"\n",
    "    env = Environment(loader=FileSystemLoader(prompt_path))\n",
    "    template = env.get_template(prompt_name)\n",
    "    input_prompt = template.render(jinja2_placeholders)\n",
    "\n",
    "    prompt_template = PromptTemplate(\n",
    "        template=input_prompt,\n",
    "        input_variables=input_variables,\n",
    "        partial_variables=partial_variables,\n",
    "    )\n",
    "\n",
    "    return prompt_template"
   ]
  },
  {
   "cell_type": "code",
   "execution_count": 4,
   "metadata": {},
   "outputs": [
    {
     "data": {
      "text/plain": [
       "PromptTemplate(input_variables=[], template='- When interacting with the user call him by his name.\\n- The name of the user is Alex.\\n\\n \\n- The user is technical, you can answer the user using technical terms.\\n')"
      ]
     },
     "execution_count": 4,
     "metadata": {},
     "output_type": "execute_result"
    }
   ],
   "source": [
    "get_prompt_template_from_jinja2(\n",
    "    prompt_name=BASIC_PROMPT,\n",
    "    jinja2_placeholders={\"user_name\": \"Alex\", \"is_user_technical\": \"True\"},\n",
    ")"
   ]
  },
  {
   "cell_type": "code",
   "execution_count": 5,
   "metadata": {},
   "outputs": [
    {
     "name": "stdout",
     "output_type": "stream",
     "text": [
      "- When answering coding questions from the user, you have to provide him the answer in the following languages:\n",
      "\n",
      "Programming language number 1: python\n",
      "\n",
      "Programming language number 2: r\n",
      "\n",
      "Programming language number 3: javascript\n",
      "\n",
      "Programming language number 4: c#\n",
      "\n"
     ]
    }
   ],
   "source": [
    "programming_languages_list = [\"python\", \"r\", \"javascript\", \"c#\"]\n",
    "\n",
    "template = env.get_template(LOOP_PROMPT)\n",
    "rendered_output = template.render({\"programming_languages_list\": programming_languages_list})\n",
    "print(rendered_output)"
   ]
  },
  {
   "cell_type": "code",
   "execution_count": 13,
   "metadata": {},
   "outputs": [
    {
     "name": "stdout",
     "output_type": "stream",
     "text": [
      "- When interacting with the user call him by his name.\n",
      "- The name of the user is Alex.\n",
      "\n",
      " \n",
      "- The user is technical, you can answer the user using technical terms.\n",
      "\n"
     ]
    }
   ],
   "source": [
    "template = env.get_template(EXTENDED_PROMPT)\n",
    "output = template.render(\n",
    "    {\n",
    "        \"user_name\": \"Alex\",\n",
    "        \"is_user_technical\": \"True\",\n",
    "        \"programming_skills\": [\"Python\", \"JavaScript\"],\n",
    "    }\n",
    ")\n",
    "print(output)"
   ]
  }
 ],
 "metadata": {
  "kernelspec": {
   "display_name": ".venv",
   "language": "python",
   "name": "python3"
  },
  "language_info": {
   "codemirror_mode": {
    "name": "ipython",
    "version": 3
   },
   "file_extension": ".py",
   "mimetype": "text/x-python",
   "name": "python",
   "nbconvert_exporter": "python",
   "pygments_lexer": "ipython3",
   "version": "3.12.3"
  }
 },
 "nbformat": 4,
 "nbformat_minor": 2
}
