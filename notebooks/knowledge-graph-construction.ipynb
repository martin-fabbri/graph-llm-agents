{
 "cells": [
  {
   "cell_type": "code",
   "execution_count": 2,
   "metadata": {},
   "outputs": [
    {
     "data": {
      "application/vnd.jupyter.widget-view+json": {
       "model_id": "ce703847907349889884109731e33319",
       "version_major": 2,
       "version_minor": 0
      },
      "text/plain": [
       "Fetching 6 files:   0%|          | 0/6 [00:00<?, ?it/s]"
      ]
     },
     "metadata": {},
     "output_type": "display_data"
    },
    {
     "data": {
      "application/vnd.jupyter.widget-view+json": {
       "model_id": "8c34d086488c4b62b49b2f32c3d717bd",
       "version_major": 2,
       "version_minor": 0
      },
      "text/plain": [
       ".gitattributes:   0%|          | 0.00/1.52k [00:00<?, ?B/s]"
      ]
     },
     "metadata": {},
     "output_type": "display_data"
    },
    {
     "data": {
      "application/vnd.jupyter.widget-view+json": {
       "model_id": "cb428e3aa1b6450e8f1e92e6a3939834",
       "version_major": 2,
       "version_minor": 0
      },
      "text/plain": [
       "README.md:   0%|          | 0.00/4.05k [00:00<?, ?B/s]"
      ]
     },
     "metadata": {},
     "output_type": "display_data"
    },
    {
     "data": {
      "application/vnd.jupyter.widget-view+json": {
       "model_id": "aaab78784788442997c11a758a1b2add",
       "version_major": 2,
       "version_minor": 0
      },
      "text/plain": [
       "zero_shot_performance_unzero_token.png:   0%|          | 0.00/43.1k [00:00<?, ?B/s]"
      ]
     },
     "metadata": {},
     "output_type": "display_data"
    },
    {
     "data": {
      "application/vnd.jupyter.widget-view+json": {
       "model_id": "05fdc722a38247728693852fa9387e7c",
       "version_major": 2,
       "version_minor": 0
      },
      "text/plain": [
       "gliner_config.json:   0%|          | 0.00/634 [00:00<?, ?B/s]"
      ]
     },
     "metadata": {},
     "output_type": "display_data"
    },
    {
     "data": {
      "application/vnd.jupyter.widget-view+json": {
       "model_id": "154596fa16ac46f4bcdc392cf16c062b",
       "version_major": 2,
       "version_minor": 0
      },
      "text/plain": [
       "NuZero_token_token_metrics.txt:   0%|          | 0.00/961 [00:00<?, ?B/s]"
      ]
     },
     "metadata": {},
     "output_type": "display_data"
    },
    {
     "data": {
      "application/vnd.jupyter.widget-view+json": {
       "model_id": "2df6a666b94b49e5b0e14e5d66ad6104",
       "version_major": 2,
       "version_minor": 0
      },
      "text/plain": [
       "pytorch_model.bin:   0%|          | 0.00/1.80G [00:00<?, ?B/s]"
      ]
     },
     "metadata": {},
     "output_type": "display_data"
    },
    {
     "name": "stderr",
     "output_type": "stream",
     "text": [
      "/Users/martinfabbri/Workspace/github/graph-llm-agents/.venv/lib/python3.12/site-packages/transformers/convert_slow_tokenizer.py:560: UserWarning: The sentencepiece tokenizer that you are converting to a fast tokenizer uses the byte fallback option which is not implemented in the fast tokenizers. In practice this means that the fast version of the tokenizer can produce unknown tokens whereas the sentencepiece version would have converted these unknown tokens into a sequence of byte tokens matching the original piece of text.\n",
      "  warnings.warn(\n",
      "/Users/martinfabbri/Workspace/github/graph-llm-agents/.venv/lib/python3.12/site-packages/huggingface_hub/file_download.py:1132: FutureWarning: `resume_download` is deprecated and will be removed in version 1.0.0. Downloads always resume when possible. If you want to force a new download, use `force_download=True`.\n",
      "  warnings.warn(\n"
     ]
    }
   ],
   "source": [
    "from gliner import GLiNER\n",
    "\n",
    "\n",
    "def merge_entities(entities):\n",
    "    if not entities:\n",
    "        return []\n",
    "    merged = []\n",
    "    current = entities[0]\n",
    "    for next_entity in entities[1:]:\n",
    "        if next_entity[\"label\"] == current[\"label\"] and (\n",
    "            next_entity[\"start\"] == current[\"end\"] + 1\n",
    "            or next_entity[\"start\"] == current[\"end\"]\n",
    "        ):\n",
    "            current[\"text\"] = text[current[\"start\"] : next_entity[\"end\"]].strip()\n",
    "            current[\"end\"] = next_entity[\"end\"]\n",
    "        else:\n",
    "            merged.append(current)\n",
    "            current = next_entity\n",
    "    # Append the last entity\n",
    "    merged.append(current)\n",
    "    return merged\n",
    "\n",
    "\n",
    "# model = GLiNER.from_pretrained(\"numind/NuNerZero\")\n",
    "model = GLiNER.from_pretrained(\"numind/NuZero_token\")"
   ]
  },
  {
   "cell_type": "code",
   "execution_count": 3,
   "metadata": {},
   "outputs": [
    {
     "name": "stderr",
     "output_type": "stream",
     "text": [
      "Asking to truncate to max_length but no maximum length is provided and the model has no predefined maximum length. Default to no truncation.\n"
     ]
    },
    {
     "name": "stdout",
     "output_type": "stream",
     "text": [
      "Fiat => organization\n",
      "Chrysler => company\n",
      "U.S. => location\n",
      "Italian => location\n",
      "Europe => location\n",
      "January 1 => date\n",
      "Chrysler => company\n",
      "Chief Executive => position\n",
      "Sergio Marchionne => person\n"
     ]
    }
   ],
   "source": [
    "# NuZero requires labels to be lower-cased!\n",
    "labels = [\"location\", \"date\", \"person\", \"event\", \"company\", \"organization\", \"position\"]\n",
    "labels = [l.lower() for l in labels]\n",
    "\n",
    "text = \"\"\"Fiat has completed its buyout of Chrysler, making the U.S. business a wholly-owned subsidiary of the Italian\n",
    "carmaker as it gears up to use their combined resources to turn around its loss-making operations in\n",
    "Europe. The company announced on January 1 that it had struck a $4.35 billion deal - cheaper than analysts\n",
    "had expected - to gain full control of Chrysler, ending more than a year of tense talks that had obstructed Chief Executive Sergio Marchionne's efforts to create the\n",
    "world's seventh-largest auto maker.\"\"\"\n",
    "\n",
    "entities = model.predict_entities(text, labels, threshold=0.4)\n",
    "\n",
    "entities = merge_entities(entities)\n",
    "\n",
    "for entity in entities:\n",
    "    print(entity[\"text\"], \"=>\", entity[\"label\"])"
   ]
  },
  {
   "cell_type": "code",
   "execution_count": 5,
   "metadata": {},
   "outputs": [],
   "source": [
    "import wikipedia\n",
    "from tqdm import tqdm"
   ]
  },
  {
   "cell_type": "code",
   "execution_count": 6,
   "metadata": {},
   "outputs": [
    {
     "data": {
      "text/plain": [
       "\"Thomas Jeffrey Hanks (born July 9, 1956) is an American actor and filmmaker. Known for both his comedic and dramatic roles, he is one of the most popular and recognizable film stars worldwide, and is regarded as an American cultural icon. Hanks's films have grossed more than $4.9 billion in North America and more than $9.96 billion worldwide, making him the fourth-highest-grossing actor in North America. He has received numerous honors including the AFI Life Achievement Award in 2002, the Kennedy Center Honor in 2014, the Presidential Medal of Freedom and the French Legion of Honor both in 2016, as well as the Golden Globe Cecil B. DeMille Award in 2020.\\nHanks made his breakthrough with leading roles in a series of comedy films that received positive media attention, such as Splash (1984), The Money Pit (1986), Big (1988) and A League of Their Own (1992). He won two consecutive Academy Awards for Best Actor for starring as a gay lawyer suffering from AIDS in Philadelphia (1993) and the\""
      ]
     },
     "execution_count": 6,
     "metadata": {},
     "output_type": "execute_result"
    }
   ],
   "source": [
    "page = wikipedia.page(title=\"Tom Hanks\", auto_suggest=False)\n",
    "page.content[:1000]"
   ]
  },
  {
   "cell_type": "code",
   "execution_count": 11,
   "metadata": {},
   "outputs": [
    {
     "data": {
      "text/plain": [
       "37877"
      ]
     },
     "execution_count": 11,
     "metadata": {},
     "output_type": "execute_result"
    }
   ],
   "source": [
    "len(page.content)"
   ]
  },
  {
   "cell_type": "code",
   "execution_count": 7,
   "metadata": {},
   "outputs": [],
   "source": [
    "from langchain_text_splitters import RecursiveCharacterTextSplitter"
   ]
  },
  {
   "cell_type": "code",
   "execution_count": 8,
   "metadata": {},
   "outputs": [
    {
     "data": {
      "text/plain": [
       "97"
      ]
     },
     "execution_count": 8,
     "metadata": {},
     "output_type": "execute_result"
    }
   ],
   "source": [
    "text_splitter = RecursiveCharacterTextSplitter(\n",
    "    chunk_size=200,\n",
    "    chunk_overlap=20,\n",
    "    separators=[\"\\n\\n\", \"\\n\"]\n",
    ")\n",
    "\n",
    "chunks = text_splitter.split_text(page.content)\n",
    "len(chunks)"
   ]
  },
  {
   "cell_type": "code",
   "execution_count": 12,
   "metadata": {},
   "outputs": [
    {
     "data": {
      "text/plain": [
       "662"
      ]
     },
     "execution_count": 12,
     "metadata": {},
     "output_type": "execute_result"
    }
   ],
   "source": [
    "len(chunks[0])"
   ]
  },
  {
   "cell_type": "code",
   "execution_count": 13,
   "metadata": {},
   "outputs": [],
   "source": [
    "labels = [\"award\", \"location\", \"organization\", \"person\", \"movie\"]"
   ]
  },
  {
   "cell_type": "code",
   "execution_count": 14,
   "metadata": {},
   "outputs": [
    {
     "name": "stderr",
     "output_type": "stream",
     "text": [
      "100%|██████████| 97/97 [00:25<00:00,  3.81it/s]\n"
     ]
    }
   ],
   "source": [
    "chunks_entities = []\n",
    "entity_list = []\n",
    "duplicates = set()\n",
    "for text in tqdm(chunks):\n",
    "    entities = model.predict_entities(text, labels, threshold=0.7)\n",
    "    entities = merge_entities(entities)\n",
    "    chunk_entities = set()\n",
    "    for entity in entities:\n",
    "        # print(entity[\"text\"], \"=>\", entity[\"label\"])\n",
    "        chunk_entities.add(entity[\"text\"])\n",
    "        if entity[\"text\"] in duplicates:\n",
    "            continue\n",
    "        duplicates.add(entity[\"text\"])\n",
    "        entity_list.append((entity[\"text\"], \"=>\", entity[\"label\"]))\n",
    "\n",
    "    chunks_entities.append(list(chunk_entities))"
   ]
  },
  {
   "cell_type": "code",
   "execution_count": 15,
   "metadata": {},
   "outputs": [
    {
     "data": {
      "text/plain": [
       "[['Thomas Jeffrey Hanks',\n",
       "  'AFI Life Achievement Award',\n",
       "  'Golden Globe Cecil B. DeMille Award',\n",
       "  'North America',\n",
       "  'French Legion of Honor',\n",
       "  'Presidential Medal of Freedom',\n",
       "  'Kennedy Center Honor'],\n",
       " ['Robert Zemeckis',\n",
       "  'Steven Spielberg',\n",
       "  'Big',\n",
       "  'The Pacific',\n",
       "  'Hanks',\n",
       "  'The Post',\n",
       "  'Masters of the Air',\n",
       "  'Philadelphia',\n",
       "  'Saving Private Ryan',\n",
       "  'Forrest Gump',\n",
       "  'Catch Me If You Can',\n",
       "  'Band of Brothers',\n",
       "  'The Money Pit',\n",
       "  'Bridge of Spies',\n",
       "  'Academy Awards',\n",
       "  'Ron Howard',\n",
       "  'The Terminal',\n",
       "  'Nora Ephron',\n",
       "  'Splash',\n",
       "  'A League of Their Own']]"
      ]
     },
     "execution_count": 15,
     "metadata": {},
     "output_type": "execute_result"
    }
   ],
   "source": [
    "chunks_entities[:2]"
   ]
  },
  {
   "cell_type": "code",
   "execution_count": 16,
   "metadata": {},
   "outputs": [
    {
     "data": {
      "text/plain": [
       "'\\nHaving grown up in the Bay Area, Hanks says that some of his first movie memories were seeing movies in the Alameda Theatre in Alameda, California. Hanks studied theater at Chabot College in Hayward, California, and transferred to California State University, Sacramento after two years. During a 2001 interview with sportscaster Bob Costas, Hanks was asked whether he would rather have an Oscar or a Heisman Trophy. He replied that he would rather win a Heisman by playing halfback for the California Golden Bears. He told New York magazine in 1986, \"Acting classes looked like the best place for a guy who liked to make a lot of noise and be rather flamboyant. I spent a lot of time going to plays. I wouldn\\'t take dates with me. I\\'d just drive to a theater, buy myself a ticket, sit in the seat and read the program, and then get into the play completely. I spent a lot of time like that, seeing Brecht, Tennessee Williams, Ibsen, and all that.\"'"
      ]
     },
     "execution_count": 16,
     "metadata": {},
     "output_type": "execute_result"
    }
   ],
   "source": [
    "chunks[9]"
   ]
  },
  {
   "cell_type": "code",
   "execution_count": 17,
   "metadata": {},
   "outputs": [
    {
     "data": {
      "text/plain": [
       "[('Thomas Jeffrey Hanks', '=>', 'person'),\n",
       " ('North America', '=>', 'location'),\n",
       " ('AFI Life Achievement Award', '=>', 'award'),\n",
       " ('Kennedy Center Honor', '=>', 'award')]"
      ]
     },
     "execution_count": 17,
     "metadata": {},
     "output_type": "execute_result"
    }
   ],
   "source": [
    "entity_list[:4]"
   ]
  },
  {
   "cell_type": "code",
   "execution_count": 18,
   "metadata": {},
   "outputs": [],
   "source": [
    "locs = []\n",
    "orgs = []\n",
    "persons = []\n",
    "awards = []\n",
    "movies = []\n",
    "for e in entity_list:\n",
    "    s, p, o = e\n",
    "    if o == \"person\":\n",
    "        persons.append(s.lower())\n",
    "    elif o == \"organization\":\n",
    "        orgs.append(s.lower())\n",
    "    elif o == \"location\":\n",
    "        locs.append(s.lower())\n",
    "    elif o == \"award\":\n",
    "        awards.append(s.lower())\n",
    "    elif o == \"movie\":\n",
    "        movies.append(s.lower())"
   ]
  },
  {
   "cell_type": "code",
   "execution_count": 19,
   "metadata": {},
   "outputs": [
    {
     "data": {
      "text/plain": [
       "88"
      ]
     },
     "execution_count": 19,
     "metadata": {},
     "output_type": "execute_result"
    }
   ],
   "source": [
    "len(movies)"
   ]
  },
  {
   "cell_type": "code",
   "execution_count": 20,
   "metadata": {},
   "outputs": [
    {
     "data": {
      "text/plain": [
       "['north america',\n",
       " 'philadelphia',\n",
       " 'broadway',\n",
       " 'concord',\n",
       " 'california',\n",
       " 'red bluff',\n",
       " 'oakland',\n",
       " 'bay area',\n",
       " 'alameda',\n",
       " 'hayward',\n",
       " 'cleveland',\n",
       " 'ohio',\n",
       " 'new york city',\n",
       " 'los angeles',\n",
       " 'us',\n",
       " 'hollywood',\n",
       " 'wall street',\n",
       " 'moon',\n",
       " 'france',\n",
       " 'u.s.',\n",
       " 'texas',\n",
       " 'soviet union',\n",
       " 'neighborhood',\n",
       " 'studio 8h',\n",
       " 'queensland',\n",
       " 'australia',\n",
       " 'new orleans',\n",
       " 'greece',\n",
       " 'ketchum',\n",
       " 'idaho',\n",
       " 'las vegas',\n",
       " 'schöneck',\n",
       " 'hesse',\n",
       " 'germany',\n",
       " 'united states',\n",
       " 'kentucky',\n",
       " 'mati',\n",
       " 'athens',\n",
       " 'white house',\n",
       " 'new york',\n",
       " 'rock and roll hall of fame',\n",
       " 'pittsburgh',\n",
       " 'worldwide',\n",
       " 'asteroid 12818 tomhanks',\n",
       " 'world',\n",
       " 'london',\n",
       " 'secaucus',\n",
       " 'new jersey',\n",
       " 'boston',\n",
       " 'edina',\n",
       " 'minnesota']"
      ]
     },
     "execution_count": 20,
     "metadata": {},
     "output_type": "execute_result"
    }
   ],
   "source": [
    "locs"
   ]
  },
  {
   "cell_type": "code",
   "execution_count": null,
   "metadata": {},
   "outputs": [],
   "source": []
  },
  {
   "cell_type": "code",
   "execution_count": null,
   "metadata": {},
   "outputs": [],
   "source": []
  }
 ],
 "metadata": {
  "kernelspec": {
   "display_name": ".venv",
   "language": "python",
   "name": "python3"
  },
  "language_info": {
   "codemirror_mode": {
    "name": "ipython",
    "version": 3
   },
   "file_extension": ".py",
   "mimetype": "text/x-python",
   "name": "python",
   "nbconvert_exporter": "python",
   "pygments_lexer": "ipython3",
   "version": "3.12.3"
  }
 },
 "nbformat": 4,
 "nbformat_minor": 2
}
